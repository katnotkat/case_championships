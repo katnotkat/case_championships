{
  "nbformat": 4,
  "nbformat_minor": 0,
  "metadata": {
    "colab": {
      "name": "cup_it_2022_experiments.ipynb",
      "provenance": [],
      "collapsed_sections": [
        "oohHnsxMOVi7",
        "tlnKUV2YOxs9",
        "W21cpxjhO2N-",
        "zbuZC4r6PHLX",
        "qX1uWRSsQX3Q",
        "3QOB1kqLXNEZ",
        "oaNKmP0fUgEw",
        "osUsthZcYrqT",
        "Fk1dacowV6Q1",
        "YvLoqf6fZJru",
        "z84dSBycxsAX",
        "BT5suiHTUgfN",
        "pvFZPX3hl8c_",
        "-AcgXN_RWlM3"
      ]
    },
    "kernelspec": {
      "name": "python3",
      "display_name": "Python 3"
    },
    "language_info": {
      "name": "python"
    },
    "widgets": {
      "application/vnd.jupyter.widget-state+json": {
        "1a932307db5240b9b46f456c3efca700": {
          "model_module": "@jupyter-widgets/controls",
          "model_name": "HBoxModel",
          "model_module_version": "1.5.0",
          "state": {
            "_dom_classes": [],
            "_model_module": "@jupyter-widgets/controls",
            "_model_module_version": "1.5.0",
            "_model_name": "HBoxModel",
            "_view_count": null,
            "_view_module": "@jupyter-widgets/controls",
            "_view_module_version": "1.5.0",
            "_view_name": "HBoxView",
            "box_style": "",
            "children": [
              "IPY_MODEL_85262bbf7b824a0788e9679f1e572d03",
              "IPY_MODEL_d9a1920db5e7451d85a837b2e649f559",
              "IPY_MODEL_b5adbc4f4db2445f99f13b037a39b7ad"
            ],
            "layout": "IPY_MODEL_8331d3ee1bcc485b88f3619b3123fafa"
          }
        },
        "85262bbf7b824a0788e9679f1e572d03": {
          "model_module": "@jupyter-widgets/controls",
          "model_name": "HTMLModel",
          "model_module_version": "1.5.0",
          "state": {
            "_dom_classes": [],
            "_model_module": "@jupyter-widgets/controls",
            "_model_module_version": "1.5.0",
            "_model_name": "HTMLModel",
            "_view_count": null,
            "_view_module": "@jupyter-widgets/controls",
            "_view_module_version": "1.5.0",
            "_view_name": "HTMLView",
            "description": "",
            "description_tooltip": null,
            "layout": "IPY_MODEL_ffad47638b0b49f7894de5ba0441e595",
            "placeholder": "​",
            "style": "IPY_MODEL_ae78c25786b44ee8ad676d682204eb77",
            "value": "100%"
          }
        },
        "d9a1920db5e7451d85a837b2e649f559": {
          "model_module": "@jupyter-widgets/controls",
          "model_name": "FloatProgressModel",
          "model_module_version": "1.5.0",
          "state": {
            "_dom_classes": [],
            "_model_module": "@jupyter-widgets/controls",
            "_model_module_version": "1.5.0",
            "_model_name": "FloatProgressModel",
            "_view_count": null,
            "_view_module": "@jupyter-widgets/controls",
            "_view_module_version": "1.5.0",
            "_view_name": "ProgressView",
            "bar_style": "",
            "description": "",
            "description_tooltip": null,
            "layout": "IPY_MODEL_feaa0e7d06874878869e64e798c9a5ec",
            "max": 100,
            "min": 0,
            "orientation": "horizontal",
            "style": "IPY_MODEL_139fe0640c384751a56c5769a197655e",
            "value": 100
          }
        },
        "b5adbc4f4db2445f99f13b037a39b7ad": {
          "model_module": "@jupyter-widgets/controls",
          "model_name": "HTMLModel",
          "model_module_version": "1.5.0",
          "state": {
            "_dom_classes": [],
            "_model_module": "@jupyter-widgets/controls",
            "_model_module_version": "1.5.0",
            "_model_name": "HTMLModel",
            "_view_count": null,
            "_view_module": "@jupyter-widgets/controls",
            "_view_module_version": "1.5.0",
            "_view_name": "HTMLView",
            "description": "",
            "description_tooltip": null,
            "layout": "IPY_MODEL_a929601f3a1b49b4bf84a50790393ff0",
            "placeholder": "​",
            "style": "IPY_MODEL_50601b85b4e64fecb1f16275b82a4903",
            "value": " 100/100 [00:04&lt;00:00, 22.56it/s]"
          }
        },
        "8331d3ee1bcc485b88f3619b3123fafa": {
          "model_module": "@jupyter-widgets/base",
          "model_name": "LayoutModel",
          "model_module_version": "1.2.0",
          "state": {
            "_model_module": "@jupyter-widgets/base",
            "_model_module_version": "1.2.0",
            "_model_name": "LayoutModel",
            "_view_count": null,
            "_view_module": "@jupyter-widgets/base",
            "_view_module_version": "1.2.0",
            "_view_name": "LayoutView",
            "align_content": null,
            "align_items": null,
            "align_self": null,
            "border": null,
            "bottom": null,
            "display": null,
            "flex": null,
            "flex_flow": null,
            "grid_area": null,
            "grid_auto_columns": null,
            "grid_auto_flow": null,
            "grid_auto_rows": null,
            "grid_column": null,
            "grid_gap": null,
            "grid_row": null,
            "grid_template_areas": null,
            "grid_template_columns": null,
            "grid_template_rows": null,
            "height": null,
            "justify_content": null,
            "justify_items": null,
            "left": null,
            "margin": null,
            "max_height": null,
            "max_width": null,
            "min_height": null,
            "min_width": null,
            "object_fit": null,
            "object_position": null,
            "order": null,
            "overflow": null,
            "overflow_x": null,
            "overflow_y": null,
            "padding": null,
            "right": null,
            "top": null,
            "visibility": null,
            "width": null
          }
        },
        "ffad47638b0b49f7894de5ba0441e595": {
          "model_module": "@jupyter-widgets/base",
          "model_name": "LayoutModel",
          "model_module_version": "1.2.0",
          "state": {
            "_model_module": "@jupyter-widgets/base",
            "_model_module_version": "1.2.0",
            "_model_name": "LayoutModel",
            "_view_count": null,
            "_view_module": "@jupyter-widgets/base",
            "_view_module_version": "1.2.0",
            "_view_name": "LayoutView",
            "align_content": null,
            "align_items": null,
            "align_self": null,
            "border": null,
            "bottom": null,
            "display": null,
            "flex": null,
            "flex_flow": null,
            "grid_area": null,
            "grid_auto_columns": null,
            "grid_auto_flow": null,
            "grid_auto_rows": null,
            "grid_column": null,
            "grid_gap": null,
            "grid_row": null,
            "grid_template_areas": null,
            "grid_template_columns": null,
            "grid_template_rows": null,
            "height": null,
            "justify_content": null,
            "justify_items": null,
            "left": null,
            "margin": null,
            "max_height": null,
            "max_width": null,
            "min_height": null,
            "min_width": null,
            "object_fit": null,
            "object_position": null,
            "order": null,
            "overflow": null,
            "overflow_x": null,
            "overflow_y": null,
            "padding": null,
            "right": null,
            "top": null,
            "visibility": null,
            "width": null
          }
        },
        "ae78c25786b44ee8ad676d682204eb77": {
          "model_module": "@jupyter-widgets/controls",
          "model_name": "DescriptionStyleModel",
          "model_module_version": "1.5.0",
          "state": {
            "_model_module": "@jupyter-widgets/controls",
            "_model_module_version": "1.5.0",
            "_model_name": "DescriptionStyleModel",
            "_view_count": null,
            "_view_module": "@jupyter-widgets/base",
            "_view_module_version": "1.2.0",
            "_view_name": "StyleView",
            "description_width": ""
          }
        },
        "feaa0e7d06874878869e64e798c9a5ec": {
          "model_module": "@jupyter-widgets/base",
          "model_name": "LayoutModel",
          "model_module_version": "1.2.0",
          "state": {
            "_model_module": "@jupyter-widgets/base",
            "_model_module_version": "1.2.0",
            "_model_name": "LayoutModel",
            "_view_count": null,
            "_view_module": "@jupyter-widgets/base",
            "_view_module_version": "1.2.0",
            "_view_name": "LayoutView",
            "align_content": null,
            "align_items": null,
            "align_self": null,
            "border": null,
            "bottom": null,
            "display": null,
            "flex": null,
            "flex_flow": null,
            "grid_area": null,
            "grid_auto_columns": null,
            "grid_auto_flow": null,
            "grid_auto_rows": null,
            "grid_column": null,
            "grid_gap": null,
            "grid_row": null,
            "grid_template_areas": null,
            "grid_template_columns": null,
            "grid_template_rows": null,
            "height": null,
            "justify_content": null,
            "justify_items": null,
            "left": null,
            "margin": null,
            "max_height": null,
            "max_width": null,
            "min_height": null,
            "min_width": null,
            "object_fit": null,
            "object_position": null,
            "order": null,
            "overflow": null,
            "overflow_x": null,
            "overflow_y": null,
            "padding": null,
            "right": null,
            "top": null,
            "visibility": null,
            "width": null
          }
        },
        "139fe0640c384751a56c5769a197655e": {
          "model_module": "@jupyter-widgets/controls",
          "model_name": "ProgressStyleModel",
          "model_module_version": "1.5.0",
          "state": {
            "_model_module": "@jupyter-widgets/controls",
            "_model_module_version": "1.5.0",
            "_model_name": "ProgressStyleModel",
            "_view_count": null,
            "_view_module": "@jupyter-widgets/base",
            "_view_module_version": "1.2.0",
            "_view_name": "StyleView",
            "bar_color": null,
            "description_width": ""
          }
        },
        "a929601f3a1b49b4bf84a50790393ff0": {
          "model_module": "@jupyter-widgets/base",
          "model_name": "LayoutModel",
          "model_module_version": "1.2.0",
          "state": {
            "_model_module": "@jupyter-widgets/base",
            "_model_module_version": "1.2.0",
            "_model_name": "LayoutModel",
            "_view_count": null,
            "_view_module": "@jupyter-widgets/base",
            "_view_module_version": "1.2.0",
            "_view_name": "LayoutView",
            "align_content": null,
            "align_items": null,
            "align_self": null,
            "border": null,
            "bottom": null,
            "display": null,
            "flex": null,
            "flex_flow": null,
            "grid_area": null,
            "grid_auto_columns": null,
            "grid_auto_flow": null,
            "grid_auto_rows": null,
            "grid_column": null,
            "grid_gap": null,
            "grid_row": null,
            "grid_template_areas": null,
            "grid_template_columns": null,
            "grid_template_rows": null,
            "height": null,
            "justify_content": null,
            "justify_items": null,
            "left": null,
            "margin": null,
            "max_height": null,
            "max_width": null,
            "min_height": null,
            "min_width": null,
            "object_fit": null,
            "object_position": null,
            "order": null,
            "overflow": null,
            "overflow_x": null,
            "overflow_y": null,
            "padding": null,
            "right": null,
            "top": null,
            "visibility": null,
            "width": null
          }
        },
        "50601b85b4e64fecb1f16275b82a4903": {
          "model_module": "@jupyter-widgets/controls",
          "model_name": "DescriptionStyleModel",
          "model_module_version": "1.5.0",
          "state": {
            "_model_module": "@jupyter-widgets/controls",
            "_model_module_version": "1.5.0",
            "_model_name": "DescriptionStyleModel",
            "_view_count": null,
            "_view_module": "@jupyter-widgets/base",
            "_view_module_version": "1.2.0",
            "_view_name": "StyleView",
            "description_width": ""
          }
        },
        "d7fcfb984f60405287a2d282af7a3b13": {
          "model_module": "@jupyter-widgets/controls",
          "model_name": "HBoxModel",
          "model_module_version": "1.5.0",
          "state": {
            "_dom_classes": [],
            "_model_module": "@jupyter-widgets/controls",
            "_model_module_version": "1.5.0",
            "_model_name": "HBoxModel",
            "_view_count": null,
            "_view_module": "@jupyter-widgets/controls",
            "_view_module_version": "1.5.0",
            "_view_name": "HBoxView",
            "box_style": "",
            "children": [
              "IPY_MODEL_e7db0201b6284dd89e2e9c1c0259ceb0",
              "IPY_MODEL_d90aa04569a64cc39d3c0aee03bba526",
              "IPY_MODEL_6752f995298a45b18993c881eeb5b7a9"
            ],
            "layout": "IPY_MODEL_181bbb0fc4574b94b59315277cac74c2"
          }
        },
        "e7db0201b6284dd89e2e9c1c0259ceb0": {
          "model_module": "@jupyter-widgets/controls",
          "model_name": "HTMLModel",
          "model_module_version": "1.5.0",
          "state": {
            "_dom_classes": [],
            "_model_module": "@jupyter-widgets/controls",
            "_model_module_version": "1.5.0",
            "_model_name": "HTMLModel",
            "_view_count": null,
            "_view_module": "@jupyter-widgets/controls",
            "_view_module_version": "1.5.0",
            "_view_name": "HTMLView",
            "description": "",
            "description_tooltip": null,
            "layout": "IPY_MODEL_aac6b1c4def64976b9d799accdee293d",
            "placeholder": "​",
            "style": "IPY_MODEL_8e27b1736c1d42fb85ad98caadc13ab3",
            "value": " 25%"
          }
        },
        "d90aa04569a64cc39d3c0aee03bba526": {
          "model_module": "@jupyter-widgets/controls",
          "model_name": "FloatProgressModel",
          "model_module_version": "1.5.0",
          "state": {
            "_dom_classes": [],
            "_model_module": "@jupyter-widgets/controls",
            "_model_module_version": "1.5.0",
            "_model_name": "FloatProgressModel",
            "_view_count": null,
            "_view_module": "@jupyter-widgets/controls",
            "_view_module_version": "1.5.0",
            "_view_name": "ProgressView",
            "bar_style": "danger",
            "description": "",
            "description_tooltip": null,
            "layout": "IPY_MODEL_4f20995d48d24fa8b7a84881405fb178",
            "max": 40,
            "min": 0,
            "orientation": "horizontal",
            "style": "IPY_MODEL_c0143cf9beb344cf96e28e933ea02bd8",
            "value": 10
          }
        },
        "6752f995298a45b18993c881eeb5b7a9": {
          "model_module": "@jupyter-widgets/controls",
          "model_name": "HTMLModel",
          "model_module_version": "1.5.0",
          "state": {
            "_dom_classes": [],
            "_model_module": "@jupyter-widgets/controls",
            "_model_module_version": "1.5.0",
            "_model_name": "HTMLModel",
            "_view_count": null,
            "_view_module": "@jupyter-widgets/controls",
            "_view_module_version": "1.5.0",
            "_view_name": "HTMLView",
            "description": "",
            "description_tooltip": null,
            "layout": "IPY_MODEL_d0ce6a3886024b4894669ccced78242c",
            "placeholder": "​",
            "style": "IPY_MODEL_e781a9970b1f4f72a18554b9fef842ba",
            "value": " 10/40 [42:46&lt;2:37:45, 315.51s/it]"
          }
        },
        "181bbb0fc4574b94b59315277cac74c2": {
          "model_module": "@jupyter-widgets/base",
          "model_name": "LayoutModel",
          "model_module_version": "1.2.0",
          "state": {
            "_model_module": "@jupyter-widgets/base",
            "_model_module_version": "1.2.0",
            "_model_name": "LayoutModel",
            "_view_count": null,
            "_view_module": "@jupyter-widgets/base",
            "_view_module_version": "1.2.0",
            "_view_name": "LayoutView",
            "align_content": null,
            "align_items": null,
            "align_self": null,
            "border": null,
            "bottom": null,
            "display": null,
            "flex": null,
            "flex_flow": null,
            "grid_area": null,
            "grid_auto_columns": null,
            "grid_auto_flow": null,
            "grid_auto_rows": null,
            "grid_column": null,
            "grid_gap": null,
            "grid_row": null,
            "grid_template_areas": null,
            "grid_template_columns": null,
            "grid_template_rows": null,
            "height": null,
            "justify_content": null,
            "justify_items": null,
            "left": null,
            "margin": null,
            "max_height": null,
            "max_width": null,
            "min_height": null,
            "min_width": null,
            "object_fit": null,
            "object_position": null,
            "order": null,
            "overflow": null,
            "overflow_x": null,
            "overflow_y": null,
            "padding": null,
            "right": null,
            "top": null,
            "visibility": null,
            "width": null
          }
        },
        "aac6b1c4def64976b9d799accdee293d": {
          "model_module": "@jupyter-widgets/base",
          "model_name": "LayoutModel",
          "model_module_version": "1.2.0",
          "state": {
            "_model_module": "@jupyter-widgets/base",
            "_model_module_version": "1.2.0",
            "_model_name": "LayoutModel",
            "_view_count": null,
            "_view_module": "@jupyter-widgets/base",
            "_view_module_version": "1.2.0",
            "_view_name": "LayoutView",
            "align_content": null,
            "align_items": null,
            "align_self": null,
            "border": null,
            "bottom": null,
            "display": null,
            "flex": null,
            "flex_flow": null,
            "grid_area": null,
            "grid_auto_columns": null,
            "grid_auto_flow": null,
            "grid_auto_rows": null,
            "grid_column": null,
            "grid_gap": null,
            "grid_row": null,
            "grid_template_areas": null,
            "grid_template_columns": null,
            "grid_template_rows": null,
            "height": null,
            "justify_content": null,
            "justify_items": null,
            "left": null,
            "margin": null,
            "max_height": null,
            "max_width": null,
            "min_height": null,
            "min_width": null,
            "object_fit": null,
            "object_position": null,
            "order": null,
            "overflow": null,
            "overflow_x": null,
            "overflow_y": null,
            "padding": null,
            "right": null,
            "top": null,
            "visibility": null,
            "width": null
          }
        },
        "8e27b1736c1d42fb85ad98caadc13ab3": {
          "model_module": "@jupyter-widgets/controls",
          "model_name": "DescriptionStyleModel",
          "model_module_version": "1.5.0",
          "state": {
            "_model_module": "@jupyter-widgets/controls",
            "_model_module_version": "1.5.0",
            "_model_name": "DescriptionStyleModel",
            "_view_count": null,
            "_view_module": "@jupyter-widgets/base",
            "_view_module_version": "1.2.0",
            "_view_name": "StyleView",
            "description_width": ""
          }
        },
        "4f20995d48d24fa8b7a84881405fb178": {
          "model_module": "@jupyter-widgets/base",
          "model_name": "LayoutModel",
          "model_module_version": "1.2.0",
          "state": {
            "_model_module": "@jupyter-widgets/base",
            "_model_module_version": "1.2.0",
            "_model_name": "LayoutModel",
            "_view_count": null,
            "_view_module": "@jupyter-widgets/base",
            "_view_module_version": "1.2.0",
            "_view_name": "LayoutView",
            "align_content": null,
            "align_items": null,
            "align_self": null,
            "border": null,
            "bottom": null,
            "display": null,
            "flex": null,
            "flex_flow": null,
            "grid_area": null,
            "grid_auto_columns": null,
            "grid_auto_flow": null,
            "grid_auto_rows": null,
            "grid_column": null,
            "grid_gap": null,
            "grid_row": null,
            "grid_template_areas": null,
            "grid_template_columns": null,
            "grid_template_rows": null,
            "height": null,
            "justify_content": null,
            "justify_items": null,
            "left": null,
            "margin": null,
            "max_height": null,
            "max_width": null,
            "min_height": null,
            "min_width": null,
            "object_fit": null,
            "object_position": null,
            "order": null,
            "overflow": null,
            "overflow_x": null,
            "overflow_y": null,
            "padding": null,
            "right": null,
            "top": null,
            "visibility": null,
            "width": null
          }
        },
        "c0143cf9beb344cf96e28e933ea02bd8": {
          "model_module": "@jupyter-widgets/controls",
          "model_name": "ProgressStyleModel",
          "model_module_version": "1.5.0",
          "state": {
            "_model_module": "@jupyter-widgets/controls",
            "_model_module_version": "1.5.0",
            "_model_name": "ProgressStyleModel",
            "_view_count": null,
            "_view_module": "@jupyter-widgets/base",
            "_view_module_version": "1.2.0",
            "_view_name": "StyleView",
            "bar_color": null,
            "description_width": ""
          }
        },
        "d0ce6a3886024b4894669ccced78242c": {
          "model_module": "@jupyter-widgets/base",
          "model_name": "LayoutModel",
          "model_module_version": "1.2.0",
          "state": {
            "_model_module": "@jupyter-widgets/base",
            "_model_module_version": "1.2.0",
            "_model_name": "LayoutModel",
            "_view_count": null,
            "_view_module": "@jupyter-widgets/base",
            "_view_module_version": "1.2.0",
            "_view_name": "LayoutView",
            "align_content": null,
            "align_items": null,
            "align_self": null,
            "border": null,
            "bottom": null,
            "display": null,
            "flex": null,
            "flex_flow": null,
            "grid_area": null,
            "grid_auto_columns": null,
            "grid_auto_flow": null,
            "grid_auto_rows": null,
            "grid_column": null,
            "grid_gap": null,
            "grid_row": null,
            "grid_template_areas": null,
            "grid_template_columns": null,
            "grid_template_rows": null,
            "height": null,
            "justify_content": null,
            "justify_items": null,
            "left": null,
            "margin": null,
            "max_height": null,
            "max_width": null,
            "min_height": null,
            "min_width": null,
            "object_fit": null,
            "object_position": null,
            "order": null,
            "overflow": null,
            "overflow_x": null,
            "overflow_y": null,
            "padding": null,
            "right": null,
            "top": null,
            "visibility": null,
            "width": null
          }
        },
        "e781a9970b1f4f72a18554b9fef842ba": {
          "model_module": "@jupyter-widgets/controls",
          "model_name": "DescriptionStyleModel",
          "model_module_version": "1.5.0",
          "state": {
            "_model_module": "@jupyter-widgets/controls",
            "_model_module_version": "1.5.0",
            "_model_name": "DescriptionStyleModel",
            "_view_count": null,
            "_view_module": "@jupyter-widgets/base",
            "_view_module_version": "1.2.0",
            "_view_name": "StyleView",
            "description_width": ""
          }
        },
        "85aac5aca5ba421da7b05a8321a01898": {
          "model_module": "@jupyter-widgets/controls",
          "model_name": "HBoxModel",
          "model_module_version": "1.5.0",
          "state": {
            "_dom_classes": [],
            "_model_module": "@jupyter-widgets/controls",
            "_model_module_version": "1.5.0",
            "_model_name": "HBoxModel",
            "_view_count": null,
            "_view_module": "@jupyter-widgets/controls",
            "_view_module_version": "1.5.0",
            "_view_name": "HBoxView",
            "box_style": "",
            "children": [
              "IPY_MODEL_f0dfb011631a480695524f9a61d37c5d",
              "IPY_MODEL_8da36683b3764632bf1c7153578812cc",
              "IPY_MODEL_16d573a114694944b70edd5c9405e24f"
            ],
            "layout": "IPY_MODEL_c2acaf493f9e4c18b1179b7d445de1e8"
          }
        },
        "f0dfb011631a480695524f9a61d37c5d": {
          "model_module": "@jupyter-widgets/controls",
          "model_name": "HTMLModel",
          "model_module_version": "1.5.0",
          "state": {
            "_dom_classes": [],
            "_model_module": "@jupyter-widgets/controls",
            "_model_module_version": "1.5.0",
            "_model_name": "HTMLModel",
            "_view_count": null,
            "_view_module": "@jupyter-widgets/controls",
            "_view_module_version": "1.5.0",
            "_view_name": "HTMLView",
            "description": "",
            "description_tooltip": null,
            "layout": "IPY_MODEL_56cd8bc0c28f4706ba1842d25cf711ec",
            "placeholder": "​",
            "style": "IPY_MODEL_84232fbddffd4859a17e1dda2df1ee2a",
            "value": "100%"
          }
        },
        "8da36683b3764632bf1c7153578812cc": {
          "model_module": "@jupyter-widgets/controls",
          "model_name": "FloatProgressModel",
          "model_module_version": "1.5.0",
          "state": {
            "_dom_classes": [],
            "_model_module": "@jupyter-widgets/controls",
            "_model_module_version": "1.5.0",
            "_model_name": "FloatProgressModel",
            "_view_count": null,
            "_view_module": "@jupyter-widgets/controls",
            "_view_module_version": "1.5.0",
            "_view_name": "ProgressView",
            "bar_style": "",
            "description": "",
            "description_tooltip": null,
            "layout": "IPY_MODEL_836b8ecb62074e79b437b3b821682306",
            "max": 147,
            "min": 0,
            "orientation": "horizontal",
            "style": "IPY_MODEL_49ac78bf842d4b999f0a4df99f05e036",
            "value": 147
          }
        },
        "16d573a114694944b70edd5c9405e24f": {
          "model_module": "@jupyter-widgets/controls",
          "model_name": "HTMLModel",
          "model_module_version": "1.5.0",
          "state": {
            "_dom_classes": [],
            "_model_module": "@jupyter-widgets/controls",
            "_model_module_version": "1.5.0",
            "_model_name": "HTMLModel",
            "_view_count": null,
            "_view_module": "@jupyter-widgets/controls",
            "_view_module_version": "1.5.0",
            "_view_name": "HTMLView",
            "description": "",
            "description_tooltip": null,
            "layout": "IPY_MODEL_dc9bcbe86b4c4fb4a1c0eebec30acf7c",
            "placeholder": "​",
            "style": "IPY_MODEL_efadbc60ec93479ca83b1a35c7441528",
            "value": " 147/147 [01:18&lt;00:00,  1.88it/s]"
          }
        },
        "c2acaf493f9e4c18b1179b7d445de1e8": {
          "model_module": "@jupyter-widgets/base",
          "model_name": "LayoutModel",
          "model_module_version": "1.2.0",
          "state": {
            "_model_module": "@jupyter-widgets/base",
            "_model_module_version": "1.2.0",
            "_model_name": "LayoutModel",
            "_view_count": null,
            "_view_module": "@jupyter-widgets/base",
            "_view_module_version": "1.2.0",
            "_view_name": "LayoutView",
            "align_content": null,
            "align_items": null,
            "align_self": null,
            "border": null,
            "bottom": null,
            "display": null,
            "flex": null,
            "flex_flow": null,
            "grid_area": null,
            "grid_auto_columns": null,
            "grid_auto_flow": null,
            "grid_auto_rows": null,
            "grid_column": null,
            "grid_gap": null,
            "grid_row": null,
            "grid_template_areas": null,
            "grid_template_columns": null,
            "grid_template_rows": null,
            "height": null,
            "justify_content": null,
            "justify_items": null,
            "left": null,
            "margin": null,
            "max_height": null,
            "max_width": null,
            "min_height": null,
            "min_width": null,
            "object_fit": null,
            "object_position": null,
            "order": null,
            "overflow": null,
            "overflow_x": null,
            "overflow_y": null,
            "padding": null,
            "right": null,
            "top": null,
            "visibility": null,
            "width": null
          }
        },
        "56cd8bc0c28f4706ba1842d25cf711ec": {
          "model_module": "@jupyter-widgets/base",
          "model_name": "LayoutModel",
          "model_module_version": "1.2.0",
          "state": {
            "_model_module": "@jupyter-widgets/base",
            "_model_module_version": "1.2.0",
            "_model_name": "LayoutModel",
            "_view_count": null,
            "_view_module": "@jupyter-widgets/base",
            "_view_module_version": "1.2.0",
            "_view_name": "LayoutView",
            "align_content": null,
            "align_items": null,
            "align_self": null,
            "border": null,
            "bottom": null,
            "display": null,
            "flex": null,
            "flex_flow": null,
            "grid_area": null,
            "grid_auto_columns": null,
            "grid_auto_flow": null,
            "grid_auto_rows": null,
            "grid_column": null,
            "grid_gap": null,
            "grid_row": null,
            "grid_template_areas": null,
            "grid_template_columns": null,
            "grid_template_rows": null,
            "height": null,
            "justify_content": null,
            "justify_items": null,
            "left": null,
            "margin": null,
            "max_height": null,
            "max_width": null,
            "min_height": null,
            "min_width": null,
            "object_fit": null,
            "object_position": null,
            "order": null,
            "overflow": null,
            "overflow_x": null,
            "overflow_y": null,
            "padding": null,
            "right": null,
            "top": null,
            "visibility": null,
            "width": null
          }
        },
        "84232fbddffd4859a17e1dda2df1ee2a": {
          "model_module": "@jupyter-widgets/controls",
          "model_name": "DescriptionStyleModel",
          "model_module_version": "1.5.0",
          "state": {
            "_model_module": "@jupyter-widgets/controls",
            "_model_module_version": "1.5.0",
            "_model_name": "DescriptionStyleModel",
            "_view_count": null,
            "_view_module": "@jupyter-widgets/base",
            "_view_module_version": "1.2.0",
            "_view_name": "StyleView",
            "description_width": ""
          }
        },
        "836b8ecb62074e79b437b3b821682306": {
          "model_module": "@jupyter-widgets/base",
          "model_name": "LayoutModel",
          "model_module_version": "1.2.0",
          "state": {
            "_model_module": "@jupyter-widgets/base",
            "_model_module_version": "1.2.0",
            "_model_name": "LayoutModel",
            "_view_count": null,
            "_view_module": "@jupyter-widgets/base",
            "_view_module_version": "1.2.0",
            "_view_name": "LayoutView",
            "align_content": null,
            "align_items": null,
            "align_self": null,
            "border": null,
            "bottom": null,
            "display": null,
            "flex": null,
            "flex_flow": null,
            "grid_area": null,
            "grid_auto_columns": null,
            "grid_auto_flow": null,
            "grid_auto_rows": null,
            "grid_column": null,
            "grid_gap": null,
            "grid_row": null,
            "grid_template_areas": null,
            "grid_template_columns": null,
            "grid_template_rows": null,
            "height": null,
            "justify_content": null,
            "justify_items": null,
            "left": null,
            "margin": null,
            "max_height": null,
            "max_width": null,
            "min_height": null,
            "min_width": null,
            "object_fit": null,
            "object_position": null,
            "order": null,
            "overflow": null,
            "overflow_x": null,
            "overflow_y": null,
            "padding": null,
            "right": null,
            "top": null,
            "visibility": null,
            "width": null
          }
        },
        "49ac78bf842d4b999f0a4df99f05e036": {
          "model_module": "@jupyter-widgets/controls",
          "model_name": "ProgressStyleModel",
          "model_module_version": "1.5.0",
          "state": {
            "_model_module": "@jupyter-widgets/controls",
            "_model_module_version": "1.5.0",
            "_model_name": "ProgressStyleModel",
            "_view_count": null,
            "_view_module": "@jupyter-widgets/base",
            "_view_module_version": "1.2.0",
            "_view_name": "StyleView",
            "bar_color": null,
            "description_width": ""
          }
        },
        "dc9bcbe86b4c4fb4a1c0eebec30acf7c": {
          "model_module": "@jupyter-widgets/base",
          "model_name": "LayoutModel",
          "model_module_version": "1.2.0",
          "state": {
            "_model_module": "@jupyter-widgets/base",
            "_model_module_version": "1.2.0",
            "_model_name": "LayoutModel",
            "_view_count": null,
            "_view_module": "@jupyter-widgets/base",
            "_view_module_version": "1.2.0",
            "_view_name": "LayoutView",
            "align_content": null,
            "align_items": null,
            "align_self": null,
            "border": null,
            "bottom": null,
            "display": null,
            "flex": null,
            "flex_flow": null,
            "grid_area": null,
            "grid_auto_columns": null,
            "grid_auto_flow": null,
            "grid_auto_rows": null,
            "grid_column": null,
            "grid_gap": null,
            "grid_row": null,
            "grid_template_areas": null,
            "grid_template_columns": null,
            "grid_template_rows": null,
            "height": null,
            "justify_content": null,
            "justify_items": null,
            "left": null,
            "margin": null,
            "max_height": null,
            "max_width": null,
            "min_height": null,
            "min_width": null,
            "object_fit": null,
            "object_position": null,
            "order": null,
            "overflow": null,
            "overflow_x": null,
            "overflow_y": null,
            "padding": null,
            "right": null,
            "top": null,
            "visibility": null,
            "width": null
          }
        },
        "efadbc60ec93479ca83b1a35c7441528": {
          "model_module": "@jupyter-widgets/controls",
          "model_name": "DescriptionStyleModel",
          "model_module_version": "1.5.0",
          "state": {
            "_model_module": "@jupyter-widgets/controls",
            "_model_module_version": "1.5.0",
            "_model_name": "DescriptionStyleModel",
            "_view_count": null,
            "_view_module": "@jupyter-widgets/base",
            "_view_module_version": "1.2.0",
            "_view_name": "StyleView",
            "description_width": ""
          }
        },
        "7b82bbbe3e8e446583cdf3c5c1aae252": {
          "model_module": "@jupyter-widgets/controls",
          "model_name": "HBoxModel",
          "model_module_version": "1.5.0",
          "state": {
            "_dom_classes": [],
            "_model_module": "@jupyter-widgets/controls",
            "_model_module_version": "1.5.0",
            "_model_name": "HBoxModel",
            "_view_count": null,
            "_view_module": "@jupyter-widgets/controls",
            "_view_module_version": "1.5.0",
            "_view_name": "HBoxView",
            "box_style": "",
            "children": [
              "IPY_MODEL_edcff280c0184ff995d973c110a5d357",
              "IPY_MODEL_eb02ccaac19441f2a5d5f316425dbcd0",
              "IPY_MODEL_4fb4916e1b044a2283c4fadb0742ed59"
            ],
            "layout": "IPY_MODEL_efd304ce89df4b96b3c05b264c20b349"
          }
        },
        "edcff280c0184ff995d973c110a5d357": {
          "model_module": "@jupyter-widgets/controls",
          "model_name": "HTMLModel",
          "model_module_version": "1.5.0",
          "state": {
            "_dom_classes": [],
            "_model_module": "@jupyter-widgets/controls",
            "_model_module_version": "1.5.0",
            "_model_name": "HTMLModel",
            "_view_count": null,
            "_view_module": "@jupyter-widgets/controls",
            "_view_module_version": "1.5.0",
            "_view_name": "HTMLView",
            "description": "",
            "description_tooltip": null,
            "layout": "IPY_MODEL_80270bdd5b3f4ff08aa243cbf5da320c",
            "placeholder": "​",
            "style": "IPY_MODEL_ef7c8acdd9fa4f4ea24142c7601d438a",
            "value": "100%"
          }
        },
        "eb02ccaac19441f2a5d5f316425dbcd0": {
          "model_module": "@jupyter-widgets/controls",
          "model_name": "FloatProgressModel",
          "model_module_version": "1.5.0",
          "state": {
            "_dom_classes": [],
            "_model_module": "@jupyter-widgets/controls",
            "_model_module_version": "1.5.0",
            "_model_name": "FloatProgressModel",
            "_view_count": null,
            "_view_module": "@jupyter-widgets/controls",
            "_view_module_version": "1.5.0",
            "_view_name": "ProgressView",
            "bar_style": "",
            "description": "",
            "description_tooltip": null,
            "layout": "IPY_MODEL_db3012306d50441db888f233fc882394",
            "max": 146,
            "min": 0,
            "orientation": "horizontal",
            "style": "IPY_MODEL_4f1bb9c8b485462ba3ba553ac51dea59",
            "value": 146
          }
        },
        "4fb4916e1b044a2283c4fadb0742ed59": {
          "model_module": "@jupyter-widgets/controls",
          "model_name": "HTMLModel",
          "model_module_version": "1.5.0",
          "state": {
            "_dom_classes": [],
            "_model_module": "@jupyter-widgets/controls",
            "_model_module_version": "1.5.0",
            "_model_name": "HTMLModel",
            "_view_count": null,
            "_view_module": "@jupyter-widgets/controls",
            "_view_module_version": "1.5.0",
            "_view_name": "HTMLView",
            "description": "",
            "description_tooltip": null,
            "layout": "IPY_MODEL_262b2cf40e7d42cea3db4065784da2ff",
            "placeholder": "​",
            "style": "IPY_MODEL_c36bccba1f1249a7a13a9579bcb2b5a7",
            "value": " 146/146 [01:06&lt;00:00,  2.40it/s]"
          }
        },
        "efd304ce89df4b96b3c05b264c20b349": {
          "model_module": "@jupyter-widgets/base",
          "model_name": "LayoutModel",
          "model_module_version": "1.2.0",
          "state": {
            "_model_module": "@jupyter-widgets/base",
            "_model_module_version": "1.2.0",
            "_model_name": "LayoutModel",
            "_view_count": null,
            "_view_module": "@jupyter-widgets/base",
            "_view_module_version": "1.2.0",
            "_view_name": "LayoutView",
            "align_content": null,
            "align_items": null,
            "align_self": null,
            "border": null,
            "bottom": null,
            "display": null,
            "flex": null,
            "flex_flow": null,
            "grid_area": null,
            "grid_auto_columns": null,
            "grid_auto_flow": null,
            "grid_auto_rows": null,
            "grid_column": null,
            "grid_gap": null,
            "grid_row": null,
            "grid_template_areas": null,
            "grid_template_columns": null,
            "grid_template_rows": null,
            "height": null,
            "justify_content": null,
            "justify_items": null,
            "left": null,
            "margin": null,
            "max_height": null,
            "max_width": null,
            "min_height": null,
            "min_width": null,
            "object_fit": null,
            "object_position": null,
            "order": null,
            "overflow": null,
            "overflow_x": null,
            "overflow_y": null,
            "padding": null,
            "right": null,
            "top": null,
            "visibility": null,
            "width": null
          }
        },
        "80270bdd5b3f4ff08aa243cbf5da320c": {
          "model_module": "@jupyter-widgets/base",
          "model_name": "LayoutModel",
          "model_module_version": "1.2.0",
          "state": {
            "_model_module": "@jupyter-widgets/base",
            "_model_module_version": "1.2.0",
            "_model_name": "LayoutModel",
            "_view_count": null,
            "_view_module": "@jupyter-widgets/base",
            "_view_module_version": "1.2.0",
            "_view_name": "LayoutView",
            "align_content": null,
            "align_items": null,
            "align_self": null,
            "border": null,
            "bottom": null,
            "display": null,
            "flex": null,
            "flex_flow": null,
            "grid_area": null,
            "grid_auto_columns": null,
            "grid_auto_flow": null,
            "grid_auto_rows": null,
            "grid_column": null,
            "grid_gap": null,
            "grid_row": null,
            "grid_template_areas": null,
            "grid_template_columns": null,
            "grid_template_rows": null,
            "height": null,
            "justify_content": null,
            "justify_items": null,
            "left": null,
            "margin": null,
            "max_height": null,
            "max_width": null,
            "min_height": null,
            "min_width": null,
            "object_fit": null,
            "object_position": null,
            "order": null,
            "overflow": null,
            "overflow_x": null,
            "overflow_y": null,
            "padding": null,
            "right": null,
            "top": null,
            "visibility": null,
            "width": null
          }
        },
        "ef7c8acdd9fa4f4ea24142c7601d438a": {
          "model_module": "@jupyter-widgets/controls",
          "model_name": "DescriptionStyleModel",
          "model_module_version": "1.5.0",
          "state": {
            "_model_module": "@jupyter-widgets/controls",
            "_model_module_version": "1.5.0",
            "_model_name": "DescriptionStyleModel",
            "_view_count": null,
            "_view_module": "@jupyter-widgets/base",
            "_view_module_version": "1.2.0",
            "_view_name": "StyleView",
            "description_width": ""
          }
        },
        "db3012306d50441db888f233fc882394": {
          "model_module": "@jupyter-widgets/base",
          "model_name": "LayoutModel",
          "model_module_version": "1.2.0",
          "state": {
            "_model_module": "@jupyter-widgets/base",
            "_model_module_version": "1.2.0",
            "_model_name": "LayoutModel",
            "_view_count": null,
            "_view_module": "@jupyter-widgets/base",
            "_view_module_version": "1.2.0",
            "_view_name": "LayoutView",
            "align_content": null,
            "align_items": null,
            "align_self": null,
            "border": null,
            "bottom": null,
            "display": null,
            "flex": null,
            "flex_flow": null,
            "grid_area": null,
            "grid_auto_columns": null,
            "grid_auto_flow": null,
            "grid_auto_rows": null,
            "grid_column": null,
            "grid_gap": null,
            "grid_row": null,
            "grid_template_areas": null,
            "grid_template_columns": null,
            "grid_template_rows": null,
            "height": null,
            "justify_content": null,
            "justify_items": null,
            "left": null,
            "margin": null,
            "max_height": null,
            "max_width": null,
            "min_height": null,
            "min_width": null,
            "object_fit": null,
            "object_position": null,
            "order": null,
            "overflow": null,
            "overflow_x": null,
            "overflow_y": null,
            "padding": null,
            "right": null,
            "top": null,
            "visibility": null,
            "width": null
          }
        },
        "4f1bb9c8b485462ba3ba553ac51dea59": {
          "model_module": "@jupyter-widgets/controls",
          "model_name": "ProgressStyleModel",
          "model_module_version": "1.5.0",
          "state": {
            "_model_module": "@jupyter-widgets/controls",
            "_model_module_version": "1.5.0",
            "_model_name": "ProgressStyleModel",
            "_view_count": null,
            "_view_module": "@jupyter-widgets/base",
            "_view_module_version": "1.2.0",
            "_view_name": "StyleView",
            "bar_color": null,
            "description_width": ""
          }
        },
        "262b2cf40e7d42cea3db4065784da2ff": {
          "model_module": "@jupyter-widgets/base",
          "model_name": "LayoutModel",
          "model_module_version": "1.2.0",
          "state": {
            "_model_module": "@jupyter-widgets/base",
            "_model_module_version": "1.2.0",
            "_model_name": "LayoutModel",
            "_view_count": null,
            "_view_module": "@jupyter-widgets/base",
            "_view_module_version": "1.2.0",
            "_view_name": "LayoutView",
            "align_content": null,
            "align_items": null,
            "align_self": null,
            "border": null,
            "bottom": null,
            "display": null,
            "flex": null,
            "flex_flow": null,
            "grid_area": null,
            "grid_auto_columns": null,
            "grid_auto_flow": null,
            "grid_auto_rows": null,
            "grid_column": null,
            "grid_gap": null,
            "grid_row": null,
            "grid_template_areas": null,
            "grid_template_columns": null,
            "grid_template_rows": null,
            "height": null,
            "justify_content": null,
            "justify_items": null,
            "left": null,
            "margin": null,
            "max_height": null,
            "max_width": null,
            "min_height": null,
            "min_width": null,
            "object_fit": null,
            "object_position": null,
            "order": null,
            "overflow": null,
            "overflow_x": null,
            "overflow_y": null,
            "padding": null,
            "right": null,
            "top": null,
            "visibility": null,
            "width": null
          }
        },
        "c36bccba1f1249a7a13a9579bcb2b5a7": {
          "model_module": "@jupyter-widgets/controls",
          "model_name": "DescriptionStyleModel",
          "model_module_version": "1.5.0",
          "state": {
            "_model_module": "@jupyter-widgets/controls",
            "_model_module_version": "1.5.0",
            "_model_name": "DescriptionStyleModel",
            "_view_count": null,
            "_view_module": "@jupyter-widgets/base",
            "_view_module_version": "1.2.0",
            "_view_name": "StyleView",
            "description_width": ""
          }
        },
        "60b00db785964479a3e5b30dd2c91474": {
          "model_module": "@jupyter-widgets/controls",
          "model_name": "HBoxModel",
          "model_module_version": "1.5.0",
          "state": {
            "_dom_classes": [],
            "_model_module": "@jupyter-widgets/controls",
            "_model_module_version": "1.5.0",
            "_model_name": "HBoxModel",
            "_view_count": null,
            "_view_module": "@jupyter-widgets/controls",
            "_view_module_version": "1.5.0",
            "_view_name": "HBoxView",
            "box_style": "",
            "children": [
              "IPY_MODEL_64978dad8806443bb621dd82c0a7e618",
              "IPY_MODEL_1ed871d8ec4247288e2331539f1fca7c",
              "IPY_MODEL_09e8d5e94813440f8ed9b5b7065664ed"
            ],
            "layout": "IPY_MODEL_2f5b4ed34e5d43bfa4c61cd185df50ec"
          }
        },
        "64978dad8806443bb621dd82c0a7e618": {
          "model_module": "@jupyter-widgets/controls",
          "model_name": "HTMLModel",
          "model_module_version": "1.5.0",
          "state": {
            "_dom_classes": [],
            "_model_module": "@jupyter-widgets/controls",
            "_model_module_version": "1.5.0",
            "_model_name": "HTMLModel",
            "_view_count": null,
            "_view_module": "@jupyter-widgets/controls",
            "_view_module_version": "1.5.0",
            "_view_name": "HTMLView",
            "description": "",
            "description_tooltip": null,
            "layout": "IPY_MODEL_15f79f8712404247957f37d3518aaf73",
            "placeholder": "​",
            "style": "IPY_MODEL_7a3c268206bc4de1a89620fd0545ac3f",
            "value": "100%"
          }
        },
        "1ed871d8ec4247288e2331539f1fca7c": {
          "model_module": "@jupyter-widgets/controls",
          "model_name": "FloatProgressModel",
          "model_module_version": "1.5.0",
          "state": {
            "_dom_classes": [],
            "_model_module": "@jupyter-widgets/controls",
            "_model_module_version": "1.5.0",
            "_model_name": "FloatProgressModel",
            "_view_count": null,
            "_view_module": "@jupyter-widgets/controls",
            "_view_module_version": "1.5.0",
            "_view_name": "ProgressView",
            "bar_style": "",
            "description": "",
            "description_tooltip": null,
            "layout": "IPY_MODEL_6f72e190e2544116b0466eb6387f7838",
            "max": 145,
            "min": 0,
            "orientation": "horizontal",
            "style": "IPY_MODEL_217a8a77a717444e872549b01810e25f",
            "value": 145
          }
        },
        "09e8d5e94813440f8ed9b5b7065664ed": {
          "model_module": "@jupyter-widgets/controls",
          "model_name": "HTMLModel",
          "model_module_version": "1.5.0",
          "state": {
            "_dom_classes": [],
            "_model_module": "@jupyter-widgets/controls",
            "_model_module_version": "1.5.0",
            "_model_name": "HTMLModel",
            "_view_count": null,
            "_view_module": "@jupyter-widgets/controls",
            "_view_module_version": "1.5.0",
            "_view_name": "HTMLView",
            "description": "",
            "description_tooltip": null,
            "layout": "IPY_MODEL_9c43ec21e86c4798b3c24bd603e10239",
            "placeholder": "​",
            "style": "IPY_MODEL_66279f6ab0cc4d699e1c4a7bc4edfeb8",
            "value": " 145/145 [01:17&lt;00:00,  2.04it/s]"
          }
        },
        "2f5b4ed34e5d43bfa4c61cd185df50ec": {
          "model_module": "@jupyter-widgets/base",
          "model_name": "LayoutModel",
          "model_module_version": "1.2.0",
          "state": {
            "_model_module": "@jupyter-widgets/base",
            "_model_module_version": "1.2.0",
            "_model_name": "LayoutModel",
            "_view_count": null,
            "_view_module": "@jupyter-widgets/base",
            "_view_module_version": "1.2.0",
            "_view_name": "LayoutView",
            "align_content": null,
            "align_items": null,
            "align_self": null,
            "border": null,
            "bottom": null,
            "display": null,
            "flex": null,
            "flex_flow": null,
            "grid_area": null,
            "grid_auto_columns": null,
            "grid_auto_flow": null,
            "grid_auto_rows": null,
            "grid_column": null,
            "grid_gap": null,
            "grid_row": null,
            "grid_template_areas": null,
            "grid_template_columns": null,
            "grid_template_rows": null,
            "height": null,
            "justify_content": null,
            "justify_items": null,
            "left": null,
            "margin": null,
            "max_height": null,
            "max_width": null,
            "min_height": null,
            "min_width": null,
            "object_fit": null,
            "object_position": null,
            "order": null,
            "overflow": null,
            "overflow_x": null,
            "overflow_y": null,
            "padding": null,
            "right": null,
            "top": null,
            "visibility": null,
            "width": null
          }
        },
        "15f79f8712404247957f37d3518aaf73": {
          "model_module": "@jupyter-widgets/base",
          "model_name": "LayoutModel",
          "model_module_version": "1.2.0",
          "state": {
            "_model_module": "@jupyter-widgets/base",
            "_model_module_version": "1.2.0",
            "_model_name": "LayoutModel",
            "_view_count": null,
            "_view_module": "@jupyter-widgets/base",
            "_view_module_version": "1.2.0",
            "_view_name": "LayoutView",
            "align_content": null,
            "align_items": null,
            "align_self": null,
            "border": null,
            "bottom": null,
            "display": null,
            "flex": null,
            "flex_flow": null,
            "grid_area": null,
            "grid_auto_columns": null,
            "grid_auto_flow": null,
            "grid_auto_rows": null,
            "grid_column": null,
            "grid_gap": null,
            "grid_row": null,
            "grid_template_areas": null,
            "grid_template_columns": null,
            "grid_template_rows": null,
            "height": null,
            "justify_content": null,
            "justify_items": null,
            "left": null,
            "margin": null,
            "max_height": null,
            "max_width": null,
            "min_height": null,
            "min_width": null,
            "object_fit": null,
            "object_position": null,
            "order": null,
            "overflow": null,
            "overflow_x": null,
            "overflow_y": null,
            "padding": null,
            "right": null,
            "top": null,
            "visibility": null,
            "width": null
          }
        },
        "7a3c268206bc4de1a89620fd0545ac3f": {
          "model_module": "@jupyter-widgets/controls",
          "model_name": "DescriptionStyleModel",
          "model_module_version": "1.5.0",
          "state": {
            "_model_module": "@jupyter-widgets/controls",
            "_model_module_version": "1.5.0",
            "_model_name": "DescriptionStyleModel",
            "_view_count": null,
            "_view_module": "@jupyter-widgets/base",
            "_view_module_version": "1.2.0",
            "_view_name": "StyleView",
            "description_width": ""
          }
        },
        "6f72e190e2544116b0466eb6387f7838": {
          "model_module": "@jupyter-widgets/base",
          "model_name": "LayoutModel",
          "model_module_version": "1.2.0",
          "state": {
            "_model_module": "@jupyter-widgets/base",
            "_model_module_version": "1.2.0",
            "_model_name": "LayoutModel",
            "_view_count": null,
            "_view_module": "@jupyter-widgets/base",
            "_view_module_version": "1.2.0",
            "_view_name": "LayoutView",
            "align_content": null,
            "align_items": null,
            "align_self": null,
            "border": null,
            "bottom": null,
            "display": null,
            "flex": null,
            "flex_flow": null,
            "grid_area": null,
            "grid_auto_columns": null,
            "grid_auto_flow": null,
            "grid_auto_rows": null,
            "grid_column": null,
            "grid_gap": null,
            "grid_row": null,
            "grid_template_areas": null,
            "grid_template_columns": null,
            "grid_template_rows": null,
            "height": null,
            "justify_content": null,
            "justify_items": null,
            "left": null,
            "margin": null,
            "max_height": null,
            "max_width": null,
            "min_height": null,
            "min_width": null,
            "object_fit": null,
            "object_position": null,
            "order": null,
            "overflow": null,
            "overflow_x": null,
            "overflow_y": null,
            "padding": null,
            "right": null,
            "top": null,
            "visibility": null,
            "width": null
          }
        },
        "217a8a77a717444e872549b01810e25f": {
          "model_module": "@jupyter-widgets/controls",
          "model_name": "ProgressStyleModel",
          "model_module_version": "1.5.0",
          "state": {
            "_model_module": "@jupyter-widgets/controls",
            "_model_module_version": "1.5.0",
            "_model_name": "ProgressStyleModel",
            "_view_count": null,
            "_view_module": "@jupyter-widgets/base",
            "_view_module_version": "1.2.0",
            "_view_name": "StyleView",
            "bar_color": null,
            "description_width": ""
          }
        },
        "9c43ec21e86c4798b3c24bd603e10239": {
          "model_module": "@jupyter-widgets/base",
          "model_name": "LayoutModel",
          "model_module_version": "1.2.0",
          "state": {
            "_model_module": "@jupyter-widgets/base",
            "_model_module_version": "1.2.0",
            "_model_name": "LayoutModel",
            "_view_count": null,
            "_view_module": "@jupyter-widgets/base",
            "_view_module_version": "1.2.0",
            "_view_name": "LayoutView",
            "align_content": null,
            "align_items": null,
            "align_self": null,
            "border": null,
            "bottom": null,
            "display": null,
            "flex": null,
            "flex_flow": null,
            "grid_area": null,
            "grid_auto_columns": null,
            "grid_auto_flow": null,
            "grid_auto_rows": null,
            "grid_column": null,
            "grid_gap": null,
            "grid_row": null,
            "grid_template_areas": null,
            "grid_template_columns": null,
            "grid_template_rows": null,
            "height": null,
            "justify_content": null,
            "justify_items": null,
            "left": null,
            "margin": null,
            "max_height": null,
            "max_width": null,
            "min_height": null,
            "min_width": null,
            "object_fit": null,
            "object_position": null,
            "order": null,
            "overflow": null,
            "overflow_x": null,
            "overflow_y": null,
            "padding": null,
            "right": null,
            "top": null,
            "visibility": null,
            "width": null
          }
        },
        "66279f6ab0cc4d699e1c4a7bc4edfeb8": {
          "model_module": "@jupyter-widgets/controls",
          "model_name": "DescriptionStyleModel",
          "model_module_version": "1.5.0",
          "state": {
            "_model_module": "@jupyter-widgets/controls",
            "_model_module_version": "1.5.0",
            "_model_name": "DescriptionStyleModel",
            "_view_count": null,
            "_view_module": "@jupyter-widgets/base",
            "_view_module_version": "1.2.0",
            "_view_name": "StyleView",
            "description_width": ""
          }
        },
        "fcebcde4d3564c87a6be06871542a202": {
          "model_module": "@jupyter-widgets/controls",
          "model_name": "HBoxModel",
          "model_module_version": "1.5.0",
          "state": {
            "_dom_classes": [],
            "_model_module": "@jupyter-widgets/controls",
            "_model_module_version": "1.5.0",
            "_model_name": "HBoxModel",
            "_view_count": null,
            "_view_module": "@jupyter-widgets/controls",
            "_view_module_version": "1.5.0",
            "_view_name": "HBoxView",
            "box_style": "",
            "children": [
              "IPY_MODEL_d133419f9ebf42ac80c63379d22bb828",
              "IPY_MODEL_29be44e4a3d84a62a6e59b9c7690c840",
              "IPY_MODEL_b5be6572e90b4e99b2f2fc8fdd072160"
            ],
            "layout": "IPY_MODEL_ad8e84fc501745338dece21191185cef"
          }
        },
        "d133419f9ebf42ac80c63379d22bb828": {
          "model_module": "@jupyter-widgets/controls",
          "model_name": "HTMLModel",
          "model_module_version": "1.5.0",
          "state": {
            "_dom_classes": [],
            "_model_module": "@jupyter-widgets/controls",
            "_model_module_version": "1.5.0",
            "_model_name": "HTMLModel",
            "_view_count": null,
            "_view_module": "@jupyter-widgets/controls",
            "_view_module_version": "1.5.0",
            "_view_name": "HTMLView",
            "description": "",
            "description_tooltip": null,
            "layout": "IPY_MODEL_e1006af0c5334c04b2a22ec5057417b7",
            "placeholder": "​",
            "style": "IPY_MODEL_c5cf582bf1574b9aba8e6c3729165f60",
            "value": "100%"
          }
        },
        "29be44e4a3d84a62a6e59b9c7690c840": {
          "model_module": "@jupyter-widgets/controls",
          "model_name": "FloatProgressModel",
          "model_module_version": "1.5.0",
          "state": {
            "_dom_classes": [],
            "_model_module": "@jupyter-widgets/controls",
            "_model_module_version": "1.5.0",
            "_model_name": "FloatProgressModel",
            "_view_count": null,
            "_view_module": "@jupyter-widgets/controls",
            "_view_module_version": "1.5.0",
            "_view_name": "ProgressView",
            "bar_style": "",
            "description": "",
            "description_tooltip": null,
            "layout": "IPY_MODEL_cd6550aa81f941b9a948fd7acd9aa7d9",
            "max": 144,
            "min": 0,
            "orientation": "horizontal",
            "style": "IPY_MODEL_7a136e0291734a6e97c147a35f0b3f79",
            "value": 144
          }
        },
        "b5be6572e90b4e99b2f2fc8fdd072160": {
          "model_module": "@jupyter-widgets/controls",
          "model_name": "HTMLModel",
          "model_module_version": "1.5.0",
          "state": {
            "_dom_classes": [],
            "_model_module": "@jupyter-widgets/controls",
            "_model_module_version": "1.5.0",
            "_model_name": "HTMLModel",
            "_view_count": null,
            "_view_module": "@jupyter-widgets/controls",
            "_view_module_version": "1.5.0",
            "_view_name": "HTMLView",
            "description": "",
            "description_tooltip": null,
            "layout": "IPY_MODEL_b8b354614c1a4c0d8ceef77f250618d5",
            "placeholder": "​",
            "style": "IPY_MODEL_993a97abd38548c2ab678c9d3995ba7f",
            "value": " 144/144 [01:42&lt;00:00,  1.63it/s]"
          }
        },
        "ad8e84fc501745338dece21191185cef": {
          "model_module": "@jupyter-widgets/base",
          "model_name": "LayoutModel",
          "model_module_version": "1.2.0",
          "state": {
            "_model_module": "@jupyter-widgets/base",
            "_model_module_version": "1.2.0",
            "_model_name": "LayoutModel",
            "_view_count": null,
            "_view_module": "@jupyter-widgets/base",
            "_view_module_version": "1.2.0",
            "_view_name": "LayoutView",
            "align_content": null,
            "align_items": null,
            "align_self": null,
            "border": null,
            "bottom": null,
            "display": null,
            "flex": null,
            "flex_flow": null,
            "grid_area": null,
            "grid_auto_columns": null,
            "grid_auto_flow": null,
            "grid_auto_rows": null,
            "grid_column": null,
            "grid_gap": null,
            "grid_row": null,
            "grid_template_areas": null,
            "grid_template_columns": null,
            "grid_template_rows": null,
            "height": null,
            "justify_content": null,
            "justify_items": null,
            "left": null,
            "margin": null,
            "max_height": null,
            "max_width": null,
            "min_height": null,
            "min_width": null,
            "object_fit": null,
            "object_position": null,
            "order": null,
            "overflow": null,
            "overflow_x": null,
            "overflow_y": null,
            "padding": null,
            "right": null,
            "top": null,
            "visibility": null,
            "width": null
          }
        },
        "e1006af0c5334c04b2a22ec5057417b7": {
          "model_module": "@jupyter-widgets/base",
          "model_name": "LayoutModel",
          "model_module_version": "1.2.0",
          "state": {
            "_model_module": "@jupyter-widgets/base",
            "_model_module_version": "1.2.0",
            "_model_name": "LayoutModel",
            "_view_count": null,
            "_view_module": "@jupyter-widgets/base",
            "_view_module_version": "1.2.0",
            "_view_name": "LayoutView",
            "align_content": null,
            "align_items": null,
            "align_self": null,
            "border": null,
            "bottom": null,
            "display": null,
            "flex": null,
            "flex_flow": null,
            "grid_area": null,
            "grid_auto_columns": null,
            "grid_auto_flow": null,
            "grid_auto_rows": null,
            "grid_column": null,
            "grid_gap": null,
            "grid_row": null,
            "grid_template_areas": null,
            "grid_template_columns": null,
            "grid_template_rows": null,
            "height": null,
            "justify_content": null,
            "justify_items": null,
            "left": null,
            "margin": null,
            "max_height": null,
            "max_width": null,
            "min_height": null,
            "min_width": null,
            "object_fit": null,
            "object_position": null,
            "order": null,
            "overflow": null,
            "overflow_x": null,
            "overflow_y": null,
            "padding": null,
            "right": null,
            "top": null,
            "visibility": null,
            "width": null
          }
        },
        "c5cf582bf1574b9aba8e6c3729165f60": {
          "model_module": "@jupyter-widgets/controls",
          "model_name": "DescriptionStyleModel",
          "model_module_version": "1.5.0",
          "state": {
            "_model_module": "@jupyter-widgets/controls",
            "_model_module_version": "1.5.0",
            "_model_name": "DescriptionStyleModel",
            "_view_count": null,
            "_view_module": "@jupyter-widgets/base",
            "_view_module_version": "1.2.0",
            "_view_name": "StyleView",
            "description_width": ""
          }
        },
        "cd6550aa81f941b9a948fd7acd9aa7d9": {
          "model_module": "@jupyter-widgets/base",
          "model_name": "LayoutModel",
          "model_module_version": "1.2.0",
          "state": {
            "_model_module": "@jupyter-widgets/base",
            "_model_module_version": "1.2.0",
            "_model_name": "LayoutModel",
            "_view_count": null,
            "_view_module": "@jupyter-widgets/base",
            "_view_module_version": "1.2.0",
            "_view_name": "LayoutView",
            "align_content": null,
            "align_items": null,
            "align_self": null,
            "border": null,
            "bottom": null,
            "display": null,
            "flex": null,
            "flex_flow": null,
            "grid_area": null,
            "grid_auto_columns": null,
            "grid_auto_flow": null,
            "grid_auto_rows": null,
            "grid_column": null,
            "grid_gap": null,
            "grid_row": null,
            "grid_template_areas": null,
            "grid_template_columns": null,
            "grid_template_rows": null,
            "height": null,
            "justify_content": null,
            "justify_items": null,
            "left": null,
            "margin": null,
            "max_height": null,
            "max_width": null,
            "min_height": null,
            "min_width": null,
            "object_fit": null,
            "object_position": null,
            "order": null,
            "overflow": null,
            "overflow_x": null,
            "overflow_y": null,
            "padding": null,
            "right": null,
            "top": null,
            "visibility": null,
            "width": null
          }
        },
        "7a136e0291734a6e97c147a35f0b3f79": {
          "model_module": "@jupyter-widgets/controls",
          "model_name": "ProgressStyleModel",
          "model_module_version": "1.5.0",
          "state": {
            "_model_module": "@jupyter-widgets/controls",
            "_model_module_version": "1.5.0",
            "_model_name": "ProgressStyleModel",
            "_view_count": null,
            "_view_module": "@jupyter-widgets/base",
            "_view_module_version": "1.2.0",
            "_view_name": "StyleView",
            "bar_color": null,
            "description_width": ""
          }
        },
        "b8b354614c1a4c0d8ceef77f250618d5": {
          "model_module": "@jupyter-widgets/base",
          "model_name": "LayoutModel",
          "model_module_version": "1.2.0",
          "state": {
            "_model_module": "@jupyter-widgets/base",
            "_model_module_version": "1.2.0",
            "_model_name": "LayoutModel",
            "_view_count": null,
            "_view_module": "@jupyter-widgets/base",
            "_view_module_version": "1.2.0",
            "_view_name": "LayoutView",
            "align_content": null,
            "align_items": null,
            "align_self": null,
            "border": null,
            "bottom": null,
            "display": null,
            "flex": null,
            "flex_flow": null,
            "grid_area": null,
            "grid_auto_columns": null,
            "grid_auto_flow": null,
            "grid_auto_rows": null,
            "grid_column": null,
            "grid_gap": null,
            "grid_row": null,
            "grid_template_areas": null,
            "grid_template_columns": null,
            "grid_template_rows": null,
            "height": null,
            "justify_content": null,
            "justify_items": null,
            "left": null,
            "margin": null,
            "max_height": null,
            "max_width": null,
            "min_height": null,
            "min_width": null,
            "object_fit": null,
            "object_position": null,
            "order": null,
            "overflow": null,
            "overflow_x": null,
            "overflow_y": null,
            "padding": null,
            "right": null,
            "top": null,
            "visibility": null,
            "width": null
          }
        },
        "993a97abd38548c2ab678c9d3995ba7f": {
          "model_module": "@jupyter-widgets/controls",
          "model_name": "DescriptionStyleModel",
          "model_module_version": "1.5.0",
          "state": {
            "_model_module": "@jupyter-widgets/controls",
            "_model_module_version": "1.5.0",
            "_model_name": "DescriptionStyleModel",
            "_view_count": null,
            "_view_module": "@jupyter-widgets/base",
            "_view_module_version": "1.2.0",
            "_view_name": "StyleView",
            "description_width": ""
          }
        },
        "7e47113217424bfa9bba40b2f0db0da2": {
          "model_module": "@jupyter-widgets/controls",
          "model_name": "HBoxModel",
          "model_module_version": "1.5.0",
          "state": {
            "_dom_classes": [],
            "_model_module": "@jupyter-widgets/controls",
            "_model_module_version": "1.5.0",
            "_model_name": "HBoxModel",
            "_view_count": null,
            "_view_module": "@jupyter-widgets/controls",
            "_view_module_version": "1.5.0",
            "_view_name": "HBoxView",
            "box_style": "",
            "children": [
              "IPY_MODEL_e8c167248fe345b58ac03e857fcae166",
              "IPY_MODEL_3f75d961d3da4d879c28c480ddbcc74f",
              "IPY_MODEL_158cdb954ee14406b881296c163c8b5d"
            ],
            "layout": "IPY_MODEL_ff70c2caebd045fcb556540a42cec3ce"
          }
        },
        "e8c167248fe345b58ac03e857fcae166": {
          "model_module": "@jupyter-widgets/controls",
          "model_name": "HTMLModel",
          "model_module_version": "1.5.0",
          "state": {
            "_dom_classes": [],
            "_model_module": "@jupyter-widgets/controls",
            "_model_module_version": "1.5.0",
            "_model_name": "HTMLModel",
            "_view_count": null,
            "_view_module": "@jupyter-widgets/controls",
            "_view_module_version": "1.5.0",
            "_view_name": "HTMLView",
            "description": "",
            "description_tooltip": null,
            "layout": "IPY_MODEL_5d16ba724897455195da4af3a5cfff97",
            "placeholder": "​",
            "style": "IPY_MODEL_707fa23cd13c4115b5a2f941d6b225b0",
            "value": "100%"
          }
        },
        "3f75d961d3da4d879c28c480ddbcc74f": {
          "model_module": "@jupyter-widgets/controls",
          "model_name": "FloatProgressModel",
          "model_module_version": "1.5.0",
          "state": {
            "_dom_classes": [],
            "_model_module": "@jupyter-widgets/controls",
            "_model_module_version": "1.5.0",
            "_model_name": "FloatProgressModel",
            "_view_count": null,
            "_view_module": "@jupyter-widgets/controls",
            "_view_module_version": "1.5.0",
            "_view_name": "ProgressView",
            "bar_style": "",
            "description": "",
            "description_tooltip": null,
            "layout": "IPY_MODEL_bf07f90c778f461f9625644ffeb11ad7",
            "max": 143,
            "min": 0,
            "orientation": "horizontal",
            "style": "IPY_MODEL_0180f985aa654315a1a9da9b4615c78b",
            "value": 143
          }
        },
        "158cdb954ee14406b881296c163c8b5d": {
          "model_module": "@jupyter-widgets/controls",
          "model_name": "HTMLModel",
          "model_module_version": "1.5.0",
          "state": {
            "_dom_classes": [],
            "_model_module": "@jupyter-widgets/controls",
            "_model_module_version": "1.5.0",
            "_model_name": "HTMLModel",
            "_view_count": null,
            "_view_module": "@jupyter-widgets/controls",
            "_view_module_version": "1.5.0",
            "_view_name": "HTMLView",
            "description": "",
            "description_tooltip": null,
            "layout": "IPY_MODEL_d99a954546f94f839b557fba0afb2c4e",
            "placeholder": "​",
            "style": "IPY_MODEL_9016824385404b469cb0a7e8ff9c6551",
            "value": " 143/143 [02:07&lt;00:00,  1.32it/s]"
          }
        },
        "ff70c2caebd045fcb556540a42cec3ce": {
          "model_module": "@jupyter-widgets/base",
          "model_name": "LayoutModel",
          "model_module_version": "1.2.0",
          "state": {
            "_model_module": "@jupyter-widgets/base",
            "_model_module_version": "1.2.0",
            "_model_name": "LayoutModel",
            "_view_count": null,
            "_view_module": "@jupyter-widgets/base",
            "_view_module_version": "1.2.0",
            "_view_name": "LayoutView",
            "align_content": null,
            "align_items": null,
            "align_self": null,
            "border": null,
            "bottom": null,
            "display": null,
            "flex": null,
            "flex_flow": null,
            "grid_area": null,
            "grid_auto_columns": null,
            "grid_auto_flow": null,
            "grid_auto_rows": null,
            "grid_column": null,
            "grid_gap": null,
            "grid_row": null,
            "grid_template_areas": null,
            "grid_template_columns": null,
            "grid_template_rows": null,
            "height": null,
            "justify_content": null,
            "justify_items": null,
            "left": null,
            "margin": null,
            "max_height": null,
            "max_width": null,
            "min_height": null,
            "min_width": null,
            "object_fit": null,
            "object_position": null,
            "order": null,
            "overflow": null,
            "overflow_x": null,
            "overflow_y": null,
            "padding": null,
            "right": null,
            "top": null,
            "visibility": null,
            "width": null
          }
        },
        "5d16ba724897455195da4af3a5cfff97": {
          "model_module": "@jupyter-widgets/base",
          "model_name": "LayoutModel",
          "model_module_version": "1.2.0",
          "state": {
            "_model_module": "@jupyter-widgets/base",
            "_model_module_version": "1.2.0",
            "_model_name": "LayoutModel",
            "_view_count": null,
            "_view_module": "@jupyter-widgets/base",
            "_view_module_version": "1.2.0",
            "_view_name": "LayoutView",
            "align_content": null,
            "align_items": null,
            "align_self": null,
            "border": null,
            "bottom": null,
            "display": null,
            "flex": null,
            "flex_flow": null,
            "grid_area": null,
            "grid_auto_columns": null,
            "grid_auto_flow": null,
            "grid_auto_rows": null,
            "grid_column": null,
            "grid_gap": null,
            "grid_row": null,
            "grid_template_areas": null,
            "grid_template_columns": null,
            "grid_template_rows": null,
            "height": null,
            "justify_content": null,
            "justify_items": null,
            "left": null,
            "margin": null,
            "max_height": null,
            "max_width": null,
            "min_height": null,
            "min_width": null,
            "object_fit": null,
            "object_position": null,
            "order": null,
            "overflow": null,
            "overflow_x": null,
            "overflow_y": null,
            "padding": null,
            "right": null,
            "top": null,
            "visibility": null,
            "width": null
          }
        },
        "707fa23cd13c4115b5a2f941d6b225b0": {
          "model_module": "@jupyter-widgets/controls",
          "model_name": "DescriptionStyleModel",
          "model_module_version": "1.5.0",
          "state": {
            "_model_module": "@jupyter-widgets/controls",
            "_model_module_version": "1.5.0",
            "_model_name": "DescriptionStyleModel",
            "_view_count": null,
            "_view_module": "@jupyter-widgets/base",
            "_view_module_version": "1.2.0",
            "_view_name": "StyleView",
            "description_width": ""
          }
        },
        "bf07f90c778f461f9625644ffeb11ad7": {
          "model_module": "@jupyter-widgets/base",
          "model_name": "LayoutModel",
          "model_module_version": "1.2.0",
          "state": {
            "_model_module": "@jupyter-widgets/base",
            "_model_module_version": "1.2.0",
            "_model_name": "LayoutModel",
            "_view_count": null,
            "_view_module": "@jupyter-widgets/base",
            "_view_module_version": "1.2.0",
            "_view_name": "LayoutView",
            "align_content": null,
            "align_items": null,
            "align_self": null,
            "border": null,
            "bottom": null,
            "display": null,
            "flex": null,
            "flex_flow": null,
            "grid_area": null,
            "grid_auto_columns": null,
            "grid_auto_flow": null,
            "grid_auto_rows": null,
            "grid_column": null,
            "grid_gap": null,
            "grid_row": null,
            "grid_template_areas": null,
            "grid_template_columns": null,
            "grid_template_rows": null,
            "height": null,
            "justify_content": null,
            "justify_items": null,
            "left": null,
            "margin": null,
            "max_height": null,
            "max_width": null,
            "min_height": null,
            "min_width": null,
            "object_fit": null,
            "object_position": null,
            "order": null,
            "overflow": null,
            "overflow_x": null,
            "overflow_y": null,
            "padding": null,
            "right": null,
            "top": null,
            "visibility": null,
            "width": null
          }
        },
        "0180f985aa654315a1a9da9b4615c78b": {
          "model_module": "@jupyter-widgets/controls",
          "model_name": "ProgressStyleModel",
          "model_module_version": "1.5.0",
          "state": {
            "_model_module": "@jupyter-widgets/controls",
            "_model_module_version": "1.5.0",
            "_model_name": "ProgressStyleModel",
            "_view_count": null,
            "_view_module": "@jupyter-widgets/base",
            "_view_module_version": "1.2.0",
            "_view_name": "StyleView",
            "bar_color": null,
            "description_width": ""
          }
        },
        "d99a954546f94f839b557fba0afb2c4e": {
          "model_module": "@jupyter-widgets/base",
          "model_name": "LayoutModel",
          "model_module_version": "1.2.0",
          "state": {
            "_model_module": "@jupyter-widgets/base",
            "_model_module_version": "1.2.0",
            "_model_name": "LayoutModel",
            "_view_count": null,
            "_view_module": "@jupyter-widgets/base",
            "_view_module_version": "1.2.0",
            "_view_name": "LayoutView",
            "align_content": null,
            "align_items": null,
            "align_self": null,
            "border": null,
            "bottom": null,
            "display": null,
            "flex": null,
            "flex_flow": null,
            "grid_area": null,
            "grid_auto_columns": null,
            "grid_auto_flow": null,
            "grid_auto_rows": null,
            "grid_column": null,
            "grid_gap": null,
            "grid_row": null,
            "grid_template_areas": null,
            "grid_template_columns": null,
            "grid_template_rows": null,
            "height": null,
            "justify_content": null,
            "justify_items": null,
            "left": null,
            "margin": null,
            "max_height": null,
            "max_width": null,
            "min_height": null,
            "min_width": null,
            "object_fit": null,
            "object_position": null,
            "order": null,
            "overflow": null,
            "overflow_x": null,
            "overflow_y": null,
            "padding": null,
            "right": null,
            "top": null,
            "visibility": null,
            "width": null
          }
        },
        "9016824385404b469cb0a7e8ff9c6551": {
          "model_module": "@jupyter-widgets/controls",
          "model_name": "DescriptionStyleModel",
          "model_module_version": "1.5.0",
          "state": {
            "_model_module": "@jupyter-widgets/controls",
            "_model_module_version": "1.5.0",
            "_model_name": "DescriptionStyleModel",
            "_view_count": null,
            "_view_module": "@jupyter-widgets/base",
            "_view_module_version": "1.2.0",
            "_view_name": "StyleView",
            "description_width": ""
          }
        },
        "985b4c20d10742b5966f771c5849688c": {
          "model_module": "@jupyter-widgets/controls",
          "model_name": "HBoxModel",
          "model_module_version": "1.5.0",
          "state": {
            "_dom_classes": [],
            "_model_module": "@jupyter-widgets/controls",
            "_model_module_version": "1.5.0",
            "_model_name": "HBoxModel",
            "_view_count": null,
            "_view_module": "@jupyter-widgets/controls",
            "_view_module_version": "1.5.0",
            "_view_name": "HBoxView",
            "box_style": "",
            "children": [
              "IPY_MODEL_a8e0dad24b614b428583316d1b01e10b",
              "IPY_MODEL_4d6c2ccaf3eb4b95b5858e6f47d996b6",
              "IPY_MODEL_eeca19e2bfcf4f5685331b7bec7664ac"
            ],
            "layout": "IPY_MODEL_a5c4b015f0fc451b9d88697d4eaa50c8"
          }
        },
        "a8e0dad24b614b428583316d1b01e10b": {
          "model_module": "@jupyter-widgets/controls",
          "model_name": "HTMLModel",
          "model_module_version": "1.5.0",
          "state": {
            "_dom_classes": [],
            "_model_module": "@jupyter-widgets/controls",
            "_model_module_version": "1.5.0",
            "_model_name": "HTMLModel",
            "_view_count": null,
            "_view_module": "@jupyter-widgets/controls",
            "_view_module_version": "1.5.0",
            "_view_name": "HTMLView",
            "description": "",
            "description_tooltip": null,
            "layout": "IPY_MODEL_67f4ddc7fd704453a6f8ea9c61f98255",
            "placeholder": "​",
            "style": "IPY_MODEL_16b514fab5b54b3c95f8430d9c5accc4",
            "value": "100%"
          }
        },
        "4d6c2ccaf3eb4b95b5858e6f47d996b6": {
          "model_module": "@jupyter-widgets/controls",
          "model_name": "FloatProgressModel",
          "model_module_version": "1.5.0",
          "state": {
            "_dom_classes": [],
            "_model_module": "@jupyter-widgets/controls",
            "_model_module_version": "1.5.0",
            "_model_name": "FloatProgressModel",
            "_view_count": null,
            "_view_module": "@jupyter-widgets/controls",
            "_view_module_version": "1.5.0",
            "_view_name": "ProgressView",
            "bar_style": "",
            "description": "",
            "description_tooltip": null,
            "layout": "IPY_MODEL_0d804e5749244f4bbcfbc56a043b929a",
            "max": 142,
            "min": 0,
            "orientation": "horizontal",
            "style": "IPY_MODEL_2017d34864da454ebbcbc77d54c96cff",
            "value": 142
          }
        },
        "eeca19e2bfcf4f5685331b7bec7664ac": {
          "model_module": "@jupyter-widgets/controls",
          "model_name": "HTMLModel",
          "model_module_version": "1.5.0",
          "state": {
            "_dom_classes": [],
            "_model_module": "@jupyter-widgets/controls",
            "_model_module_version": "1.5.0",
            "_model_name": "HTMLModel",
            "_view_count": null,
            "_view_module": "@jupyter-widgets/controls",
            "_view_module_version": "1.5.0",
            "_view_name": "HTMLView",
            "description": "",
            "description_tooltip": null,
            "layout": "IPY_MODEL_44f5041cc9e1427386870ce71f9e2dcf",
            "placeholder": "​",
            "style": "IPY_MODEL_40cc0970032f441bbb492928a2a048e0",
            "value": " 142/142 [03:03&lt;00:00,  1.23s/it]"
          }
        },
        "a5c4b015f0fc451b9d88697d4eaa50c8": {
          "model_module": "@jupyter-widgets/base",
          "model_name": "LayoutModel",
          "model_module_version": "1.2.0",
          "state": {
            "_model_module": "@jupyter-widgets/base",
            "_model_module_version": "1.2.0",
            "_model_name": "LayoutModel",
            "_view_count": null,
            "_view_module": "@jupyter-widgets/base",
            "_view_module_version": "1.2.0",
            "_view_name": "LayoutView",
            "align_content": null,
            "align_items": null,
            "align_self": null,
            "border": null,
            "bottom": null,
            "display": null,
            "flex": null,
            "flex_flow": null,
            "grid_area": null,
            "grid_auto_columns": null,
            "grid_auto_flow": null,
            "grid_auto_rows": null,
            "grid_column": null,
            "grid_gap": null,
            "grid_row": null,
            "grid_template_areas": null,
            "grid_template_columns": null,
            "grid_template_rows": null,
            "height": null,
            "justify_content": null,
            "justify_items": null,
            "left": null,
            "margin": null,
            "max_height": null,
            "max_width": null,
            "min_height": null,
            "min_width": null,
            "object_fit": null,
            "object_position": null,
            "order": null,
            "overflow": null,
            "overflow_x": null,
            "overflow_y": null,
            "padding": null,
            "right": null,
            "top": null,
            "visibility": null,
            "width": null
          }
        },
        "67f4ddc7fd704453a6f8ea9c61f98255": {
          "model_module": "@jupyter-widgets/base",
          "model_name": "LayoutModel",
          "model_module_version": "1.2.0",
          "state": {
            "_model_module": "@jupyter-widgets/base",
            "_model_module_version": "1.2.0",
            "_model_name": "LayoutModel",
            "_view_count": null,
            "_view_module": "@jupyter-widgets/base",
            "_view_module_version": "1.2.0",
            "_view_name": "LayoutView",
            "align_content": null,
            "align_items": null,
            "align_self": null,
            "border": null,
            "bottom": null,
            "display": null,
            "flex": null,
            "flex_flow": null,
            "grid_area": null,
            "grid_auto_columns": null,
            "grid_auto_flow": null,
            "grid_auto_rows": null,
            "grid_column": null,
            "grid_gap": null,
            "grid_row": null,
            "grid_template_areas": null,
            "grid_template_columns": null,
            "grid_template_rows": null,
            "height": null,
            "justify_content": null,
            "justify_items": null,
            "left": null,
            "margin": null,
            "max_height": null,
            "max_width": null,
            "min_height": null,
            "min_width": null,
            "object_fit": null,
            "object_position": null,
            "order": null,
            "overflow": null,
            "overflow_x": null,
            "overflow_y": null,
            "padding": null,
            "right": null,
            "top": null,
            "visibility": null,
            "width": null
          }
        },
        "16b514fab5b54b3c95f8430d9c5accc4": {
          "model_module": "@jupyter-widgets/controls",
          "model_name": "DescriptionStyleModel",
          "model_module_version": "1.5.0",
          "state": {
            "_model_module": "@jupyter-widgets/controls",
            "_model_module_version": "1.5.0",
            "_model_name": "DescriptionStyleModel",
            "_view_count": null,
            "_view_module": "@jupyter-widgets/base",
            "_view_module_version": "1.2.0",
            "_view_name": "StyleView",
            "description_width": ""
          }
        },
        "0d804e5749244f4bbcfbc56a043b929a": {
          "model_module": "@jupyter-widgets/base",
          "model_name": "LayoutModel",
          "model_module_version": "1.2.0",
          "state": {
            "_model_module": "@jupyter-widgets/base",
            "_model_module_version": "1.2.0",
            "_model_name": "LayoutModel",
            "_view_count": null,
            "_view_module": "@jupyter-widgets/base",
            "_view_module_version": "1.2.0",
            "_view_name": "LayoutView",
            "align_content": null,
            "align_items": null,
            "align_self": null,
            "border": null,
            "bottom": null,
            "display": null,
            "flex": null,
            "flex_flow": null,
            "grid_area": null,
            "grid_auto_columns": null,
            "grid_auto_flow": null,
            "grid_auto_rows": null,
            "grid_column": null,
            "grid_gap": null,
            "grid_row": null,
            "grid_template_areas": null,
            "grid_template_columns": null,
            "grid_template_rows": null,
            "height": null,
            "justify_content": null,
            "justify_items": null,
            "left": null,
            "margin": null,
            "max_height": null,
            "max_width": null,
            "min_height": null,
            "min_width": null,
            "object_fit": null,
            "object_position": null,
            "order": null,
            "overflow": null,
            "overflow_x": null,
            "overflow_y": null,
            "padding": null,
            "right": null,
            "top": null,
            "visibility": null,
            "width": null
          }
        },
        "2017d34864da454ebbcbc77d54c96cff": {
          "model_module": "@jupyter-widgets/controls",
          "model_name": "ProgressStyleModel",
          "model_module_version": "1.5.0",
          "state": {
            "_model_module": "@jupyter-widgets/controls",
            "_model_module_version": "1.5.0",
            "_model_name": "ProgressStyleModel",
            "_view_count": null,
            "_view_module": "@jupyter-widgets/base",
            "_view_module_version": "1.2.0",
            "_view_name": "StyleView",
            "bar_color": null,
            "description_width": ""
          }
        },
        "44f5041cc9e1427386870ce71f9e2dcf": {
          "model_module": "@jupyter-widgets/base",
          "model_name": "LayoutModel",
          "model_module_version": "1.2.0",
          "state": {
            "_model_module": "@jupyter-widgets/base",
            "_model_module_version": "1.2.0",
            "_model_name": "LayoutModel",
            "_view_count": null,
            "_view_module": "@jupyter-widgets/base",
            "_view_module_version": "1.2.0",
            "_view_name": "LayoutView",
            "align_content": null,
            "align_items": null,
            "align_self": null,
            "border": null,
            "bottom": null,
            "display": null,
            "flex": null,
            "flex_flow": null,
            "grid_area": null,
            "grid_auto_columns": null,
            "grid_auto_flow": null,
            "grid_auto_rows": null,
            "grid_column": null,
            "grid_gap": null,
            "grid_row": null,
            "grid_template_areas": null,
            "grid_template_columns": null,
            "grid_template_rows": null,
            "height": null,
            "justify_content": null,
            "justify_items": null,
            "left": null,
            "margin": null,
            "max_height": null,
            "max_width": null,
            "min_height": null,
            "min_width": null,
            "object_fit": null,
            "object_position": null,
            "order": null,
            "overflow": null,
            "overflow_x": null,
            "overflow_y": null,
            "padding": null,
            "right": null,
            "top": null,
            "visibility": null,
            "width": null
          }
        },
        "40cc0970032f441bbb492928a2a048e0": {
          "model_module": "@jupyter-widgets/controls",
          "model_name": "DescriptionStyleModel",
          "model_module_version": "1.5.0",
          "state": {
            "_model_module": "@jupyter-widgets/controls",
            "_model_module_version": "1.5.0",
            "_model_name": "DescriptionStyleModel",
            "_view_count": null,
            "_view_module": "@jupyter-widgets/base",
            "_view_module_version": "1.2.0",
            "_view_name": "StyleView",
            "description_width": ""
          }
        },
        "6b395606b8de4f8e8a2b0d314827f9d7": {
          "model_module": "@jupyter-widgets/controls",
          "model_name": "HBoxModel",
          "model_module_version": "1.5.0",
          "state": {
            "_dom_classes": [],
            "_model_module": "@jupyter-widgets/controls",
            "_model_module_version": "1.5.0",
            "_model_name": "HBoxModel",
            "_view_count": null,
            "_view_module": "@jupyter-widgets/controls",
            "_view_module_version": "1.5.0",
            "_view_name": "HBoxView",
            "box_style": "",
            "children": [
              "IPY_MODEL_23707e012a584893b114bdedecf338bf",
              "IPY_MODEL_3ad348a965604aa9bf5c6d0fcbe3d339",
              "IPY_MODEL_3ecf229c31684f9a9eba099c91c343bd"
            ],
            "layout": "IPY_MODEL_cb36d83ea937434da7c30e7ece691d0a"
          }
        },
        "23707e012a584893b114bdedecf338bf": {
          "model_module": "@jupyter-widgets/controls",
          "model_name": "HTMLModel",
          "model_module_version": "1.5.0",
          "state": {
            "_dom_classes": [],
            "_model_module": "@jupyter-widgets/controls",
            "_model_module_version": "1.5.0",
            "_model_name": "HTMLModel",
            "_view_count": null,
            "_view_module": "@jupyter-widgets/controls",
            "_view_module_version": "1.5.0",
            "_view_name": "HTMLView",
            "description": "",
            "description_tooltip": null,
            "layout": "IPY_MODEL_102dd63e5cac458489b874e7a0d22728",
            "placeholder": "​",
            "style": "IPY_MODEL_c78deb20c3c94bbcb4a668b55fb8334d",
            "value": "100%"
          }
        },
        "3ad348a965604aa9bf5c6d0fcbe3d339": {
          "model_module": "@jupyter-widgets/controls",
          "model_name": "FloatProgressModel",
          "model_module_version": "1.5.0",
          "state": {
            "_dom_classes": [],
            "_model_module": "@jupyter-widgets/controls",
            "_model_module_version": "1.5.0",
            "_model_name": "FloatProgressModel",
            "_view_count": null,
            "_view_module": "@jupyter-widgets/controls",
            "_view_module_version": "1.5.0",
            "_view_name": "ProgressView",
            "bar_style": "",
            "description": "",
            "description_tooltip": null,
            "layout": "IPY_MODEL_e3de09806c9e421a9764cd44a13d9561",
            "max": 141,
            "min": 0,
            "orientation": "horizontal",
            "style": "IPY_MODEL_94fe3b44c7c04b10a42bdcd0047ab435",
            "value": 141
          }
        },
        "3ecf229c31684f9a9eba099c91c343bd": {
          "model_module": "@jupyter-widgets/controls",
          "model_name": "HTMLModel",
          "model_module_version": "1.5.0",
          "state": {
            "_dom_classes": [],
            "_model_module": "@jupyter-widgets/controls",
            "_model_module_version": "1.5.0",
            "_model_name": "HTMLModel",
            "_view_count": null,
            "_view_module": "@jupyter-widgets/controls",
            "_view_module_version": "1.5.0",
            "_view_name": "HTMLView",
            "description": "",
            "description_tooltip": null,
            "layout": "IPY_MODEL_9229d1ed5fbd403babd113e2a47fcc38",
            "placeholder": "​",
            "style": "IPY_MODEL_778de92160d94871bc6333045f1a59b7",
            "value": " 141/141 [03:57&lt;00:00,  1.55s/it]"
          }
        },
        "cb36d83ea937434da7c30e7ece691d0a": {
          "model_module": "@jupyter-widgets/base",
          "model_name": "LayoutModel",
          "model_module_version": "1.2.0",
          "state": {
            "_model_module": "@jupyter-widgets/base",
            "_model_module_version": "1.2.0",
            "_model_name": "LayoutModel",
            "_view_count": null,
            "_view_module": "@jupyter-widgets/base",
            "_view_module_version": "1.2.0",
            "_view_name": "LayoutView",
            "align_content": null,
            "align_items": null,
            "align_self": null,
            "border": null,
            "bottom": null,
            "display": null,
            "flex": null,
            "flex_flow": null,
            "grid_area": null,
            "grid_auto_columns": null,
            "grid_auto_flow": null,
            "grid_auto_rows": null,
            "grid_column": null,
            "grid_gap": null,
            "grid_row": null,
            "grid_template_areas": null,
            "grid_template_columns": null,
            "grid_template_rows": null,
            "height": null,
            "justify_content": null,
            "justify_items": null,
            "left": null,
            "margin": null,
            "max_height": null,
            "max_width": null,
            "min_height": null,
            "min_width": null,
            "object_fit": null,
            "object_position": null,
            "order": null,
            "overflow": null,
            "overflow_x": null,
            "overflow_y": null,
            "padding": null,
            "right": null,
            "top": null,
            "visibility": null,
            "width": null
          }
        },
        "102dd63e5cac458489b874e7a0d22728": {
          "model_module": "@jupyter-widgets/base",
          "model_name": "LayoutModel",
          "model_module_version": "1.2.0",
          "state": {
            "_model_module": "@jupyter-widgets/base",
            "_model_module_version": "1.2.0",
            "_model_name": "LayoutModel",
            "_view_count": null,
            "_view_module": "@jupyter-widgets/base",
            "_view_module_version": "1.2.0",
            "_view_name": "LayoutView",
            "align_content": null,
            "align_items": null,
            "align_self": null,
            "border": null,
            "bottom": null,
            "display": null,
            "flex": null,
            "flex_flow": null,
            "grid_area": null,
            "grid_auto_columns": null,
            "grid_auto_flow": null,
            "grid_auto_rows": null,
            "grid_column": null,
            "grid_gap": null,
            "grid_row": null,
            "grid_template_areas": null,
            "grid_template_columns": null,
            "grid_template_rows": null,
            "height": null,
            "justify_content": null,
            "justify_items": null,
            "left": null,
            "margin": null,
            "max_height": null,
            "max_width": null,
            "min_height": null,
            "min_width": null,
            "object_fit": null,
            "object_position": null,
            "order": null,
            "overflow": null,
            "overflow_x": null,
            "overflow_y": null,
            "padding": null,
            "right": null,
            "top": null,
            "visibility": null,
            "width": null
          }
        },
        "c78deb20c3c94bbcb4a668b55fb8334d": {
          "model_module": "@jupyter-widgets/controls",
          "model_name": "DescriptionStyleModel",
          "model_module_version": "1.5.0",
          "state": {
            "_model_module": "@jupyter-widgets/controls",
            "_model_module_version": "1.5.0",
            "_model_name": "DescriptionStyleModel",
            "_view_count": null,
            "_view_module": "@jupyter-widgets/base",
            "_view_module_version": "1.2.0",
            "_view_name": "StyleView",
            "description_width": ""
          }
        },
        "e3de09806c9e421a9764cd44a13d9561": {
          "model_module": "@jupyter-widgets/base",
          "model_name": "LayoutModel",
          "model_module_version": "1.2.0",
          "state": {
            "_model_module": "@jupyter-widgets/base",
            "_model_module_version": "1.2.0",
            "_model_name": "LayoutModel",
            "_view_count": null,
            "_view_module": "@jupyter-widgets/base",
            "_view_module_version": "1.2.0",
            "_view_name": "LayoutView",
            "align_content": null,
            "align_items": null,
            "align_self": null,
            "border": null,
            "bottom": null,
            "display": null,
            "flex": null,
            "flex_flow": null,
            "grid_area": null,
            "grid_auto_columns": null,
            "grid_auto_flow": null,
            "grid_auto_rows": null,
            "grid_column": null,
            "grid_gap": null,
            "grid_row": null,
            "grid_template_areas": null,
            "grid_template_columns": null,
            "grid_template_rows": null,
            "height": null,
            "justify_content": null,
            "justify_items": null,
            "left": null,
            "margin": null,
            "max_height": null,
            "max_width": null,
            "min_height": null,
            "min_width": null,
            "object_fit": null,
            "object_position": null,
            "order": null,
            "overflow": null,
            "overflow_x": null,
            "overflow_y": null,
            "padding": null,
            "right": null,
            "top": null,
            "visibility": null,
            "width": null
          }
        },
        "94fe3b44c7c04b10a42bdcd0047ab435": {
          "model_module": "@jupyter-widgets/controls",
          "model_name": "ProgressStyleModel",
          "model_module_version": "1.5.0",
          "state": {
            "_model_module": "@jupyter-widgets/controls",
            "_model_module_version": "1.5.0",
            "_model_name": "ProgressStyleModel",
            "_view_count": null,
            "_view_module": "@jupyter-widgets/base",
            "_view_module_version": "1.2.0",
            "_view_name": "StyleView",
            "bar_color": null,
            "description_width": ""
          }
        },
        "9229d1ed5fbd403babd113e2a47fcc38": {
          "model_module": "@jupyter-widgets/base",
          "model_name": "LayoutModel",
          "model_module_version": "1.2.0",
          "state": {
            "_model_module": "@jupyter-widgets/base",
            "_model_module_version": "1.2.0",
            "_model_name": "LayoutModel",
            "_view_count": null,
            "_view_module": "@jupyter-widgets/base",
            "_view_module_version": "1.2.0",
            "_view_name": "LayoutView",
            "align_content": null,
            "align_items": null,
            "align_self": null,
            "border": null,
            "bottom": null,
            "display": null,
            "flex": null,
            "flex_flow": null,
            "grid_area": null,
            "grid_auto_columns": null,
            "grid_auto_flow": null,
            "grid_auto_rows": null,
            "grid_column": null,
            "grid_gap": null,
            "grid_row": null,
            "grid_template_areas": null,
            "grid_template_columns": null,
            "grid_template_rows": null,
            "height": null,
            "justify_content": null,
            "justify_items": null,
            "left": null,
            "margin": null,
            "max_height": null,
            "max_width": null,
            "min_height": null,
            "min_width": null,
            "object_fit": null,
            "object_position": null,
            "order": null,
            "overflow": null,
            "overflow_x": null,
            "overflow_y": null,
            "padding": null,
            "right": null,
            "top": null,
            "visibility": null,
            "width": null
          }
        },
        "778de92160d94871bc6333045f1a59b7": {
          "model_module": "@jupyter-widgets/controls",
          "model_name": "DescriptionStyleModel",
          "model_module_version": "1.5.0",
          "state": {
            "_model_module": "@jupyter-widgets/controls",
            "_model_module_version": "1.5.0",
            "_model_name": "DescriptionStyleModel",
            "_view_count": null,
            "_view_module": "@jupyter-widgets/base",
            "_view_module_version": "1.2.0",
            "_view_name": "StyleView",
            "description_width": ""
          }
        },
        "79f5d95728294741893222f09f54378d": {
          "model_module": "@jupyter-widgets/controls",
          "model_name": "HBoxModel",
          "model_module_version": "1.5.0",
          "state": {
            "_dom_classes": [],
            "_model_module": "@jupyter-widgets/controls",
            "_model_module_version": "1.5.0",
            "_model_name": "HBoxModel",
            "_view_count": null,
            "_view_module": "@jupyter-widgets/controls",
            "_view_module_version": "1.5.0",
            "_view_name": "HBoxView",
            "box_style": "",
            "children": [
              "IPY_MODEL_5b1bc17687e143e8aa32bb2ecd747d3e",
              "IPY_MODEL_08d2180337fa42c7be4782f9629916a0",
              "IPY_MODEL_fc6d2896dc094351b15ef97b23aab59e"
            ],
            "layout": "IPY_MODEL_bb04d46addca406a9cf4a6bb1242c36e"
          }
        },
        "5b1bc17687e143e8aa32bb2ecd747d3e": {
          "model_module": "@jupyter-widgets/controls",
          "model_name": "HTMLModel",
          "model_module_version": "1.5.0",
          "state": {
            "_dom_classes": [],
            "_model_module": "@jupyter-widgets/controls",
            "_model_module_version": "1.5.0",
            "_model_name": "HTMLModel",
            "_view_count": null,
            "_view_module": "@jupyter-widgets/controls",
            "_view_module_version": "1.5.0",
            "_view_name": "HTMLView",
            "description": "",
            "description_tooltip": null,
            "layout": "IPY_MODEL_3f9f71784031413fb316574381702a23",
            "placeholder": "​",
            "style": "IPY_MODEL_2f9696564d9b42169a5787bb20cf28b8",
            "value": "100%"
          }
        },
        "08d2180337fa42c7be4782f9629916a0": {
          "model_module": "@jupyter-widgets/controls",
          "model_name": "FloatProgressModel",
          "model_module_version": "1.5.0",
          "state": {
            "_dom_classes": [],
            "_model_module": "@jupyter-widgets/controls",
            "_model_module_version": "1.5.0",
            "_model_name": "FloatProgressModel",
            "_view_count": null,
            "_view_module": "@jupyter-widgets/controls",
            "_view_module_version": "1.5.0",
            "_view_name": "ProgressView",
            "bar_style": "",
            "description": "",
            "description_tooltip": null,
            "layout": "IPY_MODEL_d0b6827c1cba4520b5591ffdfec5be9f",
            "max": 140,
            "min": 0,
            "orientation": "horizontal",
            "style": "IPY_MODEL_204ab6d149fe42a1b84f97b5c5bc3b2a",
            "value": 140
          }
        },
        "fc6d2896dc094351b15ef97b23aab59e": {
          "model_module": "@jupyter-widgets/controls",
          "model_name": "HTMLModel",
          "model_module_version": "1.5.0",
          "state": {
            "_dom_classes": [],
            "_model_module": "@jupyter-widgets/controls",
            "_model_module_version": "1.5.0",
            "_model_name": "HTMLModel",
            "_view_count": null,
            "_view_module": "@jupyter-widgets/controls",
            "_view_module_version": "1.5.0",
            "_view_name": "HTMLView",
            "description": "",
            "description_tooltip": null,
            "layout": "IPY_MODEL_8359c897a20a41379ae4111953253d22",
            "placeholder": "​",
            "style": "IPY_MODEL_df9948c7c126476cafb47d8439e2a669",
            "value": " 140/140 [04:42&lt;00:00,  1.85s/it]"
          }
        },
        "bb04d46addca406a9cf4a6bb1242c36e": {
          "model_module": "@jupyter-widgets/base",
          "model_name": "LayoutModel",
          "model_module_version": "1.2.0",
          "state": {
            "_model_module": "@jupyter-widgets/base",
            "_model_module_version": "1.2.0",
            "_model_name": "LayoutModel",
            "_view_count": null,
            "_view_module": "@jupyter-widgets/base",
            "_view_module_version": "1.2.0",
            "_view_name": "LayoutView",
            "align_content": null,
            "align_items": null,
            "align_self": null,
            "border": null,
            "bottom": null,
            "display": null,
            "flex": null,
            "flex_flow": null,
            "grid_area": null,
            "grid_auto_columns": null,
            "grid_auto_flow": null,
            "grid_auto_rows": null,
            "grid_column": null,
            "grid_gap": null,
            "grid_row": null,
            "grid_template_areas": null,
            "grid_template_columns": null,
            "grid_template_rows": null,
            "height": null,
            "justify_content": null,
            "justify_items": null,
            "left": null,
            "margin": null,
            "max_height": null,
            "max_width": null,
            "min_height": null,
            "min_width": null,
            "object_fit": null,
            "object_position": null,
            "order": null,
            "overflow": null,
            "overflow_x": null,
            "overflow_y": null,
            "padding": null,
            "right": null,
            "top": null,
            "visibility": null,
            "width": null
          }
        },
        "3f9f71784031413fb316574381702a23": {
          "model_module": "@jupyter-widgets/base",
          "model_name": "LayoutModel",
          "model_module_version": "1.2.0",
          "state": {
            "_model_module": "@jupyter-widgets/base",
            "_model_module_version": "1.2.0",
            "_model_name": "LayoutModel",
            "_view_count": null,
            "_view_module": "@jupyter-widgets/base",
            "_view_module_version": "1.2.0",
            "_view_name": "LayoutView",
            "align_content": null,
            "align_items": null,
            "align_self": null,
            "border": null,
            "bottom": null,
            "display": null,
            "flex": null,
            "flex_flow": null,
            "grid_area": null,
            "grid_auto_columns": null,
            "grid_auto_flow": null,
            "grid_auto_rows": null,
            "grid_column": null,
            "grid_gap": null,
            "grid_row": null,
            "grid_template_areas": null,
            "grid_template_columns": null,
            "grid_template_rows": null,
            "height": null,
            "justify_content": null,
            "justify_items": null,
            "left": null,
            "margin": null,
            "max_height": null,
            "max_width": null,
            "min_height": null,
            "min_width": null,
            "object_fit": null,
            "object_position": null,
            "order": null,
            "overflow": null,
            "overflow_x": null,
            "overflow_y": null,
            "padding": null,
            "right": null,
            "top": null,
            "visibility": null,
            "width": null
          }
        },
        "2f9696564d9b42169a5787bb20cf28b8": {
          "model_module": "@jupyter-widgets/controls",
          "model_name": "DescriptionStyleModel",
          "model_module_version": "1.5.0",
          "state": {
            "_model_module": "@jupyter-widgets/controls",
            "_model_module_version": "1.5.0",
            "_model_name": "DescriptionStyleModel",
            "_view_count": null,
            "_view_module": "@jupyter-widgets/base",
            "_view_module_version": "1.2.0",
            "_view_name": "StyleView",
            "description_width": ""
          }
        },
        "d0b6827c1cba4520b5591ffdfec5be9f": {
          "model_module": "@jupyter-widgets/base",
          "model_name": "LayoutModel",
          "model_module_version": "1.2.0",
          "state": {
            "_model_module": "@jupyter-widgets/base",
            "_model_module_version": "1.2.0",
            "_model_name": "LayoutModel",
            "_view_count": null,
            "_view_module": "@jupyter-widgets/base",
            "_view_module_version": "1.2.0",
            "_view_name": "LayoutView",
            "align_content": null,
            "align_items": null,
            "align_self": null,
            "border": null,
            "bottom": null,
            "display": null,
            "flex": null,
            "flex_flow": null,
            "grid_area": null,
            "grid_auto_columns": null,
            "grid_auto_flow": null,
            "grid_auto_rows": null,
            "grid_column": null,
            "grid_gap": null,
            "grid_row": null,
            "grid_template_areas": null,
            "grid_template_columns": null,
            "grid_template_rows": null,
            "height": null,
            "justify_content": null,
            "justify_items": null,
            "left": null,
            "margin": null,
            "max_height": null,
            "max_width": null,
            "min_height": null,
            "min_width": null,
            "object_fit": null,
            "object_position": null,
            "order": null,
            "overflow": null,
            "overflow_x": null,
            "overflow_y": null,
            "padding": null,
            "right": null,
            "top": null,
            "visibility": null,
            "width": null
          }
        },
        "204ab6d149fe42a1b84f97b5c5bc3b2a": {
          "model_module": "@jupyter-widgets/controls",
          "model_name": "ProgressStyleModel",
          "model_module_version": "1.5.0",
          "state": {
            "_model_module": "@jupyter-widgets/controls",
            "_model_module_version": "1.5.0",
            "_model_name": "ProgressStyleModel",
            "_view_count": null,
            "_view_module": "@jupyter-widgets/base",
            "_view_module_version": "1.2.0",
            "_view_name": "StyleView",
            "bar_color": null,
            "description_width": ""
          }
        },
        "8359c897a20a41379ae4111953253d22": {
          "model_module": "@jupyter-widgets/base",
          "model_name": "LayoutModel",
          "model_module_version": "1.2.0",
          "state": {
            "_model_module": "@jupyter-widgets/base",
            "_model_module_version": "1.2.0",
            "_model_name": "LayoutModel",
            "_view_count": null,
            "_view_module": "@jupyter-widgets/base",
            "_view_module_version": "1.2.0",
            "_view_name": "LayoutView",
            "align_content": null,
            "align_items": null,
            "align_self": null,
            "border": null,
            "bottom": null,
            "display": null,
            "flex": null,
            "flex_flow": null,
            "grid_area": null,
            "grid_auto_columns": null,
            "grid_auto_flow": null,
            "grid_auto_rows": null,
            "grid_column": null,
            "grid_gap": null,
            "grid_row": null,
            "grid_template_areas": null,
            "grid_template_columns": null,
            "grid_template_rows": null,
            "height": null,
            "justify_content": null,
            "justify_items": null,
            "left": null,
            "margin": null,
            "max_height": null,
            "max_width": null,
            "min_height": null,
            "min_width": null,
            "object_fit": null,
            "object_position": null,
            "order": null,
            "overflow": null,
            "overflow_x": null,
            "overflow_y": null,
            "padding": null,
            "right": null,
            "top": null,
            "visibility": null,
            "width": null
          }
        },
        "df9948c7c126476cafb47d8439e2a669": {
          "model_module": "@jupyter-widgets/controls",
          "model_name": "DescriptionStyleModel",
          "model_module_version": "1.5.0",
          "state": {
            "_model_module": "@jupyter-widgets/controls",
            "_model_module_version": "1.5.0",
            "_model_name": "DescriptionStyleModel",
            "_view_count": null,
            "_view_module": "@jupyter-widgets/base",
            "_view_module_version": "1.2.0",
            "_view_name": "StyleView",
            "description_width": ""
          }
        },
        "8717143a40f24206993fae66fbf7f0cb": {
          "model_module": "@jupyter-widgets/controls",
          "model_name": "HBoxModel",
          "model_module_version": "1.5.0",
          "state": {
            "_dom_classes": [],
            "_model_module": "@jupyter-widgets/controls",
            "_model_module_version": "1.5.0",
            "_model_name": "HBoxModel",
            "_view_count": null,
            "_view_module": "@jupyter-widgets/controls",
            "_view_module_version": "1.5.0",
            "_view_name": "HBoxView",
            "box_style": "",
            "children": [
              "IPY_MODEL_b5cdfb173d7f4ecf99dc252adff4eb2b",
              "IPY_MODEL_fd8036cf1e624126aea3422554c16851",
              "IPY_MODEL_578e0d8c889c4c78ab54aee7e042e2f5"
            ],
            "layout": "IPY_MODEL_f4044dd321ef41dc98e6d6172a4a516d"
          }
        },
        "b5cdfb173d7f4ecf99dc252adff4eb2b": {
          "model_module": "@jupyter-widgets/controls",
          "model_name": "HTMLModel",
          "model_module_version": "1.5.0",
          "state": {
            "_dom_classes": [],
            "_model_module": "@jupyter-widgets/controls",
            "_model_module_version": "1.5.0",
            "_model_name": "HTMLModel",
            "_view_count": null,
            "_view_module": "@jupyter-widgets/controls",
            "_view_module_version": "1.5.0",
            "_view_name": "HTMLView",
            "description": "",
            "description_tooltip": null,
            "layout": "IPY_MODEL_3fd874321f6443f0b8f7a41528f4ce10",
            "placeholder": "​",
            "style": "IPY_MODEL_1678d613c35d4871963cd9f3223bc9d6",
            "value": "100%"
          }
        },
        "fd8036cf1e624126aea3422554c16851": {
          "model_module": "@jupyter-widgets/controls",
          "model_name": "FloatProgressModel",
          "model_module_version": "1.5.0",
          "state": {
            "_dom_classes": [],
            "_model_module": "@jupyter-widgets/controls",
            "_model_module_version": "1.5.0",
            "_model_name": "FloatProgressModel",
            "_view_count": null,
            "_view_module": "@jupyter-widgets/controls",
            "_view_module_version": "1.5.0",
            "_view_name": "ProgressView",
            "bar_style": "",
            "description": "",
            "description_tooltip": null,
            "layout": "IPY_MODEL_99ec2f3c7c654d4290faf79ab48c10fe",
            "max": 139,
            "min": 0,
            "orientation": "horizontal",
            "style": "IPY_MODEL_6d5ff1fea3f04659b504e390581573bd",
            "value": 139
          }
        },
        "578e0d8c889c4c78ab54aee7e042e2f5": {
          "model_module": "@jupyter-widgets/controls",
          "model_name": "HTMLModel",
          "model_module_version": "1.5.0",
          "state": {
            "_dom_classes": [],
            "_model_module": "@jupyter-widgets/controls",
            "_model_module_version": "1.5.0",
            "_model_name": "HTMLModel",
            "_view_count": null,
            "_view_module": "@jupyter-widgets/controls",
            "_view_module_version": "1.5.0",
            "_view_name": "HTMLView",
            "description": "",
            "description_tooltip": null,
            "layout": "IPY_MODEL_f649e774cbc74e119e69004061b60507",
            "placeholder": "​",
            "style": "IPY_MODEL_6538b90992b14b0999e9a74d982c53ee",
            "value": " 139/139 [06:12&lt;00:00,  2.40s/it]"
          }
        },
        "f4044dd321ef41dc98e6d6172a4a516d": {
          "model_module": "@jupyter-widgets/base",
          "model_name": "LayoutModel",
          "model_module_version": "1.2.0",
          "state": {
            "_model_module": "@jupyter-widgets/base",
            "_model_module_version": "1.2.0",
            "_model_name": "LayoutModel",
            "_view_count": null,
            "_view_module": "@jupyter-widgets/base",
            "_view_module_version": "1.2.0",
            "_view_name": "LayoutView",
            "align_content": null,
            "align_items": null,
            "align_self": null,
            "border": null,
            "bottom": null,
            "display": null,
            "flex": null,
            "flex_flow": null,
            "grid_area": null,
            "grid_auto_columns": null,
            "grid_auto_flow": null,
            "grid_auto_rows": null,
            "grid_column": null,
            "grid_gap": null,
            "grid_row": null,
            "grid_template_areas": null,
            "grid_template_columns": null,
            "grid_template_rows": null,
            "height": null,
            "justify_content": null,
            "justify_items": null,
            "left": null,
            "margin": null,
            "max_height": null,
            "max_width": null,
            "min_height": null,
            "min_width": null,
            "object_fit": null,
            "object_position": null,
            "order": null,
            "overflow": null,
            "overflow_x": null,
            "overflow_y": null,
            "padding": null,
            "right": null,
            "top": null,
            "visibility": null,
            "width": null
          }
        },
        "3fd874321f6443f0b8f7a41528f4ce10": {
          "model_module": "@jupyter-widgets/base",
          "model_name": "LayoutModel",
          "model_module_version": "1.2.0",
          "state": {
            "_model_module": "@jupyter-widgets/base",
            "_model_module_version": "1.2.0",
            "_model_name": "LayoutModel",
            "_view_count": null,
            "_view_module": "@jupyter-widgets/base",
            "_view_module_version": "1.2.0",
            "_view_name": "LayoutView",
            "align_content": null,
            "align_items": null,
            "align_self": null,
            "border": null,
            "bottom": null,
            "display": null,
            "flex": null,
            "flex_flow": null,
            "grid_area": null,
            "grid_auto_columns": null,
            "grid_auto_flow": null,
            "grid_auto_rows": null,
            "grid_column": null,
            "grid_gap": null,
            "grid_row": null,
            "grid_template_areas": null,
            "grid_template_columns": null,
            "grid_template_rows": null,
            "height": null,
            "justify_content": null,
            "justify_items": null,
            "left": null,
            "margin": null,
            "max_height": null,
            "max_width": null,
            "min_height": null,
            "min_width": null,
            "object_fit": null,
            "object_position": null,
            "order": null,
            "overflow": null,
            "overflow_x": null,
            "overflow_y": null,
            "padding": null,
            "right": null,
            "top": null,
            "visibility": null,
            "width": null
          }
        },
        "1678d613c35d4871963cd9f3223bc9d6": {
          "model_module": "@jupyter-widgets/controls",
          "model_name": "DescriptionStyleModel",
          "model_module_version": "1.5.0",
          "state": {
            "_model_module": "@jupyter-widgets/controls",
            "_model_module_version": "1.5.0",
            "_model_name": "DescriptionStyleModel",
            "_view_count": null,
            "_view_module": "@jupyter-widgets/base",
            "_view_module_version": "1.2.0",
            "_view_name": "StyleView",
            "description_width": ""
          }
        },
        "99ec2f3c7c654d4290faf79ab48c10fe": {
          "model_module": "@jupyter-widgets/base",
          "model_name": "LayoutModel",
          "model_module_version": "1.2.0",
          "state": {
            "_model_module": "@jupyter-widgets/base",
            "_model_module_version": "1.2.0",
            "_model_name": "LayoutModel",
            "_view_count": null,
            "_view_module": "@jupyter-widgets/base",
            "_view_module_version": "1.2.0",
            "_view_name": "LayoutView",
            "align_content": null,
            "align_items": null,
            "align_self": null,
            "border": null,
            "bottom": null,
            "display": null,
            "flex": null,
            "flex_flow": null,
            "grid_area": null,
            "grid_auto_columns": null,
            "grid_auto_flow": null,
            "grid_auto_rows": null,
            "grid_column": null,
            "grid_gap": null,
            "grid_row": null,
            "grid_template_areas": null,
            "grid_template_columns": null,
            "grid_template_rows": null,
            "height": null,
            "justify_content": null,
            "justify_items": null,
            "left": null,
            "margin": null,
            "max_height": null,
            "max_width": null,
            "min_height": null,
            "min_width": null,
            "object_fit": null,
            "object_position": null,
            "order": null,
            "overflow": null,
            "overflow_x": null,
            "overflow_y": null,
            "padding": null,
            "right": null,
            "top": null,
            "visibility": null,
            "width": null
          }
        },
        "6d5ff1fea3f04659b504e390581573bd": {
          "model_module": "@jupyter-widgets/controls",
          "model_name": "ProgressStyleModel",
          "model_module_version": "1.5.0",
          "state": {
            "_model_module": "@jupyter-widgets/controls",
            "_model_module_version": "1.5.0",
            "_model_name": "ProgressStyleModel",
            "_view_count": null,
            "_view_module": "@jupyter-widgets/base",
            "_view_module_version": "1.2.0",
            "_view_name": "StyleView",
            "bar_color": null,
            "description_width": ""
          }
        },
        "f649e774cbc74e119e69004061b60507": {
          "model_module": "@jupyter-widgets/base",
          "model_name": "LayoutModel",
          "model_module_version": "1.2.0",
          "state": {
            "_model_module": "@jupyter-widgets/base",
            "_model_module_version": "1.2.0",
            "_model_name": "LayoutModel",
            "_view_count": null,
            "_view_module": "@jupyter-widgets/base",
            "_view_module_version": "1.2.0",
            "_view_name": "LayoutView",
            "align_content": null,
            "align_items": null,
            "align_self": null,
            "border": null,
            "bottom": null,
            "display": null,
            "flex": null,
            "flex_flow": null,
            "grid_area": null,
            "grid_auto_columns": null,
            "grid_auto_flow": null,
            "grid_auto_rows": null,
            "grid_column": null,
            "grid_gap": null,
            "grid_row": null,
            "grid_template_areas": null,
            "grid_template_columns": null,
            "grid_template_rows": null,
            "height": null,
            "justify_content": null,
            "justify_items": null,
            "left": null,
            "margin": null,
            "max_height": null,
            "max_width": null,
            "min_height": null,
            "min_width": null,
            "object_fit": null,
            "object_position": null,
            "order": null,
            "overflow": null,
            "overflow_x": null,
            "overflow_y": null,
            "padding": null,
            "right": null,
            "top": null,
            "visibility": null,
            "width": null
          }
        },
        "6538b90992b14b0999e9a74d982c53ee": {
          "model_module": "@jupyter-widgets/controls",
          "model_name": "DescriptionStyleModel",
          "model_module_version": "1.5.0",
          "state": {
            "_model_module": "@jupyter-widgets/controls",
            "_model_module_version": "1.5.0",
            "_model_name": "DescriptionStyleModel",
            "_view_count": null,
            "_view_module": "@jupyter-widgets/base",
            "_view_module_version": "1.2.0",
            "_view_name": "StyleView",
            "description_width": ""
          }
        },
        "2440bc804a604e6d927b6c0d4a31efed": {
          "model_module": "@jupyter-widgets/controls",
          "model_name": "HBoxModel",
          "model_module_version": "1.5.0",
          "state": {
            "_dom_classes": [],
            "_model_module": "@jupyter-widgets/controls",
            "_model_module_version": "1.5.0",
            "_model_name": "HBoxModel",
            "_view_count": null,
            "_view_module": "@jupyter-widgets/controls",
            "_view_module_version": "1.5.0",
            "_view_name": "HBoxView",
            "box_style": "",
            "children": [
              "IPY_MODEL_3c420111de8e46978b9a70683bdb8b4d",
              "IPY_MODEL_3c050e8ac3244131a700399da67d5265",
              "IPY_MODEL_f6caad96f59b440aacbc7734b289368c"
            ],
            "layout": "IPY_MODEL_0f75e7976696408bb05ab3655c4c0bc1"
          }
        },
        "3c420111de8e46978b9a70683bdb8b4d": {
          "model_module": "@jupyter-widgets/controls",
          "model_name": "HTMLModel",
          "model_module_version": "1.5.0",
          "state": {
            "_dom_classes": [],
            "_model_module": "@jupyter-widgets/controls",
            "_model_module_version": "1.5.0",
            "_model_name": "HTMLModel",
            "_view_count": null,
            "_view_module": "@jupyter-widgets/controls",
            "_view_module_version": "1.5.0",
            "_view_name": "HTMLView",
            "description": "",
            "description_tooltip": null,
            "layout": "IPY_MODEL_e184344546da4b4a829fa43a125dcfa9",
            "placeholder": "​",
            "style": "IPY_MODEL_57a9003902224599b0b75b6ffb9d0e30",
            "value": "100%"
          }
        },
        "3c050e8ac3244131a700399da67d5265": {
          "model_module": "@jupyter-widgets/controls",
          "model_name": "FloatProgressModel",
          "model_module_version": "1.5.0",
          "state": {
            "_dom_classes": [],
            "_model_module": "@jupyter-widgets/controls",
            "_model_module_version": "1.5.0",
            "_model_name": "FloatProgressModel",
            "_view_count": null,
            "_view_module": "@jupyter-widgets/controls",
            "_view_module_version": "1.5.0",
            "_view_name": "ProgressView",
            "bar_style": "",
            "description": "",
            "description_tooltip": null,
            "layout": "IPY_MODEL_6c295127834242bf8f7d449c77f879e5",
            "max": 138,
            "min": 0,
            "orientation": "horizontal",
            "style": "IPY_MODEL_a61ddce2e5d94f51afde28eb32a9ac33",
            "value": 138
          }
        },
        "f6caad96f59b440aacbc7734b289368c": {
          "model_module": "@jupyter-widgets/controls",
          "model_name": "HTMLModel",
          "model_module_version": "1.5.0",
          "state": {
            "_dom_classes": [],
            "_model_module": "@jupyter-widgets/controls",
            "_model_module_version": "1.5.0",
            "_model_name": "HTMLModel",
            "_view_count": null,
            "_view_module": "@jupyter-widgets/controls",
            "_view_module_version": "1.5.0",
            "_view_name": "HTMLView",
            "description": "",
            "description_tooltip": null,
            "layout": "IPY_MODEL_d301a8f916d54701a7a7ca72068f9e60",
            "placeholder": "​",
            "style": "IPY_MODEL_0fb961dec528429483ccf015c336fb5e",
            "value": " 138/138 [07:30&lt;00:00,  2.49s/it]"
          }
        },
        "0f75e7976696408bb05ab3655c4c0bc1": {
          "model_module": "@jupyter-widgets/base",
          "model_name": "LayoutModel",
          "model_module_version": "1.2.0",
          "state": {
            "_model_module": "@jupyter-widgets/base",
            "_model_module_version": "1.2.0",
            "_model_name": "LayoutModel",
            "_view_count": null,
            "_view_module": "@jupyter-widgets/base",
            "_view_module_version": "1.2.0",
            "_view_name": "LayoutView",
            "align_content": null,
            "align_items": null,
            "align_self": null,
            "border": null,
            "bottom": null,
            "display": null,
            "flex": null,
            "flex_flow": null,
            "grid_area": null,
            "grid_auto_columns": null,
            "grid_auto_flow": null,
            "grid_auto_rows": null,
            "grid_column": null,
            "grid_gap": null,
            "grid_row": null,
            "grid_template_areas": null,
            "grid_template_columns": null,
            "grid_template_rows": null,
            "height": null,
            "justify_content": null,
            "justify_items": null,
            "left": null,
            "margin": null,
            "max_height": null,
            "max_width": null,
            "min_height": null,
            "min_width": null,
            "object_fit": null,
            "object_position": null,
            "order": null,
            "overflow": null,
            "overflow_x": null,
            "overflow_y": null,
            "padding": null,
            "right": null,
            "top": null,
            "visibility": null,
            "width": null
          }
        },
        "e184344546da4b4a829fa43a125dcfa9": {
          "model_module": "@jupyter-widgets/base",
          "model_name": "LayoutModel",
          "model_module_version": "1.2.0",
          "state": {
            "_model_module": "@jupyter-widgets/base",
            "_model_module_version": "1.2.0",
            "_model_name": "LayoutModel",
            "_view_count": null,
            "_view_module": "@jupyter-widgets/base",
            "_view_module_version": "1.2.0",
            "_view_name": "LayoutView",
            "align_content": null,
            "align_items": null,
            "align_self": null,
            "border": null,
            "bottom": null,
            "display": null,
            "flex": null,
            "flex_flow": null,
            "grid_area": null,
            "grid_auto_columns": null,
            "grid_auto_flow": null,
            "grid_auto_rows": null,
            "grid_column": null,
            "grid_gap": null,
            "grid_row": null,
            "grid_template_areas": null,
            "grid_template_columns": null,
            "grid_template_rows": null,
            "height": null,
            "justify_content": null,
            "justify_items": null,
            "left": null,
            "margin": null,
            "max_height": null,
            "max_width": null,
            "min_height": null,
            "min_width": null,
            "object_fit": null,
            "object_position": null,
            "order": null,
            "overflow": null,
            "overflow_x": null,
            "overflow_y": null,
            "padding": null,
            "right": null,
            "top": null,
            "visibility": null,
            "width": null
          }
        },
        "57a9003902224599b0b75b6ffb9d0e30": {
          "model_module": "@jupyter-widgets/controls",
          "model_name": "DescriptionStyleModel",
          "model_module_version": "1.5.0",
          "state": {
            "_model_module": "@jupyter-widgets/controls",
            "_model_module_version": "1.5.0",
            "_model_name": "DescriptionStyleModel",
            "_view_count": null,
            "_view_module": "@jupyter-widgets/base",
            "_view_module_version": "1.2.0",
            "_view_name": "StyleView",
            "description_width": ""
          }
        },
        "6c295127834242bf8f7d449c77f879e5": {
          "model_module": "@jupyter-widgets/base",
          "model_name": "LayoutModel",
          "model_module_version": "1.2.0",
          "state": {
            "_model_module": "@jupyter-widgets/base",
            "_model_module_version": "1.2.0",
            "_model_name": "LayoutModel",
            "_view_count": null,
            "_view_module": "@jupyter-widgets/base",
            "_view_module_version": "1.2.0",
            "_view_name": "LayoutView",
            "align_content": null,
            "align_items": null,
            "align_self": null,
            "border": null,
            "bottom": null,
            "display": null,
            "flex": null,
            "flex_flow": null,
            "grid_area": null,
            "grid_auto_columns": null,
            "grid_auto_flow": null,
            "grid_auto_rows": null,
            "grid_column": null,
            "grid_gap": null,
            "grid_row": null,
            "grid_template_areas": null,
            "grid_template_columns": null,
            "grid_template_rows": null,
            "height": null,
            "justify_content": null,
            "justify_items": null,
            "left": null,
            "margin": null,
            "max_height": null,
            "max_width": null,
            "min_height": null,
            "min_width": null,
            "object_fit": null,
            "object_position": null,
            "order": null,
            "overflow": null,
            "overflow_x": null,
            "overflow_y": null,
            "padding": null,
            "right": null,
            "top": null,
            "visibility": null,
            "width": null
          }
        },
        "a61ddce2e5d94f51afde28eb32a9ac33": {
          "model_module": "@jupyter-widgets/controls",
          "model_name": "ProgressStyleModel",
          "model_module_version": "1.5.0",
          "state": {
            "_model_module": "@jupyter-widgets/controls",
            "_model_module_version": "1.5.0",
            "_model_name": "ProgressStyleModel",
            "_view_count": null,
            "_view_module": "@jupyter-widgets/base",
            "_view_module_version": "1.2.0",
            "_view_name": "StyleView",
            "bar_color": null,
            "description_width": ""
          }
        },
        "d301a8f916d54701a7a7ca72068f9e60": {
          "model_module": "@jupyter-widgets/base",
          "model_name": "LayoutModel",
          "model_module_version": "1.2.0",
          "state": {
            "_model_module": "@jupyter-widgets/base",
            "_model_module_version": "1.2.0",
            "_model_name": "LayoutModel",
            "_view_count": null,
            "_view_module": "@jupyter-widgets/base",
            "_view_module_version": "1.2.0",
            "_view_name": "LayoutView",
            "align_content": null,
            "align_items": null,
            "align_self": null,
            "border": null,
            "bottom": null,
            "display": null,
            "flex": null,
            "flex_flow": null,
            "grid_area": null,
            "grid_auto_columns": null,
            "grid_auto_flow": null,
            "grid_auto_rows": null,
            "grid_column": null,
            "grid_gap": null,
            "grid_row": null,
            "grid_template_areas": null,
            "grid_template_columns": null,
            "grid_template_rows": null,
            "height": null,
            "justify_content": null,
            "justify_items": null,
            "left": null,
            "margin": null,
            "max_height": null,
            "max_width": null,
            "min_height": null,
            "min_width": null,
            "object_fit": null,
            "object_position": null,
            "order": null,
            "overflow": null,
            "overflow_x": null,
            "overflow_y": null,
            "padding": null,
            "right": null,
            "top": null,
            "visibility": null,
            "width": null
          }
        },
        "0fb961dec528429483ccf015c336fb5e": {
          "model_module": "@jupyter-widgets/controls",
          "model_name": "DescriptionStyleModel",
          "model_module_version": "1.5.0",
          "state": {
            "_model_module": "@jupyter-widgets/controls",
            "_model_module_version": "1.5.0",
            "_model_name": "DescriptionStyleModel",
            "_view_count": null,
            "_view_module": "@jupyter-widgets/base",
            "_view_module_version": "1.2.0",
            "_view_name": "StyleView",
            "description_width": ""
          }
        },
        "bc4ece07d8fa420c80d8b19c914c1431": {
          "model_module": "@jupyter-widgets/controls",
          "model_name": "HBoxModel",
          "model_module_version": "1.5.0",
          "state": {
            "_dom_classes": [],
            "_model_module": "@jupyter-widgets/controls",
            "_model_module_version": "1.5.0",
            "_model_name": "HBoxModel",
            "_view_count": null,
            "_view_module": "@jupyter-widgets/controls",
            "_view_module_version": "1.5.0",
            "_view_name": "HBoxView",
            "box_style": "",
            "children": [
              "IPY_MODEL_bf84f52ec1634ffca9b59789a002bfba",
              "IPY_MODEL_c42daa9e12b6438eb66fdbfcbfcda9a4",
              "IPY_MODEL_c6f5e4c6f8054e39988ae1c354bddbb4"
            ],
            "layout": "IPY_MODEL_e5f2c8c1b6e44b6f800bfaeb26b24f08"
          }
        },
        "bf84f52ec1634ffca9b59789a002bfba": {
          "model_module": "@jupyter-widgets/controls",
          "model_name": "HTMLModel",
          "model_module_version": "1.5.0",
          "state": {
            "_dom_classes": [],
            "_model_module": "@jupyter-widgets/controls",
            "_model_module_version": "1.5.0",
            "_model_name": "HTMLModel",
            "_view_count": null,
            "_view_module": "@jupyter-widgets/controls",
            "_view_module_version": "1.5.0",
            "_view_name": "HTMLView",
            "description": "",
            "description_tooltip": null,
            "layout": "IPY_MODEL_2cd2aa083336473f98cc218727c629b3",
            "placeholder": "​",
            "style": "IPY_MODEL_df15f682862d49238038acf583205d21",
            "value": "100%"
          }
        },
        "c42daa9e12b6438eb66fdbfcbfcda9a4": {
          "model_module": "@jupyter-widgets/controls",
          "model_name": "FloatProgressModel",
          "model_module_version": "1.5.0",
          "state": {
            "_dom_classes": [],
            "_model_module": "@jupyter-widgets/controls",
            "_model_module_version": "1.5.0",
            "_model_name": "FloatProgressModel",
            "_view_count": null,
            "_view_module": "@jupyter-widgets/controls",
            "_view_module_version": "1.5.0",
            "_view_name": "ProgressView",
            "bar_style": "",
            "description": "",
            "description_tooltip": null,
            "layout": "IPY_MODEL_5fcf020506044ecaab93ea9edb322d07",
            "max": 137,
            "min": 0,
            "orientation": "horizontal",
            "style": "IPY_MODEL_db17eeadb50f45a284e3676f27d85a84",
            "value": 137
          }
        },
        "c6f5e4c6f8054e39988ae1c354bddbb4": {
          "model_module": "@jupyter-widgets/controls",
          "model_name": "HTMLModel",
          "model_module_version": "1.5.0",
          "state": {
            "_dom_classes": [],
            "_model_module": "@jupyter-widgets/controls",
            "_model_module_version": "1.5.0",
            "_model_name": "HTMLModel",
            "_view_count": null,
            "_view_module": "@jupyter-widgets/controls",
            "_view_module_version": "1.5.0",
            "_view_name": "HTMLView",
            "description": "",
            "description_tooltip": null,
            "layout": "IPY_MODEL_a77b74a15fa24020bdf421be4dbed878",
            "placeholder": "​",
            "style": "IPY_MODEL_83c63e0f1f8e455d8f70b7d4521082d5",
            "value": " 137/137 [09:46&lt;00:00,  4.26s/it]"
          }
        },
        "e5f2c8c1b6e44b6f800bfaeb26b24f08": {
          "model_module": "@jupyter-widgets/base",
          "model_name": "LayoutModel",
          "model_module_version": "1.2.0",
          "state": {
            "_model_module": "@jupyter-widgets/base",
            "_model_module_version": "1.2.0",
            "_model_name": "LayoutModel",
            "_view_count": null,
            "_view_module": "@jupyter-widgets/base",
            "_view_module_version": "1.2.0",
            "_view_name": "LayoutView",
            "align_content": null,
            "align_items": null,
            "align_self": null,
            "border": null,
            "bottom": null,
            "display": null,
            "flex": null,
            "flex_flow": null,
            "grid_area": null,
            "grid_auto_columns": null,
            "grid_auto_flow": null,
            "grid_auto_rows": null,
            "grid_column": null,
            "grid_gap": null,
            "grid_row": null,
            "grid_template_areas": null,
            "grid_template_columns": null,
            "grid_template_rows": null,
            "height": null,
            "justify_content": null,
            "justify_items": null,
            "left": null,
            "margin": null,
            "max_height": null,
            "max_width": null,
            "min_height": null,
            "min_width": null,
            "object_fit": null,
            "object_position": null,
            "order": null,
            "overflow": null,
            "overflow_x": null,
            "overflow_y": null,
            "padding": null,
            "right": null,
            "top": null,
            "visibility": null,
            "width": null
          }
        },
        "2cd2aa083336473f98cc218727c629b3": {
          "model_module": "@jupyter-widgets/base",
          "model_name": "LayoutModel",
          "model_module_version": "1.2.0",
          "state": {
            "_model_module": "@jupyter-widgets/base",
            "_model_module_version": "1.2.0",
            "_model_name": "LayoutModel",
            "_view_count": null,
            "_view_module": "@jupyter-widgets/base",
            "_view_module_version": "1.2.0",
            "_view_name": "LayoutView",
            "align_content": null,
            "align_items": null,
            "align_self": null,
            "border": null,
            "bottom": null,
            "display": null,
            "flex": null,
            "flex_flow": null,
            "grid_area": null,
            "grid_auto_columns": null,
            "grid_auto_flow": null,
            "grid_auto_rows": null,
            "grid_column": null,
            "grid_gap": null,
            "grid_row": null,
            "grid_template_areas": null,
            "grid_template_columns": null,
            "grid_template_rows": null,
            "height": null,
            "justify_content": null,
            "justify_items": null,
            "left": null,
            "margin": null,
            "max_height": null,
            "max_width": null,
            "min_height": null,
            "min_width": null,
            "object_fit": null,
            "object_position": null,
            "order": null,
            "overflow": null,
            "overflow_x": null,
            "overflow_y": null,
            "padding": null,
            "right": null,
            "top": null,
            "visibility": null,
            "width": null
          }
        },
        "df15f682862d49238038acf583205d21": {
          "model_module": "@jupyter-widgets/controls",
          "model_name": "DescriptionStyleModel",
          "model_module_version": "1.5.0",
          "state": {
            "_model_module": "@jupyter-widgets/controls",
            "_model_module_version": "1.5.0",
            "_model_name": "DescriptionStyleModel",
            "_view_count": null,
            "_view_module": "@jupyter-widgets/base",
            "_view_module_version": "1.2.0",
            "_view_name": "StyleView",
            "description_width": ""
          }
        },
        "5fcf020506044ecaab93ea9edb322d07": {
          "model_module": "@jupyter-widgets/base",
          "model_name": "LayoutModel",
          "model_module_version": "1.2.0",
          "state": {
            "_model_module": "@jupyter-widgets/base",
            "_model_module_version": "1.2.0",
            "_model_name": "LayoutModel",
            "_view_count": null,
            "_view_module": "@jupyter-widgets/base",
            "_view_module_version": "1.2.0",
            "_view_name": "LayoutView",
            "align_content": null,
            "align_items": null,
            "align_self": null,
            "border": null,
            "bottom": null,
            "display": null,
            "flex": null,
            "flex_flow": null,
            "grid_area": null,
            "grid_auto_columns": null,
            "grid_auto_flow": null,
            "grid_auto_rows": null,
            "grid_column": null,
            "grid_gap": null,
            "grid_row": null,
            "grid_template_areas": null,
            "grid_template_columns": null,
            "grid_template_rows": null,
            "height": null,
            "justify_content": null,
            "justify_items": null,
            "left": null,
            "margin": null,
            "max_height": null,
            "max_width": null,
            "min_height": null,
            "min_width": null,
            "object_fit": null,
            "object_position": null,
            "order": null,
            "overflow": null,
            "overflow_x": null,
            "overflow_y": null,
            "padding": null,
            "right": null,
            "top": null,
            "visibility": null,
            "width": null
          }
        },
        "db17eeadb50f45a284e3676f27d85a84": {
          "model_module": "@jupyter-widgets/controls",
          "model_name": "ProgressStyleModel",
          "model_module_version": "1.5.0",
          "state": {
            "_model_module": "@jupyter-widgets/controls",
            "_model_module_version": "1.5.0",
            "_model_name": "ProgressStyleModel",
            "_view_count": null,
            "_view_module": "@jupyter-widgets/base",
            "_view_module_version": "1.2.0",
            "_view_name": "StyleView",
            "bar_color": null,
            "description_width": ""
          }
        },
        "a77b74a15fa24020bdf421be4dbed878": {
          "model_module": "@jupyter-widgets/base",
          "model_name": "LayoutModel",
          "model_module_version": "1.2.0",
          "state": {
            "_model_module": "@jupyter-widgets/base",
            "_model_module_version": "1.2.0",
            "_model_name": "LayoutModel",
            "_view_count": null,
            "_view_module": "@jupyter-widgets/base",
            "_view_module_version": "1.2.0",
            "_view_name": "LayoutView",
            "align_content": null,
            "align_items": null,
            "align_self": null,
            "border": null,
            "bottom": null,
            "display": null,
            "flex": null,
            "flex_flow": null,
            "grid_area": null,
            "grid_auto_columns": null,
            "grid_auto_flow": null,
            "grid_auto_rows": null,
            "grid_column": null,
            "grid_gap": null,
            "grid_row": null,
            "grid_template_areas": null,
            "grid_template_columns": null,
            "grid_template_rows": null,
            "height": null,
            "justify_content": null,
            "justify_items": null,
            "left": null,
            "margin": null,
            "max_height": null,
            "max_width": null,
            "min_height": null,
            "min_width": null,
            "object_fit": null,
            "object_position": null,
            "order": null,
            "overflow": null,
            "overflow_x": null,
            "overflow_y": null,
            "padding": null,
            "right": null,
            "top": null,
            "visibility": null,
            "width": null
          }
        },
        "83c63e0f1f8e455d8f70b7d4521082d5": {
          "model_module": "@jupyter-widgets/controls",
          "model_name": "DescriptionStyleModel",
          "model_module_version": "1.5.0",
          "state": {
            "_model_module": "@jupyter-widgets/controls",
            "_model_module_version": "1.5.0",
            "_model_name": "DescriptionStyleModel",
            "_view_count": null,
            "_view_module": "@jupyter-widgets/base",
            "_view_module_version": "1.2.0",
            "_view_name": "StyleView",
            "description_width": ""
          }
        },
        "2adac473c79840fda59f702d86130c97": {
          "model_module": "@jupyter-widgets/controls",
          "model_name": "HBoxModel",
          "model_module_version": "1.5.0",
          "state": {
            "_dom_classes": [],
            "_model_module": "@jupyter-widgets/controls",
            "_model_module_version": "1.5.0",
            "_model_name": "HBoxModel",
            "_view_count": null,
            "_view_module": "@jupyter-widgets/controls",
            "_view_module_version": "1.5.0",
            "_view_name": "HBoxView",
            "box_style": "",
            "children": [
              "IPY_MODEL_98027f4a411142bd8dac8912448d20ef",
              "IPY_MODEL_f3bcfccc58fa4cb18245ab3cf7b4a6e6",
              "IPY_MODEL_79784d229a1142668b89e0516fc66038"
            ],
            "layout": "IPY_MODEL_035f37d4af5946ee9c22214c6eb6e0e5"
          }
        },
        "98027f4a411142bd8dac8912448d20ef": {
          "model_module": "@jupyter-widgets/controls",
          "model_name": "HTMLModel",
          "model_module_version": "1.5.0",
          "state": {
            "_dom_classes": [],
            "_model_module": "@jupyter-widgets/controls",
            "_model_module_version": "1.5.0",
            "_model_name": "HTMLModel",
            "_view_count": null,
            "_view_module": "@jupyter-widgets/controls",
            "_view_module_version": "1.5.0",
            "_view_name": "HTMLView",
            "description": "",
            "description_tooltip": null,
            "layout": "IPY_MODEL_d659f789b29c42fc8bab7919000673e0",
            "placeholder": "​",
            "style": "IPY_MODEL_50eb5d13a946452a94b7c7b541b7a84b",
            "value": " 30%"
          }
        },
        "f3bcfccc58fa4cb18245ab3cf7b4a6e6": {
          "model_module": "@jupyter-widgets/controls",
          "model_name": "FloatProgressModel",
          "model_module_version": "1.5.0",
          "state": {
            "_dom_classes": [],
            "_model_module": "@jupyter-widgets/controls",
            "_model_module_version": "1.5.0",
            "_model_name": "FloatProgressModel",
            "_view_count": null,
            "_view_module": "@jupyter-widgets/controls",
            "_view_module_version": "1.5.0",
            "_view_name": "ProgressView",
            "bar_style": "danger",
            "description": "",
            "description_tooltip": null,
            "layout": "IPY_MODEL_2a53c17e8df742558d416bdfee1a0652",
            "max": 40,
            "min": 0,
            "orientation": "horizontal",
            "style": "IPY_MODEL_6522adc56c0c485fafc7d72195c92e9e",
            "value": 12
          }
        },
        "79784d229a1142668b89e0516fc66038": {
          "model_module": "@jupyter-widgets/controls",
          "model_name": "HTMLModel",
          "model_module_version": "1.5.0",
          "state": {
            "_dom_classes": [],
            "_model_module": "@jupyter-widgets/controls",
            "_model_module_version": "1.5.0",
            "_model_name": "HTMLModel",
            "_view_count": null,
            "_view_module": "@jupyter-widgets/controls",
            "_view_module_version": "1.5.0",
            "_view_name": "HTMLView",
            "description": "",
            "description_tooltip": null,
            "layout": "IPY_MODEL_1304f0d5f7ae4e11b7f7ffba60cbbf94",
            "placeholder": "​",
            "style": "IPY_MODEL_ff6b14d1a71248a8acb594714156315f",
            "value": " 12/40 [1:10:57&lt;3:33:52, 458.29s/it]"
          }
        },
        "035f37d4af5946ee9c22214c6eb6e0e5": {
          "model_module": "@jupyter-widgets/base",
          "model_name": "LayoutModel",
          "model_module_version": "1.2.0",
          "state": {
            "_model_module": "@jupyter-widgets/base",
            "_model_module_version": "1.2.0",
            "_model_name": "LayoutModel",
            "_view_count": null,
            "_view_module": "@jupyter-widgets/base",
            "_view_module_version": "1.2.0",
            "_view_name": "LayoutView",
            "align_content": null,
            "align_items": null,
            "align_self": null,
            "border": null,
            "bottom": null,
            "display": null,
            "flex": null,
            "flex_flow": null,
            "grid_area": null,
            "grid_auto_columns": null,
            "grid_auto_flow": null,
            "grid_auto_rows": null,
            "grid_column": null,
            "grid_gap": null,
            "grid_row": null,
            "grid_template_areas": null,
            "grid_template_columns": null,
            "grid_template_rows": null,
            "height": null,
            "justify_content": null,
            "justify_items": null,
            "left": null,
            "margin": null,
            "max_height": null,
            "max_width": null,
            "min_height": null,
            "min_width": null,
            "object_fit": null,
            "object_position": null,
            "order": null,
            "overflow": null,
            "overflow_x": null,
            "overflow_y": null,
            "padding": null,
            "right": null,
            "top": null,
            "visibility": null,
            "width": null
          }
        },
        "d659f789b29c42fc8bab7919000673e0": {
          "model_module": "@jupyter-widgets/base",
          "model_name": "LayoutModel",
          "model_module_version": "1.2.0",
          "state": {
            "_model_module": "@jupyter-widgets/base",
            "_model_module_version": "1.2.0",
            "_model_name": "LayoutModel",
            "_view_count": null,
            "_view_module": "@jupyter-widgets/base",
            "_view_module_version": "1.2.0",
            "_view_name": "LayoutView",
            "align_content": null,
            "align_items": null,
            "align_self": null,
            "border": null,
            "bottom": null,
            "display": null,
            "flex": null,
            "flex_flow": null,
            "grid_area": null,
            "grid_auto_columns": null,
            "grid_auto_flow": null,
            "grid_auto_rows": null,
            "grid_column": null,
            "grid_gap": null,
            "grid_row": null,
            "grid_template_areas": null,
            "grid_template_columns": null,
            "grid_template_rows": null,
            "height": null,
            "justify_content": null,
            "justify_items": null,
            "left": null,
            "margin": null,
            "max_height": null,
            "max_width": null,
            "min_height": null,
            "min_width": null,
            "object_fit": null,
            "object_position": null,
            "order": null,
            "overflow": null,
            "overflow_x": null,
            "overflow_y": null,
            "padding": null,
            "right": null,
            "top": null,
            "visibility": null,
            "width": null
          }
        },
        "50eb5d13a946452a94b7c7b541b7a84b": {
          "model_module": "@jupyter-widgets/controls",
          "model_name": "DescriptionStyleModel",
          "model_module_version": "1.5.0",
          "state": {
            "_model_module": "@jupyter-widgets/controls",
            "_model_module_version": "1.5.0",
            "_model_name": "DescriptionStyleModel",
            "_view_count": null,
            "_view_module": "@jupyter-widgets/base",
            "_view_module_version": "1.2.0",
            "_view_name": "StyleView",
            "description_width": ""
          }
        },
        "2a53c17e8df742558d416bdfee1a0652": {
          "model_module": "@jupyter-widgets/base",
          "model_name": "LayoutModel",
          "model_module_version": "1.2.0",
          "state": {
            "_model_module": "@jupyter-widgets/base",
            "_model_module_version": "1.2.0",
            "_model_name": "LayoutModel",
            "_view_count": null,
            "_view_module": "@jupyter-widgets/base",
            "_view_module_version": "1.2.0",
            "_view_name": "LayoutView",
            "align_content": null,
            "align_items": null,
            "align_self": null,
            "border": null,
            "bottom": null,
            "display": null,
            "flex": null,
            "flex_flow": null,
            "grid_area": null,
            "grid_auto_columns": null,
            "grid_auto_flow": null,
            "grid_auto_rows": null,
            "grid_column": null,
            "grid_gap": null,
            "grid_row": null,
            "grid_template_areas": null,
            "grid_template_columns": null,
            "grid_template_rows": null,
            "height": null,
            "justify_content": null,
            "justify_items": null,
            "left": null,
            "margin": null,
            "max_height": null,
            "max_width": null,
            "min_height": null,
            "min_width": null,
            "object_fit": null,
            "object_position": null,
            "order": null,
            "overflow": null,
            "overflow_x": null,
            "overflow_y": null,
            "padding": null,
            "right": null,
            "top": null,
            "visibility": null,
            "width": null
          }
        },
        "6522adc56c0c485fafc7d72195c92e9e": {
          "model_module": "@jupyter-widgets/controls",
          "model_name": "ProgressStyleModel",
          "model_module_version": "1.5.0",
          "state": {
            "_model_module": "@jupyter-widgets/controls",
            "_model_module_version": "1.5.0",
            "_model_name": "ProgressStyleModel",
            "_view_count": null,
            "_view_module": "@jupyter-widgets/base",
            "_view_module_version": "1.2.0",
            "_view_name": "StyleView",
            "bar_color": null,
            "description_width": ""
          }
        },
        "1304f0d5f7ae4e11b7f7ffba60cbbf94": {
          "model_module": "@jupyter-widgets/base",
          "model_name": "LayoutModel",
          "model_module_version": "1.2.0",
          "state": {
            "_model_module": "@jupyter-widgets/base",
            "_model_module_version": "1.2.0",
            "_model_name": "LayoutModel",
            "_view_count": null,
            "_view_module": "@jupyter-widgets/base",
            "_view_module_version": "1.2.0",
            "_view_name": "LayoutView",
            "align_content": null,
            "align_items": null,
            "align_self": null,
            "border": null,
            "bottom": null,
            "display": null,
            "flex": null,
            "flex_flow": null,
            "grid_area": null,
            "grid_auto_columns": null,
            "grid_auto_flow": null,
            "grid_auto_rows": null,
            "grid_column": null,
            "grid_gap": null,
            "grid_row": null,
            "grid_template_areas": null,
            "grid_template_columns": null,
            "grid_template_rows": null,
            "height": null,
            "justify_content": null,
            "justify_items": null,
            "left": null,
            "margin": null,
            "max_height": null,
            "max_width": null,
            "min_height": null,
            "min_width": null,
            "object_fit": null,
            "object_position": null,
            "order": null,
            "overflow": null,
            "overflow_x": null,
            "overflow_y": null,
            "padding": null,
            "right": null,
            "top": null,
            "visibility": null,
            "width": null
          }
        },
        "ff6b14d1a71248a8acb594714156315f": {
          "model_module": "@jupyter-widgets/controls",
          "model_name": "DescriptionStyleModel",
          "model_module_version": "1.5.0",
          "state": {
            "_model_module": "@jupyter-widgets/controls",
            "_model_module_version": "1.5.0",
            "_model_name": "DescriptionStyleModel",
            "_view_count": null,
            "_view_module": "@jupyter-widgets/base",
            "_view_module_version": "1.2.0",
            "_view_name": "StyleView",
            "description_width": ""
          }
        },
        "902480d7ef094bbfaaa9ac1109604d67": {
          "model_module": "@jupyter-widgets/controls",
          "model_name": "HBoxModel",
          "model_module_version": "1.5.0",
          "state": {
            "_dom_classes": [],
            "_model_module": "@jupyter-widgets/controls",
            "_model_module_version": "1.5.0",
            "_model_name": "HBoxModel",
            "_view_count": null,
            "_view_module": "@jupyter-widgets/controls",
            "_view_module_version": "1.5.0",
            "_view_name": "HBoxView",
            "box_style": "",
            "children": [
              "IPY_MODEL_60e8e2e56a054889a225ddedcaf69f5d",
              "IPY_MODEL_e0f19c2306e14fe9899e0d2941b0c330",
              "IPY_MODEL_e7e50f66195e4fbdaed0ea308f1859f7"
            ],
            "layout": "IPY_MODEL_d52461128f65470cbda8366e5f934d04"
          }
        },
        "60e8e2e56a054889a225ddedcaf69f5d": {
          "model_module": "@jupyter-widgets/controls",
          "model_name": "HTMLModel",
          "model_module_version": "1.5.0",
          "state": {
            "_dom_classes": [],
            "_model_module": "@jupyter-widgets/controls",
            "_model_module_version": "1.5.0",
            "_model_name": "HTMLModel",
            "_view_count": null,
            "_view_module": "@jupyter-widgets/controls",
            "_view_module_version": "1.5.0",
            "_view_name": "HTMLView",
            "description": "",
            "description_tooltip": null,
            "layout": "IPY_MODEL_834bfd7c396043769d2750a17a71d0bb",
            "placeholder": "​",
            "style": "IPY_MODEL_9c56ac4b17fa4ec4a28341016446b1d1",
            "value": "100%"
          }
        },
        "e0f19c2306e14fe9899e0d2941b0c330": {
          "model_module": "@jupyter-widgets/controls",
          "model_name": "FloatProgressModel",
          "model_module_version": "1.5.0",
          "state": {
            "_dom_classes": [],
            "_model_module": "@jupyter-widgets/controls",
            "_model_module_version": "1.5.0",
            "_model_name": "FloatProgressModel",
            "_view_count": null,
            "_view_module": "@jupyter-widgets/controls",
            "_view_module_version": "1.5.0",
            "_view_name": "ProgressView",
            "bar_style": "",
            "description": "",
            "description_tooltip": null,
            "layout": "IPY_MODEL_074cee65959542dcb1b978e42e58869e",
            "max": 280,
            "min": 0,
            "orientation": "horizontal",
            "style": "IPY_MODEL_6652f1905a354bdf9f28e82b91e99220",
            "value": 280
          }
        },
        "e7e50f66195e4fbdaed0ea308f1859f7": {
          "model_module": "@jupyter-widgets/controls",
          "model_name": "HTMLModel",
          "model_module_version": "1.5.0",
          "state": {
            "_dom_classes": [],
            "_model_module": "@jupyter-widgets/controls",
            "_model_module_version": "1.5.0",
            "_model_name": "HTMLModel",
            "_view_count": null,
            "_view_module": "@jupyter-widgets/controls",
            "_view_module_version": "1.5.0",
            "_view_name": "HTMLView",
            "description": "",
            "description_tooltip": null,
            "layout": "IPY_MODEL_09eba8e6d86e4348803901a4c7b6cd54",
            "placeholder": "​",
            "style": "IPY_MODEL_3f323133f7564f8098d861f7b516a704",
            "value": " 280/280 [02:06&lt;00:00,  2.98it/s]"
          }
        },
        "d52461128f65470cbda8366e5f934d04": {
          "model_module": "@jupyter-widgets/base",
          "model_name": "LayoutModel",
          "model_module_version": "1.2.0",
          "state": {
            "_model_module": "@jupyter-widgets/base",
            "_model_module_version": "1.2.0",
            "_model_name": "LayoutModel",
            "_view_count": null,
            "_view_module": "@jupyter-widgets/base",
            "_view_module_version": "1.2.0",
            "_view_name": "LayoutView",
            "align_content": null,
            "align_items": null,
            "align_self": null,
            "border": null,
            "bottom": null,
            "display": null,
            "flex": null,
            "flex_flow": null,
            "grid_area": null,
            "grid_auto_columns": null,
            "grid_auto_flow": null,
            "grid_auto_rows": null,
            "grid_column": null,
            "grid_gap": null,
            "grid_row": null,
            "grid_template_areas": null,
            "grid_template_columns": null,
            "grid_template_rows": null,
            "height": null,
            "justify_content": null,
            "justify_items": null,
            "left": null,
            "margin": null,
            "max_height": null,
            "max_width": null,
            "min_height": null,
            "min_width": null,
            "object_fit": null,
            "object_position": null,
            "order": null,
            "overflow": null,
            "overflow_x": null,
            "overflow_y": null,
            "padding": null,
            "right": null,
            "top": null,
            "visibility": null,
            "width": null
          }
        },
        "834bfd7c396043769d2750a17a71d0bb": {
          "model_module": "@jupyter-widgets/base",
          "model_name": "LayoutModel",
          "model_module_version": "1.2.0",
          "state": {
            "_model_module": "@jupyter-widgets/base",
            "_model_module_version": "1.2.0",
            "_model_name": "LayoutModel",
            "_view_count": null,
            "_view_module": "@jupyter-widgets/base",
            "_view_module_version": "1.2.0",
            "_view_name": "LayoutView",
            "align_content": null,
            "align_items": null,
            "align_self": null,
            "border": null,
            "bottom": null,
            "display": null,
            "flex": null,
            "flex_flow": null,
            "grid_area": null,
            "grid_auto_columns": null,
            "grid_auto_flow": null,
            "grid_auto_rows": null,
            "grid_column": null,
            "grid_gap": null,
            "grid_row": null,
            "grid_template_areas": null,
            "grid_template_columns": null,
            "grid_template_rows": null,
            "height": null,
            "justify_content": null,
            "justify_items": null,
            "left": null,
            "margin": null,
            "max_height": null,
            "max_width": null,
            "min_height": null,
            "min_width": null,
            "object_fit": null,
            "object_position": null,
            "order": null,
            "overflow": null,
            "overflow_x": null,
            "overflow_y": null,
            "padding": null,
            "right": null,
            "top": null,
            "visibility": null,
            "width": null
          }
        },
        "9c56ac4b17fa4ec4a28341016446b1d1": {
          "model_module": "@jupyter-widgets/controls",
          "model_name": "DescriptionStyleModel",
          "model_module_version": "1.5.0",
          "state": {
            "_model_module": "@jupyter-widgets/controls",
            "_model_module_version": "1.5.0",
            "_model_name": "DescriptionStyleModel",
            "_view_count": null,
            "_view_module": "@jupyter-widgets/base",
            "_view_module_version": "1.2.0",
            "_view_name": "StyleView",
            "description_width": ""
          }
        },
        "074cee65959542dcb1b978e42e58869e": {
          "model_module": "@jupyter-widgets/base",
          "model_name": "LayoutModel",
          "model_module_version": "1.2.0",
          "state": {
            "_model_module": "@jupyter-widgets/base",
            "_model_module_version": "1.2.0",
            "_model_name": "LayoutModel",
            "_view_count": null,
            "_view_module": "@jupyter-widgets/base",
            "_view_module_version": "1.2.0",
            "_view_name": "LayoutView",
            "align_content": null,
            "align_items": null,
            "align_self": null,
            "border": null,
            "bottom": null,
            "display": null,
            "flex": null,
            "flex_flow": null,
            "grid_area": null,
            "grid_auto_columns": null,
            "grid_auto_flow": null,
            "grid_auto_rows": null,
            "grid_column": null,
            "grid_gap": null,
            "grid_row": null,
            "grid_template_areas": null,
            "grid_template_columns": null,
            "grid_template_rows": null,
            "height": null,
            "justify_content": null,
            "justify_items": null,
            "left": null,
            "margin": null,
            "max_height": null,
            "max_width": null,
            "min_height": null,
            "min_width": null,
            "object_fit": null,
            "object_position": null,
            "order": null,
            "overflow": null,
            "overflow_x": null,
            "overflow_y": null,
            "padding": null,
            "right": null,
            "top": null,
            "visibility": null,
            "width": null
          }
        },
        "6652f1905a354bdf9f28e82b91e99220": {
          "model_module": "@jupyter-widgets/controls",
          "model_name": "ProgressStyleModel",
          "model_module_version": "1.5.0",
          "state": {
            "_model_module": "@jupyter-widgets/controls",
            "_model_module_version": "1.5.0",
            "_model_name": "ProgressStyleModel",
            "_view_count": null,
            "_view_module": "@jupyter-widgets/base",
            "_view_module_version": "1.2.0",
            "_view_name": "StyleView",
            "bar_color": null,
            "description_width": ""
          }
        },
        "09eba8e6d86e4348803901a4c7b6cd54": {
          "model_module": "@jupyter-widgets/base",
          "model_name": "LayoutModel",
          "model_module_version": "1.2.0",
          "state": {
            "_model_module": "@jupyter-widgets/base",
            "_model_module_version": "1.2.0",
            "_model_name": "LayoutModel",
            "_view_count": null,
            "_view_module": "@jupyter-widgets/base",
            "_view_module_version": "1.2.0",
            "_view_name": "LayoutView",
            "align_content": null,
            "align_items": null,
            "align_self": null,
            "border": null,
            "bottom": null,
            "display": null,
            "flex": null,
            "flex_flow": null,
            "grid_area": null,
            "grid_auto_columns": null,
            "grid_auto_flow": null,
            "grid_auto_rows": null,
            "grid_column": null,
            "grid_gap": null,
            "grid_row": null,
            "grid_template_areas": null,
            "grid_template_columns": null,
            "grid_template_rows": null,
            "height": null,
            "justify_content": null,
            "justify_items": null,
            "left": null,
            "margin": null,
            "max_height": null,
            "max_width": null,
            "min_height": null,
            "min_width": null,
            "object_fit": null,
            "object_position": null,
            "order": null,
            "overflow": null,
            "overflow_x": null,
            "overflow_y": null,
            "padding": null,
            "right": null,
            "top": null,
            "visibility": null,
            "width": null
          }
        },
        "3f323133f7564f8098d861f7b516a704": {
          "model_module": "@jupyter-widgets/controls",
          "model_name": "DescriptionStyleModel",
          "model_module_version": "1.5.0",
          "state": {
            "_model_module": "@jupyter-widgets/controls",
            "_model_module_version": "1.5.0",
            "_model_name": "DescriptionStyleModel",
            "_view_count": null,
            "_view_module": "@jupyter-widgets/base",
            "_view_module_version": "1.2.0",
            "_view_name": "StyleView",
            "description_width": ""
          }
        },
        "b60d652b417342f692e01bf827b46497": {
          "model_module": "@jupyter-widgets/controls",
          "model_name": "HBoxModel",
          "model_module_version": "1.5.0",
          "state": {
            "_dom_classes": [],
            "_model_module": "@jupyter-widgets/controls",
            "_model_module_version": "1.5.0",
            "_model_name": "HBoxModel",
            "_view_count": null,
            "_view_module": "@jupyter-widgets/controls",
            "_view_module_version": "1.5.0",
            "_view_name": "HBoxView",
            "box_style": "",
            "children": [
              "IPY_MODEL_1c17dce12b8049bd8bae4775d347284f",
              "IPY_MODEL_75a8a626138145bdbfee6eb502fb9576",
              "IPY_MODEL_2ff26f8d6fc44b4eb9e251f62ba26fde"
            ],
            "layout": "IPY_MODEL_d8a5d51eb11f4e7490f525ce1207bdd2"
          }
        },
        "1c17dce12b8049bd8bae4775d347284f": {
          "model_module": "@jupyter-widgets/controls",
          "model_name": "HTMLModel",
          "model_module_version": "1.5.0",
          "state": {
            "_dom_classes": [],
            "_model_module": "@jupyter-widgets/controls",
            "_model_module_version": "1.5.0",
            "_model_name": "HTMLModel",
            "_view_count": null,
            "_view_module": "@jupyter-widgets/controls",
            "_view_module_version": "1.5.0",
            "_view_name": "HTMLView",
            "description": "",
            "description_tooltip": null,
            "layout": "IPY_MODEL_669f0d04e636434ea0e5044aa2279e74",
            "placeholder": "​",
            "style": "IPY_MODEL_08fd6a4d44b1407db4fed9d3f03214ed",
            "value": "100%"
          }
        },
        "75a8a626138145bdbfee6eb502fb9576": {
          "model_module": "@jupyter-widgets/controls",
          "model_name": "FloatProgressModel",
          "model_module_version": "1.5.0",
          "state": {
            "_dom_classes": [],
            "_model_module": "@jupyter-widgets/controls",
            "_model_module_version": "1.5.0",
            "_model_name": "FloatProgressModel",
            "_view_count": null,
            "_view_module": "@jupyter-widgets/controls",
            "_view_module_version": "1.5.0",
            "_view_name": "ProgressView",
            "bar_style": "",
            "description": "",
            "description_tooltip": null,
            "layout": "IPY_MODEL_a346ea98999f43268da148f906c34a80",
            "max": 279,
            "min": 0,
            "orientation": "horizontal",
            "style": "IPY_MODEL_59dc2264645e45deb3e654d19393e3e3",
            "value": 279
          }
        },
        "2ff26f8d6fc44b4eb9e251f62ba26fde": {
          "model_module": "@jupyter-widgets/controls",
          "model_name": "HTMLModel",
          "model_module_version": "1.5.0",
          "state": {
            "_dom_classes": [],
            "_model_module": "@jupyter-widgets/controls",
            "_model_module_version": "1.5.0",
            "_model_name": "HTMLModel",
            "_view_count": null,
            "_view_module": "@jupyter-widgets/controls",
            "_view_module_version": "1.5.0",
            "_view_name": "HTMLView",
            "description": "",
            "description_tooltip": null,
            "layout": "IPY_MODEL_140e24873ec942a296a557f666f5c370",
            "placeholder": "​",
            "style": "IPY_MODEL_716ce959fdf34613a609be22d33c42f5",
            "value": " 279/279 [01:58&lt;00:00,  2.82it/s]"
          }
        },
        "d8a5d51eb11f4e7490f525ce1207bdd2": {
          "model_module": "@jupyter-widgets/base",
          "model_name": "LayoutModel",
          "model_module_version": "1.2.0",
          "state": {
            "_model_module": "@jupyter-widgets/base",
            "_model_module_version": "1.2.0",
            "_model_name": "LayoutModel",
            "_view_count": null,
            "_view_module": "@jupyter-widgets/base",
            "_view_module_version": "1.2.0",
            "_view_name": "LayoutView",
            "align_content": null,
            "align_items": null,
            "align_self": null,
            "border": null,
            "bottom": null,
            "display": null,
            "flex": null,
            "flex_flow": null,
            "grid_area": null,
            "grid_auto_columns": null,
            "grid_auto_flow": null,
            "grid_auto_rows": null,
            "grid_column": null,
            "grid_gap": null,
            "grid_row": null,
            "grid_template_areas": null,
            "grid_template_columns": null,
            "grid_template_rows": null,
            "height": null,
            "justify_content": null,
            "justify_items": null,
            "left": null,
            "margin": null,
            "max_height": null,
            "max_width": null,
            "min_height": null,
            "min_width": null,
            "object_fit": null,
            "object_position": null,
            "order": null,
            "overflow": null,
            "overflow_x": null,
            "overflow_y": null,
            "padding": null,
            "right": null,
            "top": null,
            "visibility": null,
            "width": null
          }
        },
        "669f0d04e636434ea0e5044aa2279e74": {
          "model_module": "@jupyter-widgets/base",
          "model_name": "LayoutModel",
          "model_module_version": "1.2.0",
          "state": {
            "_model_module": "@jupyter-widgets/base",
            "_model_module_version": "1.2.0",
            "_model_name": "LayoutModel",
            "_view_count": null,
            "_view_module": "@jupyter-widgets/base",
            "_view_module_version": "1.2.0",
            "_view_name": "LayoutView",
            "align_content": null,
            "align_items": null,
            "align_self": null,
            "border": null,
            "bottom": null,
            "display": null,
            "flex": null,
            "flex_flow": null,
            "grid_area": null,
            "grid_auto_columns": null,
            "grid_auto_flow": null,
            "grid_auto_rows": null,
            "grid_column": null,
            "grid_gap": null,
            "grid_row": null,
            "grid_template_areas": null,
            "grid_template_columns": null,
            "grid_template_rows": null,
            "height": null,
            "justify_content": null,
            "justify_items": null,
            "left": null,
            "margin": null,
            "max_height": null,
            "max_width": null,
            "min_height": null,
            "min_width": null,
            "object_fit": null,
            "object_position": null,
            "order": null,
            "overflow": null,
            "overflow_x": null,
            "overflow_y": null,
            "padding": null,
            "right": null,
            "top": null,
            "visibility": null,
            "width": null
          }
        },
        "08fd6a4d44b1407db4fed9d3f03214ed": {
          "model_module": "@jupyter-widgets/controls",
          "model_name": "DescriptionStyleModel",
          "model_module_version": "1.5.0",
          "state": {
            "_model_module": "@jupyter-widgets/controls",
            "_model_module_version": "1.5.0",
            "_model_name": "DescriptionStyleModel",
            "_view_count": null,
            "_view_module": "@jupyter-widgets/base",
            "_view_module_version": "1.2.0",
            "_view_name": "StyleView",
            "description_width": ""
          }
        },
        "a346ea98999f43268da148f906c34a80": {
          "model_module": "@jupyter-widgets/base",
          "model_name": "LayoutModel",
          "model_module_version": "1.2.0",
          "state": {
            "_model_module": "@jupyter-widgets/base",
            "_model_module_version": "1.2.0",
            "_model_name": "LayoutModel",
            "_view_count": null,
            "_view_module": "@jupyter-widgets/base",
            "_view_module_version": "1.2.0",
            "_view_name": "LayoutView",
            "align_content": null,
            "align_items": null,
            "align_self": null,
            "border": null,
            "bottom": null,
            "display": null,
            "flex": null,
            "flex_flow": null,
            "grid_area": null,
            "grid_auto_columns": null,
            "grid_auto_flow": null,
            "grid_auto_rows": null,
            "grid_column": null,
            "grid_gap": null,
            "grid_row": null,
            "grid_template_areas": null,
            "grid_template_columns": null,
            "grid_template_rows": null,
            "height": null,
            "justify_content": null,
            "justify_items": null,
            "left": null,
            "margin": null,
            "max_height": null,
            "max_width": null,
            "min_height": null,
            "min_width": null,
            "object_fit": null,
            "object_position": null,
            "order": null,
            "overflow": null,
            "overflow_x": null,
            "overflow_y": null,
            "padding": null,
            "right": null,
            "top": null,
            "visibility": null,
            "width": null
          }
        },
        "59dc2264645e45deb3e654d19393e3e3": {
          "model_module": "@jupyter-widgets/controls",
          "model_name": "ProgressStyleModel",
          "model_module_version": "1.5.0",
          "state": {
            "_model_module": "@jupyter-widgets/controls",
            "_model_module_version": "1.5.0",
            "_model_name": "ProgressStyleModel",
            "_view_count": null,
            "_view_module": "@jupyter-widgets/base",
            "_view_module_version": "1.2.0",
            "_view_name": "StyleView",
            "bar_color": null,
            "description_width": ""
          }
        },
        "140e24873ec942a296a557f666f5c370": {
          "model_module": "@jupyter-widgets/base",
          "model_name": "LayoutModel",
          "model_module_version": "1.2.0",
          "state": {
            "_model_module": "@jupyter-widgets/base",
            "_model_module_version": "1.2.0",
            "_model_name": "LayoutModel",
            "_view_count": null,
            "_view_module": "@jupyter-widgets/base",
            "_view_module_version": "1.2.0",
            "_view_name": "LayoutView",
            "align_content": null,
            "align_items": null,
            "align_self": null,
            "border": null,
            "bottom": null,
            "display": null,
            "flex": null,
            "flex_flow": null,
            "grid_area": null,
            "grid_auto_columns": null,
            "grid_auto_flow": null,
            "grid_auto_rows": null,
            "grid_column": null,
            "grid_gap": null,
            "grid_row": null,
            "grid_template_areas": null,
            "grid_template_columns": null,
            "grid_template_rows": null,
            "height": null,
            "justify_content": null,
            "justify_items": null,
            "left": null,
            "margin": null,
            "max_height": null,
            "max_width": null,
            "min_height": null,
            "min_width": null,
            "object_fit": null,
            "object_position": null,
            "order": null,
            "overflow": null,
            "overflow_x": null,
            "overflow_y": null,
            "padding": null,
            "right": null,
            "top": null,
            "visibility": null,
            "width": null
          }
        },
        "716ce959fdf34613a609be22d33c42f5": {
          "model_module": "@jupyter-widgets/controls",
          "model_name": "DescriptionStyleModel",
          "model_module_version": "1.5.0",
          "state": {
            "_model_module": "@jupyter-widgets/controls",
            "_model_module_version": "1.5.0",
            "_model_name": "DescriptionStyleModel",
            "_view_count": null,
            "_view_module": "@jupyter-widgets/base",
            "_view_module_version": "1.2.0",
            "_view_name": "StyleView",
            "description_width": ""
          }
        },
        "2ac027841cac414b8297676aae0f83ef": {
          "model_module": "@jupyter-widgets/controls",
          "model_name": "HBoxModel",
          "model_module_version": "1.5.0",
          "state": {
            "_dom_classes": [],
            "_model_module": "@jupyter-widgets/controls",
            "_model_module_version": "1.5.0",
            "_model_name": "HBoxModel",
            "_view_count": null,
            "_view_module": "@jupyter-widgets/controls",
            "_view_module_version": "1.5.0",
            "_view_name": "HBoxView",
            "box_style": "",
            "children": [
              "IPY_MODEL_0e763f25bee24dd7b56bfc459b6ecc3d",
              "IPY_MODEL_a2844158feda4359a1f968c9bcf15b40",
              "IPY_MODEL_af8b112ae271427289a8a4d130e875d2"
            ],
            "layout": "IPY_MODEL_ce5b980381034c4792c0e3e452ecb498"
          }
        },
        "0e763f25bee24dd7b56bfc459b6ecc3d": {
          "model_module": "@jupyter-widgets/controls",
          "model_name": "HTMLModel",
          "model_module_version": "1.5.0",
          "state": {
            "_dom_classes": [],
            "_model_module": "@jupyter-widgets/controls",
            "_model_module_version": "1.5.0",
            "_model_name": "HTMLModel",
            "_view_count": null,
            "_view_module": "@jupyter-widgets/controls",
            "_view_module_version": "1.5.0",
            "_view_name": "HTMLView",
            "description": "",
            "description_tooltip": null,
            "layout": "IPY_MODEL_1b97e336dfac42c3a0a9741408f087fb",
            "placeholder": "​",
            "style": "IPY_MODEL_37a1107560994836b77dc3f51ca47900",
            "value": "100%"
          }
        },
        "a2844158feda4359a1f968c9bcf15b40": {
          "model_module": "@jupyter-widgets/controls",
          "model_name": "FloatProgressModel",
          "model_module_version": "1.5.0",
          "state": {
            "_dom_classes": [],
            "_model_module": "@jupyter-widgets/controls",
            "_model_module_version": "1.5.0",
            "_model_name": "FloatProgressModel",
            "_view_count": null,
            "_view_module": "@jupyter-widgets/controls",
            "_view_module_version": "1.5.0",
            "_view_name": "ProgressView",
            "bar_style": "",
            "description": "",
            "description_tooltip": null,
            "layout": "IPY_MODEL_e24605b1fc394ab0b8af47d5359b86d0",
            "max": 278,
            "min": 0,
            "orientation": "horizontal",
            "style": "IPY_MODEL_b1bae4de65e646aeac725b6ab077228e",
            "value": 278
          }
        },
        "af8b112ae271427289a8a4d130e875d2": {
          "model_module": "@jupyter-widgets/controls",
          "model_name": "HTMLModel",
          "model_module_version": "1.5.0",
          "state": {
            "_dom_classes": [],
            "_model_module": "@jupyter-widgets/controls",
            "_model_module_version": "1.5.0",
            "_model_name": "HTMLModel",
            "_view_count": null,
            "_view_module": "@jupyter-widgets/controls",
            "_view_module_version": "1.5.0",
            "_view_name": "HTMLView",
            "description": "",
            "description_tooltip": null,
            "layout": "IPY_MODEL_4cb68c40cc3d43398d238cc0782b6a9a",
            "placeholder": "​",
            "style": "IPY_MODEL_4240d6947cf44713907130dfa6caad22",
            "value": " 278/278 [02:21&lt;00:00,  2.42it/s]"
          }
        },
        "ce5b980381034c4792c0e3e452ecb498": {
          "model_module": "@jupyter-widgets/base",
          "model_name": "LayoutModel",
          "model_module_version": "1.2.0",
          "state": {
            "_model_module": "@jupyter-widgets/base",
            "_model_module_version": "1.2.0",
            "_model_name": "LayoutModel",
            "_view_count": null,
            "_view_module": "@jupyter-widgets/base",
            "_view_module_version": "1.2.0",
            "_view_name": "LayoutView",
            "align_content": null,
            "align_items": null,
            "align_self": null,
            "border": null,
            "bottom": null,
            "display": null,
            "flex": null,
            "flex_flow": null,
            "grid_area": null,
            "grid_auto_columns": null,
            "grid_auto_flow": null,
            "grid_auto_rows": null,
            "grid_column": null,
            "grid_gap": null,
            "grid_row": null,
            "grid_template_areas": null,
            "grid_template_columns": null,
            "grid_template_rows": null,
            "height": null,
            "justify_content": null,
            "justify_items": null,
            "left": null,
            "margin": null,
            "max_height": null,
            "max_width": null,
            "min_height": null,
            "min_width": null,
            "object_fit": null,
            "object_position": null,
            "order": null,
            "overflow": null,
            "overflow_x": null,
            "overflow_y": null,
            "padding": null,
            "right": null,
            "top": null,
            "visibility": null,
            "width": null
          }
        },
        "1b97e336dfac42c3a0a9741408f087fb": {
          "model_module": "@jupyter-widgets/base",
          "model_name": "LayoutModel",
          "model_module_version": "1.2.0",
          "state": {
            "_model_module": "@jupyter-widgets/base",
            "_model_module_version": "1.2.0",
            "_model_name": "LayoutModel",
            "_view_count": null,
            "_view_module": "@jupyter-widgets/base",
            "_view_module_version": "1.2.0",
            "_view_name": "LayoutView",
            "align_content": null,
            "align_items": null,
            "align_self": null,
            "border": null,
            "bottom": null,
            "display": null,
            "flex": null,
            "flex_flow": null,
            "grid_area": null,
            "grid_auto_columns": null,
            "grid_auto_flow": null,
            "grid_auto_rows": null,
            "grid_column": null,
            "grid_gap": null,
            "grid_row": null,
            "grid_template_areas": null,
            "grid_template_columns": null,
            "grid_template_rows": null,
            "height": null,
            "justify_content": null,
            "justify_items": null,
            "left": null,
            "margin": null,
            "max_height": null,
            "max_width": null,
            "min_height": null,
            "min_width": null,
            "object_fit": null,
            "object_position": null,
            "order": null,
            "overflow": null,
            "overflow_x": null,
            "overflow_y": null,
            "padding": null,
            "right": null,
            "top": null,
            "visibility": null,
            "width": null
          }
        },
        "37a1107560994836b77dc3f51ca47900": {
          "model_module": "@jupyter-widgets/controls",
          "model_name": "DescriptionStyleModel",
          "model_module_version": "1.5.0",
          "state": {
            "_model_module": "@jupyter-widgets/controls",
            "_model_module_version": "1.5.0",
            "_model_name": "DescriptionStyleModel",
            "_view_count": null,
            "_view_module": "@jupyter-widgets/base",
            "_view_module_version": "1.2.0",
            "_view_name": "StyleView",
            "description_width": ""
          }
        },
        "e24605b1fc394ab0b8af47d5359b86d0": {
          "model_module": "@jupyter-widgets/base",
          "model_name": "LayoutModel",
          "model_module_version": "1.2.0",
          "state": {
            "_model_module": "@jupyter-widgets/base",
            "_model_module_version": "1.2.0",
            "_model_name": "LayoutModel",
            "_view_count": null,
            "_view_module": "@jupyter-widgets/base",
            "_view_module_version": "1.2.0",
            "_view_name": "LayoutView",
            "align_content": null,
            "align_items": null,
            "align_self": null,
            "border": null,
            "bottom": null,
            "display": null,
            "flex": null,
            "flex_flow": null,
            "grid_area": null,
            "grid_auto_columns": null,
            "grid_auto_flow": null,
            "grid_auto_rows": null,
            "grid_column": null,
            "grid_gap": null,
            "grid_row": null,
            "grid_template_areas": null,
            "grid_template_columns": null,
            "grid_template_rows": null,
            "height": null,
            "justify_content": null,
            "justify_items": null,
            "left": null,
            "margin": null,
            "max_height": null,
            "max_width": null,
            "min_height": null,
            "min_width": null,
            "object_fit": null,
            "object_position": null,
            "order": null,
            "overflow": null,
            "overflow_x": null,
            "overflow_y": null,
            "padding": null,
            "right": null,
            "top": null,
            "visibility": null,
            "width": null
          }
        },
        "b1bae4de65e646aeac725b6ab077228e": {
          "model_module": "@jupyter-widgets/controls",
          "model_name": "ProgressStyleModel",
          "model_module_version": "1.5.0",
          "state": {
            "_model_module": "@jupyter-widgets/controls",
            "_model_module_version": "1.5.0",
            "_model_name": "ProgressStyleModel",
            "_view_count": null,
            "_view_module": "@jupyter-widgets/base",
            "_view_module_version": "1.2.0",
            "_view_name": "StyleView",
            "bar_color": null,
            "description_width": ""
          }
        },
        "4cb68c40cc3d43398d238cc0782b6a9a": {
          "model_module": "@jupyter-widgets/base",
          "model_name": "LayoutModel",
          "model_module_version": "1.2.0",
          "state": {
            "_model_module": "@jupyter-widgets/base",
            "_model_module_version": "1.2.0",
            "_model_name": "LayoutModel",
            "_view_count": null,
            "_view_module": "@jupyter-widgets/base",
            "_view_module_version": "1.2.0",
            "_view_name": "LayoutView",
            "align_content": null,
            "align_items": null,
            "align_self": null,
            "border": null,
            "bottom": null,
            "display": null,
            "flex": null,
            "flex_flow": null,
            "grid_area": null,
            "grid_auto_columns": null,
            "grid_auto_flow": null,
            "grid_auto_rows": null,
            "grid_column": null,
            "grid_gap": null,
            "grid_row": null,
            "grid_template_areas": null,
            "grid_template_columns": null,
            "grid_template_rows": null,
            "height": null,
            "justify_content": null,
            "justify_items": null,
            "left": null,
            "margin": null,
            "max_height": null,
            "max_width": null,
            "min_height": null,
            "min_width": null,
            "object_fit": null,
            "object_position": null,
            "order": null,
            "overflow": null,
            "overflow_x": null,
            "overflow_y": null,
            "padding": null,
            "right": null,
            "top": null,
            "visibility": null,
            "width": null
          }
        },
        "4240d6947cf44713907130dfa6caad22": {
          "model_module": "@jupyter-widgets/controls",
          "model_name": "DescriptionStyleModel",
          "model_module_version": "1.5.0",
          "state": {
            "_model_module": "@jupyter-widgets/controls",
            "_model_module_version": "1.5.0",
            "_model_name": "DescriptionStyleModel",
            "_view_count": null,
            "_view_module": "@jupyter-widgets/base",
            "_view_module_version": "1.2.0",
            "_view_name": "StyleView",
            "description_width": ""
          }
        },
        "461c2ea0f742480b87ce769c3ee37cae": {
          "model_module": "@jupyter-widgets/controls",
          "model_name": "HBoxModel",
          "model_module_version": "1.5.0",
          "state": {
            "_dom_classes": [],
            "_model_module": "@jupyter-widgets/controls",
            "_model_module_version": "1.5.0",
            "_model_name": "HBoxModel",
            "_view_count": null,
            "_view_module": "@jupyter-widgets/controls",
            "_view_module_version": "1.5.0",
            "_view_name": "HBoxView",
            "box_style": "",
            "children": [
              "IPY_MODEL_ca0ae679acca4dda94d3a1aebddc97be",
              "IPY_MODEL_581c76e6c31b415683018e07c04ca10b",
              "IPY_MODEL_ffd07489b1f343af9cdf8809e274e4e2"
            ],
            "layout": "IPY_MODEL_69359da12cc24e6abf44398aff6f8f08"
          }
        },
        "ca0ae679acca4dda94d3a1aebddc97be": {
          "model_module": "@jupyter-widgets/controls",
          "model_name": "HTMLModel",
          "model_module_version": "1.5.0",
          "state": {
            "_dom_classes": [],
            "_model_module": "@jupyter-widgets/controls",
            "_model_module_version": "1.5.0",
            "_model_name": "HTMLModel",
            "_view_count": null,
            "_view_module": "@jupyter-widgets/controls",
            "_view_module_version": "1.5.0",
            "_view_name": "HTMLView",
            "description": "",
            "description_tooltip": null,
            "layout": "IPY_MODEL_ba91ddbd766e45a78232b9add12838f4",
            "placeholder": "​",
            "style": "IPY_MODEL_c2895084a34840e1861b40b4ae4bd628",
            "value": "100%"
          }
        },
        "581c76e6c31b415683018e07c04ca10b": {
          "model_module": "@jupyter-widgets/controls",
          "model_name": "FloatProgressModel",
          "model_module_version": "1.5.0",
          "state": {
            "_dom_classes": [],
            "_model_module": "@jupyter-widgets/controls",
            "_model_module_version": "1.5.0",
            "_model_name": "FloatProgressModel",
            "_view_count": null,
            "_view_module": "@jupyter-widgets/controls",
            "_view_module_version": "1.5.0",
            "_view_name": "ProgressView",
            "bar_style": "",
            "description": "",
            "description_tooltip": null,
            "layout": "IPY_MODEL_116da47841654ba9b02783b1bbdce92f",
            "max": 277,
            "min": 0,
            "orientation": "horizontal",
            "style": "IPY_MODEL_442e8f031e5e4b6ab12a478baa51fa76",
            "value": 277
          }
        },
        "ffd07489b1f343af9cdf8809e274e4e2": {
          "model_module": "@jupyter-widgets/controls",
          "model_name": "HTMLModel",
          "model_module_version": "1.5.0",
          "state": {
            "_dom_classes": [],
            "_model_module": "@jupyter-widgets/controls",
            "_model_module_version": "1.5.0",
            "_model_name": "HTMLModel",
            "_view_count": null,
            "_view_module": "@jupyter-widgets/controls",
            "_view_module_version": "1.5.0",
            "_view_name": "HTMLView",
            "description": "",
            "description_tooltip": null,
            "layout": "IPY_MODEL_995c1edd05f64a05ad320b74a66cb767",
            "placeholder": "​",
            "style": "IPY_MODEL_633902e16d0040cca87dfa81eda7b66a",
            "value": " 277/277 [02:41&lt;00:00,  2.06it/s]"
          }
        },
        "69359da12cc24e6abf44398aff6f8f08": {
          "model_module": "@jupyter-widgets/base",
          "model_name": "LayoutModel",
          "model_module_version": "1.2.0",
          "state": {
            "_model_module": "@jupyter-widgets/base",
            "_model_module_version": "1.2.0",
            "_model_name": "LayoutModel",
            "_view_count": null,
            "_view_module": "@jupyter-widgets/base",
            "_view_module_version": "1.2.0",
            "_view_name": "LayoutView",
            "align_content": null,
            "align_items": null,
            "align_self": null,
            "border": null,
            "bottom": null,
            "display": null,
            "flex": null,
            "flex_flow": null,
            "grid_area": null,
            "grid_auto_columns": null,
            "grid_auto_flow": null,
            "grid_auto_rows": null,
            "grid_column": null,
            "grid_gap": null,
            "grid_row": null,
            "grid_template_areas": null,
            "grid_template_columns": null,
            "grid_template_rows": null,
            "height": null,
            "justify_content": null,
            "justify_items": null,
            "left": null,
            "margin": null,
            "max_height": null,
            "max_width": null,
            "min_height": null,
            "min_width": null,
            "object_fit": null,
            "object_position": null,
            "order": null,
            "overflow": null,
            "overflow_x": null,
            "overflow_y": null,
            "padding": null,
            "right": null,
            "top": null,
            "visibility": null,
            "width": null
          }
        },
        "ba91ddbd766e45a78232b9add12838f4": {
          "model_module": "@jupyter-widgets/base",
          "model_name": "LayoutModel",
          "model_module_version": "1.2.0",
          "state": {
            "_model_module": "@jupyter-widgets/base",
            "_model_module_version": "1.2.0",
            "_model_name": "LayoutModel",
            "_view_count": null,
            "_view_module": "@jupyter-widgets/base",
            "_view_module_version": "1.2.0",
            "_view_name": "LayoutView",
            "align_content": null,
            "align_items": null,
            "align_self": null,
            "border": null,
            "bottom": null,
            "display": null,
            "flex": null,
            "flex_flow": null,
            "grid_area": null,
            "grid_auto_columns": null,
            "grid_auto_flow": null,
            "grid_auto_rows": null,
            "grid_column": null,
            "grid_gap": null,
            "grid_row": null,
            "grid_template_areas": null,
            "grid_template_columns": null,
            "grid_template_rows": null,
            "height": null,
            "justify_content": null,
            "justify_items": null,
            "left": null,
            "margin": null,
            "max_height": null,
            "max_width": null,
            "min_height": null,
            "min_width": null,
            "object_fit": null,
            "object_position": null,
            "order": null,
            "overflow": null,
            "overflow_x": null,
            "overflow_y": null,
            "padding": null,
            "right": null,
            "top": null,
            "visibility": null,
            "width": null
          }
        },
        "c2895084a34840e1861b40b4ae4bd628": {
          "model_module": "@jupyter-widgets/controls",
          "model_name": "DescriptionStyleModel",
          "model_module_version": "1.5.0",
          "state": {
            "_model_module": "@jupyter-widgets/controls",
            "_model_module_version": "1.5.0",
            "_model_name": "DescriptionStyleModel",
            "_view_count": null,
            "_view_module": "@jupyter-widgets/base",
            "_view_module_version": "1.2.0",
            "_view_name": "StyleView",
            "description_width": ""
          }
        },
        "116da47841654ba9b02783b1bbdce92f": {
          "model_module": "@jupyter-widgets/base",
          "model_name": "LayoutModel",
          "model_module_version": "1.2.0",
          "state": {
            "_model_module": "@jupyter-widgets/base",
            "_model_module_version": "1.2.0",
            "_model_name": "LayoutModel",
            "_view_count": null,
            "_view_module": "@jupyter-widgets/base",
            "_view_module_version": "1.2.0",
            "_view_name": "LayoutView",
            "align_content": null,
            "align_items": null,
            "align_self": null,
            "border": null,
            "bottom": null,
            "display": null,
            "flex": null,
            "flex_flow": null,
            "grid_area": null,
            "grid_auto_columns": null,
            "grid_auto_flow": null,
            "grid_auto_rows": null,
            "grid_column": null,
            "grid_gap": null,
            "grid_row": null,
            "grid_template_areas": null,
            "grid_template_columns": null,
            "grid_template_rows": null,
            "height": null,
            "justify_content": null,
            "justify_items": null,
            "left": null,
            "margin": null,
            "max_height": null,
            "max_width": null,
            "min_height": null,
            "min_width": null,
            "object_fit": null,
            "object_position": null,
            "order": null,
            "overflow": null,
            "overflow_x": null,
            "overflow_y": null,
            "padding": null,
            "right": null,
            "top": null,
            "visibility": null,
            "width": null
          }
        },
        "442e8f031e5e4b6ab12a478baa51fa76": {
          "model_module": "@jupyter-widgets/controls",
          "model_name": "ProgressStyleModel",
          "model_module_version": "1.5.0",
          "state": {
            "_model_module": "@jupyter-widgets/controls",
            "_model_module_version": "1.5.0",
            "_model_name": "ProgressStyleModel",
            "_view_count": null,
            "_view_module": "@jupyter-widgets/base",
            "_view_module_version": "1.2.0",
            "_view_name": "StyleView",
            "bar_color": null,
            "description_width": ""
          }
        },
        "995c1edd05f64a05ad320b74a66cb767": {
          "model_module": "@jupyter-widgets/base",
          "model_name": "LayoutModel",
          "model_module_version": "1.2.0",
          "state": {
            "_model_module": "@jupyter-widgets/base",
            "_model_module_version": "1.2.0",
            "_model_name": "LayoutModel",
            "_view_count": null,
            "_view_module": "@jupyter-widgets/base",
            "_view_module_version": "1.2.0",
            "_view_name": "LayoutView",
            "align_content": null,
            "align_items": null,
            "align_self": null,
            "border": null,
            "bottom": null,
            "display": null,
            "flex": null,
            "flex_flow": null,
            "grid_area": null,
            "grid_auto_columns": null,
            "grid_auto_flow": null,
            "grid_auto_rows": null,
            "grid_column": null,
            "grid_gap": null,
            "grid_row": null,
            "grid_template_areas": null,
            "grid_template_columns": null,
            "grid_template_rows": null,
            "height": null,
            "justify_content": null,
            "justify_items": null,
            "left": null,
            "margin": null,
            "max_height": null,
            "max_width": null,
            "min_height": null,
            "min_width": null,
            "object_fit": null,
            "object_position": null,
            "order": null,
            "overflow": null,
            "overflow_x": null,
            "overflow_y": null,
            "padding": null,
            "right": null,
            "top": null,
            "visibility": null,
            "width": null
          }
        },
        "633902e16d0040cca87dfa81eda7b66a": {
          "model_module": "@jupyter-widgets/controls",
          "model_name": "DescriptionStyleModel",
          "model_module_version": "1.5.0",
          "state": {
            "_model_module": "@jupyter-widgets/controls",
            "_model_module_version": "1.5.0",
            "_model_name": "DescriptionStyleModel",
            "_view_count": null,
            "_view_module": "@jupyter-widgets/base",
            "_view_module_version": "1.2.0",
            "_view_name": "StyleView",
            "description_width": ""
          }
        },
        "98d7c099e4ee44309b4087940f580541": {
          "model_module": "@jupyter-widgets/controls",
          "model_name": "HBoxModel",
          "model_module_version": "1.5.0",
          "state": {
            "_dom_classes": [],
            "_model_module": "@jupyter-widgets/controls",
            "_model_module_version": "1.5.0",
            "_model_name": "HBoxModel",
            "_view_count": null,
            "_view_module": "@jupyter-widgets/controls",
            "_view_module_version": "1.5.0",
            "_view_name": "HBoxView",
            "box_style": "",
            "children": [
              "IPY_MODEL_813ff0b8e0d6446baeba1ec73e6afc80",
              "IPY_MODEL_413048a8e2c54a9a844f4a65bf952a96",
              "IPY_MODEL_4f47bed1f7a948fabdaf29d2dfdb1b67"
            ],
            "layout": "IPY_MODEL_ec439d6aa46340e79efe8f56f072cbc7"
          }
        },
        "813ff0b8e0d6446baeba1ec73e6afc80": {
          "model_module": "@jupyter-widgets/controls",
          "model_name": "HTMLModel",
          "model_module_version": "1.5.0",
          "state": {
            "_dom_classes": [],
            "_model_module": "@jupyter-widgets/controls",
            "_model_module_version": "1.5.0",
            "_model_name": "HTMLModel",
            "_view_count": null,
            "_view_module": "@jupyter-widgets/controls",
            "_view_module_version": "1.5.0",
            "_view_name": "HTMLView",
            "description": "",
            "description_tooltip": null,
            "layout": "IPY_MODEL_4603738bfb5b4f608cbaf5c25925b23d",
            "placeholder": "​",
            "style": "IPY_MODEL_59d25428401b447c9bbca76d26878078",
            "value": "100%"
          }
        },
        "413048a8e2c54a9a844f4a65bf952a96": {
          "model_module": "@jupyter-widgets/controls",
          "model_name": "FloatProgressModel",
          "model_module_version": "1.5.0",
          "state": {
            "_dom_classes": [],
            "_model_module": "@jupyter-widgets/controls",
            "_model_module_version": "1.5.0",
            "_model_name": "FloatProgressModel",
            "_view_count": null,
            "_view_module": "@jupyter-widgets/controls",
            "_view_module_version": "1.5.0",
            "_view_name": "ProgressView",
            "bar_style": "",
            "description": "",
            "description_tooltip": null,
            "layout": "IPY_MODEL_a616ecf584c64c208c9fccd5de88f757",
            "max": 276,
            "min": 0,
            "orientation": "horizontal",
            "style": "IPY_MODEL_cc04300c3e7646d5939bf069a91c0663",
            "value": 276
          }
        },
        "4f47bed1f7a948fabdaf29d2dfdb1b67": {
          "model_module": "@jupyter-widgets/controls",
          "model_name": "HTMLModel",
          "model_module_version": "1.5.0",
          "state": {
            "_dom_classes": [],
            "_model_module": "@jupyter-widgets/controls",
            "_model_module_version": "1.5.0",
            "_model_name": "HTMLModel",
            "_view_count": null,
            "_view_module": "@jupyter-widgets/controls",
            "_view_module_version": "1.5.0",
            "_view_name": "HTMLView",
            "description": "",
            "description_tooltip": null,
            "layout": "IPY_MODEL_c1b940140fa0486f93c292d5debf8850",
            "placeholder": "​",
            "style": "IPY_MODEL_7830b3c3c4334b09aee7c02a6cf6513c",
            "value": " 276/276 [03:03&lt;00:00,  1.95it/s]"
          }
        },
        "ec439d6aa46340e79efe8f56f072cbc7": {
          "model_module": "@jupyter-widgets/base",
          "model_name": "LayoutModel",
          "model_module_version": "1.2.0",
          "state": {
            "_model_module": "@jupyter-widgets/base",
            "_model_module_version": "1.2.0",
            "_model_name": "LayoutModel",
            "_view_count": null,
            "_view_module": "@jupyter-widgets/base",
            "_view_module_version": "1.2.0",
            "_view_name": "LayoutView",
            "align_content": null,
            "align_items": null,
            "align_self": null,
            "border": null,
            "bottom": null,
            "display": null,
            "flex": null,
            "flex_flow": null,
            "grid_area": null,
            "grid_auto_columns": null,
            "grid_auto_flow": null,
            "grid_auto_rows": null,
            "grid_column": null,
            "grid_gap": null,
            "grid_row": null,
            "grid_template_areas": null,
            "grid_template_columns": null,
            "grid_template_rows": null,
            "height": null,
            "justify_content": null,
            "justify_items": null,
            "left": null,
            "margin": null,
            "max_height": null,
            "max_width": null,
            "min_height": null,
            "min_width": null,
            "object_fit": null,
            "object_position": null,
            "order": null,
            "overflow": null,
            "overflow_x": null,
            "overflow_y": null,
            "padding": null,
            "right": null,
            "top": null,
            "visibility": null,
            "width": null
          }
        },
        "4603738bfb5b4f608cbaf5c25925b23d": {
          "model_module": "@jupyter-widgets/base",
          "model_name": "LayoutModel",
          "model_module_version": "1.2.0",
          "state": {
            "_model_module": "@jupyter-widgets/base",
            "_model_module_version": "1.2.0",
            "_model_name": "LayoutModel",
            "_view_count": null,
            "_view_module": "@jupyter-widgets/base",
            "_view_module_version": "1.2.0",
            "_view_name": "LayoutView",
            "align_content": null,
            "align_items": null,
            "align_self": null,
            "border": null,
            "bottom": null,
            "display": null,
            "flex": null,
            "flex_flow": null,
            "grid_area": null,
            "grid_auto_columns": null,
            "grid_auto_flow": null,
            "grid_auto_rows": null,
            "grid_column": null,
            "grid_gap": null,
            "grid_row": null,
            "grid_template_areas": null,
            "grid_template_columns": null,
            "grid_template_rows": null,
            "height": null,
            "justify_content": null,
            "justify_items": null,
            "left": null,
            "margin": null,
            "max_height": null,
            "max_width": null,
            "min_height": null,
            "min_width": null,
            "object_fit": null,
            "object_position": null,
            "order": null,
            "overflow": null,
            "overflow_x": null,
            "overflow_y": null,
            "padding": null,
            "right": null,
            "top": null,
            "visibility": null,
            "width": null
          }
        },
        "59d25428401b447c9bbca76d26878078": {
          "model_module": "@jupyter-widgets/controls",
          "model_name": "DescriptionStyleModel",
          "model_module_version": "1.5.0",
          "state": {
            "_model_module": "@jupyter-widgets/controls",
            "_model_module_version": "1.5.0",
            "_model_name": "DescriptionStyleModel",
            "_view_count": null,
            "_view_module": "@jupyter-widgets/base",
            "_view_module_version": "1.2.0",
            "_view_name": "StyleView",
            "description_width": ""
          }
        },
        "a616ecf584c64c208c9fccd5de88f757": {
          "model_module": "@jupyter-widgets/base",
          "model_name": "LayoutModel",
          "model_module_version": "1.2.0",
          "state": {
            "_model_module": "@jupyter-widgets/base",
            "_model_module_version": "1.2.0",
            "_model_name": "LayoutModel",
            "_view_count": null,
            "_view_module": "@jupyter-widgets/base",
            "_view_module_version": "1.2.0",
            "_view_name": "LayoutView",
            "align_content": null,
            "align_items": null,
            "align_self": null,
            "border": null,
            "bottom": null,
            "display": null,
            "flex": null,
            "flex_flow": null,
            "grid_area": null,
            "grid_auto_columns": null,
            "grid_auto_flow": null,
            "grid_auto_rows": null,
            "grid_column": null,
            "grid_gap": null,
            "grid_row": null,
            "grid_template_areas": null,
            "grid_template_columns": null,
            "grid_template_rows": null,
            "height": null,
            "justify_content": null,
            "justify_items": null,
            "left": null,
            "margin": null,
            "max_height": null,
            "max_width": null,
            "min_height": null,
            "min_width": null,
            "object_fit": null,
            "object_position": null,
            "order": null,
            "overflow": null,
            "overflow_x": null,
            "overflow_y": null,
            "padding": null,
            "right": null,
            "top": null,
            "visibility": null,
            "width": null
          }
        },
        "cc04300c3e7646d5939bf069a91c0663": {
          "model_module": "@jupyter-widgets/controls",
          "model_name": "ProgressStyleModel",
          "model_module_version": "1.5.0",
          "state": {
            "_model_module": "@jupyter-widgets/controls",
            "_model_module_version": "1.5.0",
            "_model_name": "ProgressStyleModel",
            "_view_count": null,
            "_view_module": "@jupyter-widgets/base",
            "_view_module_version": "1.2.0",
            "_view_name": "StyleView",
            "bar_color": null,
            "description_width": ""
          }
        },
        "c1b940140fa0486f93c292d5debf8850": {
          "model_module": "@jupyter-widgets/base",
          "model_name": "LayoutModel",
          "model_module_version": "1.2.0",
          "state": {
            "_model_module": "@jupyter-widgets/base",
            "_model_module_version": "1.2.0",
            "_model_name": "LayoutModel",
            "_view_count": null,
            "_view_module": "@jupyter-widgets/base",
            "_view_module_version": "1.2.0",
            "_view_name": "LayoutView",
            "align_content": null,
            "align_items": null,
            "align_self": null,
            "border": null,
            "bottom": null,
            "display": null,
            "flex": null,
            "flex_flow": null,
            "grid_area": null,
            "grid_auto_columns": null,
            "grid_auto_flow": null,
            "grid_auto_rows": null,
            "grid_column": null,
            "grid_gap": null,
            "grid_row": null,
            "grid_template_areas": null,
            "grid_template_columns": null,
            "grid_template_rows": null,
            "height": null,
            "justify_content": null,
            "justify_items": null,
            "left": null,
            "margin": null,
            "max_height": null,
            "max_width": null,
            "min_height": null,
            "min_width": null,
            "object_fit": null,
            "object_position": null,
            "order": null,
            "overflow": null,
            "overflow_x": null,
            "overflow_y": null,
            "padding": null,
            "right": null,
            "top": null,
            "visibility": null,
            "width": null
          }
        },
        "7830b3c3c4334b09aee7c02a6cf6513c": {
          "model_module": "@jupyter-widgets/controls",
          "model_name": "DescriptionStyleModel",
          "model_module_version": "1.5.0",
          "state": {
            "_model_module": "@jupyter-widgets/controls",
            "_model_module_version": "1.5.0",
            "_model_name": "DescriptionStyleModel",
            "_view_count": null,
            "_view_module": "@jupyter-widgets/base",
            "_view_module_version": "1.2.0",
            "_view_name": "StyleView",
            "description_width": ""
          }
        },
        "78e295ee5635483baeea15ea7f98289a": {
          "model_module": "@jupyter-widgets/controls",
          "model_name": "HBoxModel",
          "model_module_version": "1.5.0",
          "state": {
            "_dom_classes": [],
            "_model_module": "@jupyter-widgets/controls",
            "_model_module_version": "1.5.0",
            "_model_name": "HBoxModel",
            "_view_count": null,
            "_view_module": "@jupyter-widgets/controls",
            "_view_module_version": "1.5.0",
            "_view_name": "HBoxView",
            "box_style": "",
            "children": [
              "IPY_MODEL_0cdee78c1d7045f19be8756081b861b9",
              "IPY_MODEL_3e389f649f8a4c839445b6a5fafc8cc2",
              "IPY_MODEL_6a3aff4a26c54fa78ca74fbdb9166714"
            ],
            "layout": "IPY_MODEL_f73afcc924e946dd93ab07bcf60e7fbb"
          }
        },
        "0cdee78c1d7045f19be8756081b861b9": {
          "model_module": "@jupyter-widgets/controls",
          "model_name": "HTMLModel",
          "model_module_version": "1.5.0",
          "state": {
            "_dom_classes": [],
            "_model_module": "@jupyter-widgets/controls",
            "_model_module_version": "1.5.0",
            "_model_name": "HTMLModel",
            "_view_count": null,
            "_view_module": "@jupyter-widgets/controls",
            "_view_module_version": "1.5.0",
            "_view_name": "HTMLView",
            "description": "",
            "description_tooltip": null,
            "layout": "IPY_MODEL_d900608375cc49c88fa921490e9031be",
            "placeholder": "​",
            "style": "IPY_MODEL_9969b8abe20249f985e727ba32f455bb",
            "value": "100%"
          }
        },
        "3e389f649f8a4c839445b6a5fafc8cc2": {
          "model_module": "@jupyter-widgets/controls",
          "model_name": "FloatProgressModel",
          "model_module_version": "1.5.0",
          "state": {
            "_dom_classes": [],
            "_model_module": "@jupyter-widgets/controls",
            "_model_module_version": "1.5.0",
            "_model_name": "FloatProgressModel",
            "_view_count": null,
            "_view_module": "@jupyter-widgets/controls",
            "_view_module_version": "1.5.0",
            "_view_name": "ProgressView",
            "bar_style": "",
            "description": "",
            "description_tooltip": null,
            "layout": "IPY_MODEL_19021486d6b34dd3bbbcdf79400f4fee",
            "max": 275,
            "min": 0,
            "orientation": "horizontal",
            "style": "IPY_MODEL_11c5af3ea3d047e49e15bb0b762b1541",
            "value": 275
          }
        },
        "6a3aff4a26c54fa78ca74fbdb9166714": {
          "model_module": "@jupyter-widgets/controls",
          "model_name": "HTMLModel",
          "model_module_version": "1.5.0",
          "state": {
            "_dom_classes": [],
            "_model_module": "@jupyter-widgets/controls",
            "_model_module_version": "1.5.0",
            "_model_name": "HTMLModel",
            "_view_count": null,
            "_view_module": "@jupyter-widgets/controls",
            "_view_module_version": "1.5.0",
            "_view_name": "HTMLView",
            "description": "",
            "description_tooltip": null,
            "layout": "IPY_MODEL_56999074d9394f70825f4b152574c2f4",
            "placeholder": "​",
            "style": "IPY_MODEL_9bd39cf4ebe14bedb810151e9a227e74",
            "value": " 275/275 [03:17&lt;00:00,  1.72it/s]"
          }
        },
        "f73afcc924e946dd93ab07bcf60e7fbb": {
          "model_module": "@jupyter-widgets/base",
          "model_name": "LayoutModel",
          "model_module_version": "1.2.0",
          "state": {
            "_model_module": "@jupyter-widgets/base",
            "_model_module_version": "1.2.0",
            "_model_name": "LayoutModel",
            "_view_count": null,
            "_view_module": "@jupyter-widgets/base",
            "_view_module_version": "1.2.0",
            "_view_name": "LayoutView",
            "align_content": null,
            "align_items": null,
            "align_self": null,
            "border": null,
            "bottom": null,
            "display": null,
            "flex": null,
            "flex_flow": null,
            "grid_area": null,
            "grid_auto_columns": null,
            "grid_auto_flow": null,
            "grid_auto_rows": null,
            "grid_column": null,
            "grid_gap": null,
            "grid_row": null,
            "grid_template_areas": null,
            "grid_template_columns": null,
            "grid_template_rows": null,
            "height": null,
            "justify_content": null,
            "justify_items": null,
            "left": null,
            "margin": null,
            "max_height": null,
            "max_width": null,
            "min_height": null,
            "min_width": null,
            "object_fit": null,
            "object_position": null,
            "order": null,
            "overflow": null,
            "overflow_x": null,
            "overflow_y": null,
            "padding": null,
            "right": null,
            "top": null,
            "visibility": null,
            "width": null
          }
        },
        "d900608375cc49c88fa921490e9031be": {
          "model_module": "@jupyter-widgets/base",
          "model_name": "LayoutModel",
          "model_module_version": "1.2.0",
          "state": {
            "_model_module": "@jupyter-widgets/base",
            "_model_module_version": "1.2.0",
            "_model_name": "LayoutModel",
            "_view_count": null,
            "_view_module": "@jupyter-widgets/base",
            "_view_module_version": "1.2.0",
            "_view_name": "LayoutView",
            "align_content": null,
            "align_items": null,
            "align_self": null,
            "border": null,
            "bottom": null,
            "display": null,
            "flex": null,
            "flex_flow": null,
            "grid_area": null,
            "grid_auto_columns": null,
            "grid_auto_flow": null,
            "grid_auto_rows": null,
            "grid_column": null,
            "grid_gap": null,
            "grid_row": null,
            "grid_template_areas": null,
            "grid_template_columns": null,
            "grid_template_rows": null,
            "height": null,
            "justify_content": null,
            "justify_items": null,
            "left": null,
            "margin": null,
            "max_height": null,
            "max_width": null,
            "min_height": null,
            "min_width": null,
            "object_fit": null,
            "object_position": null,
            "order": null,
            "overflow": null,
            "overflow_x": null,
            "overflow_y": null,
            "padding": null,
            "right": null,
            "top": null,
            "visibility": null,
            "width": null
          }
        },
        "9969b8abe20249f985e727ba32f455bb": {
          "model_module": "@jupyter-widgets/controls",
          "model_name": "DescriptionStyleModel",
          "model_module_version": "1.5.0",
          "state": {
            "_model_module": "@jupyter-widgets/controls",
            "_model_module_version": "1.5.0",
            "_model_name": "DescriptionStyleModel",
            "_view_count": null,
            "_view_module": "@jupyter-widgets/base",
            "_view_module_version": "1.2.0",
            "_view_name": "StyleView",
            "description_width": ""
          }
        },
        "19021486d6b34dd3bbbcdf79400f4fee": {
          "model_module": "@jupyter-widgets/base",
          "model_name": "LayoutModel",
          "model_module_version": "1.2.0",
          "state": {
            "_model_module": "@jupyter-widgets/base",
            "_model_module_version": "1.2.0",
            "_model_name": "LayoutModel",
            "_view_count": null,
            "_view_module": "@jupyter-widgets/base",
            "_view_module_version": "1.2.0",
            "_view_name": "LayoutView",
            "align_content": null,
            "align_items": null,
            "align_self": null,
            "border": null,
            "bottom": null,
            "display": null,
            "flex": null,
            "flex_flow": null,
            "grid_area": null,
            "grid_auto_columns": null,
            "grid_auto_flow": null,
            "grid_auto_rows": null,
            "grid_column": null,
            "grid_gap": null,
            "grid_row": null,
            "grid_template_areas": null,
            "grid_template_columns": null,
            "grid_template_rows": null,
            "height": null,
            "justify_content": null,
            "justify_items": null,
            "left": null,
            "margin": null,
            "max_height": null,
            "max_width": null,
            "min_height": null,
            "min_width": null,
            "object_fit": null,
            "object_position": null,
            "order": null,
            "overflow": null,
            "overflow_x": null,
            "overflow_y": null,
            "padding": null,
            "right": null,
            "top": null,
            "visibility": null,
            "width": null
          }
        },
        "11c5af3ea3d047e49e15bb0b762b1541": {
          "model_module": "@jupyter-widgets/controls",
          "model_name": "ProgressStyleModel",
          "model_module_version": "1.5.0",
          "state": {
            "_model_module": "@jupyter-widgets/controls",
            "_model_module_version": "1.5.0",
            "_model_name": "ProgressStyleModel",
            "_view_count": null,
            "_view_module": "@jupyter-widgets/base",
            "_view_module_version": "1.2.0",
            "_view_name": "StyleView",
            "bar_color": null,
            "description_width": ""
          }
        },
        "56999074d9394f70825f4b152574c2f4": {
          "model_module": "@jupyter-widgets/base",
          "model_name": "LayoutModel",
          "model_module_version": "1.2.0",
          "state": {
            "_model_module": "@jupyter-widgets/base",
            "_model_module_version": "1.2.0",
            "_model_name": "LayoutModel",
            "_view_count": null,
            "_view_module": "@jupyter-widgets/base",
            "_view_module_version": "1.2.0",
            "_view_name": "LayoutView",
            "align_content": null,
            "align_items": null,
            "align_self": null,
            "border": null,
            "bottom": null,
            "display": null,
            "flex": null,
            "flex_flow": null,
            "grid_area": null,
            "grid_auto_columns": null,
            "grid_auto_flow": null,
            "grid_auto_rows": null,
            "grid_column": null,
            "grid_gap": null,
            "grid_row": null,
            "grid_template_areas": null,
            "grid_template_columns": null,
            "grid_template_rows": null,
            "height": null,
            "justify_content": null,
            "justify_items": null,
            "left": null,
            "margin": null,
            "max_height": null,
            "max_width": null,
            "min_height": null,
            "min_width": null,
            "object_fit": null,
            "object_position": null,
            "order": null,
            "overflow": null,
            "overflow_x": null,
            "overflow_y": null,
            "padding": null,
            "right": null,
            "top": null,
            "visibility": null,
            "width": null
          }
        },
        "9bd39cf4ebe14bedb810151e9a227e74": {
          "model_module": "@jupyter-widgets/controls",
          "model_name": "DescriptionStyleModel",
          "model_module_version": "1.5.0",
          "state": {
            "_model_module": "@jupyter-widgets/controls",
            "_model_module_version": "1.5.0",
            "_model_name": "DescriptionStyleModel",
            "_view_count": null,
            "_view_module": "@jupyter-widgets/base",
            "_view_module_version": "1.2.0",
            "_view_name": "StyleView",
            "description_width": ""
          }
        },
        "e90097e813954e0b9600fd5334138162": {
          "model_module": "@jupyter-widgets/controls",
          "model_name": "HBoxModel",
          "model_module_version": "1.5.0",
          "state": {
            "_dom_classes": [],
            "_model_module": "@jupyter-widgets/controls",
            "_model_module_version": "1.5.0",
            "_model_name": "HBoxModel",
            "_view_count": null,
            "_view_module": "@jupyter-widgets/controls",
            "_view_module_version": "1.5.0",
            "_view_name": "HBoxView",
            "box_style": "",
            "children": [
              "IPY_MODEL_2dceaec3f85543b388682c5460a7f8af",
              "IPY_MODEL_50dc18af29b745cda08131e974332a44",
              "IPY_MODEL_b8b0256179514656b686a7c7f634e2de"
            ],
            "layout": "IPY_MODEL_7f689cda123b4af485b4c4ffb558d028"
          }
        },
        "2dceaec3f85543b388682c5460a7f8af": {
          "model_module": "@jupyter-widgets/controls",
          "model_name": "HTMLModel",
          "model_module_version": "1.5.0",
          "state": {
            "_dom_classes": [],
            "_model_module": "@jupyter-widgets/controls",
            "_model_module_version": "1.5.0",
            "_model_name": "HTMLModel",
            "_view_count": null,
            "_view_module": "@jupyter-widgets/controls",
            "_view_module_version": "1.5.0",
            "_view_name": "HTMLView",
            "description": "",
            "description_tooltip": null,
            "layout": "IPY_MODEL_1e529976fbd74d65ada27f224bfc4013",
            "placeholder": "​",
            "style": "IPY_MODEL_34151d6b8e324d68a5de06bab83391a1",
            "value": "100%"
          }
        },
        "50dc18af29b745cda08131e974332a44": {
          "model_module": "@jupyter-widgets/controls",
          "model_name": "FloatProgressModel",
          "model_module_version": "1.5.0",
          "state": {
            "_dom_classes": [],
            "_model_module": "@jupyter-widgets/controls",
            "_model_module_version": "1.5.0",
            "_model_name": "FloatProgressModel",
            "_view_count": null,
            "_view_module": "@jupyter-widgets/controls",
            "_view_module_version": "1.5.0",
            "_view_name": "ProgressView",
            "bar_style": "",
            "description": "",
            "description_tooltip": null,
            "layout": "IPY_MODEL_8e9589eca181428aa4a4a456c0523efa",
            "max": 274,
            "min": 0,
            "orientation": "horizontal",
            "style": "IPY_MODEL_ac976da1fa93404787877c725472c99a",
            "value": 274
          }
        },
        "b8b0256179514656b686a7c7f634e2de": {
          "model_module": "@jupyter-widgets/controls",
          "model_name": "HTMLModel",
          "model_module_version": "1.5.0",
          "state": {
            "_dom_classes": [],
            "_model_module": "@jupyter-widgets/controls",
            "_model_module_version": "1.5.0",
            "_model_name": "HTMLModel",
            "_view_count": null,
            "_view_module": "@jupyter-widgets/controls",
            "_view_module_version": "1.5.0",
            "_view_name": "HTMLView",
            "description": "",
            "description_tooltip": null,
            "layout": "IPY_MODEL_f7b55ef082eb4435ad15b5fcdc05d85a",
            "placeholder": "​",
            "style": "IPY_MODEL_e1d338071bcc4f7f8c089342aebce72b",
            "value": " 274/274 [04:55&lt;00:00,  1.05it/s]"
          }
        },
        "7f689cda123b4af485b4c4ffb558d028": {
          "model_module": "@jupyter-widgets/base",
          "model_name": "LayoutModel",
          "model_module_version": "1.2.0",
          "state": {
            "_model_module": "@jupyter-widgets/base",
            "_model_module_version": "1.2.0",
            "_model_name": "LayoutModel",
            "_view_count": null,
            "_view_module": "@jupyter-widgets/base",
            "_view_module_version": "1.2.0",
            "_view_name": "LayoutView",
            "align_content": null,
            "align_items": null,
            "align_self": null,
            "border": null,
            "bottom": null,
            "display": null,
            "flex": null,
            "flex_flow": null,
            "grid_area": null,
            "grid_auto_columns": null,
            "grid_auto_flow": null,
            "grid_auto_rows": null,
            "grid_column": null,
            "grid_gap": null,
            "grid_row": null,
            "grid_template_areas": null,
            "grid_template_columns": null,
            "grid_template_rows": null,
            "height": null,
            "justify_content": null,
            "justify_items": null,
            "left": null,
            "margin": null,
            "max_height": null,
            "max_width": null,
            "min_height": null,
            "min_width": null,
            "object_fit": null,
            "object_position": null,
            "order": null,
            "overflow": null,
            "overflow_x": null,
            "overflow_y": null,
            "padding": null,
            "right": null,
            "top": null,
            "visibility": null,
            "width": null
          }
        },
        "1e529976fbd74d65ada27f224bfc4013": {
          "model_module": "@jupyter-widgets/base",
          "model_name": "LayoutModel",
          "model_module_version": "1.2.0",
          "state": {
            "_model_module": "@jupyter-widgets/base",
            "_model_module_version": "1.2.0",
            "_model_name": "LayoutModel",
            "_view_count": null,
            "_view_module": "@jupyter-widgets/base",
            "_view_module_version": "1.2.0",
            "_view_name": "LayoutView",
            "align_content": null,
            "align_items": null,
            "align_self": null,
            "border": null,
            "bottom": null,
            "display": null,
            "flex": null,
            "flex_flow": null,
            "grid_area": null,
            "grid_auto_columns": null,
            "grid_auto_flow": null,
            "grid_auto_rows": null,
            "grid_column": null,
            "grid_gap": null,
            "grid_row": null,
            "grid_template_areas": null,
            "grid_template_columns": null,
            "grid_template_rows": null,
            "height": null,
            "justify_content": null,
            "justify_items": null,
            "left": null,
            "margin": null,
            "max_height": null,
            "max_width": null,
            "min_height": null,
            "min_width": null,
            "object_fit": null,
            "object_position": null,
            "order": null,
            "overflow": null,
            "overflow_x": null,
            "overflow_y": null,
            "padding": null,
            "right": null,
            "top": null,
            "visibility": null,
            "width": null
          }
        },
        "34151d6b8e324d68a5de06bab83391a1": {
          "model_module": "@jupyter-widgets/controls",
          "model_name": "DescriptionStyleModel",
          "model_module_version": "1.5.0",
          "state": {
            "_model_module": "@jupyter-widgets/controls",
            "_model_module_version": "1.5.0",
            "_model_name": "DescriptionStyleModel",
            "_view_count": null,
            "_view_module": "@jupyter-widgets/base",
            "_view_module_version": "1.2.0",
            "_view_name": "StyleView",
            "description_width": ""
          }
        },
        "8e9589eca181428aa4a4a456c0523efa": {
          "model_module": "@jupyter-widgets/base",
          "model_name": "LayoutModel",
          "model_module_version": "1.2.0",
          "state": {
            "_model_module": "@jupyter-widgets/base",
            "_model_module_version": "1.2.0",
            "_model_name": "LayoutModel",
            "_view_count": null,
            "_view_module": "@jupyter-widgets/base",
            "_view_module_version": "1.2.0",
            "_view_name": "LayoutView",
            "align_content": null,
            "align_items": null,
            "align_self": null,
            "border": null,
            "bottom": null,
            "display": null,
            "flex": null,
            "flex_flow": null,
            "grid_area": null,
            "grid_auto_columns": null,
            "grid_auto_flow": null,
            "grid_auto_rows": null,
            "grid_column": null,
            "grid_gap": null,
            "grid_row": null,
            "grid_template_areas": null,
            "grid_template_columns": null,
            "grid_template_rows": null,
            "height": null,
            "justify_content": null,
            "justify_items": null,
            "left": null,
            "margin": null,
            "max_height": null,
            "max_width": null,
            "min_height": null,
            "min_width": null,
            "object_fit": null,
            "object_position": null,
            "order": null,
            "overflow": null,
            "overflow_x": null,
            "overflow_y": null,
            "padding": null,
            "right": null,
            "top": null,
            "visibility": null,
            "width": null
          }
        },
        "ac976da1fa93404787877c725472c99a": {
          "model_module": "@jupyter-widgets/controls",
          "model_name": "ProgressStyleModel",
          "model_module_version": "1.5.0",
          "state": {
            "_model_module": "@jupyter-widgets/controls",
            "_model_module_version": "1.5.0",
            "_model_name": "ProgressStyleModel",
            "_view_count": null,
            "_view_module": "@jupyter-widgets/base",
            "_view_module_version": "1.2.0",
            "_view_name": "StyleView",
            "bar_color": null,
            "description_width": ""
          }
        },
        "f7b55ef082eb4435ad15b5fcdc05d85a": {
          "model_module": "@jupyter-widgets/base",
          "model_name": "LayoutModel",
          "model_module_version": "1.2.0",
          "state": {
            "_model_module": "@jupyter-widgets/base",
            "_model_module_version": "1.2.0",
            "_model_name": "LayoutModel",
            "_view_count": null,
            "_view_module": "@jupyter-widgets/base",
            "_view_module_version": "1.2.0",
            "_view_name": "LayoutView",
            "align_content": null,
            "align_items": null,
            "align_self": null,
            "border": null,
            "bottom": null,
            "display": null,
            "flex": null,
            "flex_flow": null,
            "grid_area": null,
            "grid_auto_columns": null,
            "grid_auto_flow": null,
            "grid_auto_rows": null,
            "grid_column": null,
            "grid_gap": null,
            "grid_row": null,
            "grid_template_areas": null,
            "grid_template_columns": null,
            "grid_template_rows": null,
            "height": null,
            "justify_content": null,
            "justify_items": null,
            "left": null,
            "margin": null,
            "max_height": null,
            "max_width": null,
            "min_height": null,
            "min_width": null,
            "object_fit": null,
            "object_position": null,
            "order": null,
            "overflow": null,
            "overflow_x": null,
            "overflow_y": null,
            "padding": null,
            "right": null,
            "top": null,
            "visibility": null,
            "width": null
          }
        },
        "e1d338071bcc4f7f8c089342aebce72b": {
          "model_module": "@jupyter-widgets/controls",
          "model_name": "DescriptionStyleModel",
          "model_module_version": "1.5.0",
          "state": {
            "_model_module": "@jupyter-widgets/controls",
            "_model_module_version": "1.5.0",
            "_model_name": "DescriptionStyleModel",
            "_view_count": null,
            "_view_module": "@jupyter-widgets/base",
            "_view_module_version": "1.2.0",
            "_view_name": "StyleView",
            "description_width": ""
          }
        },
        "2a8f7aeaf61f4568925612d98edd7e8a": {
          "model_module": "@jupyter-widgets/controls",
          "model_name": "HBoxModel",
          "model_module_version": "1.5.0",
          "state": {
            "_dom_classes": [],
            "_model_module": "@jupyter-widgets/controls",
            "_model_module_version": "1.5.0",
            "_model_name": "HBoxModel",
            "_view_count": null,
            "_view_module": "@jupyter-widgets/controls",
            "_view_module_version": "1.5.0",
            "_view_name": "HBoxView",
            "box_style": "",
            "children": [
              "IPY_MODEL_6786fb38619449848f9ba394db4e895a",
              "IPY_MODEL_9675ffdf91a44217be9c5403626b3a3f",
              "IPY_MODEL_72ff9c088fd947fba1e09556cf635ae7"
            ],
            "layout": "IPY_MODEL_c9365a7dfba547bbbbbb84e752939a89"
          }
        },
        "6786fb38619449848f9ba394db4e895a": {
          "model_module": "@jupyter-widgets/controls",
          "model_name": "HTMLModel",
          "model_module_version": "1.5.0",
          "state": {
            "_dom_classes": [],
            "_model_module": "@jupyter-widgets/controls",
            "_model_module_version": "1.5.0",
            "_model_name": "HTMLModel",
            "_view_count": null,
            "_view_module": "@jupyter-widgets/controls",
            "_view_module_version": "1.5.0",
            "_view_name": "HTMLView",
            "description": "",
            "description_tooltip": null,
            "layout": "IPY_MODEL_72aa6a58604945b9ac86d02254f80923",
            "placeholder": "​",
            "style": "IPY_MODEL_25c407bda7254e1c9a905ecde8e86998",
            "value": "100%"
          }
        },
        "9675ffdf91a44217be9c5403626b3a3f": {
          "model_module": "@jupyter-widgets/controls",
          "model_name": "FloatProgressModel",
          "model_module_version": "1.5.0",
          "state": {
            "_dom_classes": [],
            "_model_module": "@jupyter-widgets/controls",
            "_model_module_version": "1.5.0",
            "_model_name": "FloatProgressModel",
            "_view_count": null,
            "_view_module": "@jupyter-widgets/controls",
            "_view_module_version": "1.5.0",
            "_view_name": "ProgressView",
            "bar_style": "",
            "description": "",
            "description_tooltip": null,
            "layout": "IPY_MODEL_b9301c6216af4af7934589bb1aca69f7",
            "max": 273,
            "min": 0,
            "orientation": "horizontal",
            "style": "IPY_MODEL_829c9a6746074b51aad9a7012469989a",
            "value": 273
          }
        },
        "72ff9c088fd947fba1e09556cf635ae7": {
          "model_module": "@jupyter-widgets/controls",
          "model_name": "HTMLModel",
          "model_module_version": "1.5.0",
          "state": {
            "_dom_classes": [],
            "_model_module": "@jupyter-widgets/controls",
            "_model_module_version": "1.5.0",
            "_model_name": "HTMLModel",
            "_view_count": null,
            "_view_module": "@jupyter-widgets/controls",
            "_view_module_version": "1.5.0",
            "_view_name": "HTMLView",
            "description": "",
            "description_tooltip": null,
            "layout": "IPY_MODEL_d6f246066f8742508854bb0568e67dce",
            "placeholder": "​",
            "style": "IPY_MODEL_770741f9cf3047e1b568b83ccd088318",
            "value": " 273/273 [05:40&lt;00:00,  1.14s/it]"
          }
        },
        "c9365a7dfba547bbbbbb84e752939a89": {
          "model_module": "@jupyter-widgets/base",
          "model_name": "LayoutModel",
          "model_module_version": "1.2.0",
          "state": {
            "_model_module": "@jupyter-widgets/base",
            "_model_module_version": "1.2.0",
            "_model_name": "LayoutModel",
            "_view_count": null,
            "_view_module": "@jupyter-widgets/base",
            "_view_module_version": "1.2.0",
            "_view_name": "LayoutView",
            "align_content": null,
            "align_items": null,
            "align_self": null,
            "border": null,
            "bottom": null,
            "display": null,
            "flex": null,
            "flex_flow": null,
            "grid_area": null,
            "grid_auto_columns": null,
            "grid_auto_flow": null,
            "grid_auto_rows": null,
            "grid_column": null,
            "grid_gap": null,
            "grid_row": null,
            "grid_template_areas": null,
            "grid_template_columns": null,
            "grid_template_rows": null,
            "height": null,
            "justify_content": null,
            "justify_items": null,
            "left": null,
            "margin": null,
            "max_height": null,
            "max_width": null,
            "min_height": null,
            "min_width": null,
            "object_fit": null,
            "object_position": null,
            "order": null,
            "overflow": null,
            "overflow_x": null,
            "overflow_y": null,
            "padding": null,
            "right": null,
            "top": null,
            "visibility": null,
            "width": null
          }
        },
        "72aa6a58604945b9ac86d02254f80923": {
          "model_module": "@jupyter-widgets/base",
          "model_name": "LayoutModel",
          "model_module_version": "1.2.0",
          "state": {
            "_model_module": "@jupyter-widgets/base",
            "_model_module_version": "1.2.0",
            "_model_name": "LayoutModel",
            "_view_count": null,
            "_view_module": "@jupyter-widgets/base",
            "_view_module_version": "1.2.0",
            "_view_name": "LayoutView",
            "align_content": null,
            "align_items": null,
            "align_self": null,
            "border": null,
            "bottom": null,
            "display": null,
            "flex": null,
            "flex_flow": null,
            "grid_area": null,
            "grid_auto_columns": null,
            "grid_auto_flow": null,
            "grid_auto_rows": null,
            "grid_column": null,
            "grid_gap": null,
            "grid_row": null,
            "grid_template_areas": null,
            "grid_template_columns": null,
            "grid_template_rows": null,
            "height": null,
            "justify_content": null,
            "justify_items": null,
            "left": null,
            "margin": null,
            "max_height": null,
            "max_width": null,
            "min_height": null,
            "min_width": null,
            "object_fit": null,
            "object_position": null,
            "order": null,
            "overflow": null,
            "overflow_x": null,
            "overflow_y": null,
            "padding": null,
            "right": null,
            "top": null,
            "visibility": null,
            "width": null
          }
        },
        "25c407bda7254e1c9a905ecde8e86998": {
          "model_module": "@jupyter-widgets/controls",
          "model_name": "DescriptionStyleModel",
          "model_module_version": "1.5.0",
          "state": {
            "_model_module": "@jupyter-widgets/controls",
            "_model_module_version": "1.5.0",
            "_model_name": "DescriptionStyleModel",
            "_view_count": null,
            "_view_module": "@jupyter-widgets/base",
            "_view_module_version": "1.2.0",
            "_view_name": "StyleView",
            "description_width": ""
          }
        },
        "b9301c6216af4af7934589bb1aca69f7": {
          "model_module": "@jupyter-widgets/base",
          "model_name": "LayoutModel",
          "model_module_version": "1.2.0",
          "state": {
            "_model_module": "@jupyter-widgets/base",
            "_model_module_version": "1.2.0",
            "_model_name": "LayoutModel",
            "_view_count": null,
            "_view_module": "@jupyter-widgets/base",
            "_view_module_version": "1.2.0",
            "_view_name": "LayoutView",
            "align_content": null,
            "align_items": null,
            "align_self": null,
            "border": null,
            "bottom": null,
            "display": null,
            "flex": null,
            "flex_flow": null,
            "grid_area": null,
            "grid_auto_columns": null,
            "grid_auto_flow": null,
            "grid_auto_rows": null,
            "grid_column": null,
            "grid_gap": null,
            "grid_row": null,
            "grid_template_areas": null,
            "grid_template_columns": null,
            "grid_template_rows": null,
            "height": null,
            "justify_content": null,
            "justify_items": null,
            "left": null,
            "margin": null,
            "max_height": null,
            "max_width": null,
            "min_height": null,
            "min_width": null,
            "object_fit": null,
            "object_position": null,
            "order": null,
            "overflow": null,
            "overflow_x": null,
            "overflow_y": null,
            "padding": null,
            "right": null,
            "top": null,
            "visibility": null,
            "width": null
          }
        },
        "829c9a6746074b51aad9a7012469989a": {
          "model_module": "@jupyter-widgets/controls",
          "model_name": "ProgressStyleModel",
          "model_module_version": "1.5.0",
          "state": {
            "_model_module": "@jupyter-widgets/controls",
            "_model_module_version": "1.5.0",
            "_model_name": "ProgressStyleModel",
            "_view_count": null,
            "_view_module": "@jupyter-widgets/base",
            "_view_module_version": "1.2.0",
            "_view_name": "StyleView",
            "bar_color": null,
            "description_width": ""
          }
        },
        "d6f246066f8742508854bb0568e67dce": {
          "model_module": "@jupyter-widgets/base",
          "model_name": "LayoutModel",
          "model_module_version": "1.2.0",
          "state": {
            "_model_module": "@jupyter-widgets/base",
            "_model_module_version": "1.2.0",
            "_model_name": "LayoutModel",
            "_view_count": null,
            "_view_module": "@jupyter-widgets/base",
            "_view_module_version": "1.2.0",
            "_view_name": "LayoutView",
            "align_content": null,
            "align_items": null,
            "align_self": null,
            "border": null,
            "bottom": null,
            "display": null,
            "flex": null,
            "flex_flow": null,
            "grid_area": null,
            "grid_auto_columns": null,
            "grid_auto_flow": null,
            "grid_auto_rows": null,
            "grid_column": null,
            "grid_gap": null,
            "grid_row": null,
            "grid_template_areas": null,
            "grid_template_columns": null,
            "grid_template_rows": null,
            "height": null,
            "justify_content": null,
            "justify_items": null,
            "left": null,
            "margin": null,
            "max_height": null,
            "max_width": null,
            "min_height": null,
            "min_width": null,
            "object_fit": null,
            "object_position": null,
            "order": null,
            "overflow": null,
            "overflow_x": null,
            "overflow_y": null,
            "padding": null,
            "right": null,
            "top": null,
            "visibility": null,
            "width": null
          }
        },
        "770741f9cf3047e1b568b83ccd088318": {
          "model_module": "@jupyter-widgets/controls",
          "model_name": "DescriptionStyleModel",
          "model_module_version": "1.5.0",
          "state": {
            "_model_module": "@jupyter-widgets/controls",
            "_model_module_version": "1.5.0",
            "_model_name": "DescriptionStyleModel",
            "_view_count": null,
            "_view_module": "@jupyter-widgets/base",
            "_view_module_version": "1.2.0",
            "_view_name": "StyleView",
            "description_width": ""
          }
        },
        "d06a367b15624ec7a575a3d3c7ba44ab": {
          "model_module": "@jupyter-widgets/controls",
          "model_name": "HBoxModel",
          "model_module_version": "1.5.0",
          "state": {
            "_dom_classes": [],
            "_model_module": "@jupyter-widgets/controls",
            "_model_module_version": "1.5.0",
            "_model_name": "HBoxModel",
            "_view_count": null,
            "_view_module": "@jupyter-widgets/controls",
            "_view_module_version": "1.5.0",
            "_view_name": "HBoxView",
            "box_style": "",
            "children": [
              "IPY_MODEL_de027efcd8d3497585031fff7d080a2b",
              "IPY_MODEL_4149a8d56e8b4ce2ba9018d7bc34bb7a",
              "IPY_MODEL_6382099b19304a579f0a5db14f6d7de2"
            ],
            "layout": "IPY_MODEL_b9d48938502d4e27a8a56d982188f1d5"
          }
        },
        "de027efcd8d3497585031fff7d080a2b": {
          "model_module": "@jupyter-widgets/controls",
          "model_name": "HTMLModel",
          "model_module_version": "1.5.0",
          "state": {
            "_dom_classes": [],
            "_model_module": "@jupyter-widgets/controls",
            "_model_module_version": "1.5.0",
            "_model_name": "HTMLModel",
            "_view_count": null,
            "_view_module": "@jupyter-widgets/controls",
            "_view_module_version": "1.5.0",
            "_view_name": "HTMLView",
            "description": "",
            "description_tooltip": null,
            "layout": "IPY_MODEL_14eafd0f2e9e4265b80b1da0307d72ab",
            "placeholder": "​",
            "style": "IPY_MODEL_5c6262b4693d470592e9ecee0e38a4f1",
            "value": "100%"
          }
        },
        "4149a8d56e8b4ce2ba9018d7bc34bb7a": {
          "model_module": "@jupyter-widgets/controls",
          "model_name": "FloatProgressModel",
          "model_module_version": "1.5.0",
          "state": {
            "_dom_classes": [],
            "_model_module": "@jupyter-widgets/controls",
            "_model_module_version": "1.5.0",
            "_model_name": "FloatProgressModel",
            "_view_count": null,
            "_view_module": "@jupyter-widgets/controls",
            "_view_module_version": "1.5.0",
            "_view_name": "ProgressView",
            "bar_style": "",
            "description": "",
            "description_tooltip": null,
            "layout": "IPY_MODEL_067ac7bfe2374686b9c071f22b51e612",
            "max": 272,
            "min": 0,
            "orientation": "horizontal",
            "style": "IPY_MODEL_d4035a36febe4998a1fbe677086dfed7",
            "value": 272
          }
        },
        "6382099b19304a579f0a5db14f6d7de2": {
          "model_module": "@jupyter-widgets/controls",
          "model_name": "HTMLModel",
          "model_module_version": "1.5.0",
          "state": {
            "_dom_classes": [],
            "_model_module": "@jupyter-widgets/controls",
            "_model_module_version": "1.5.0",
            "_model_name": "HTMLModel",
            "_view_count": null,
            "_view_module": "@jupyter-widgets/controls",
            "_view_module_version": "1.5.0",
            "_view_name": "HTMLView",
            "description": "",
            "description_tooltip": null,
            "layout": "IPY_MODEL_b6d5c36ea67941988e5d66e88d06cfb4",
            "placeholder": "​",
            "style": "IPY_MODEL_9dc0252179f94026ae087cded583bd17",
            "value": " 272/272 [07:09&lt;00:00,  1.36s/it]"
          }
        },
        "b9d48938502d4e27a8a56d982188f1d5": {
          "model_module": "@jupyter-widgets/base",
          "model_name": "LayoutModel",
          "model_module_version": "1.2.0",
          "state": {
            "_model_module": "@jupyter-widgets/base",
            "_model_module_version": "1.2.0",
            "_model_name": "LayoutModel",
            "_view_count": null,
            "_view_module": "@jupyter-widgets/base",
            "_view_module_version": "1.2.0",
            "_view_name": "LayoutView",
            "align_content": null,
            "align_items": null,
            "align_self": null,
            "border": null,
            "bottom": null,
            "display": null,
            "flex": null,
            "flex_flow": null,
            "grid_area": null,
            "grid_auto_columns": null,
            "grid_auto_flow": null,
            "grid_auto_rows": null,
            "grid_column": null,
            "grid_gap": null,
            "grid_row": null,
            "grid_template_areas": null,
            "grid_template_columns": null,
            "grid_template_rows": null,
            "height": null,
            "justify_content": null,
            "justify_items": null,
            "left": null,
            "margin": null,
            "max_height": null,
            "max_width": null,
            "min_height": null,
            "min_width": null,
            "object_fit": null,
            "object_position": null,
            "order": null,
            "overflow": null,
            "overflow_x": null,
            "overflow_y": null,
            "padding": null,
            "right": null,
            "top": null,
            "visibility": null,
            "width": null
          }
        },
        "14eafd0f2e9e4265b80b1da0307d72ab": {
          "model_module": "@jupyter-widgets/base",
          "model_name": "LayoutModel",
          "model_module_version": "1.2.0",
          "state": {
            "_model_module": "@jupyter-widgets/base",
            "_model_module_version": "1.2.0",
            "_model_name": "LayoutModel",
            "_view_count": null,
            "_view_module": "@jupyter-widgets/base",
            "_view_module_version": "1.2.0",
            "_view_name": "LayoutView",
            "align_content": null,
            "align_items": null,
            "align_self": null,
            "border": null,
            "bottom": null,
            "display": null,
            "flex": null,
            "flex_flow": null,
            "grid_area": null,
            "grid_auto_columns": null,
            "grid_auto_flow": null,
            "grid_auto_rows": null,
            "grid_column": null,
            "grid_gap": null,
            "grid_row": null,
            "grid_template_areas": null,
            "grid_template_columns": null,
            "grid_template_rows": null,
            "height": null,
            "justify_content": null,
            "justify_items": null,
            "left": null,
            "margin": null,
            "max_height": null,
            "max_width": null,
            "min_height": null,
            "min_width": null,
            "object_fit": null,
            "object_position": null,
            "order": null,
            "overflow": null,
            "overflow_x": null,
            "overflow_y": null,
            "padding": null,
            "right": null,
            "top": null,
            "visibility": null,
            "width": null
          }
        },
        "5c6262b4693d470592e9ecee0e38a4f1": {
          "model_module": "@jupyter-widgets/controls",
          "model_name": "DescriptionStyleModel",
          "model_module_version": "1.5.0",
          "state": {
            "_model_module": "@jupyter-widgets/controls",
            "_model_module_version": "1.5.0",
            "_model_name": "DescriptionStyleModel",
            "_view_count": null,
            "_view_module": "@jupyter-widgets/base",
            "_view_module_version": "1.2.0",
            "_view_name": "StyleView",
            "description_width": ""
          }
        },
        "067ac7bfe2374686b9c071f22b51e612": {
          "model_module": "@jupyter-widgets/base",
          "model_name": "LayoutModel",
          "model_module_version": "1.2.0",
          "state": {
            "_model_module": "@jupyter-widgets/base",
            "_model_module_version": "1.2.0",
            "_model_name": "LayoutModel",
            "_view_count": null,
            "_view_module": "@jupyter-widgets/base",
            "_view_module_version": "1.2.0",
            "_view_name": "LayoutView",
            "align_content": null,
            "align_items": null,
            "align_self": null,
            "border": null,
            "bottom": null,
            "display": null,
            "flex": null,
            "flex_flow": null,
            "grid_area": null,
            "grid_auto_columns": null,
            "grid_auto_flow": null,
            "grid_auto_rows": null,
            "grid_column": null,
            "grid_gap": null,
            "grid_row": null,
            "grid_template_areas": null,
            "grid_template_columns": null,
            "grid_template_rows": null,
            "height": null,
            "justify_content": null,
            "justify_items": null,
            "left": null,
            "margin": null,
            "max_height": null,
            "max_width": null,
            "min_height": null,
            "min_width": null,
            "object_fit": null,
            "object_position": null,
            "order": null,
            "overflow": null,
            "overflow_x": null,
            "overflow_y": null,
            "padding": null,
            "right": null,
            "top": null,
            "visibility": null,
            "width": null
          }
        },
        "d4035a36febe4998a1fbe677086dfed7": {
          "model_module": "@jupyter-widgets/controls",
          "model_name": "ProgressStyleModel",
          "model_module_version": "1.5.0",
          "state": {
            "_model_module": "@jupyter-widgets/controls",
            "_model_module_version": "1.5.0",
            "_model_name": "ProgressStyleModel",
            "_view_count": null,
            "_view_module": "@jupyter-widgets/base",
            "_view_module_version": "1.2.0",
            "_view_name": "StyleView",
            "bar_color": null,
            "description_width": ""
          }
        },
        "b6d5c36ea67941988e5d66e88d06cfb4": {
          "model_module": "@jupyter-widgets/base",
          "model_name": "LayoutModel",
          "model_module_version": "1.2.0",
          "state": {
            "_model_module": "@jupyter-widgets/base",
            "_model_module_version": "1.2.0",
            "_model_name": "LayoutModel",
            "_view_count": null,
            "_view_module": "@jupyter-widgets/base",
            "_view_module_version": "1.2.0",
            "_view_name": "LayoutView",
            "align_content": null,
            "align_items": null,
            "align_self": null,
            "border": null,
            "bottom": null,
            "display": null,
            "flex": null,
            "flex_flow": null,
            "grid_area": null,
            "grid_auto_columns": null,
            "grid_auto_flow": null,
            "grid_auto_rows": null,
            "grid_column": null,
            "grid_gap": null,
            "grid_row": null,
            "grid_template_areas": null,
            "grid_template_columns": null,
            "grid_template_rows": null,
            "height": null,
            "justify_content": null,
            "justify_items": null,
            "left": null,
            "margin": null,
            "max_height": null,
            "max_width": null,
            "min_height": null,
            "min_width": null,
            "object_fit": null,
            "object_position": null,
            "order": null,
            "overflow": null,
            "overflow_x": null,
            "overflow_y": null,
            "padding": null,
            "right": null,
            "top": null,
            "visibility": null,
            "width": null
          }
        },
        "9dc0252179f94026ae087cded583bd17": {
          "model_module": "@jupyter-widgets/controls",
          "model_name": "DescriptionStyleModel",
          "model_module_version": "1.5.0",
          "state": {
            "_model_module": "@jupyter-widgets/controls",
            "_model_module_version": "1.5.0",
            "_model_name": "DescriptionStyleModel",
            "_view_count": null,
            "_view_module": "@jupyter-widgets/base",
            "_view_module_version": "1.2.0",
            "_view_name": "StyleView",
            "description_width": ""
          }
        },
        "4260df622f4646b889c7ffe944bb5db0": {
          "model_module": "@jupyter-widgets/controls",
          "model_name": "HBoxModel",
          "model_module_version": "1.5.0",
          "state": {
            "_dom_classes": [],
            "_model_module": "@jupyter-widgets/controls",
            "_model_module_version": "1.5.0",
            "_model_name": "HBoxModel",
            "_view_count": null,
            "_view_module": "@jupyter-widgets/controls",
            "_view_module_version": "1.5.0",
            "_view_name": "HBoxView",
            "box_style": "",
            "children": [
              "IPY_MODEL_4314d8b97e1b43ce9c16801cafe79e1f",
              "IPY_MODEL_b6e0ec54319442c49025fe23d1a5563b",
              "IPY_MODEL_37aa2335d2df44b19b2050c63b14dace"
            ],
            "layout": "IPY_MODEL_557cf42af58f4898864623698e8bd6c7"
          }
        },
        "4314d8b97e1b43ce9c16801cafe79e1f": {
          "model_module": "@jupyter-widgets/controls",
          "model_name": "HTMLModel",
          "model_module_version": "1.5.0",
          "state": {
            "_dom_classes": [],
            "_model_module": "@jupyter-widgets/controls",
            "_model_module_version": "1.5.0",
            "_model_name": "HTMLModel",
            "_view_count": null,
            "_view_module": "@jupyter-widgets/controls",
            "_view_module_version": "1.5.0",
            "_view_name": "HTMLView",
            "description": "",
            "description_tooltip": null,
            "layout": "IPY_MODEL_ffb5a9f2993340c6a59f4a8df4ff26b7",
            "placeholder": "​",
            "style": "IPY_MODEL_8b83b645cfca4cd28e8377e64931eda3",
            "value": "100%"
          }
        },
        "b6e0ec54319442c49025fe23d1a5563b": {
          "model_module": "@jupyter-widgets/controls",
          "model_name": "FloatProgressModel",
          "model_module_version": "1.5.0",
          "state": {
            "_dom_classes": [],
            "_model_module": "@jupyter-widgets/controls",
            "_model_module_version": "1.5.0",
            "_model_name": "FloatProgressModel",
            "_view_count": null,
            "_view_module": "@jupyter-widgets/controls",
            "_view_module_version": "1.5.0",
            "_view_name": "ProgressView",
            "bar_style": "",
            "description": "",
            "description_tooltip": null,
            "layout": "IPY_MODEL_bc410e1002304ad09194b092b719fdcc",
            "max": 271,
            "min": 0,
            "orientation": "horizontal",
            "style": "IPY_MODEL_a92ff4dcfb7d45bbbb7188fefccf59d7",
            "value": 271
          }
        },
        "37aa2335d2df44b19b2050c63b14dace": {
          "model_module": "@jupyter-widgets/controls",
          "model_name": "HTMLModel",
          "model_module_version": "1.5.0",
          "state": {
            "_dom_classes": [],
            "_model_module": "@jupyter-widgets/controls",
            "_model_module_version": "1.5.0",
            "_model_name": "HTMLModel",
            "_view_count": null,
            "_view_module": "@jupyter-widgets/controls",
            "_view_module_version": "1.5.0",
            "_view_name": "HTMLView",
            "description": "",
            "description_tooltip": null,
            "layout": "IPY_MODEL_b803adc081474bb0b49da0f46c2b6ff8",
            "placeholder": "​",
            "style": "IPY_MODEL_e62f40a6346243da836be1074c3a7fb5",
            "value": " 271/271 [09:10&lt;00:00,  1.77s/it]"
          }
        },
        "557cf42af58f4898864623698e8bd6c7": {
          "model_module": "@jupyter-widgets/base",
          "model_name": "LayoutModel",
          "model_module_version": "1.2.0",
          "state": {
            "_model_module": "@jupyter-widgets/base",
            "_model_module_version": "1.2.0",
            "_model_name": "LayoutModel",
            "_view_count": null,
            "_view_module": "@jupyter-widgets/base",
            "_view_module_version": "1.2.0",
            "_view_name": "LayoutView",
            "align_content": null,
            "align_items": null,
            "align_self": null,
            "border": null,
            "bottom": null,
            "display": null,
            "flex": null,
            "flex_flow": null,
            "grid_area": null,
            "grid_auto_columns": null,
            "grid_auto_flow": null,
            "grid_auto_rows": null,
            "grid_column": null,
            "grid_gap": null,
            "grid_row": null,
            "grid_template_areas": null,
            "grid_template_columns": null,
            "grid_template_rows": null,
            "height": null,
            "justify_content": null,
            "justify_items": null,
            "left": null,
            "margin": null,
            "max_height": null,
            "max_width": null,
            "min_height": null,
            "min_width": null,
            "object_fit": null,
            "object_position": null,
            "order": null,
            "overflow": null,
            "overflow_x": null,
            "overflow_y": null,
            "padding": null,
            "right": null,
            "top": null,
            "visibility": null,
            "width": null
          }
        },
        "ffb5a9f2993340c6a59f4a8df4ff26b7": {
          "model_module": "@jupyter-widgets/base",
          "model_name": "LayoutModel",
          "model_module_version": "1.2.0",
          "state": {
            "_model_module": "@jupyter-widgets/base",
            "_model_module_version": "1.2.0",
            "_model_name": "LayoutModel",
            "_view_count": null,
            "_view_module": "@jupyter-widgets/base",
            "_view_module_version": "1.2.0",
            "_view_name": "LayoutView",
            "align_content": null,
            "align_items": null,
            "align_self": null,
            "border": null,
            "bottom": null,
            "display": null,
            "flex": null,
            "flex_flow": null,
            "grid_area": null,
            "grid_auto_columns": null,
            "grid_auto_flow": null,
            "grid_auto_rows": null,
            "grid_column": null,
            "grid_gap": null,
            "grid_row": null,
            "grid_template_areas": null,
            "grid_template_columns": null,
            "grid_template_rows": null,
            "height": null,
            "justify_content": null,
            "justify_items": null,
            "left": null,
            "margin": null,
            "max_height": null,
            "max_width": null,
            "min_height": null,
            "min_width": null,
            "object_fit": null,
            "object_position": null,
            "order": null,
            "overflow": null,
            "overflow_x": null,
            "overflow_y": null,
            "padding": null,
            "right": null,
            "top": null,
            "visibility": null,
            "width": null
          }
        },
        "8b83b645cfca4cd28e8377e64931eda3": {
          "model_module": "@jupyter-widgets/controls",
          "model_name": "DescriptionStyleModel",
          "model_module_version": "1.5.0",
          "state": {
            "_model_module": "@jupyter-widgets/controls",
            "_model_module_version": "1.5.0",
            "_model_name": "DescriptionStyleModel",
            "_view_count": null,
            "_view_module": "@jupyter-widgets/base",
            "_view_module_version": "1.2.0",
            "_view_name": "StyleView",
            "description_width": ""
          }
        },
        "bc410e1002304ad09194b092b719fdcc": {
          "model_module": "@jupyter-widgets/base",
          "model_name": "LayoutModel",
          "model_module_version": "1.2.0",
          "state": {
            "_model_module": "@jupyter-widgets/base",
            "_model_module_version": "1.2.0",
            "_model_name": "LayoutModel",
            "_view_count": null,
            "_view_module": "@jupyter-widgets/base",
            "_view_module_version": "1.2.0",
            "_view_name": "LayoutView",
            "align_content": null,
            "align_items": null,
            "align_self": null,
            "border": null,
            "bottom": null,
            "display": null,
            "flex": null,
            "flex_flow": null,
            "grid_area": null,
            "grid_auto_columns": null,
            "grid_auto_flow": null,
            "grid_auto_rows": null,
            "grid_column": null,
            "grid_gap": null,
            "grid_row": null,
            "grid_template_areas": null,
            "grid_template_columns": null,
            "grid_template_rows": null,
            "height": null,
            "justify_content": null,
            "justify_items": null,
            "left": null,
            "margin": null,
            "max_height": null,
            "max_width": null,
            "min_height": null,
            "min_width": null,
            "object_fit": null,
            "object_position": null,
            "order": null,
            "overflow": null,
            "overflow_x": null,
            "overflow_y": null,
            "padding": null,
            "right": null,
            "top": null,
            "visibility": null,
            "width": null
          }
        },
        "a92ff4dcfb7d45bbbb7188fefccf59d7": {
          "model_module": "@jupyter-widgets/controls",
          "model_name": "ProgressStyleModel",
          "model_module_version": "1.5.0",
          "state": {
            "_model_module": "@jupyter-widgets/controls",
            "_model_module_version": "1.5.0",
            "_model_name": "ProgressStyleModel",
            "_view_count": null,
            "_view_module": "@jupyter-widgets/base",
            "_view_module_version": "1.2.0",
            "_view_name": "StyleView",
            "bar_color": null,
            "description_width": ""
          }
        },
        "b803adc081474bb0b49da0f46c2b6ff8": {
          "model_module": "@jupyter-widgets/base",
          "model_name": "LayoutModel",
          "model_module_version": "1.2.0",
          "state": {
            "_model_module": "@jupyter-widgets/base",
            "_model_module_version": "1.2.0",
            "_model_name": "LayoutModel",
            "_view_count": null,
            "_view_module": "@jupyter-widgets/base",
            "_view_module_version": "1.2.0",
            "_view_name": "LayoutView",
            "align_content": null,
            "align_items": null,
            "align_self": null,
            "border": null,
            "bottom": null,
            "display": null,
            "flex": null,
            "flex_flow": null,
            "grid_area": null,
            "grid_auto_columns": null,
            "grid_auto_flow": null,
            "grid_auto_rows": null,
            "grid_column": null,
            "grid_gap": null,
            "grid_row": null,
            "grid_template_areas": null,
            "grid_template_columns": null,
            "grid_template_rows": null,
            "height": null,
            "justify_content": null,
            "justify_items": null,
            "left": null,
            "margin": null,
            "max_height": null,
            "max_width": null,
            "min_height": null,
            "min_width": null,
            "object_fit": null,
            "object_position": null,
            "order": null,
            "overflow": null,
            "overflow_x": null,
            "overflow_y": null,
            "padding": null,
            "right": null,
            "top": null,
            "visibility": null,
            "width": null
          }
        },
        "e62f40a6346243da836be1074c3a7fb5": {
          "model_module": "@jupyter-widgets/controls",
          "model_name": "DescriptionStyleModel",
          "model_module_version": "1.5.0",
          "state": {
            "_model_module": "@jupyter-widgets/controls",
            "_model_module_version": "1.5.0",
            "_model_name": "DescriptionStyleModel",
            "_view_count": null,
            "_view_module": "@jupyter-widgets/base",
            "_view_module_version": "1.2.0",
            "_view_name": "StyleView",
            "description_width": ""
          }
        },
        "edee5fe1b0594dad9f3d292e4cdc8794": {
          "model_module": "@jupyter-widgets/controls",
          "model_name": "HBoxModel",
          "model_module_version": "1.5.0",
          "state": {
            "_dom_classes": [],
            "_model_module": "@jupyter-widgets/controls",
            "_model_module_version": "1.5.0",
            "_model_name": "HBoxModel",
            "_view_count": null,
            "_view_module": "@jupyter-widgets/controls",
            "_view_module_version": "1.5.0",
            "_view_name": "HBoxView",
            "box_style": "",
            "children": [
              "IPY_MODEL_24de84aa68b944b193c7b379d5c0a430",
              "IPY_MODEL_fc0cba73b24d4709a4340d100677af2b",
              "IPY_MODEL_4ece15a1604e4f83b9fa7b97730227d8"
            ],
            "layout": "IPY_MODEL_10c3cb5922e240e8b24a4afcc447cee8"
          }
        },
        "24de84aa68b944b193c7b379d5c0a430": {
          "model_module": "@jupyter-widgets/controls",
          "model_name": "HTMLModel",
          "model_module_version": "1.5.0",
          "state": {
            "_dom_classes": [],
            "_model_module": "@jupyter-widgets/controls",
            "_model_module_version": "1.5.0",
            "_model_name": "HTMLModel",
            "_view_count": null,
            "_view_module": "@jupyter-widgets/controls",
            "_view_module_version": "1.5.0",
            "_view_name": "HTMLView",
            "description": "",
            "description_tooltip": null,
            "layout": "IPY_MODEL_bcce3889688541af89c87dd73ba0c1c7",
            "placeholder": "​",
            "style": "IPY_MODEL_47019429ccd44112bf27c56447bf6b12",
            "value": "100%"
          }
        },
        "fc0cba73b24d4709a4340d100677af2b": {
          "model_module": "@jupyter-widgets/controls",
          "model_name": "FloatProgressModel",
          "model_module_version": "1.5.0",
          "state": {
            "_dom_classes": [],
            "_model_module": "@jupyter-widgets/controls",
            "_model_module_version": "1.5.0",
            "_model_name": "FloatProgressModel",
            "_view_count": null,
            "_view_module": "@jupyter-widgets/controls",
            "_view_module_version": "1.5.0",
            "_view_name": "ProgressView",
            "bar_style": "",
            "description": "",
            "description_tooltip": null,
            "layout": "IPY_MODEL_4a669e7751ed4c91a1ae529ef0ea12d7",
            "max": 270,
            "min": 0,
            "orientation": "horizontal",
            "style": "IPY_MODEL_17514b69aa6548f9a967819c443d41e3",
            "value": 270
          }
        },
        "4ece15a1604e4f83b9fa7b97730227d8": {
          "model_module": "@jupyter-widgets/controls",
          "model_name": "HTMLModel",
          "model_module_version": "1.5.0",
          "state": {
            "_dom_classes": [],
            "_model_module": "@jupyter-widgets/controls",
            "_model_module_version": "1.5.0",
            "_model_name": "HTMLModel",
            "_view_count": null,
            "_view_module": "@jupyter-widgets/controls",
            "_view_module_version": "1.5.0",
            "_view_name": "HTMLView",
            "description": "",
            "description_tooltip": null,
            "layout": "IPY_MODEL_8c526fea205147a99b54a49ab1b30e1f",
            "placeholder": "​",
            "style": "IPY_MODEL_a1eea8a08160433e8b82fb5f21891c2c",
            "value": " 270/270 [08:31&lt;00:00,  1.42s/it]"
          }
        },
        "10c3cb5922e240e8b24a4afcc447cee8": {
          "model_module": "@jupyter-widgets/base",
          "model_name": "LayoutModel",
          "model_module_version": "1.2.0",
          "state": {
            "_model_module": "@jupyter-widgets/base",
            "_model_module_version": "1.2.0",
            "_model_name": "LayoutModel",
            "_view_count": null,
            "_view_module": "@jupyter-widgets/base",
            "_view_module_version": "1.2.0",
            "_view_name": "LayoutView",
            "align_content": null,
            "align_items": null,
            "align_self": null,
            "border": null,
            "bottom": null,
            "display": null,
            "flex": null,
            "flex_flow": null,
            "grid_area": null,
            "grid_auto_columns": null,
            "grid_auto_flow": null,
            "grid_auto_rows": null,
            "grid_column": null,
            "grid_gap": null,
            "grid_row": null,
            "grid_template_areas": null,
            "grid_template_columns": null,
            "grid_template_rows": null,
            "height": null,
            "justify_content": null,
            "justify_items": null,
            "left": null,
            "margin": null,
            "max_height": null,
            "max_width": null,
            "min_height": null,
            "min_width": null,
            "object_fit": null,
            "object_position": null,
            "order": null,
            "overflow": null,
            "overflow_x": null,
            "overflow_y": null,
            "padding": null,
            "right": null,
            "top": null,
            "visibility": null,
            "width": null
          }
        },
        "bcce3889688541af89c87dd73ba0c1c7": {
          "model_module": "@jupyter-widgets/base",
          "model_name": "LayoutModel",
          "model_module_version": "1.2.0",
          "state": {
            "_model_module": "@jupyter-widgets/base",
            "_model_module_version": "1.2.0",
            "_model_name": "LayoutModel",
            "_view_count": null,
            "_view_module": "@jupyter-widgets/base",
            "_view_module_version": "1.2.0",
            "_view_name": "LayoutView",
            "align_content": null,
            "align_items": null,
            "align_self": null,
            "border": null,
            "bottom": null,
            "display": null,
            "flex": null,
            "flex_flow": null,
            "grid_area": null,
            "grid_auto_columns": null,
            "grid_auto_flow": null,
            "grid_auto_rows": null,
            "grid_column": null,
            "grid_gap": null,
            "grid_row": null,
            "grid_template_areas": null,
            "grid_template_columns": null,
            "grid_template_rows": null,
            "height": null,
            "justify_content": null,
            "justify_items": null,
            "left": null,
            "margin": null,
            "max_height": null,
            "max_width": null,
            "min_height": null,
            "min_width": null,
            "object_fit": null,
            "object_position": null,
            "order": null,
            "overflow": null,
            "overflow_x": null,
            "overflow_y": null,
            "padding": null,
            "right": null,
            "top": null,
            "visibility": null,
            "width": null
          }
        },
        "47019429ccd44112bf27c56447bf6b12": {
          "model_module": "@jupyter-widgets/controls",
          "model_name": "DescriptionStyleModel",
          "model_module_version": "1.5.0",
          "state": {
            "_model_module": "@jupyter-widgets/controls",
            "_model_module_version": "1.5.0",
            "_model_name": "DescriptionStyleModel",
            "_view_count": null,
            "_view_module": "@jupyter-widgets/base",
            "_view_module_version": "1.2.0",
            "_view_name": "StyleView",
            "description_width": ""
          }
        },
        "4a669e7751ed4c91a1ae529ef0ea12d7": {
          "model_module": "@jupyter-widgets/base",
          "model_name": "LayoutModel",
          "model_module_version": "1.2.0",
          "state": {
            "_model_module": "@jupyter-widgets/base",
            "_model_module_version": "1.2.0",
            "_model_name": "LayoutModel",
            "_view_count": null,
            "_view_module": "@jupyter-widgets/base",
            "_view_module_version": "1.2.0",
            "_view_name": "LayoutView",
            "align_content": null,
            "align_items": null,
            "align_self": null,
            "border": null,
            "bottom": null,
            "display": null,
            "flex": null,
            "flex_flow": null,
            "grid_area": null,
            "grid_auto_columns": null,
            "grid_auto_flow": null,
            "grid_auto_rows": null,
            "grid_column": null,
            "grid_gap": null,
            "grid_row": null,
            "grid_template_areas": null,
            "grid_template_columns": null,
            "grid_template_rows": null,
            "height": null,
            "justify_content": null,
            "justify_items": null,
            "left": null,
            "margin": null,
            "max_height": null,
            "max_width": null,
            "min_height": null,
            "min_width": null,
            "object_fit": null,
            "object_position": null,
            "order": null,
            "overflow": null,
            "overflow_x": null,
            "overflow_y": null,
            "padding": null,
            "right": null,
            "top": null,
            "visibility": null,
            "width": null
          }
        },
        "17514b69aa6548f9a967819c443d41e3": {
          "model_module": "@jupyter-widgets/controls",
          "model_name": "ProgressStyleModel",
          "model_module_version": "1.5.0",
          "state": {
            "_model_module": "@jupyter-widgets/controls",
            "_model_module_version": "1.5.0",
            "_model_name": "ProgressStyleModel",
            "_view_count": null,
            "_view_module": "@jupyter-widgets/base",
            "_view_module_version": "1.2.0",
            "_view_name": "StyleView",
            "bar_color": null,
            "description_width": ""
          }
        },
        "8c526fea205147a99b54a49ab1b30e1f": {
          "model_module": "@jupyter-widgets/base",
          "model_name": "LayoutModel",
          "model_module_version": "1.2.0",
          "state": {
            "_model_module": "@jupyter-widgets/base",
            "_model_module_version": "1.2.0",
            "_model_name": "LayoutModel",
            "_view_count": null,
            "_view_module": "@jupyter-widgets/base",
            "_view_module_version": "1.2.0",
            "_view_name": "LayoutView",
            "align_content": null,
            "align_items": null,
            "align_self": null,
            "border": null,
            "bottom": null,
            "display": null,
            "flex": null,
            "flex_flow": null,
            "grid_area": null,
            "grid_auto_columns": null,
            "grid_auto_flow": null,
            "grid_auto_rows": null,
            "grid_column": null,
            "grid_gap": null,
            "grid_row": null,
            "grid_template_areas": null,
            "grid_template_columns": null,
            "grid_template_rows": null,
            "height": null,
            "justify_content": null,
            "justify_items": null,
            "left": null,
            "margin": null,
            "max_height": null,
            "max_width": null,
            "min_height": null,
            "min_width": null,
            "object_fit": null,
            "object_position": null,
            "order": null,
            "overflow": null,
            "overflow_x": null,
            "overflow_y": null,
            "padding": null,
            "right": null,
            "top": null,
            "visibility": null,
            "width": null
          }
        },
        "a1eea8a08160433e8b82fb5f21891c2c": {
          "model_module": "@jupyter-widgets/controls",
          "model_name": "DescriptionStyleModel",
          "model_module_version": "1.5.0",
          "state": {
            "_model_module": "@jupyter-widgets/controls",
            "_model_module_version": "1.5.0",
            "_model_name": "DescriptionStyleModel",
            "_view_count": null,
            "_view_module": "@jupyter-widgets/base",
            "_view_module_version": "1.2.0",
            "_view_name": "StyleView",
            "description_width": ""
          }
        },
        "5b0182c5d7c8425bbbaba4ec1f1d1911": {
          "model_module": "@jupyter-widgets/controls",
          "model_name": "HBoxModel",
          "model_module_version": "1.5.0",
          "state": {
            "_dom_classes": [],
            "_model_module": "@jupyter-widgets/controls",
            "_model_module_version": "1.5.0",
            "_model_name": "HBoxModel",
            "_view_count": null,
            "_view_module": "@jupyter-widgets/controls",
            "_view_module_version": "1.5.0",
            "_view_name": "HBoxView",
            "box_style": "",
            "children": [
              "IPY_MODEL_cc0f049631374768b1741bd842d0e2c8",
              "IPY_MODEL_b68f58d4f1054bbd9cc7717b24384da3",
              "IPY_MODEL_e625225159ab4b3e94e00364c963f319"
            ],
            "layout": "IPY_MODEL_1b54a92df81a4be9b84942e92706db2a"
          }
        },
        "cc0f049631374768b1741bd842d0e2c8": {
          "model_module": "@jupyter-widgets/controls",
          "model_name": "HTMLModel",
          "model_module_version": "1.5.0",
          "state": {
            "_dom_classes": [],
            "_model_module": "@jupyter-widgets/controls",
            "_model_module_version": "1.5.0",
            "_model_name": "HTMLModel",
            "_view_count": null,
            "_view_module": "@jupyter-widgets/controls",
            "_view_module_version": "1.5.0",
            "_view_name": "HTMLView",
            "description": "",
            "description_tooltip": null,
            "layout": "IPY_MODEL_b719f6cc3a2b4338ab807e45c0226a87",
            "placeholder": "​",
            "style": "IPY_MODEL_3f6ca547fde14426b0f512d7b60f9092",
            "value": "100%"
          }
        },
        "b68f58d4f1054bbd9cc7717b24384da3": {
          "model_module": "@jupyter-widgets/controls",
          "model_name": "FloatProgressModel",
          "model_module_version": "1.5.0",
          "state": {
            "_dom_classes": [],
            "_model_module": "@jupyter-widgets/controls",
            "_model_module_version": "1.5.0",
            "_model_name": "FloatProgressModel",
            "_view_count": null,
            "_view_module": "@jupyter-widgets/controls",
            "_view_module_version": "1.5.0",
            "_view_name": "ProgressView",
            "bar_style": "",
            "description": "",
            "description_tooltip": null,
            "layout": "IPY_MODEL_ad68d43fcda34b6198e0673e23524057",
            "max": 269,
            "min": 0,
            "orientation": "horizontal",
            "style": "IPY_MODEL_e4308903c40e415fad58eeae78464d8d",
            "value": 269
          }
        },
        "e625225159ab4b3e94e00364c963f319": {
          "model_module": "@jupyter-widgets/controls",
          "model_name": "HTMLModel",
          "model_module_version": "1.5.0",
          "state": {
            "_dom_classes": [],
            "_model_module": "@jupyter-widgets/controls",
            "_model_module_version": "1.5.0",
            "_model_name": "HTMLModel",
            "_view_count": null,
            "_view_module": "@jupyter-widgets/controls",
            "_view_module_version": "1.5.0",
            "_view_name": "HTMLView",
            "description": "",
            "description_tooltip": null,
            "layout": "IPY_MODEL_54ea0ce424fe42a2930c848ff14912a6",
            "placeholder": "​",
            "style": "IPY_MODEL_25afd1135545417d95792fbe436f1b66",
            "value": " 269/269 [09:00&lt;00:00,  1.68s/it]"
          }
        },
        "1b54a92df81a4be9b84942e92706db2a": {
          "model_module": "@jupyter-widgets/base",
          "model_name": "LayoutModel",
          "model_module_version": "1.2.0",
          "state": {
            "_model_module": "@jupyter-widgets/base",
            "_model_module_version": "1.2.0",
            "_model_name": "LayoutModel",
            "_view_count": null,
            "_view_module": "@jupyter-widgets/base",
            "_view_module_version": "1.2.0",
            "_view_name": "LayoutView",
            "align_content": null,
            "align_items": null,
            "align_self": null,
            "border": null,
            "bottom": null,
            "display": null,
            "flex": null,
            "flex_flow": null,
            "grid_area": null,
            "grid_auto_columns": null,
            "grid_auto_flow": null,
            "grid_auto_rows": null,
            "grid_column": null,
            "grid_gap": null,
            "grid_row": null,
            "grid_template_areas": null,
            "grid_template_columns": null,
            "grid_template_rows": null,
            "height": null,
            "justify_content": null,
            "justify_items": null,
            "left": null,
            "margin": null,
            "max_height": null,
            "max_width": null,
            "min_height": null,
            "min_width": null,
            "object_fit": null,
            "object_position": null,
            "order": null,
            "overflow": null,
            "overflow_x": null,
            "overflow_y": null,
            "padding": null,
            "right": null,
            "top": null,
            "visibility": null,
            "width": null
          }
        },
        "b719f6cc3a2b4338ab807e45c0226a87": {
          "model_module": "@jupyter-widgets/base",
          "model_name": "LayoutModel",
          "model_module_version": "1.2.0",
          "state": {
            "_model_module": "@jupyter-widgets/base",
            "_model_module_version": "1.2.0",
            "_model_name": "LayoutModel",
            "_view_count": null,
            "_view_module": "@jupyter-widgets/base",
            "_view_module_version": "1.2.0",
            "_view_name": "LayoutView",
            "align_content": null,
            "align_items": null,
            "align_self": null,
            "border": null,
            "bottom": null,
            "display": null,
            "flex": null,
            "flex_flow": null,
            "grid_area": null,
            "grid_auto_columns": null,
            "grid_auto_flow": null,
            "grid_auto_rows": null,
            "grid_column": null,
            "grid_gap": null,
            "grid_row": null,
            "grid_template_areas": null,
            "grid_template_columns": null,
            "grid_template_rows": null,
            "height": null,
            "justify_content": null,
            "justify_items": null,
            "left": null,
            "margin": null,
            "max_height": null,
            "max_width": null,
            "min_height": null,
            "min_width": null,
            "object_fit": null,
            "object_position": null,
            "order": null,
            "overflow": null,
            "overflow_x": null,
            "overflow_y": null,
            "padding": null,
            "right": null,
            "top": null,
            "visibility": null,
            "width": null
          }
        },
        "3f6ca547fde14426b0f512d7b60f9092": {
          "model_module": "@jupyter-widgets/controls",
          "model_name": "DescriptionStyleModel",
          "model_module_version": "1.5.0",
          "state": {
            "_model_module": "@jupyter-widgets/controls",
            "_model_module_version": "1.5.0",
            "_model_name": "DescriptionStyleModel",
            "_view_count": null,
            "_view_module": "@jupyter-widgets/base",
            "_view_module_version": "1.2.0",
            "_view_name": "StyleView",
            "description_width": ""
          }
        },
        "ad68d43fcda34b6198e0673e23524057": {
          "model_module": "@jupyter-widgets/base",
          "model_name": "LayoutModel",
          "model_module_version": "1.2.0",
          "state": {
            "_model_module": "@jupyter-widgets/base",
            "_model_module_version": "1.2.0",
            "_model_name": "LayoutModel",
            "_view_count": null,
            "_view_module": "@jupyter-widgets/base",
            "_view_module_version": "1.2.0",
            "_view_name": "LayoutView",
            "align_content": null,
            "align_items": null,
            "align_self": null,
            "border": null,
            "bottom": null,
            "display": null,
            "flex": null,
            "flex_flow": null,
            "grid_area": null,
            "grid_auto_columns": null,
            "grid_auto_flow": null,
            "grid_auto_rows": null,
            "grid_column": null,
            "grid_gap": null,
            "grid_row": null,
            "grid_template_areas": null,
            "grid_template_columns": null,
            "grid_template_rows": null,
            "height": null,
            "justify_content": null,
            "justify_items": null,
            "left": null,
            "margin": null,
            "max_height": null,
            "max_width": null,
            "min_height": null,
            "min_width": null,
            "object_fit": null,
            "object_position": null,
            "order": null,
            "overflow": null,
            "overflow_x": null,
            "overflow_y": null,
            "padding": null,
            "right": null,
            "top": null,
            "visibility": null,
            "width": null
          }
        },
        "e4308903c40e415fad58eeae78464d8d": {
          "model_module": "@jupyter-widgets/controls",
          "model_name": "ProgressStyleModel",
          "model_module_version": "1.5.0",
          "state": {
            "_model_module": "@jupyter-widgets/controls",
            "_model_module_version": "1.5.0",
            "_model_name": "ProgressStyleModel",
            "_view_count": null,
            "_view_module": "@jupyter-widgets/base",
            "_view_module_version": "1.2.0",
            "_view_name": "StyleView",
            "bar_color": null,
            "description_width": ""
          }
        },
        "54ea0ce424fe42a2930c848ff14912a6": {
          "model_module": "@jupyter-widgets/base",
          "model_name": "LayoutModel",
          "model_module_version": "1.2.0",
          "state": {
            "_model_module": "@jupyter-widgets/base",
            "_model_module_version": "1.2.0",
            "_model_name": "LayoutModel",
            "_view_count": null,
            "_view_module": "@jupyter-widgets/base",
            "_view_module_version": "1.2.0",
            "_view_name": "LayoutView",
            "align_content": null,
            "align_items": null,
            "align_self": null,
            "border": null,
            "bottom": null,
            "display": null,
            "flex": null,
            "flex_flow": null,
            "grid_area": null,
            "grid_auto_columns": null,
            "grid_auto_flow": null,
            "grid_auto_rows": null,
            "grid_column": null,
            "grid_gap": null,
            "grid_row": null,
            "grid_template_areas": null,
            "grid_template_columns": null,
            "grid_template_rows": null,
            "height": null,
            "justify_content": null,
            "justify_items": null,
            "left": null,
            "margin": null,
            "max_height": null,
            "max_width": null,
            "min_height": null,
            "min_width": null,
            "object_fit": null,
            "object_position": null,
            "order": null,
            "overflow": null,
            "overflow_x": null,
            "overflow_y": null,
            "padding": null,
            "right": null,
            "top": null,
            "visibility": null,
            "width": null
          }
        },
        "25afd1135545417d95792fbe436f1b66": {
          "model_module": "@jupyter-widgets/controls",
          "model_name": "DescriptionStyleModel",
          "model_module_version": "1.5.0",
          "state": {
            "_model_module": "@jupyter-widgets/controls",
            "_model_module_version": "1.5.0",
            "_model_name": "DescriptionStyleModel",
            "_view_count": null,
            "_view_module": "@jupyter-widgets/base",
            "_view_module_version": "1.2.0",
            "_view_name": "StyleView",
            "description_width": ""
          }
        },
        "237ef6490c39443499d8962b5463cb5b": {
          "model_module": "@jupyter-widgets/controls",
          "model_name": "HBoxModel",
          "model_module_version": "1.5.0",
          "state": {
            "_dom_classes": [],
            "_model_module": "@jupyter-widgets/controls",
            "_model_module_version": "1.5.0",
            "_model_name": "HBoxModel",
            "_view_count": null,
            "_view_module": "@jupyter-widgets/controls",
            "_view_module_version": "1.5.0",
            "_view_name": "HBoxView",
            "box_style": "",
            "children": [
              "IPY_MODEL_ec198538ce244f7fa479e515c5dc2b58",
              "IPY_MODEL_3f8a2415ef8a49ff94711a30b24b2116",
              "IPY_MODEL_4438408cc6a34074ad47a28e0f73493b"
            ],
            "layout": "IPY_MODEL_ce504e2d2391459eaf431453e9b58d06"
          }
        },
        "ec198538ce244f7fa479e515c5dc2b58": {
          "model_module": "@jupyter-widgets/controls",
          "model_name": "HTMLModel",
          "model_module_version": "1.5.0",
          "state": {
            "_dom_classes": [],
            "_model_module": "@jupyter-widgets/controls",
            "_model_module_version": "1.5.0",
            "_model_name": "HTMLModel",
            "_view_count": null,
            "_view_module": "@jupyter-widgets/controls",
            "_view_module_version": "1.5.0",
            "_view_name": "HTMLView",
            "description": "",
            "description_tooltip": null,
            "layout": "IPY_MODEL_e584cca06ded4fffac0510b270d2d308",
            "placeholder": "​",
            "style": "IPY_MODEL_b23fecadab8749f69d046f1a8ca7cfa7",
            "value": "100%"
          }
        },
        "3f8a2415ef8a49ff94711a30b24b2116": {
          "model_module": "@jupyter-widgets/controls",
          "model_name": "FloatProgressModel",
          "model_module_version": "1.5.0",
          "state": {
            "_dom_classes": [],
            "_model_module": "@jupyter-widgets/controls",
            "_model_module_version": "1.5.0",
            "_model_name": "FloatProgressModel",
            "_view_count": null,
            "_view_module": "@jupyter-widgets/controls",
            "_view_module_version": "1.5.0",
            "_view_name": "ProgressView",
            "bar_style": "",
            "description": "",
            "description_tooltip": null,
            "layout": "IPY_MODEL_24ac971eb0f64d2db91922a5f8781eed",
            "max": 268,
            "min": 0,
            "orientation": "horizontal",
            "style": "IPY_MODEL_7dcfdb11f7d24c80b653a4d1909dd0ae",
            "value": 268
          }
        },
        "4438408cc6a34074ad47a28e0f73493b": {
          "model_module": "@jupyter-widgets/controls",
          "model_name": "HTMLModel",
          "model_module_version": "1.5.0",
          "state": {
            "_dom_classes": [],
            "_model_module": "@jupyter-widgets/controls",
            "_model_module_version": "1.5.0",
            "_model_name": "HTMLModel",
            "_view_count": null,
            "_view_module": "@jupyter-widgets/controls",
            "_view_module_version": "1.5.0",
            "_view_name": "HTMLView",
            "description": "",
            "description_tooltip": null,
            "layout": "IPY_MODEL_6fce05868c7b451da35b9ebedcf39c66",
            "placeholder": "​",
            "style": "IPY_MODEL_0e6e4021d5a54fdd897363138b0fe912",
            "value": " 268/268 [11:00&lt;00:00,  1.77s/it]"
          }
        },
        "ce504e2d2391459eaf431453e9b58d06": {
          "model_module": "@jupyter-widgets/base",
          "model_name": "LayoutModel",
          "model_module_version": "1.2.0",
          "state": {
            "_model_module": "@jupyter-widgets/base",
            "_model_module_version": "1.2.0",
            "_model_name": "LayoutModel",
            "_view_count": null,
            "_view_module": "@jupyter-widgets/base",
            "_view_module_version": "1.2.0",
            "_view_name": "LayoutView",
            "align_content": null,
            "align_items": null,
            "align_self": null,
            "border": null,
            "bottom": null,
            "display": null,
            "flex": null,
            "flex_flow": null,
            "grid_area": null,
            "grid_auto_columns": null,
            "grid_auto_flow": null,
            "grid_auto_rows": null,
            "grid_column": null,
            "grid_gap": null,
            "grid_row": null,
            "grid_template_areas": null,
            "grid_template_columns": null,
            "grid_template_rows": null,
            "height": null,
            "justify_content": null,
            "justify_items": null,
            "left": null,
            "margin": null,
            "max_height": null,
            "max_width": null,
            "min_height": null,
            "min_width": null,
            "object_fit": null,
            "object_position": null,
            "order": null,
            "overflow": null,
            "overflow_x": null,
            "overflow_y": null,
            "padding": null,
            "right": null,
            "top": null,
            "visibility": null,
            "width": null
          }
        },
        "e584cca06ded4fffac0510b270d2d308": {
          "model_module": "@jupyter-widgets/base",
          "model_name": "LayoutModel",
          "model_module_version": "1.2.0",
          "state": {
            "_model_module": "@jupyter-widgets/base",
            "_model_module_version": "1.2.0",
            "_model_name": "LayoutModel",
            "_view_count": null,
            "_view_module": "@jupyter-widgets/base",
            "_view_module_version": "1.2.0",
            "_view_name": "LayoutView",
            "align_content": null,
            "align_items": null,
            "align_self": null,
            "border": null,
            "bottom": null,
            "display": null,
            "flex": null,
            "flex_flow": null,
            "grid_area": null,
            "grid_auto_columns": null,
            "grid_auto_flow": null,
            "grid_auto_rows": null,
            "grid_column": null,
            "grid_gap": null,
            "grid_row": null,
            "grid_template_areas": null,
            "grid_template_columns": null,
            "grid_template_rows": null,
            "height": null,
            "justify_content": null,
            "justify_items": null,
            "left": null,
            "margin": null,
            "max_height": null,
            "max_width": null,
            "min_height": null,
            "min_width": null,
            "object_fit": null,
            "object_position": null,
            "order": null,
            "overflow": null,
            "overflow_x": null,
            "overflow_y": null,
            "padding": null,
            "right": null,
            "top": null,
            "visibility": null,
            "width": null
          }
        },
        "b23fecadab8749f69d046f1a8ca7cfa7": {
          "model_module": "@jupyter-widgets/controls",
          "model_name": "DescriptionStyleModel",
          "model_module_version": "1.5.0",
          "state": {
            "_model_module": "@jupyter-widgets/controls",
            "_model_module_version": "1.5.0",
            "_model_name": "DescriptionStyleModel",
            "_view_count": null,
            "_view_module": "@jupyter-widgets/base",
            "_view_module_version": "1.2.0",
            "_view_name": "StyleView",
            "description_width": ""
          }
        },
        "24ac971eb0f64d2db91922a5f8781eed": {
          "model_module": "@jupyter-widgets/base",
          "model_name": "LayoutModel",
          "model_module_version": "1.2.0",
          "state": {
            "_model_module": "@jupyter-widgets/base",
            "_model_module_version": "1.2.0",
            "_model_name": "LayoutModel",
            "_view_count": null,
            "_view_module": "@jupyter-widgets/base",
            "_view_module_version": "1.2.0",
            "_view_name": "LayoutView",
            "align_content": null,
            "align_items": null,
            "align_self": null,
            "border": null,
            "bottom": null,
            "display": null,
            "flex": null,
            "flex_flow": null,
            "grid_area": null,
            "grid_auto_columns": null,
            "grid_auto_flow": null,
            "grid_auto_rows": null,
            "grid_column": null,
            "grid_gap": null,
            "grid_row": null,
            "grid_template_areas": null,
            "grid_template_columns": null,
            "grid_template_rows": null,
            "height": null,
            "justify_content": null,
            "justify_items": null,
            "left": null,
            "margin": null,
            "max_height": null,
            "max_width": null,
            "min_height": null,
            "min_width": null,
            "object_fit": null,
            "object_position": null,
            "order": null,
            "overflow": null,
            "overflow_x": null,
            "overflow_y": null,
            "padding": null,
            "right": null,
            "top": null,
            "visibility": null,
            "width": null
          }
        },
        "7dcfdb11f7d24c80b653a4d1909dd0ae": {
          "model_module": "@jupyter-widgets/controls",
          "model_name": "ProgressStyleModel",
          "model_module_version": "1.5.0",
          "state": {
            "_model_module": "@jupyter-widgets/controls",
            "_model_module_version": "1.5.0",
            "_model_name": "ProgressStyleModel",
            "_view_count": null,
            "_view_module": "@jupyter-widgets/base",
            "_view_module_version": "1.2.0",
            "_view_name": "StyleView",
            "bar_color": null,
            "description_width": ""
          }
        },
        "6fce05868c7b451da35b9ebedcf39c66": {
          "model_module": "@jupyter-widgets/base",
          "model_name": "LayoutModel",
          "model_module_version": "1.2.0",
          "state": {
            "_model_module": "@jupyter-widgets/base",
            "_model_module_version": "1.2.0",
            "_model_name": "LayoutModel",
            "_view_count": null,
            "_view_module": "@jupyter-widgets/base",
            "_view_module_version": "1.2.0",
            "_view_name": "LayoutView",
            "align_content": null,
            "align_items": null,
            "align_self": null,
            "border": null,
            "bottom": null,
            "display": null,
            "flex": null,
            "flex_flow": null,
            "grid_area": null,
            "grid_auto_columns": null,
            "grid_auto_flow": null,
            "grid_auto_rows": null,
            "grid_column": null,
            "grid_gap": null,
            "grid_row": null,
            "grid_template_areas": null,
            "grid_template_columns": null,
            "grid_template_rows": null,
            "height": null,
            "justify_content": null,
            "justify_items": null,
            "left": null,
            "margin": null,
            "max_height": null,
            "max_width": null,
            "min_height": null,
            "min_width": null,
            "object_fit": null,
            "object_position": null,
            "order": null,
            "overflow": null,
            "overflow_x": null,
            "overflow_y": null,
            "padding": null,
            "right": null,
            "top": null,
            "visibility": null,
            "width": null
          }
        },
        "0e6e4021d5a54fdd897363138b0fe912": {
          "model_module": "@jupyter-widgets/controls",
          "model_name": "DescriptionStyleModel",
          "model_module_version": "1.5.0",
          "state": {
            "_model_module": "@jupyter-widgets/controls",
            "_model_module_version": "1.5.0",
            "_model_name": "DescriptionStyleModel",
            "_view_count": null,
            "_view_module": "@jupyter-widgets/base",
            "_view_module_version": "1.2.0",
            "_view_name": "StyleView",
            "description_width": ""
          }
        },
        "768cb1b6be6249ba8a069a2d662db56c": {
          "model_module": "@jupyter-widgets/controls",
          "model_name": "HBoxModel",
          "model_module_version": "1.5.0",
          "state": {
            "_dom_classes": [],
            "_model_module": "@jupyter-widgets/controls",
            "_model_module_version": "1.5.0",
            "_model_name": "HBoxModel",
            "_view_count": null,
            "_view_module": "@jupyter-widgets/controls",
            "_view_module_version": "1.5.0",
            "_view_name": "HBoxView",
            "box_style": "",
            "children": [
              "IPY_MODEL_b7750834e33d4b4b9c2cb874916a13cb",
              "IPY_MODEL_1657b88453a54b62817459f6913e407d",
              "IPY_MODEL_1a1e842e3b724bd3ac3c116aa1dc5045"
            ],
            "layout": "IPY_MODEL_35dbe0963ffb4de5aaedc1cfcceb4a0a"
          }
        },
        "b7750834e33d4b4b9c2cb874916a13cb": {
          "model_module": "@jupyter-widgets/controls",
          "model_name": "HTMLModel",
          "model_module_version": "1.5.0",
          "state": {
            "_dom_classes": [],
            "_model_module": "@jupyter-widgets/controls",
            "_model_module_version": "1.5.0",
            "_model_name": "HTMLModel",
            "_view_count": null,
            "_view_module": "@jupyter-widgets/controls",
            "_view_module_version": "1.5.0",
            "_view_name": "HTMLView",
            "description": "",
            "description_tooltip": null,
            "layout": "IPY_MODEL_91c0811f6c154211a7187a537ac20c3a",
            "placeholder": "​",
            "style": "IPY_MODEL_43a960035f444633b9b1885e2af37b89",
            "value": " 99%"
          }
        },
        "1657b88453a54b62817459f6913e407d": {
          "model_module": "@jupyter-widgets/controls",
          "model_name": "FloatProgressModel",
          "model_module_version": "1.5.0",
          "state": {
            "_dom_classes": [],
            "_model_module": "@jupyter-widgets/controls",
            "_model_module_version": "1.5.0",
            "_model_name": "FloatProgressModel",
            "_view_count": null,
            "_view_module": "@jupyter-widgets/controls",
            "_view_module_version": "1.5.0",
            "_view_name": "ProgressView",
            "bar_style": "",
            "description": "",
            "description_tooltip": null,
            "layout": "IPY_MODEL_e81f80edc7d248f29dca991e7cdd796e",
            "max": 100,
            "min": 0,
            "orientation": "horizontal",
            "style": "IPY_MODEL_f28b7705837648ab82a23afc14437e60",
            "value": 100
          }
        },
        "1a1e842e3b724bd3ac3c116aa1dc5045": {
          "model_module": "@jupyter-widgets/controls",
          "model_name": "HTMLModel",
          "model_module_version": "1.5.0",
          "state": {
            "_dom_classes": [],
            "_model_module": "@jupyter-widgets/controls",
            "_model_module_version": "1.5.0",
            "_model_name": "HTMLModel",
            "_view_count": null,
            "_view_module": "@jupyter-widgets/controls",
            "_view_module_version": "1.5.0",
            "_view_name": "HTMLView",
            "description": "",
            "description_tooltip": null,
            "layout": "IPY_MODEL_d179fc92ae9b4ed7a220c5a5f619c10c",
            "placeholder": "​",
            "style": "IPY_MODEL_e8fb1945942e4297ae3a9a865072a281",
            "value": " 99/100 [00:06&lt;00:00, 16.09it/s]"
          }
        },
        "35dbe0963ffb4de5aaedc1cfcceb4a0a": {
          "model_module": "@jupyter-widgets/base",
          "model_name": "LayoutModel",
          "model_module_version": "1.2.0",
          "state": {
            "_model_module": "@jupyter-widgets/base",
            "_model_module_version": "1.2.0",
            "_model_name": "LayoutModel",
            "_view_count": null,
            "_view_module": "@jupyter-widgets/base",
            "_view_module_version": "1.2.0",
            "_view_name": "LayoutView",
            "align_content": null,
            "align_items": null,
            "align_self": null,
            "border": null,
            "bottom": null,
            "display": null,
            "flex": null,
            "flex_flow": null,
            "grid_area": null,
            "grid_auto_columns": null,
            "grid_auto_flow": null,
            "grid_auto_rows": null,
            "grid_column": null,
            "grid_gap": null,
            "grid_row": null,
            "grid_template_areas": null,
            "grid_template_columns": null,
            "grid_template_rows": null,
            "height": null,
            "justify_content": null,
            "justify_items": null,
            "left": null,
            "margin": null,
            "max_height": null,
            "max_width": null,
            "min_height": null,
            "min_width": null,
            "object_fit": null,
            "object_position": null,
            "order": null,
            "overflow": null,
            "overflow_x": null,
            "overflow_y": null,
            "padding": null,
            "right": null,
            "top": null,
            "visibility": null,
            "width": null
          }
        },
        "91c0811f6c154211a7187a537ac20c3a": {
          "model_module": "@jupyter-widgets/base",
          "model_name": "LayoutModel",
          "model_module_version": "1.2.0",
          "state": {
            "_model_module": "@jupyter-widgets/base",
            "_model_module_version": "1.2.0",
            "_model_name": "LayoutModel",
            "_view_count": null,
            "_view_module": "@jupyter-widgets/base",
            "_view_module_version": "1.2.0",
            "_view_name": "LayoutView",
            "align_content": null,
            "align_items": null,
            "align_self": null,
            "border": null,
            "bottom": null,
            "display": null,
            "flex": null,
            "flex_flow": null,
            "grid_area": null,
            "grid_auto_columns": null,
            "grid_auto_flow": null,
            "grid_auto_rows": null,
            "grid_column": null,
            "grid_gap": null,
            "grid_row": null,
            "grid_template_areas": null,
            "grid_template_columns": null,
            "grid_template_rows": null,
            "height": null,
            "justify_content": null,
            "justify_items": null,
            "left": null,
            "margin": null,
            "max_height": null,
            "max_width": null,
            "min_height": null,
            "min_width": null,
            "object_fit": null,
            "object_position": null,
            "order": null,
            "overflow": null,
            "overflow_x": null,
            "overflow_y": null,
            "padding": null,
            "right": null,
            "top": null,
            "visibility": null,
            "width": null
          }
        },
        "43a960035f444633b9b1885e2af37b89": {
          "model_module": "@jupyter-widgets/controls",
          "model_name": "DescriptionStyleModel",
          "model_module_version": "1.5.0",
          "state": {
            "_model_module": "@jupyter-widgets/controls",
            "_model_module_version": "1.5.0",
            "_model_name": "DescriptionStyleModel",
            "_view_count": null,
            "_view_module": "@jupyter-widgets/base",
            "_view_module_version": "1.2.0",
            "_view_name": "StyleView",
            "description_width": ""
          }
        },
        "e81f80edc7d248f29dca991e7cdd796e": {
          "model_module": "@jupyter-widgets/base",
          "model_name": "LayoutModel",
          "model_module_version": "1.2.0",
          "state": {
            "_model_module": "@jupyter-widgets/base",
            "_model_module_version": "1.2.0",
            "_model_name": "LayoutModel",
            "_view_count": null,
            "_view_module": "@jupyter-widgets/base",
            "_view_module_version": "1.2.0",
            "_view_name": "LayoutView",
            "align_content": null,
            "align_items": null,
            "align_self": null,
            "border": null,
            "bottom": null,
            "display": null,
            "flex": null,
            "flex_flow": null,
            "grid_area": null,
            "grid_auto_columns": null,
            "grid_auto_flow": null,
            "grid_auto_rows": null,
            "grid_column": null,
            "grid_gap": null,
            "grid_row": null,
            "grid_template_areas": null,
            "grid_template_columns": null,
            "grid_template_rows": null,
            "height": null,
            "justify_content": null,
            "justify_items": null,
            "left": null,
            "margin": null,
            "max_height": null,
            "max_width": null,
            "min_height": null,
            "min_width": null,
            "object_fit": null,
            "object_position": null,
            "order": null,
            "overflow": null,
            "overflow_x": null,
            "overflow_y": null,
            "padding": null,
            "right": null,
            "top": null,
            "visibility": null,
            "width": null
          }
        },
        "f28b7705837648ab82a23afc14437e60": {
          "model_module": "@jupyter-widgets/controls",
          "model_name": "ProgressStyleModel",
          "model_module_version": "1.5.0",
          "state": {
            "_model_module": "@jupyter-widgets/controls",
            "_model_module_version": "1.5.0",
            "_model_name": "ProgressStyleModel",
            "_view_count": null,
            "_view_module": "@jupyter-widgets/base",
            "_view_module_version": "1.2.0",
            "_view_name": "StyleView",
            "bar_color": null,
            "description_width": ""
          }
        },
        "d179fc92ae9b4ed7a220c5a5f619c10c": {
          "model_module": "@jupyter-widgets/base",
          "model_name": "LayoutModel",
          "model_module_version": "1.2.0",
          "state": {
            "_model_module": "@jupyter-widgets/base",
            "_model_module_version": "1.2.0",
            "_model_name": "LayoutModel",
            "_view_count": null,
            "_view_module": "@jupyter-widgets/base",
            "_view_module_version": "1.2.0",
            "_view_name": "LayoutView",
            "align_content": null,
            "align_items": null,
            "align_self": null,
            "border": null,
            "bottom": null,
            "display": null,
            "flex": null,
            "flex_flow": null,
            "grid_area": null,
            "grid_auto_columns": null,
            "grid_auto_flow": null,
            "grid_auto_rows": null,
            "grid_column": null,
            "grid_gap": null,
            "grid_row": null,
            "grid_template_areas": null,
            "grid_template_columns": null,
            "grid_template_rows": null,
            "height": null,
            "justify_content": null,
            "justify_items": null,
            "left": null,
            "margin": null,
            "max_height": null,
            "max_width": null,
            "min_height": null,
            "min_width": null,
            "object_fit": null,
            "object_position": null,
            "order": null,
            "overflow": null,
            "overflow_x": null,
            "overflow_y": null,
            "padding": null,
            "right": null,
            "top": null,
            "visibility": null,
            "width": null
          }
        },
        "e8fb1945942e4297ae3a9a865072a281": {
          "model_module": "@jupyter-widgets/controls",
          "model_name": "DescriptionStyleModel",
          "model_module_version": "1.5.0",
          "state": {
            "_model_module": "@jupyter-widgets/controls",
            "_model_module_version": "1.5.0",
            "_model_name": "DescriptionStyleModel",
            "_view_count": null,
            "_view_module": "@jupyter-widgets/base",
            "_view_module_version": "1.2.0",
            "_view_name": "StyleView",
            "description_width": ""
          }
        }
      }
    }
  },
  "cells": [
    {
      "cell_type": "markdown",
      "source": [
        "# Подбор признаков"
      ],
      "metadata": {
        "id": "535aZ9LuN7Cz"
      }
    },
    {
      "cell_type": "markdown",
      "source": [
        "## Импорт всего, что надо"
      ],
      "metadata": {
        "id": "oohHnsxMOVi7"
      }
    },
    {
      "cell_type": "code",
      "source": [
        "import pandas as pd\n",
        "import numpy as np\n",
        "import matplotlib.pyplot as plt\n",
        "import seaborn as sns\n",
        "import time\n",
        "from tqdm.notebook import tqdm\n",
        "\n",
        "from sklearn.preprocessing import StandardScaler\n",
        "\n",
        "from sklearn.model_selection import cross_val_score,cross_validate, train_test_split\n",
        "\n",
        "from sklearn.metrics import precision_score, fbeta_score, f1_score, recall_score\n",
        "from sklearn import metrics\n",
        "from sklearn.metrics import make_scorer, confusion_matrix\n",
        "\n",
        "from imblearn.pipeline import Pipeline as imbpipeline\n",
        "from imblearn.over_sampling import SMOTE, ADASYN\n",
        "from imblearn.under_sampling import RandomUnderSampler\n",
        "\n",
        "from sklearn.cluster import DBSCAN\n",
        "from sklearn.base import BaseEstimator \n",
        "from sklearn.base import ClassifierMixin\n",
        "\n",
        "from sklearn.linear_model import LogisticRegression\n",
        "from sklearn.ensemble import RandomForestClassifier\n",
        "from sklearn.model_selection import GridSearchCV\n",
        "from sklearn.calibration import CalibratedClassifierCV\n",
        "\n",
        "%matplotlib inline\n",
        "%config InlineBackend.figure_format = 'retina'"
      ],
      "metadata": {
        "id": "QR2r4Z91OOPt"
      },
      "execution_count": 32,
      "outputs": []
    },
    {
      "cell_type": "markdown",
      "source": [
        "Получаем данные"
      ],
      "metadata": {
        "id": "JyqLBnUWOZYI"
      }
    },
    {
      "cell_type": "code",
      "source": [
        "from google.colab import drive\n",
        "drive.mount('/content/drive')"
      ],
      "metadata": {
        "colab": {
          "base_uri": "https://localhost:8080/"
        },
        "id": "pXjVzxsNOR94",
        "outputId": "ae2bdfed-1030-4c08-aef2-bcdf2d5a32ef"
      },
      "execution_count": 33,
      "outputs": [
        {
          "output_type": "stream",
          "name": "stdout",
          "text": [
            "Drive already mounted at /content/drive; to attempt to forcibly remount, call drive.mount(\"/content/drive\", force_remount=True).\n"
          ]
        }
      ]
    },
    {
      "cell_type": "code",
      "source": [
        "data = pd.read_csv('/content/drive/My Drive/Colab Notebooks/cup_it_data.csv', index_col = 'client_id')"
      ],
      "metadata": {
        "id": "5Dt4hLBsOd5h"
      },
      "execution_count": 34,
      "outputs": []
    },
    {
      "cell_type": "markdown",
      "source": [
        "Создаем множество для хранения всех категорий товаров, это нам пригодится попозже"
      ],
      "metadata": {
        "id": "ZSi8Mn1rOkdm"
      }
    },
    {
      "cell_type": "code",
      "source": [
        "# категории товаров\n",
        "categories = set()\n",
        "for col in data.columns:\n",
        "    for n in range(1, 13):\n",
        "        if f'cnt_checks_{n}_' in col or f'rto_{n}_' in col or f'rto_std_{n}_' in col:\n",
        "            cat = col.split('_')[-1]\n",
        "            categories.add(cat)\n",
        "\n",
        "categories"
      ],
      "metadata": {
        "colab": {
          "base_uri": "https://localhost:8080/"
        },
        "id": "1EMlwhWuOhrb",
        "outputId": "81f01fde-8f5a-4746-9565-7dea4733a77b"
      },
      "execution_count": 35,
      "outputs": [
        {
          "output_type": "execute_result",
          "data": {
            "text/plain": [
              "{'Крупы и зерновые',\n",
              " 'Мясная гастрономия',\n",
              " 'Овощи - Фрукты',\n",
              " 'Птица и изделия из птицы',\n",
              " 'Рыба и рыбные изделия',\n",
              " 'Сыры'}"
            ]
          },
          "metadata": {},
          "execution_count": 35
        }
      ]
    },
    {
      "cell_type": "code",
      "source": [
        "# это все наши столбцы\n",
        "cols = {\n",
        "    'client_id': 'client_id',\n",
        "    'rto_n': [f'rto_{n}' for n in range(6, 13)],\n",
        "    'rto_n_category': [f'rto_{n}_{cat}' for n in range(6, 13) for cat in categories],\n",
        "    'rto_std_n': [f'rto_std_{n}' for n in range(6, 13)],\n",
        "    'rto_std_n_category': [f'rto_stddev_{n}_{cat}' for n in range(6, 13) for cat in categories],\n",
        "    'cnt_checks_n': [f'cnt_checks_{n}' for n in range(6, 13)],\n",
        "    'cnt_checks_n_category': [f'cnt_checks_{n}_{cat}' for n in range(6, 13) for cat in categories],\n",
        "    'is_in_club': 'is_in_club'\n",
        "}"
      ],
      "metadata": {
        "id": "MR1d_76yOjwq"
      },
      "execution_count": 36,
      "outputs": []
    },
    {
      "cell_type": "markdown",
      "source": [
        "## Подготовка данных"
      ],
      "metadata": {
        "id": "tlnKUV2YOxs9"
      }
    },
    {
      "cell_type": "markdown",
      "source": [
        "### Заполнение пропусков"
      ],
      "metadata": {
        "id": "W21cpxjhO2N-"
      }
    },
    {
      "cell_type": "code",
      "source": [
        "# на всякий заполним пропуски\n",
        "data = data.fillna(0)"
      ],
      "metadata": {
        "id": "wqARlh0pOu06"
      },
      "execution_count": 37,
      "outputs": []
    },
    {
      "cell_type": "markdown",
      "source": [
        "### Обработка отрицательных значений"
      ],
      "metadata": {
        "id": "zbuZC4r6PHLX"
      }
    },
    {
      "cell_type": "markdown",
      "source": [
        "У нас в датасете часто встречаются отрицательные значения, причем с столбцах, где их быть не может - в стандартном отклонении. Таких экзмепляров более 9%, что довольно много, поэтому просто выкинуть мы их не можем. \n",
        "\n",
        "Зато мы можем создать новые столбцы - возвести в квадрат сатндартные отклонения и получить дисперсию."
      ],
      "metadata": {
        "id": "KwPcIEFYPL0C"
      }
    },
    {
      "cell_type": "code",
      "source": [
        "# создание новых столбцов\n",
        "for n in range(6, 13):\n",
        "    data[f'rto_var_{n}'] = data[f'rto_std_{n}']**2\n",
        "\n",
        "for cat in categories:\n",
        "    for n in range(6, 13):\n",
        "        data[f'rto_var_{n}_{cat}'] = data[f'rto_stddev_{n}_{cat}']**2"
      ],
      "metadata": {
        "id": "RrxLSlIpO5qm"
      },
      "execution_count": 38,
      "outputs": []
    },
    {
      "cell_type": "code",
      "source": [
        "# добавление новых столбцов в словарь столбцов\n",
        "cols = {\n",
        "    'client_id': 'client_id',\n",
        "    'rto_n': [f'rto_{n}' for n in range(6, 13)],\n",
        "    'rto_n_category': [f'rto_{n}_{cat}' for n in range(6, 13) for cat in categories],\n",
        "    'rto_std_n': [f'rto_std_{n}' for n in range(6, 13)],\n",
        "    'rto_std_n_category': [f'rto_stddev_{n}_{cat}' for n in range(6, 13) for cat in categories],\n",
        "    'cnt_checks_n': [f'cnt_checks_{n}' for n in range(6, 13)],\n",
        "    'cnt_checks_n_category': [f'cnt_checks_{n}_{cat}' for n in range(6, 13) for cat in categories],\n",
        "    'is_in_club': 'is_in_club',\n",
        "    'rto_var_n': [f'rto_var_{n}' for n in range(6, 13)],\n",
        "    'rto_var_n_category': [f'rto_var_{n}_{cat}' for n in range(6, 13) for cat in categories],\n",
        "}"
      ],
      "metadata": {
        "id": "usZaAHWJP2Tb"
      },
      "execution_count": 39,
      "outputs": []
    },
    {
      "cell_type": "markdown",
      "source": [
        "Также отрицательные значения встречаются в категории `rto`, но выкинуть мы их тоже не можем, да и отклонения у них небольшие, поэтому просто заменим их на 0."
      ],
      "metadata": {
        "id": "ZSTQqDloQGpG"
      }
    },
    {
      "cell_type": "code",
      "source": [
        "for col in [cols['rto_n'] + cols['rto_n_category']]:\n",
        "    data[col] = np.where(data[col]>=0, data[col], 0)"
      ],
      "metadata": {
        "id": "ffzYr-1KP9uB"
      },
      "execution_count": 40,
      "outputs": []
    },
    {
      "cell_type": "markdown",
      "source": [
        "### Логарифмирование"
      ],
      "metadata": {
        "id": "qX1uWRSsQX3Q"
      }
    },
    {
      "cell_type": "markdown",
      "source": [
        "Поскольку большинство столбцов у нас имеют логнормальное распределение, было бы не плохо их логарифмировать. Тогда получится нормальное распределение и модель, вероятно, будет лучше работать."
      ],
      "metadata": {
        "id": "uYq5dkTnQjTy"
      }
    },
    {
      "cell_type": "code",
      "source": [
        "data_log_all = np.log1p(data)\n",
        "# при этом мы не хотим получить ошибку, ведь в колонках стд есть отрицательные значения\n",
        "data_log_all = data_log_all.drop(columns=cols['rto_std_n'] + cols['rto_std_n_category'])\n",
        "\n",
        "# целевую переменную логарифмировать не надо, иначе будет бардак\n",
        "data_log_all['is_in_club'] = data['is_in_club'].copy()"
      ],
      "metadata": {
        "id": "s0_4eGxhQR3f"
      },
      "execution_count": 41,
      "outputs": []
    },
    {
      "cell_type": "markdown",
      "source": [
        "При этом у нас есть дискретные столбцы, которые, вероятно, не стоит логарифмировать."
      ],
      "metadata": {
        "id": "jQeSMSwFRhmW"
      }
    },
    {
      "cell_type": "code",
      "source": [
        "rto_columns = cols['rto_n'] + cols['rto_n_category'] + cols['rto_var_n'] + cols['rto_var_n_category']"
      ],
      "metadata": {
        "id": "_M8khSKLR5LJ"
      },
      "execution_count": 42,
      "outputs": []
    },
    {
      "cell_type": "code",
      "source": [
        "# сначала копируем весь датасет\n",
        "data_log_rto = data.copy()\n",
        "# затем логарифмируем только нужные колонки\n",
        "data_log_rto[rto_columns] = np.log1p(data_log_rto[rto_columns])\n",
        "# затем удаляем ненужные колонки, которые скорее всего сделают качество только хуже\n",
        "data_log_rto = data_log_rto.drop(columns=cols['rto_std_n'] + cols['rto_std_n_category'])"
      ],
      "metadata": {
        "id": "W-XD2BMnRfRS"
      },
      "execution_count": 43,
      "outputs": []
    },
    {
      "cell_type": "markdown",
      "source": [
        "Посмотрим на то, как поменялось распределение после такого логарифмирования"
      ],
      "metadata": {
        "id": "uboVNbDzTMdv"
      }
    },
    {
      "cell_type": "code",
      "source": [
        "rto_n_log = data_log_all[cols['rto_n']].apply(lambda row: row.mean(), axis=1)\n",
        "rto_n = data[cols['rto_n']].apply(lambda row: row.mean(), axis=1)"
      ],
      "metadata": {
        "id": "rseUGIoYTzvW"
      },
      "execution_count": 44,
      "outputs": []
    },
    {
      "cell_type": "code",
      "source": [
        "fig, (ax1, ax2) = plt.subplots(1, 2, figsize=(15, 5))\n",
        "\n",
        "ax1.hist(rto_n[rto_n <= 50000], bins=50, label='до логарифмирования', color='#003e14')\n",
        "ax2.hist(rto_n_log, bins=50, label='после логарифмирования', color='#003e14')\n",
        "\n",
        "ax1.legend(loc='best')\n",
        "ax2.legend(loc='best')\n",
        "plt.show()"
      ],
      "metadata": {
        "colab": {
          "base_uri": "https://localhost:8080/",
          "height": 0
        },
        "id": "fA4xivuxS7_n",
        "outputId": "f96c5738-272c-4165-ce40-a914db31f76d"
      },
      "execution_count": 45,
      "outputs": [
        {
          "output_type": "display_data",
          "data": {
            "text/plain": [
              "<Figure size 1080x360 with 2 Axes>"
            ],
            "image/png": "[encoded data removed]"
          },
          "metadata": {
            "image/png": {
              "width": 890,
              "height": 302
            },
            "needs_background": "light"
          }
        }
      ]
    },
    {
      "cell_type": "markdown",
      "source": [
        "Как видно, распределение не совсем похоже на нормальное, хотя уже и значительно ближе. Дело в том, что мы применяли формулу `log(1 + x)`, а не просто логарифм, чтобы избежать значений `inf` из-за большого числа нулей в датасете.\n",
        "\n",
        "Есть вариант с этим бороться: поскольку все признаки так или иначе бывают нулевыми, необходимо создать новые признаки, которые нулевыми точно не будут."
      ],
      "metadata": {
        "id": "zs9_-2XfUAtZ"
      }
    },
    {
      "cell_type": "markdown",
      "source": [
        "### Разделение на тренировочную и тестовую выборки"
      ],
      "metadata": {
        "id": "3QOB1kqLXNEZ"
      }
    },
    {
      "cell_type": "code",
      "source": [
        "# разделение полных неочищенных данных\n",
        "y = data['is_in_club']\n",
        "X = data.drop(['is_in_club'], axis=1)\n",
        "X_train, X_test, y_train, y_test = train_test_split(X, y, test_size=0.3, random_state=42, \n",
        "                                                    shuffle=True, stratify=y)"
      ],
      "metadata": {
        "id": "EncdkUKRXSiJ"
      },
      "execution_count": 46,
      "outputs": []
    },
    {
      "cell_type": "code",
      "source": [
        "# разделение полностью логарифмированных данных\n",
        "# у для всех версий датасетов один и тот же\n",
        "X_log_all = data_log_all.drop(['is_in_club'], axis=1)\n",
        "X_train_log_all, X_tes_log_all, y_train, y_test = train_test_split(X, y, test_size=0.3, random_state=42, \n",
        "                                                                   shuffle=True, stratify=y)"
      ],
      "metadata": {
        "id": "NzkZYHsKXhJD"
      },
      "execution_count": 47,
      "outputs": []
    },
    {
      "cell_type": "code",
      "source": [
        "# разделение данных с логарифмированными столбцами rto\n",
        "# у для всех версий датасетов один и тот же\n",
        "X_log_rto = data_log_rto.drop(['is_in_club'], axis=1)\n",
        "X_train_log_rto, X_tes_log_rto, y_train, y_test = train_test_split(X, y, test_size=0.3, random_state=42, \n",
        "                                                                   shuffle=True, stratify=y)"
      ],
      "metadata": {
        "id": "Cq1bEYw0YCpw"
      },
      "execution_count": 48,
      "outputs": []
    },
    {
      "cell_type": "markdown",
      "source": [
        "### Масштабирование"
      ],
      "metadata": {
        "id": "oaNKmP0fUgEw"
      }
    },
    {
      "cell_type": "markdown",
      "source": [
        "Поскольку у нас есть две большие группы признаков - `rto` и `cnt`, будет логично производить масштабирование так, чтобы связи между признаками оставались и чтобы масштаб всех признаков каждой группы был один и тот же. Для этого достаточно обучить скейлер на одном признаке из группы, после чего применить его на всех остальных."
      ],
      "metadata": {
        "id": "lS-n6FOpWYEL"
      }
    },
    {
      "cell_type": "code",
      "source": [
        "# функция для масштабирования групп столбцов\n",
        "def scale_data(scaler, data, transform_cols, fit=True) -> np.ndarray:\n",
        "    \"\"\"\n",
        "    :param scaler: sklearn.preprocessing.StandardScaler object\n",
        "    :param data: pd.DataFrame (dataset to scale)\n",
        "    :param transform_cols: list of string column names (transforming columns with a fitted scaler)\n",
        "    :param fit: indicator if the scaler should be fitted\n",
        "    \"\"\"\n",
        "    \n",
        "    new_data = np.nan\n",
        "    for col in transform_cols:\n",
        "        new_col = scaler.transform(data[col].to_numpy().reshape(-1, 1))\n",
        "        if new_data is np.nan:\n",
        "            new_data = new_col\n",
        "        else:\n",
        "            new_data = np.concatenate((new_data, new_col), axis=1)\n",
        "    \n",
        "    return new_data"
      ],
      "metadata": {
        "id": "iBqlSwUHWVaD"
      },
      "execution_count": 49,
      "outputs": []
    },
    {
      "cell_type": "markdown",
      "source": [
        "Будем пробовать разное масштабирование: и с группировкой, и без нее"
      ],
      "metadata": {
        "id": "g5TgLSwcYR_f"
      }
    },
    {
      "cell_type": "code",
      "source": [
        "# определяем масштабируемые колонки\n",
        "rto_columns = cols['rto_n'] + cols['rto_n_category'] + cols['rto_std_n'] + cols['rto_std_n_category'] + cols['rto_var_n'] + cols['rto_var_n_category']\n",
        "# масштабируем их с помощью функции\n",
        "rto_scaler = StandardScaler()\n",
        "rto_scaler.fit(X_train['rto_6'].to_numpy().reshape(-1, 1))\n",
        "\n",
        "rto_scaled_train = scale_data(rto_scaler, X_train, rto_columns)\n",
        "rto_scaled_test = scale_data(rto_scaler, X_test, rto_columns)\n",
        "\n",
        "# определяем второй список масштабируемых колонок\n",
        "cnt_columns = cols['cnt_checks_n'] + cols['cnt_checks_n_category']\n",
        "# скейлим их с помощью функции\n",
        "cnt_scaler = StandardScaler()\n",
        "cnt_scaler.fit(X_train['cnt_checks_6'].to_numpy().reshape(-1, 1))\n",
        "\n",
        "cnt_scaled_train = scale_data(cnt_scaler,  X_train, cnt_columns)\n",
        "cnt_scaled_test = scale_data(cnt_scaler,  X_test, cnt_columns)"
      ],
      "metadata": {
        "id": "azIAVdZgVYD3"
      },
      "execution_count": 50,
      "outputs": []
    },
    {
      "cell_type": "code",
      "source": [
        "scaled_data_rto = pd.DataFrame(data=rto_scaled_train, columns=rto_columns, index=X_train.index)\n",
        "scaled_data_cnt = pd.DataFrame(data=cnt_scaled_train, columns=cnt_columns, index=X_train.index)\n",
        "X_train_scaled = pd.concat([scaled_data_rto, scaled_data_cnt], axis=1)\n",
        "# X_train_scaled['index'] = X_train.index\n",
        "# X_train_scaled = X_train_scaled.set_index('index', inplace=True)\n",
        "\n",
        "scaled_data_rto = pd.DataFrame(data=rto_scaled_test, columns=rto_columns, index=X_test.index)\n",
        "scaled_data_cnt = pd.DataFrame(data=cnt_scaled_test, columns=cnt_columns, index=X_test.index)\n",
        "X_test_scaled = pd.concat([scaled_data_rto, scaled_data_cnt], axis=1)\n",
        "# X_test_scaled['index'] = X_test.index\n",
        "# X_test_scaled = X_test_scaled.set_index('index', inplace=True)"
      ],
      "metadata": {
        "id": "GqZeh-rGXpls"
      },
      "execution_count": 51,
      "outputs": []
    },
    {
      "cell_type": "code",
      "source": [
        "# масштабируем прологарифмированные данные\n",
        "rto_log_columns = cols['rto_n'] + cols['rto_n_category']+ cols['rto_var_n'] + cols['rto_var_n_category']\n",
        "rto_log_scaler = StandardScaler()\n",
        "rto_log_scaler.fit(X_train_log_rto['rto_6'].to_numpy().reshape(-1, 1))\n",
        "\n",
        "rto_log_scaled_train = scale_data(rto_log_scaler, X_train_log_rto, rto_log_columns)\n",
        "rto_log_scaled_test = scale_data(rto_log_scaler, X_tes_log_rto, rto_log_columns)\n",
        "\n",
        "\n",
        "cnt_log_scaler = StandardScaler()\n",
        "cnt_log_scaler.fit(X_train_log_rto['cnt_checks_6'].to_numpy().reshape(-1, 1))\n",
        "\n",
        "cnt_log_scaled_train = scale_data(cnt_log_scaler,  X_train_log_rto, cnt_columns)\n",
        "cnt_log_scaled_test = scale_data(cnt_log_scaler,  X_tes_log_rto, cnt_columns)"
      ],
      "metadata": {
        "id": "zTD7MhsIXqaV"
      },
      "execution_count": 52,
      "outputs": []
    },
    {
      "cell_type": "code",
      "source": [
        "X_train_log_rto_scaled = pd.concat([pd.DataFrame(data=rto_log_scaled_train, columns=rto_log_columns, \n",
        "                                                 index=X_train.index), \n",
        "                                    pd.DataFrame(data=cnt_log_scaled_train, columns=cnt_columns, \n",
        "                                                 index=X_train.index)], axis=1)\n",
        "\n",
        "X_test_log_rto_scaled = pd.concat([pd.DataFrame(data=rto_log_scaled_test, columns=rto_log_columns, \n",
        "                                                index=X_test.index), \n",
        "                                    pd.DataFrame(data=cnt_log_scaled_test, columns=cnt_columns, \n",
        "                                                 index=X_test.index)], axis=1)"
      ],
      "metadata": {
        "id": "6eEaHBM1X9fk"
      },
      "execution_count": 53,
      "outputs": []
    },
    {
      "cell_type": "code",
      "source": [
        "# масштабируем прологарифмированные данные\n",
        "rto_log_columns = cols['rto_n'] + cols['rto_n_category']+ cols['rto_var_n'] + cols['rto_var_n_category']\n",
        "rto_log_scaler = StandardScaler()\n",
        "rto_log_scaler.fit(X_train_log_all['rto_6'].to_numpy().reshape(-1, 1))\n",
        "\n",
        "rto_log_scaled = scale_data(rto_log_scaler, X_train_log_all, rto_log_columns)\n",
        "\n",
        "\n",
        "cnt_log_scaler = StandardScaler()\n",
        "cnt_log_scaler.fit(X_train_log_all['cnt_checks_6'].to_numpy().reshape(-1, 1))\n",
        "\n",
        "cnt_log_scaled = scale_data(cnt_log_scaler,  X_train_log_all, cnt_columns)\n",
        "\n",
        "X_train_log_scaled = pd.concat([pd.DataFrame(data=rto_log_scaled, columns=rto_log_columns), \n",
        "                                pd.DataFrame(data=cnt_log_scaled, columns=cnt_columns)], axis=1)\n",
        "\n",
        "\n",
        "# масштабируем прологарифмированные тестовые данные\n",
        "test_rto_log_scaled = scale_data(rto_log_scaler, X_tes_log_all, rto_log_columns)\n",
        "test_cnt_log_scaled = scale_data(cnt_log_scaler,  X_tes_log_all, cnt_columns)\n",
        "\n",
        "X_test_log_scaled = pd.concat([pd.DataFrame(data=test_rto_log_scaled, columns=rto_log_columns, \n",
        "                                            index=X_tes_log_all.index), \n",
        "                               pd.DataFrame(data=test_cnt_log_scaled, columns=cnt_columns, \n",
        "                                            index=X_tes_log_all.index)], axis=1)"
      ],
      "metadata": {
        "id": "RhkS_0lWyikR"
      },
      "execution_count": 54,
      "outputs": []
    },
    {
      "cell_type": "markdown",
      "source": [
        "## Модели"
      ],
      "metadata": {
        "id": "sYQorrNoVrye"
      }
    },
    {
      "cell_type": "markdown",
      "source": [
        "### 1. Метрики и функции вывода результата"
      ],
      "metadata": {
        "id": "osUsthZcYrqT"
      }
    },
    {
      "cell_type": "markdown",
      "source": [
        "Метрики"
      ],
      "metadata": {
        "id": "GZXM8ZlQaeEN"
      }
    },
    {
      "cell_type": "code",
      "execution_count": 55,
      "metadata": {
        "id": "aPR4KbZgRWRC"
      },
      "outputs": [],
      "source": [
        "scoring = {'f2': make_scorer(fbeta_score, beta=2), 'precision': 'precision', 'recall':'recall'}"
      ]
    },
    {
      "cell_type": "code",
      "execution_count": 56,
      "metadata": {
        "id": "l3U59_UZcjOD"
      },
      "outputs": [],
      "source": [
        "f2_score = make_scorer(fbeta_score, beta=2)"
      ]
    },
    {
      "cell_type": "markdown",
      "source": [
        "Функции вывода результата"
      ],
      "metadata": {
        "id": "M0axpubEaqq1"
      }
    },
    {
      "cell_type": "code",
      "execution_count": 57,
      "metadata": {
        "id": "hXxS-xwtC8YK"
      },
      "outputs": [],
      "source": [
        "# после тренировк и кросс валидации\n",
        "def print_metrics(scores):\n",
        "    print(f\"Cross-val-scores  Train     Test\")\n",
        "    print(f\"F2                {scores['train_f2'].mean()*100:.2f}%      {scores['test_f2'].mean()*100:.2f}%\")\n",
        "    print(f\"Precision         {scores['train_precision'].mean()*100:.2f}%     {scores['test_precision'].mean()*100:.2f}%\")\n",
        "    print(f\"Recall            {scores['train_recall'].mean()*100:.2f}%      {scores['test_recall'].mean()*100:.2f}%\")"
      ]
    },
    {
      "cell_type": "code",
      "source": [
        "# тестирование финальной модели\n",
        "def test_final(final_model, X_train, y_train, X_test, y_test, threshold=0.45):\n",
        "    final_model.fit(X_train, y_train)\n",
        "    train_probas = pd.DataFrame(final_model.predict_proba(X_train))\n",
        "    test_probas = pd.DataFrame(final_model.predict_proba(X_test))\n",
        "\n",
        "    train_preds = train_probas.applymap(lambda x: 1 if x > threshold else 0).iloc[:,1]\n",
        "    test_preds = test_probas.applymap(lambda x: 1 if x > threshold else 0).iloc[:,1]\n",
        "\n",
        "    print(f\"                   Train     Test\")\n",
        "    print(f\"F4                {fbeta_score(y_train, train_preds, beta = 4)*100:.2f}%      {fbeta_score(y_test, test_preds, beta = 4)*100:.2f}%\")\n",
        "    print(f\"F3                {fbeta_score(y_train, train_preds, beta = 3)*100:.2f}%      {fbeta_score(y_test, test_preds, beta = 3)*100:.2f}%\")\n",
        "    print(f\"F2                {fbeta_score(y_train, train_preds, beta = 2)*100:.2f}%      {fbeta_score(y_test, test_preds, beta = 2)*100:.2f}%\")\n",
        "    print(f\"Precision         {precision_score(y_train, train_preds)*100:.2f}%      {precision_score(y_test, test_preds)*100:.2f}%\")\n",
        "    print(f\"Recall            {recall_score(y_train, train_preds)*100:.2f}%      {recall_score(y_test, test_preds)*100:.2f}%\")"
      ],
      "metadata": {
        "id": "uTISt8KCaiEr"
      },
      "execution_count": 58,
      "outputs": []
    },
    {
      "cell_type": "markdown",
      "source": [
        "### 2. Поиск лучшей модели"
      ],
      "metadata": {
        "id": "haOe8AmKYw8Z"
      }
    },
    {
      "cell_type": "markdown",
      "source": [
        "#### 2.1 LogReg + SMOTE, без калибровки \n",
        "\n",
        "В прошлый раз лучше всего показала себя модель LogisticRegression + SMOTE oversampling. В этот раз возьмем ее же и будем дорабатывать на других признаках."
      ],
      "metadata": {
        "id": "Fk1dacowV6Q1"
      }
    },
    {
      "cell_type": "code",
      "source": [
        "pipeline = imbpipeline(steps = [['smote', SMOTE(random_state=0)],\n",
        "                                ['classifier', LogisticRegression(random_state=0, max_iter=10000, C=0.2)]])"
      ],
      "metadata": {
        "id": "cLhS2CbYZWAV"
      },
      "execution_count": 23,
      "outputs": []
    },
    {
      "cell_type": "code",
      "source": [
        "\n",
        "pipeline_1 = imbpipeline(steps = [['smote', SMOTE(random_state=0)],\n",
        "                                  ['undersampling', RandomUnderSampler(random_state=0)],\n",
        "                                  ['classifier', LogisticRegression(random_state=0, max_iter=10000, C=1)]])\n",
        "\n",
        "# columns_to_drop = cols['rto_n'] + cols['rto_n_category'] + cols['rto_var_n'] + cols['rto_var_n_category']\n",
        "# columns_to_drop = cols['rto_n'] + cols['rto_var_n'] + cols['cnt_checks_n']\n",
        "\n",
        "# test_final(pipeline_1, X_train_log_rto_scaled.drop(columns=columns_to_drop), y_train, \n",
        "#            X_test_log_rto_scaled.drop(columns=columns_to_drop), y_test)"
      ],
      "metadata": {
        "id": "SCUsxLDMPeqB"
      },
      "execution_count": 79,
      "outputs": []
    },
    {
      "cell_type": "code",
      "source": [
        "# полные данные\n",
        "test_final(pipeline, X_train, y_train, X_test, y_test)"
      ],
      "metadata": {
        "colab": {
          "base_uri": "https://localhost:8080/"
        },
        "id": "4H7vBZ2aZlQA",
        "outputId": "cefe427b-4cae-41e7-ae0e-ee55d1c1669d"
      },
      "execution_count": 29,
      "outputs": [
        {
          "output_type": "stream",
          "name": "stderr",
          "text": [
            "/usr/local/lib/python3.7/dist-packages/sklearn/linear_model/_logistic.py:818: ConvergenceWarning: lbfgs failed to converge (status=1):\n",
            "STOP: TOTAL NO. of ITERATIONS REACHED LIMIT.\n",
            "\n",
            "Increase the number of iterations (max_iter) or scale the data as shown in:\n",
            "    https://scikit-learn.org/stable/modules/preprocessing.html\n",
            "Please also refer to the documentation for alternative solver options:\n",
            "    https://scikit-learn.org/stable/modules/linear_model.html#logistic-regression\n",
            "  extra_warning_msg=_LOGISTIC_SOLVER_CONVERGENCE_MSG,\n"
          ]
        },
        {
          "output_type": "stream",
          "name": "stdout",
          "text": [
            "                   Train     Test\n",
            "F2                41.28%      34.94%\n",
            "Precision         16.84%      12.76%\n",
            "Recall            64.79%      61.81%\n"
          ]
        }
      ]
    },
    {
      "cell_type": "code",
      "source": [
        "# полные логарифмированные данные\n",
        "test_final(pipeline, X_train_log_all, y_train, X_tes_log_all, y_test)"
      ],
      "metadata": {
        "colab": {
          "base_uri": "https://localhost:8080/"
        },
        "id": "ox8JayHEcazt",
        "outputId": "ef7812ee-221f-4ab1-cbf1-198eda26a47d"
      },
      "execution_count": 31,
      "outputs": [
        {
          "output_type": "stream",
          "name": "stderr",
          "text": [
            "/usr/local/lib/python3.7/dist-packages/sklearn/linear_model/_logistic.py:818: ConvergenceWarning: lbfgs failed to converge (status=1):\n",
            "STOP: TOTAL NO. of ITERATIONS REACHED LIMIT.\n",
            "\n",
            "Increase the number of iterations (max_iter) or scale the data as shown in:\n",
            "    https://scikit-learn.org/stable/modules/preprocessing.html\n",
            "Please also refer to the documentation for alternative solver options:\n",
            "    https://scikit-learn.org/stable/modules/linear_model.html#logistic-regression\n",
            "  extra_warning_msg=_LOGISTIC_SOLVER_CONVERGENCE_MSG,\n"
          ]
        },
        {
          "output_type": "stream",
          "name": "stdout",
          "text": [
            "                   Train     Test\n",
            "F2                41.28%      34.94%\n",
            "Precision         16.84%      12.76%\n",
            "Recall            64.79%      61.81%\n"
          ]
        }
      ]
    },
    {
      "cell_type": "code",
      "source": [
        "# частично логарифмированные данные\n",
        "test_final(pipeline, X_train_log_rto, y_train, X_tes_log_rto, y_test)"
      ],
      "metadata": {
        "colab": {
          "base_uri": "https://localhost:8080/"
        },
        "id": "qp1TxF0ScjHS",
        "outputId": "68b98c7f-4a7f-4428-bb56-cd9e98959d90"
      },
      "execution_count": 32,
      "outputs": [
        {
          "output_type": "stream",
          "name": "stderr",
          "text": [
            "/usr/local/lib/python3.7/dist-packages/sklearn/linear_model/_logistic.py:818: ConvergenceWarning: lbfgs failed to converge (status=1):\n",
            "STOP: TOTAL NO. of ITERATIONS REACHED LIMIT.\n",
            "\n",
            "Increase the number of iterations (max_iter) or scale the data as shown in:\n",
            "    https://scikit-learn.org/stable/modules/preprocessing.html\n",
            "Please also refer to the documentation for alternative solver options:\n",
            "    https://scikit-learn.org/stable/modules/linear_model.html#logistic-regression\n",
            "  extra_warning_msg=_LOGISTIC_SOLVER_CONVERGENCE_MSG,\n"
          ]
        },
        {
          "output_type": "stream",
          "name": "stdout",
          "text": [
            "                   Train     Test\n",
            "F2                41.28%      34.94%\n",
            "Precision         16.84%      12.76%\n",
            "Recall            64.79%      61.81%\n"
          ]
        }
      ]
    },
    {
      "cell_type": "code",
      "source": [
        "# только с дисперсией\n",
        "test_final(pipeline, X_train.drop(columns=cols['rto_std_n']+cols['rto_std_n_category']), y_train, \n",
        "           X_test.drop(columns=cols['rto_std_n']+cols['rto_std_n_category']), y_test)"
      ],
      "metadata": {
        "colab": {
          "base_uri": "https://localhost:8080/"
        },
        "id": "0pWfB-uVdKbw",
        "outputId": "c896cf74-4918-4086-8486-a3903a94d5ac"
      },
      "execution_count": 33,
      "outputs": [
        {
          "output_type": "stream",
          "name": "stderr",
          "text": [
            "/usr/local/lib/python3.7/dist-packages/sklearn/linear_model/_logistic.py:818: ConvergenceWarning: lbfgs failed to converge (status=1):\n",
            "STOP: TOTAL NO. of ITERATIONS REACHED LIMIT.\n",
            "\n",
            "Increase the number of iterations (max_iter) or scale the data as shown in:\n",
            "    https://scikit-learn.org/stable/modules/preprocessing.html\n",
            "Please also refer to the documentation for alternative solver options:\n",
            "    https://scikit-learn.org/stable/modules/linear_model.html#logistic-regression\n",
            "  extra_warning_msg=_LOGISTIC_SOLVER_CONVERGENCE_MSG,\n"
          ]
        },
        {
          "output_type": "stream",
          "name": "stdout",
          "text": [
            "                   Train     Test\n",
            "F2                39.34%      32.23%\n",
            "Precision         12.86%      9.48%\n",
            "Recall            81.07%      80.59%\n"
          ]
        }
      ]
    },
    {
      "cell_type": "code",
      "source": [
        "# только с стд\n",
        "test_final(pipeline, X_train.drop(columns=cols['rto_var_n']+cols['rto_var_n_category']), y_train, \n",
        "           X_test.drop(columns=cols['rto_var_n']+cols['rto_var_n_category']), y_test)"
      ],
      "metadata": {
        "colab": {
          "base_uri": "https://localhost:8080/"
        },
        "id": "JbC7caxxdiOv",
        "outputId": "944c807d-026b-4683-afb6-11ea5fe6e2d7"
      },
      "execution_count": 34,
      "outputs": [
        {
          "output_type": "stream",
          "name": "stderr",
          "text": [
            "/usr/local/lib/python3.7/dist-packages/sklearn/linear_model/_logistic.py:818: ConvergenceWarning: lbfgs failed to converge (status=1):\n",
            "STOP: TOTAL NO. of ITERATIONS REACHED LIMIT.\n",
            "\n",
            "Increase the number of iterations (max_iter) or scale the data as shown in:\n",
            "    https://scikit-learn.org/stable/modules/preprocessing.html\n",
            "Please also refer to the documentation for alternative solver options:\n",
            "    https://scikit-learn.org/stable/modules/linear_model.html#logistic-regression\n",
            "  extra_warning_msg=_LOGISTIC_SOLVER_CONVERGENCE_MSG,\n"
          ]
        },
        {
          "output_type": "stream",
          "name": "stdout",
          "text": [
            "                   Train     Test\n",
            "F2                41.43%      35.38%\n",
            "Precision         17.40%      13.64%\n",
            "Recall            63.27%      58.81%\n"
          ]
        }
      ]
    },
    {
      "cell_type": "code",
      "source": [
        "# без дисперсии и стд\n",
        "columns_to_drop = cols['rto_var_n'] + cols['rto_var_n_category'] + cols['rto_std_n'] + cols['rto_std_n_category']\n",
        "test_final(pipeline, X_train.drop(columns=columns_to_drop), y_train, \n",
        "           X_test.drop(columns=columns_to_drop), y_test)"
      ],
      "metadata": {
        "colab": {
          "base_uri": "https://localhost:8080/"
        },
        "id": "HNC2ryYudwaY",
        "outputId": "7ed969d6-08f5-4c65-e67f-f46cc4babed8"
      },
      "execution_count": 35,
      "outputs": [
        {
          "output_type": "stream",
          "name": "stderr",
          "text": [
            "/usr/local/lib/python3.7/dist-packages/sklearn/linear_model/_logistic.py:818: ConvergenceWarning: lbfgs failed to converge (status=1):\n",
            "STOP: TOTAL NO. of ITERATIONS REACHED LIMIT.\n",
            "\n",
            "Increase the number of iterations (max_iter) or scale the data as shown in:\n",
            "    https://scikit-learn.org/stable/modules/preprocessing.html\n",
            "Please also refer to the documentation for alternative solver options:\n",
            "    https://scikit-learn.org/stable/modules/linear_model.html#logistic-regression\n",
            "  extra_warning_msg=_LOGISTIC_SOLVER_CONVERGENCE_MSG,\n"
          ]
        },
        {
          "output_type": "stream",
          "name": "stdout",
          "text": [
            "                   Train     Test\n",
            "F2                42.40%      36.83%\n",
            "Precision         16.94%      14.04%\n",
            "Recall            67.91%      61.98%\n"
          ]
        }
      ]
    },
    {
      "cell_type": "markdown",
      "source": [
        "#### 2.2 LogReg + SMOTE, с калибровкой\n",
        "\n",
        "Дополнительно добавим к модели калибровку вероятностей."
      ],
      "metadata": {
        "id": "YvLoqf6fZJru"
      }
    },
    {
      "cell_type": "code",
      "source": [
        "pipeline_cal = imbpipeline(steps = [['smote', SMOTE(random_state=0)],\n",
        "                                    ['classifier', CalibratedClassifierCV(LogisticRegression(random_state=0, max_iter=10000, C=0.2), \n",
        "                                                                          method='sigmoid', cv=5)]])"
      ],
      "metadata": {
        "id": "JqpDYBVyVul4"
      },
      "execution_count": 81,
      "outputs": []
    },
    {
      "cell_type": "code",
      "source": [
        "# модель с калибровкой\n",
        "pipeline_2 = imbpipeline(steps = [['smote', SMOTE(random_state=0)],\n",
        "                                  ['undersampling', RandomUnderSampler(random_state=0)],\n",
        "                                  ['classifier', CalibratedClassifierCV(LogisticRegression(random_state=0, max_iter=10000, C=1),\n",
        "                                                                        method='sigmoid', cv=3)]])\n",
        "\n",
        "# columns_to_drop = cols['rto_n'] + cols['rto_n_category'] + cols['rto_var_n'] + cols['rto_var_n_category']\n",
        "# columns_to_drop = cols['rto_var_n'] + cols['rto_var_n_category']\n",
        "\n",
        "# test_final(pipeline_2, X_train_log_rto_scaled.drop(columns=columns_to_drop), y_train, \n",
        "#            X_test_log_rto_scaled.drop(columns=columns_to_drop), y_test)"
      ],
      "metadata": {
        "id": "e7W6JyZUihf4"
      },
      "execution_count": 82,
      "outputs": []
    },
    {
      "cell_type": "code",
      "source": [
        "pipeline_3 = imbpipeline(steps = [['undersampling', RandomUnderSampler(random_state=0)],\n",
        "                                  ['smote', SMOTE(random_state=0)],\n",
        "                                  ['classifier', CalibratedClassifierCV(LogisticRegression(random_state=0, max_iter=10000, C=1),\n",
        "                                                                        method='sigmoid', cv=3)]])"
      ],
      "metadata": {
        "id": "CUyxouhD6t9X"
      },
      "execution_count": 166,
      "outputs": []
    },
    {
      "cell_type": "code",
      "source": [
        "pipeline_4 = imbpipeline(steps = [['asmo', ADASYN(random_state=0)],\n",
        "                                  ['undersampling', RandomUnderSampler(random_state=0)],\n",
        "                                  ['classifier', CalibratedClassifierCV(LogisticRegression(random_state=0, max_iter=10000, C=1),\n",
        "                                                                        method='sigmoid', cv=3)]])"
      ],
      "metadata": {
        "id": "LxKuXQ1TOIpe"
      },
      "execution_count": 212,
      "outputs": []
    },
    {
      "cell_type": "code",
      "source": [
        "# полные данные\n",
        "test_final(pipeline_cal, X_train, y_train, X_test, y_test)"
      ],
      "metadata": {
        "id": "zuB8fFAxjpHT"
      },
      "execution_count": null,
      "outputs": []
    },
    {
      "cell_type": "code",
      "source": [
        "# полные логарифмированные данные\n",
        "test_final(pipeline_cal, X_train_log_all, y_train, X_tes_log_all, y_test)"
      ],
      "metadata": {
        "id": "7-qrvbQ6jpHU"
      },
      "execution_count": null,
      "outputs": []
    },
    {
      "cell_type": "code",
      "source": [
        "# частично логарифмированные данные\n",
        "test_final(pipeline_cal, X_train_log_rto, y_train, X_tes_log_rto, y_test)"
      ],
      "metadata": {
        "id": "prfLy5oojpHU"
      },
      "execution_count": null,
      "outputs": []
    },
    {
      "cell_type": "code",
      "source": [
        "# только с дисперсией\n",
        "test_final(pipeline_cal, X_train.drop(columns=cols['rto_std_n']+cols['rto_std_n_category']), y_train, \n",
        "           X_test.drop(columns=cols['rto_std_n']+cols['rto_std_n_category']), y_test)"
      ],
      "metadata": {
        "id": "Himq2CCJjpHU"
      },
      "execution_count": null,
      "outputs": []
    },
    {
      "cell_type": "code",
      "source": [
        "# только с стд\n",
        "test_final(pipeline_cal, X_train.drop(columns=cols['rto_var_n']+cols['rto_var_n_category']), y_train, \n",
        "           X_test.drop(columns=cols['rto_var_n']+cols['rto_var_n_category']), y_test)"
      ],
      "metadata": {
        "id": "lc_zTY12jpHW"
      },
      "execution_count": null,
      "outputs": []
    },
    {
      "cell_type": "code",
      "source": [
        "# без дисперсии и стд\n",
        "columns_to_drop = cols['rto_var_n'] + cols['rto_var_n_category'] + cols['rto_std_n'] + cols['rto_std_n_category']\n",
        "test_final(pipeline_cal, X_train.drop(columns=columns_to_drop), y_train, \n",
        "           X_test.drop(columns=columns_to_drop), y_test)"
      ],
      "metadata": {
        "id": "UboOXPM-jpHW"
      },
      "execution_count": null,
      "outputs": []
    },
    {
      "cell_type": "markdown",
      "source": [
        "#### 2.3 PU Learning"
      ],
      "metadata": {
        "id": "5I_2AqAOUj69"
      }
    },
    {
      "cell_type": "code",
      "source": [
        "class ElkanotoPuClassifier(BaseEstimator, ClassifierMixin):\n",
        "    \"\"\"\n",
        "    Positive-unlabeled classifier using the unweighted Elkan & Noto method.\n",
        "    Parameters\n",
        "    ----------\n",
        "    estimator : sklearn.BaseEstimator\n",
        "        Any sklearn-compliant estimator object implementing the fit() and\n",
        "        predict_proba() methods.\n",
        "    hold_out_ratio : float, default 0.1\n",
        "       The ratio of training examples to set aside to estimate the probability\n",
        "       of an exmaple to be positive.\n",
        "    \"\"\"\n",
        "\n",
        "    def __init__(self, estimator, hold_out_ratio=0.1):\n",
        "        self.estimator = estimator\n",
        "        # c is the constant proba that a example is positive, init to 1\n",
        "        self.c = 1.0\n",
        "        self.hold_out_ratio = hold_out_ratio\n",
        "\n",
        "    def fit(self, X, y):\n",
        "        \"\"\"Fits the classifier\n",
        "\n",
        "        Parameters\n",
        "        ----------\n",
        "        X : array-like, shape = [n_samples, n_features]\n",
        "            The training input samples.\n",
        "        y : array-like, shape = [n_samples]\n",
        "            The target values. An array of int.\n",
        "\n",
        "        Returns\n",
        "        -------\n",
        "        self : object\n",
        "            Returns self.\n",
        "        \"\"\"\n",
        "        positives = np.where(y == 1.0)[0]\n",
        "        hold_out_size = int(np.ceil(len(positives) * self.hold_out_ratio))\n",
        "        # check for the required number of positive examples\n",
        "        if len(positives) <= hold_out_size:\n",
        "            raise ValueError(\n",
        "                'Not enough positive examples to estimate p(s=1|y=1,x).'\n",
        "                ' Need at least {}.'.format(hold_out_size + 1)\n",
        "            )\n",
        "        # construct the holdout set\n",
        "        np.random.shuffle(positives)\n",
        "        hold_out = positives[:hold_out_size]\n",
        "        X_hold_out = X[hold_out]\n",
        "        X = np.delete(X, hold_out, 0)\n",
        "        y = y[set(y.index) - set(hold_out)]\n",
        "        # fit the inner estimator\n",
        "        self.estimator.fit(X, y)\n",
        "        # update c, the positive proba estimate\n",
        "        self.c = np.mean(self.estimator.predict_proba(X_hold_out)[:, 1])\n",
        "\n",
        "    def predict_proba(self, X):\n",
        "        return self.estimator.predict_proba(X)[:, 1] / self.c\n",
        "\n",
        "    def predict(self, X, threshold=0.5):\n",
        "        return np.array([1.0 if p > threshold else 0 for p in self.predict_proba(X)])"
      ],
      "metadata": {
        "id": "mTTZEEcfVJl1"
      },
      "execution_count": 29,
      "outputs": []
    },
    {
      "cell_type": "code",
      "source": [
        "over = SMOTE(random_state=42, sampling_strategy=0.2)\n",
        "under = RandomUnderSampler(sampling_strategy=1)\n",
        "steps = [('under', under)]\n",
        "os = imbpipeline(steps=steps)\n",
        "\n",
        "pu_estimator = ElkanotoPuClassifier(estimator=CalibratedClassifierCV(LogisticRegression(max_iter=10000, \n",
        "                                                                                        penalty='l2', \n",
        "                                                                                        random_state=42, C=1), \n",
        "                                                                     cv=7, method='sigmoid'), hold_out_ratio=0.07)"
      ],
      "metadata": {
        "id": "Y5tnKYahUs1L"
      },
      "execution_count": 30,
      "outputs": []
    },
    {
      "cell_type": "markdown",
      "source": [
        "### Отбор признаков"
      ],
      "metadata": {
        "id": "CrePQljRh2hz"
      }
    },
    {
      "cell_type": "markdown",
      "source": [
        "#### Добавление новых признаков"
      ],
      "metadata": {
        "id": "z84dSBycxsAX"
      }
    },
    {
      "cell_type": "markdown",
      "source": [
        "У нас есть разбиение по месяцам. Что будет если убрать его и заменить средними?"
      ],
      "metadata": {
        "id": "_jZsZH3nyV7c"
      }
    },
    {
      "cell_type": "code",
      "source": [
        "def mean_month_columns(X, cols, replace=True, inplace=False):\n",
        "    if not inplace:\n",
        "        X_newcols = X.copy()\n",
        "    else:\n",
        "        X_newcols = X\n",
        "    for column in list(cols.keys()):\n",
        "        try:\n",
        "            a = X_newcols[cols[column]].values[0]\n",
        "            key = 1\n",
        "        except:\n",
        "            key = 0\n",
        "        if '_n' in column and key == 1:\n",
        "            # если есть разбиение по категориям\n",
        "            if '_category' in  column:\n",
        "                # вытаскиваем имя колонки, чтобы потом вставить туда новую категорию\n",
        "                name_temp = column.split('_category')[0]\n",
        "                name_temp = name_temp.replace('std', 'stddev')\n",
        "                for cat in categories:\n",
        "                    name = f'{name_temp}_{cat}'\n",
        "                    parts = name.split('_n')\n",
        "                    \n",
        "                    # колонки по одной категории, но по разным месяцам\n",
        "                    cat_n_cols = [f'{parts[0]}_{i}{parts[1]}' for i in range(6, 13)]\n",
        "                    # берем по ним среднее и создаем новый столбец данных\n",
        "                    X_newcols[name] = X_newcols[cat_n_cols].mean(axis=1)\n",
        "            # если нет разбиения по категориям\n",
        "            else:\n",
        "                # создаем новую колонку со средним\n",
        "                X_newcols[column] = X_newcols[cols[column]].mean(axis=1)\n",
        "\n",
        "            if replace:\n",
        "                # удаляем старые столбцы\n",
        "                X_newcols = X_newcols.drop(columns=cols[column])\n",
        "    \n",
        "    return X_newcols"
      ],
      "metadata": {
        "id": "BLilK_1v7H5_"
      },
      "execution_count": 66,
      "outputs": []
    },
    {
      "cell_type": "code",
      "source": [
        "X_train_newcols = mean_month_columns(X_train_scaled, cols)\n",
        "X_test_newcols = mean_month_columns(X_test_scaled, cols)"
      ],
      "metadata": {
        "id": "tLJWvPTaDSWY"
      },
      "execution_count": 67,
      "outputs": []
    },
    {
      "cell_type": "code",
      "source": [
        "X_train_newcols.describe()"
      ],
      "metadata": {
        "colab": {
          "base_uri": "https://localhost:8080/",
          "height": 428
        },
        "id": "TZFadH7GF-yA",
        "outputId": "211ea8ed-b3d4-4311-b2c7-b99bb0f13f0c"
      },
      "execution_count": 85,
      "outputs": [
        {
          "output_type": "execute_result",
          "data": {
            "text/plain": [
              "              rto_n  rto_n_Рыба и рыбные изделия  \\\n",
              "count  94542.000000                 94542.000000   \n",
              "mean       0.099392                    -0.807933   \n",
              "std        0.937345                     0.029862   \n",
              "min       -0.807176                    -0.817575   \n",
              "25%       -0.490787                    -0.817575   \n",
              "50%       -0.194587                    -0.817575   \n",
              "75%        0.354075                    -0.814044   \n",
              "max       18.848148                     0.096835   \n",
              "\n",
              "       rto_n_Птица и изделия из птицы    rto_n_Сыры  rto_n_Крупы и зерновые  \\\n",
              "count                    94542.000000  94542.000000            94542.000000   \n",
              "mean                        -0.782975     -0.773472               -0.811089   \n",
              "std                          0.055235      0.060000                0.011688   \n",
              "min                         -0.817575     -0.817575               -0.817575   \n",
              "25%                         -0.814430     -0.809515               -0.817575   \n",
              "50%                         -0.802022     -0.792928               -0.815098   \n",
              "75%                         -0.773975     -0.760617               -0.809660   \n",
              "max                          1.130049      1.332986               -0.217387   \n",
              "\n",
              "       rto_n_Овощи - Фрукты  rto_n_Мясная гастрономия     rto_std_n  \\\n",
              "count          94542.000000              94542.000000  94542.000000   \n",
              "mean              -0.721757                 -0.767148     -0.737658   \n",
              "std                0.127245                  0.073703      0.059720   \n",
              "min               -0.817575                 -0.817575     -0.816551   \n",
              "25%               -0.794874                 -0.810311     -0.777360   \n",
              "50%               -0.761404                 -0.792368     -0.752064   \n",
              "75%               -0.694865                 -0.753720     -0.715638   \n",
              "max                7.869581                  2.339736      0.291923   \n",
              "\n",
              "       rto_stddev_n_Рыба и рыбные изделия  \\\n",
              "count                        94542.000000   \n",
              "mean                            -0.816703   \n",
              "std                              0.004523   \n",
              "min                             -0.817601   \n",
              "25%                             -0.817575   \n",
              "50%                             -0.817575   \n",
              "75%                             -0.817575   \n",
              "max                             -0.528480   \n",
              "\n",
              "       rto_stddev_n_Птица и изделия из птицы  ...  \\\n",
              "count                           94542.000000  ...   \n",
              "mean                               -0.814934  ...   \n",
              "std                                 0.004555  ...   \n",
              "min                                -0.817646  ...   \n",
              "25%                                -0.817575  ...   \n",
              "50%                                -0.817174  ...   \n",
              "75%                                -0.813877  ...   \n",
              "max                                -0.635984  ...   \n",
              "\n",
              "       cnt_checks_n_Крупы и зерновые  cnt_checks_n_Овощи - Фрукты  \\\n",
              "count                   94542.000000                 94542.000000   \n",
              "mean                       -0.872772                    -0.542189   \n",
              "std                         0.070807                     0.375838   \n",
              "min                        -0.917363                    -0.917363   \n",
              "25%                        -0.917363                    -0.786231   \n",
              "50%                        -0.898630                    -0.655099   \n",
              "75%                        -0.861164                    -0.430301   \n",
              "max                         2.042477                     5.414447   \n",
              "\n",
              "       cnt_checks_n_Мясная гастрономия     rto_var_n  \\\n",
              "count                     94542.000000  94542.000000   \n",
              "mean                         -0.756714     95.996129   \n",
              "std                           0.199050    238.688032   \n",
              "min                          -0.917363     -0.803633   \n",
              "25%                          -0.879897     15.881452   \n",
              "50%                          -0.823698     40.957697   \n",
              "75%                          -0.711299     97.096076   \n",
              "max                           2.192342  14287.752664   \n",
              "\n",
              "       rto_var_n_Рыба и рыбные изделия  rto_var_n_Птица и изделия из птицы  \\\n",
              "count                     94542.000000                        94542.000000   \n",
              "mean                         -0.261477                           -0.397816   \n",
              "std                          11.663413                            2.530287   \n",
              "min                          -0.817575                           -0.817575   \n",
              "25%                          -0.817575                           -0.817575   \n",
              "50%                          -0.817575                           -0.810638   \n",
              "75%                          -0.817575                           -0.509867   \n",
              "max                        3271.390064                          322.980235   \n",
              "\n",
              "       rto_var_n_Сыры  rto_var_n_Крупы и зерновые  rto_var_n_Овощи - Фрукты  \\\n",
              "count    94542.000000                94542.000000              94542.000000   \n",
              "mean        -0.305038                   -0.778117                 -0.297100   \n",
              "std          2.811681                    0.255983                  2.394092   \n",
              "min         -0.817575                   -0.817575                 -0.817575   \n",
              "25%         -0.817575                   -0.817575                 -0.714025   \n",
              "50%         -0.719957                   -0.817575                 -0.547604   \n",
              "75%         -0.415838                   -0.809028                 -0.259379   \n",
              "max        312.890456                   27.498780                528.045588   \n",
              "\n",
              "       rto_var_n_Мясная гастрономия  \n",
              "count                  94542.000000  \n",
              "mean                      -0.282522  \n",
              "std                        3.190739  \n",
              "min                       -0.817575  \n",
              "25%                       -0.817575  \n",
              "50%                       -0.712942  \n",
              "75%                       -0.301164  \n",
              "max                      814.673653  \n",
              "\n",
              "[8 rows x 28 columns]"
            ],
            "text/html": [
              "\n",
              "  <div id=\"df-18620ae2-a245-478a-9199-09131e7b3123\">\n",
              "    <div class=\"colab-df-container\">\n",
              "      <div>\n",
              "<style scoped>\n",
              "    .dataframe tbody tr th:only-of-type {\n",
              "        vertical-align: middle;\n",
              "    }\n",
              "\n",
              "    .dataframe tbody tr th {\n",
              "        vertical-align: top;\n",
              "    }\n",
              "\n",
              "    .dataframe thead th {\n",
              "        text-align: right;\n",
              "    }\n",
              "</style>\n",
              "<table border=\"1\" class=\"dataframe\">\n",
              "  <thead>\n",
              "    <tr style=\"text-align: right;\">\n",
              "      <th></th>\n",
              "      <th>rto_n</th>\n",
              "      <th>rto_n_Рыба и рыбные изделия</th>\n",
              "      <th>rto_n_Птица и изделия из птицы</th>\n",
              "      <th>rto_n_Сыры</th>\n",
              "      <th>rto_n_Крупы и зерновые</th>\n",
              "      <th>rto_n_Овощи - Фрукты</th>\n",
              "      <th>rto_n_Мясная гастрономия</th>\n",
              "      <th>rto_std_n</th>\n",
              "      <th>rto_stddev_n_Рыба и рыбные изделия</th>\n",
              "      <th>rto_stddev_n_Птица и изделия из птицы</th>\n",
              "      <th>...</th>\n",
              "      <th>cnt_checks_n_Крупы и зерновые</th>\n",
              "      <th>cnt_checks_n_Овощи - Фрукты</th>\n",
              "      <th>cnt_checks_n_Мясная гастрономия</th>\n",
              "      <th>rto_var_n</th>\n",
              "      <th>rto_var_n_Рыба и рыбные изделия</th>\n",
              "      <th>rto_var_n_Птица и изделия из птицы</th>\n",
              "      <th>rto_var_n_Сыры</th>\n",
              "      <th>rto_var_n_Крупы и зерновые</th>\n",
              "      <th>rto_var_n_Овощи - Фрукты</th>\n",
              "      <th>rto_var_n_Мясная гастрономия</th>\n",
              "    </tr>\n",
              "  </thead>\n",
              "  <tbody>\n",
              "    <tr>\n",
              "      <th>count</th>\n",
              "      <td>94542.000000</td>\n",
              "      <td>94542.000000</td>\n",
              "      <td>94542.000000</td>\n",
              "      <td>94542.000000</td>\n",
              "      <td>94542.000000</td>\n",
              "      <td>94542.000000</td>\n",
              "      <td>94542.000000</td>\n",
              "      <td>94542.000000</td>\n",
              "      <td>94542.000000</td>\n",
              "      <td>94542.000000</td>\n",
              "      <td>...</td>\n",
              "      <td>94542.000000</td>\n",
              "      <td>94542.000000</td>\n",
              "      <td>94542.000000</td>\n",
              "      <td>94542.000000</td>\n",
              "      <td>94542.000000</td>\n",
              "      <td>94542.000000</td>\n",
              "      <td>94542.000000</td>\n",
              "      <td>94542.000000</td>\n",
              "      <td>94542.000000</td>\n",
              "      <td>94542.000000</td>\n",
              "    </tr>\n",
              "    <tr>\n",
              "      <th>mean</th>\n",
              "      <td>0.099392</td>\n",
              "      <td>-0.807933</td>\n",
              "      <td>-0.782975</td>\n",
              "      <td>-0.773472</td>\n",
              "      <td>-0.811089</td>\n",
              "      <td>-0.721757</td>\n",
              "      <td>-0.767148</td>\n",
              "      <td>-0.737658</td>\n",
              "      <td>-0.816703</td>\n",
              "      <td>-0.814934</td>\n",
              "      <td>...</td>\n",
              "      <td>-0.872772</td>\n",
              "      <td>-0.542189</td>\n",
              "      <td>-0.756714</td>\n",
              "      <td>95.996129</td>\n",
              "      <td>-0.261477</td>\n",
              "      <td>-0.397816</td>\n",
              "      <td>-0.305038</td>\n",
              "      <td>-0.778117</td>\n",
              "      <td>-0.297100</td>\n",
              "      <td>-0.282522</td>\n",
              "    </tr>\n",
              "    <tr>\n",
              "      <th>std</th>\n",
              "      <td>0.937345</td>\n",
              "      <td>0.029862</td>\n",
              "      <td>0.055235</td>\n",
              "      <td>0.060000</td>\n",
              "      <td>0.011688</td>\n",
              "      <td>0.127245</td>\n",
              "      <td>0.073703</td>\n",
              "      <td>0.059720</td>\n",
              "      <td>0.004523</td>\n",
              "      <td>0.004555</td>\n",
              "      <td>...</td>\n",
              "      <td>0.070807</td>\n",
              "      <td>0.375838</td>\n",
              "      <td>0.199050</td>\n",
              "      <td>238.688032</td>\n",
              "      <td>11.663413</td>\n",
              "      <td>2.530287</td>\n",
              "      <td>2.811681</td>\n",
              "      <td>0.255983</td>\n",
              "      <td>2.394092</td>\n",
              "      <td>3.190739</td>\n",
              "    </tr>\n",
              "    <tr>\n",
              "      <th>min</th>\n",
              "      <td>-0.807176</td>\n",
              "      <td>-0.817575</td>\n",
              "      <td>-0.817575</td>\n",
              "      <td>-0.817575</td>\n",
              "      <td>-0.817575</td>\n",
              "      <td>-0.817575</td>\n",
              "      <td>-0.817575</td>\n",
              "      <td>-0.816551</td>\n",
              "      <td>-0.817601</td>\n",
              "      <td>-0.817646</td>\n",
              "      <td>...</td>\n",
              "      <td>-0.917363</td>\n",
              "      <td>-0.917363</td>\n",
              "      <td>-0.917363</td>\n",
              "      <td>-0.803633</td>\n",
              "      <td>-0.817575</td>\n",
              "      <td>-0.817575</td>\n",
              "      <td>-0.817575</td>\n",
              "      <td>-0.817575</td>\n",
              "      <td>-0.817575</td>\n",
              "      <td>-0.817575</td>\n",
              "    </tr>\n",
              "    <tr>\n",
              "      <th>25%</th>\n",
              "      <td>-0.490787</td>\n",
              "      <td>-0.817575</td>\n",
              "      <td>-0.814430</td>\n",
              "      <td>-0.809515</td>\n",
              "      <td>-0.817575</td>\n",
              "      <td>-0.794874</td>\n",
              "      <td>-0.810311</td>\n",
              "      <td>-0.777360</td>\n",
              "      <td>-0.817575</td>\n",
              "      <td>-0.817575</td>\n",
              "      <td>...</td>\n",
              "      <td>-0.917363</td>\n",
              "      <td>-0.786231</td>\n",
              "      <td>-0.879897</td>\n",
              "      <td>15.881452</td>\n",
              "      <td>-0.817575</td>\n",
              "      <td>-0.817575</td>\n",
              "      <td>-0.817575</td>\n",
              "      <td>-0.817575</td>\n",
              "      <td>-0.714025</td>\n",
              "      <td>-0.817575</td>\n",
              "    </tr>\n",
              "    <tr>\n",
              "      <th>50%</th>\n",
              "      <td>-0.194587</td>\n",
              "      <td>-0.817575</td>\n",
              "      <td>-0.802022</td>\n",
              "      <td>-0.792928</td>\n",
              "      <td>-0.815098</td>\n",
              "      <td>-0.761404</td>\n",
              "      <td>-0.792368</td>\n",
              "      <td>-0.752064</td>\n",
              "      <td>-0.817575</td>\n",
              "      <td>-0.817174</td>\n",
              "      <td>...</td>\n",
              "      <td>-0.898630</td>\n",
              "      <td>-0.655099</td>\n",
              "      <td>-0.823698</td>\n",
              "      <td>40.957697</td>\n",
              "      <td>-0.817575</td>\n",
              "      <td>-0.810638</td>\n",
              "      <td>-0.719957</td>\n",
              "      <td>-0.817575</td>\n",
              "      <td>-0.547604</td>\n",
              "      <td>-0.712942</td>\n",
              "    </tr>\n",
              "    <tr>\n",
              "      <th>75%</th>\n",
              "      <td>0.354075</td>\n",
              "      <td>-0.814044</td>\n",
              "      <td>-0.773975</td>\n",
              "      <td>-0.760617</td>\n",
              "      <td>-0.809660</td>\n",
              "      <td>-0.694865</td>\n",
              "      <td>-0.753720</td>\n",
              "      <td>-0.715638</td>\n",
              "      <td>-0.817575</td>\n",
              "      <td>-0.813877</td>\n",
              "      <td>...</td>\n",
              "      <td>-0.861164</td>\n",
              "      <td>-0.430301</td>\n",
              "      <td>-0.711299</td>\n",
              "      <td>97.096076</td>\n",
              "      <td>-0.817575</td>\n",
              "      <td>-0.509867</td>\n",
              "      <td>-0.415838</td>\n",
              "      <td>-0.809028</td>\n",
              "      <td>-0.259379</td>\n",
              "      <td>-0.301164</td>\n",
              "    </tr>\n",
              "    <tr>\n",
              "      <th>max</th>\n",
              "      <td>18.848148</td>\n",
              "      <td>0.096835</td>\n",
              "      <td>1.130049</td>\n",
              "      <td>1.332986</td>\n",
              "      <td>-0.217387</td>\n",
              "      <td>7.869581</td>\n",
              "      <td>2.339736</td>\n",
              "      <td>0.291923</td>\n",
              "      <td>-0.528480</td>\n",
              "      <td>-0.635984</td>\n",
              "      <td>...</td>\n",
              "      <td>2.042477</td>\n",
              "      <td>5.414447</td>\n",
              "      <td>2.192342</td>\n",
              "      <td>14287.752664</td>\n",
              "      <td>3271.390064</td>\n",
              "      <td>322.980235</td>\n",
              "      <td>312.890456</td>\n",
              "      <td>27.498780</td>\n",
              "      <td>528.045588</td>\n",
              "      <td>814.673653</td>\n",
              "    </tr>\n",
              "  </tbody>\n",
              "</table>\n",
              "<p>8 rows × 28 columns</p>\n",
              "</div>\n",
              "      <button class=\"colab-df-convert\" onclick=\"convertToInteractive('df-18620ae2-a245-478a-9199-09131e7b3123')\"\n",
              "              title=\"Convert this dataframe to an interactive table.\"\n",
              "              style=\"display:none;\">\n",
              "        \n",
              "  <svg xmlns=\"http://www.w3.org/2000/svg\" height=\"24px\"viewBox=\"0 0 24 24\"\n",
              "       width=\"24px\">\n",
              "    <path d=\"M0 0h24v24H0V0z\" fill=\"none\"/>\n",
              "    <path d=\"M18.56 5.44l.94 2.06.94-2.06 2.06-.94-2.06-.94-.94-2.06-.94 2.06-2.06.94zm-11 1L8.5 8.5l.94-2.06 2.06-.94-2.06-.94L8.5 2.5l-.94 2.06-2.06.94zm10 10l.94 2.06.94-2.06 2.06-.94-2.06-.94-.94-2.06-.94 2.06-2.06.94z\"/><path d=\"M17.41 7.96l-1.37-1.37c-.4-.4-.92-.59-1.43-.59-.52 0-1.04.2-1.43.59L10.3 9.45l-7.72 7.72c-.78.78-.78 2.05 0 2.83L4 21.41c.39.39.9.59 1.41.59.51 0 1.02-.2 1.41-.59l7.78-7.78 2.81-2.81c.8-.78.8-2.07 0-2.86zM5.41 20L4 18.59l7.72-7.72 1.47 1.35L5.41 20z\"/>\n",
              "  </svg>\n",
              "      </button>\n",
              "      \n",
              "  <style>\n",
              "    .colab-df-container {\n",
              "      display:flex;\n",
              "      flex-wrap:wrap;\n",
              "      gap: 12px;\n",
              "    }\n",
              "\n",
              "    .colab-df-convert {\n",
              "      background-color: #E8F0FE;\n",
              "      border: none;\n",
              "      border-radius: 50%;\n",
              "      cursor: pointer;\n",
              "      display: none;\n",
              "      fill: #1967D2;\n",
              "      height: 32px;\n",
              "      padding: 0 0 0 0;\n",
              "      width: 32px;\n",
              "    }\n",
              "\n",
              "    .colab-df-convert:hover {\n",
              "      background-color: #E2EBFA;\n",
              "      box-shadow: 0px 1px 2px rgba(60, 64, 67, 0.3), 0px 1px 3px 1px rgba(60, 64, 67, 0.15);\n",
              "      fill: #174EA6;\n",
              "    }\n",
              "\n",
              "    [theme=dark] .colab-df-convert {\n",
              "      background-color: #3B4455;\n",
              "      fill: #D2E3FC;\n",
              "    }\n",
              "\n",
              "    [theme=dark] .colab-df-convert:hover {\n",
              "      background-color: #434B5C;\n",
              "      box-shadow: 0px 1px 3px 1px rgba(0, 0, 0, 0.15);\n",
              "      filter: drop-shadow(0px 1px 2px rgba(0, 0, 0, 0.3));\n",
              "      fill: #FFFFFF;\n",
              "    }\n",
              "  </style>\n",
              "\n",
              "      <script>\n",
              "        const buttonEl =\n",
              "          document.querySelector('#df-18620ae2-a245-478a-9199-09131e7b3123 button.colab-df-convert');\n",
              "        buttonEl.style.display =\n",
              "          google.colab.kernel.accessAllowed ? 'block' : 'none';\n",
              "\n",
              "        async function convertToInteractive(key) {\n",
              "          const element = document.querySelector('#df-18620ae2-a245-478a-9199-09131e7b3123');\n",
              "          const dataTable =\n",
              "            await google.colab.kernel.invokeFunction('convertToInteractive',\n",
              "                                                     [key], {});\n",
              "          if (!dataTable) return;\n",
              "\n",
              "          const docLinkHtml = 'Like what you see? Visit the ' +\n",
              "            '<a target=\"_blank\" href=https://colab.research.google.com/notebooks/data_table.ipynb>data table notebook</a>'\n",
              "            + ' to learn more about interactive tables.';\n",
              "          element.innerHTML = '';\n",
              "          dataTable['output_type'] = 'display_data';\n",
              "          await google.colab.output.renderOutput(dataTable, element);\n",
              "          const docLink = document.createElement('div');\n",
              "          docLink.innerHTML = docLinkHtml;\n",
              "          element.appendChild(docLink);\n",
              "        }\n",
              "      </script>\n",
              "    </div>\n",
              "  </div>\n",
              "  "
            ]
          },
          "metadata": {},
          "execution_count": 85
        }
      ]
    },
    {
      "cell_type": "markdown",
      "source": [
        "Теперь обучим модель на новых данных"
      ],
      "metadata": {
        "id": "uzFAFQ8iEh9n"
      }
    },
    {
      "cell_type": "code",
      "source": [
        "pipeline_newcols = imbpipeline(steps = [['smote', SMOTE(random_state=0)],\n",
        "                                        ['undersampling', RandomUnderSampler(random_state=0)],\n",
        "                                        ['classifier', LogisticRegression(random_state=0, max_iter=5000, C=1)]])"
      ],
      "metadata": {
        "id": "vTSavf_wEnxP"
      },
      "execution_count": 86,
      "outputs": []
    },
    {
      "cell_type": "code",
      "source": [
        "test_final(pipeline_2, X_train_newcols, y_train, X_test_newcols, y_test)"
      ],
      "metadata": {
        "colab": {
          "base_uri": "https://localhost:8080/"
        },
        "id": "C3dzIf44EyKc",
        "outputId": "1ef01401-fe11-402b-f3f3-d0470b18ce94"
      },
      "execution_count": 67,
      "outputs": [
        {
          "output_type": "stream",
          "name": "stdout",
          "text": [
            "                   Train     Test\n",
            "F2                42.22%      36.30%\n",
            "Precision         16.99%      14.87%\n",
            "Recall            67.13%      56.74%\n"
          ]
        }
      ]
    },
    {
      "cell_type": "code",
      "source": [
        "test_final(pipeline_newcols, X_train_newcols, y_train, X_test_newcols, y_test)"
      ],
      "metadata": {
        "colab": {
          "base_uri": "https://localhost:8080/"
        },
        "id": "EiMIkRTHI_7r",
        "outputId": "5fc973a2-14ff-46f3-ff78-edbf921813ab"
      },
      "execution_count": 68,
      "outputs": [
        {
          "output_type": "stream",
          "name": "stdout",
          "text": [
            "                   Train     Test\n",
            "F2                42.04%      35.64%\n",
            "Precision         16.78%      14.60%\n",
            "Recall            67.40%      55.70%\n"
          ]
        }
      ]
    },
    {
      "cell_type": "markdown",
      "source": [
        "Посмотрим, что будет, если оставить только stddev или только var"
      ],
      "metadata": {
        "id": "in-ele24JjG6"
      }
    },
    {
      "cell_type": "code",
      "source": [
        "stdcols_to_drop = []\n",
        "varcols_to_drop = []\n",
        "for col in X_train_newcols.columns:\n",
        "    if '_std' in col:\n",
        "        stdcols_to_drop.append(col)\n",
        "    elif '_var' in col:\n",
        "        varcols_to_drop.append(col)"
      ],
      "metadata": {
        "id": "kvgb5dj4JpVX"
      },
      "execution_count": 33,
      "outputs": []
    },
    {
      "cell_type": "code",
      "source": [
        "# без стд столбцов\n",
        "# результат лучше, чем с ними\n",
        "test_final(pipeline_2, X_train_newcols.drop(columns=stdcols_to_drop), y_train, \n",
        "           X_test_newcols.drop(columns=stdcols_to_drop), y_test)"
      ],
      "metadata": {
        "colab": {
          "base_uri": "https://localhost:8080/"
        },
        "id": "eOQ1iZu8JpdX",
        "outputId": "e6dec5f9-9113-4e5e-b3f8-84bdd79c1007"
      },
      "execution_count": 70,
      "outputs": [
        {
          "output_type": "stream",
          "name": "stdout",
          "text": [
            "                   Train     Test\n",
            "F2                42.47%      36.34%\n",
            "Precision         17.45%      15.05%\n",
            "Recall            66.22%      56.22%\n"
          ]
        }
      ]
    },
    {
      "cell_type": "code",
      "source": [
        "# без вар столбцов\n",
        "# результат хуже, чем с ними\n",
        "test_final(pipeline_2, X_train_newcols.drop(columns=varcols_to_drop), y_train, \n",
        "           X_test_newcols.drop(columns=varcols_to_drop), y_test)"
      ],
      "metadata": {
        "colab": {
          "base_uri": "https://localhost:8080/"
        },
        "id": "BZOxdxxgKVi7",
        "outputId": "9fc926d6-2d57-4921-8c76-b36bacecde0b"
      },
      "execution_count": 71,
      "outputs": [
        {
          "output_type": "stream",
          "name": "stdout",
          "text": [
            "                   Train     Test\n",
            "F2                42.17%      35.74%\n",
            "Precision         16.82%      14.53%\n",
            "Recall            67.67%      56.29%\n"
          ]
        }
      ]
    },
    {
      "cell_type": "markdown",
      "source": [
        "**Вывод:** лучше убрать столбцы со стандартным отклонением, чем с дисперсией."
      ],
      "metadata": {
        "id": "bJ3WF3D8LO4I"
      }
    },
    {
      "cell_type": "markdown",
      "source": [
        "Попробуем к датасету без стд добавить столбцы rto_n"
      ],
      "metadata": {
        "id": "s2KyFigLO15x"
      }
    },
    {
      "cell_type": "code",
      "source": [
        "# без стд столбцов\n",
        "# со столбцами rto_n\n",
        "# с ними работает лучше, чем без них\n",
        "test_final(pipeline_2, pd.concat([X_train_newcols.drop(columns=stdcols_to_drop), X_train_scaled[cols['rto_n']]], axis=1), y_train, \n",
        "           pd.concat([X_test_newcols.drop(columns=stdcols_to_drop), X_test_scaled[cols['rto_n']]], axis=1), y_test)"
      ],
      "metadata": {
        "colab": {
          "base_uri": "https://localhost:8080/"
        },
        "id": "78t1zNODO-qV",
        "outputId": "4e43646b-247d-4177-a904-40423ce7f257"
      },
      "execution_count": 81,
      "outputs": [
        {
          "output_type": "stream",
          "name": "stdout",
          "text": [
            "                   Train     Test\n",
            "F2                43.25%      37.33%\n",
            "Precision         17.98%      15.25%\n",
            "Recall            66.69%      58.50%\n"
          ]
        }
      ]
    },
    {
      "cell_type": "markdown",
      "source": [
        "**Попробуем сделать то же самое с обычными данными, а потом отскейлим обычным методом**"
      ],
      "metadata": {
        "id": "KAWVGvsQG2En"
      }
    },
    {
      "cell_type": "code",
      "source": [
        "X_train_usuallyscaled = mean_month_columns(X_train, cols)\n",
        "X_test_usuallyscaled = mean_month_columns(X_test, cols)"
      ],
      "metadata": {
        "id": "5L9KcL33G7_O"
      },
      "execution_count": 34,
      "outputs": []
    },
    {
      "cell_type": "code",
      "source": [
        "scaler = StandardScaler()\n",
        "train_scaled = scaler.fit_transform(X_train_usuallyscaled)\n",
        "test_scaled = scaler.transform(X_test_usuallyscaled)\n",
        "\n",
        "X_train_usuallyscaled = pd.DataFrame(train_scaled, index=X_train_usuallyscaled.index, \n",
        "                                     columns=X_train_usuallyscaled.columns)\n",
        "\n",
        "X_test_usuallyscaled = pd.DataFrame(test_scaled, index=X_test_usuallyscaled.index, \n",
        "                                     columns=X_test_usuallyscaled.columns)"
      ],
      "metadata": {
        "id": "Z65i4YWaKgNZ"
      },
      "execution_count": 35,
      "outputs": []
    },
    {
      "cell_type": "code",
      "source": [
        "test_final(pipeline_2, X_train_usuallyscaled, y_train, X_test_usuallyscaled, y_test)"
      ],
      "metadata": {
        "colab": {
          "base_uri": "https://localhost:8080/"
        },
        "id": "RDcb1Xy9Lc-e",
        "outputId": "30616843-3e7a-4eed-a3d2-a1f2cc3e3b60"
      },
      "execution_count": 74,
      "outputs": [
        {
          "output_type": "stream",
          "name": "stdout",
          "text": [
            "                   Train     Test\n",
            "F2                42.46%      36.39%\n",
            "Precision         16.80%      14.73%\n",
            "Recall            68.69%      57.53%\n"
          ]
        }
      ]
    },
    {
      "cell_type": "code",
      "source": [
        "# без стд столбцов \n",
        "# работает еще получше\n",
        "test_final(pipeline_2, X_train_usuallyscaled.drop(columns=stdcols_to_drop), y_train, \n",
        "           X_test_usuallyscaled.drop(columns=stdcols_to_drop), y_test)"
      ],
      "metadata": {
        "colab": {
          "base_uri": "https://localhost:8080/"
        },
        "id": "7RXi6fTkLrio",
        "outputId": "67196a37-4af2-4baf-f8ae-b714a9a705f2"
      },
      "execution_count": 80,
      "outputs": [
        {
          "output_type": "stream",
          "name": "stdout",
          "text": [
            "                   Train     Test\n",
            "F2                42.46%      36.52%\n",
            "Precision         17.44%      15.14%\n",
            "Recall            66.20%      56.43%\n"
          ]
        }
      ]
    },
    {
      "cell_type": "markdown",
      "source": [
        "#### Добавление новых данных"
      ],
      "metadata": {
        "id": "BT5suiHTUgfN"
      }
    },
    {
      "cell_type": "markdown",
      "source": [
        "Теперь добавим столбцы, добавленные в финале"
      ],
      "metadata": {
        "id": "OxExJsfpUmAA"
      }
    },
    {
      "cell_type": "code",
      "source": [
        "add_data = pd.read_csv('/content/drive/My Drive/Colab Notebooks/cup_it_additional_data.csv', index_col='index').drop(columns='Unnamed: 0')"
      ],
      "metadata": {
        "id": "EeL9Vjn9UmAA"
      },
      "execution_count": 60,
      "outputs": []
    },
    {
      "cell_type": "code",
      "source": [
        "add_cols = {\n",
        "    'cnt_unique_plu_n': [f'cnt_unique_plu_{n}' for n in range(6, 13)],\n",
        "    'cnt_unique_plu_n_category': [f'cnt_unique_plu_{n}_{cat}' for n in range(6, 13) for cat in categories]\n",
        "}"
      ],
      "metadata": {
        "id": "sMUV8x1yU3LQ"
      },
      "execution_count": 61,
      "outputs": []
    },
    {
      "cell_type": "markdown",
      "source": [
        "Поделим на тренировочную и тестовую выборку. У нас фиксрованный random state, так что можно быть уверенными, что данные будут мэтчиться"
      ],
      "metadata": {
        "id": "7uGnlt0xW934"
      }
    },
    {
      "cell_type": "code",
      "source": [
        "# сначала заполним пустые значения в соответствии с рекомендациями\n",
        "add_data = add_data.fillna(0)"
      ],
      "metadata": {
        "id": "sM1GzyGcYZN7"
      },
      "execution_count": 62,
      "outputs": []
    },
    {
      "cell_type": "code",
      "source": [
        "X_add_train, X_add_test, _, _ = train_test_split(add_data, y, test_size=0.3, random_state=42, \n",
        "                                                 shuffle=True, stratify=y)"
      ],
      "metadata": {
        "id": "GLqnXO__W7ej"
      },
      "execution_count": 63,
      "outputs": []
    },
    {
      "cell_type": "markdown",
      "source": [
        "Отмасштабируем их, тк на неотмастабированных данных вряд ли будет хорошо работать"
      ],
      "metadata": {
        "id": "-13xxcQhWTMU"
      }
    },
    {
      "cell_type": "code",
      "source": [
        "scaler = StandardScaler()\n",
        "train = scaler.fit_transform(X_add_train)\n",
        "test = scaler.transform(X_add_test)\n",
        "\n",
        "X_add_train = pd.DataFrame(train, index=X_add_train.index, \n",
        "                           columns=X_add_train.columns)\n",
        "X_add_test = pd.DataFrame(test, index=X_add_test.index,\n",
        "                          columns=X_add_test.columns)"
      ],
      "metadata": {
        "id": "c9YmUB36WYtg"
      },
      "execution_count": 64,
      "outputs": []
    },
    {
      "cell_type": "markdown",
      "source": [
        "Добавим их к лучшей модели с сокращенными данными"
      ],
      "metadata": {
        "id": "USKQv2J_X27r"
      }
    },
    {
      "cell_type": "code",
      "source": [
        "# без стд столбцов\n",
        "# со столбцами rto_n\n",
        "# с новыми данными, полными\n",
        "train = pd.concat([X_train_newcols.drop(columns=stdcols_to_drop), \n",
        "                   X_train_scaled[cols['rto_n']], \n",
        "                   X_add_train], axis=1).drop(columns=['rto_n'])\n",
        "test = pd.concat([X_test_newcols.drop(columns=stdcols_to_drop), \n",
        "                  X_test_scaled[cols['rto_n']],\n",
        "                  X_add_test], axis=1).drop(columns=['rto_n'])\n",
        "\n",
        "test_final(pipeline_2, train, y_train, test, y_test)"
      ],
      "metadata": {
        "colab": {
          "base_uri": "https://localhost:8080/"
        },
        "id": "5OiKBGUMX7w3",
        "outputId": "7db4874d-483e-4c93-9c5d-3c107b921176"
      },
      "execution_count": 165,
      "outputs": [
        {
          "output_type": "stream",
          "name": "stdout",
          "text": [
            "                   Train     Test\n",
            "F4                58.05%      58.60%\n",
            "F3                52.27%      52.77%\n",
            "F2                42.09%      42.50%\n",
            "Precision         16.46%      16.62%\n",
            "Recall            68.93%      69.58%\n"
          ]
        }
      ]
    },
    {
      "cell_type": "markdown",
      "source": [
        "Посмотрим, что будет, если поменять оверсемплинг и андерсемплинг местами"
      ],
      "metadata": {
        "id": "Say_EbUP69ob"
      }
    },
    {
      "cell_type": "code",
      "source": [
        "test_final(pipeline_3, train, y_train, test, y_test)"
      ],
      "metadata": {
        "colab": {
          "base_uri": "https://localhost:8080/"
        },
        "id": "VR4ZxT1m6464",
        "outputId": "fd0b0f88-76b7-4af7-d5b3-88c5d22958aa"
      },
      "execution_count": 167,
      "outputs": [
        {
          "output_type": "stream",
          "name": "stdout",
          "text": [
            "                   Train     Test\n",
            "F4                57.82%      58.36%\n",
            "F3                52.28%      52.77%\n",
            "F2                42.42%      42.82%\n",
            "Precision         16.91%      17.07%\n",
            "Recall            68.11%      68.75%\n"
          ]
        }
      ]
    },
    {
      "cell_type": "markdown",
      "source": [
        "Теперь сократим новые данные"
      ],
      "metadata": {
        "id": "SEd0U54shba7"
      }
    },
    {
      "cell_type": "code",
      "source": [
        "X_train_add_newcols = mean_month_columns(X_add_train, add_cols)\n",
        "X_test_add_newcols = mean_month_columns(X_add_test, add_cols)"
      ],
      "metadata": {
        "id": "mTt20B-YharX"
      },
      "execution_count": 96,
      "outputs": []
    },
    {
      "cell_type": "code",
      "source": [
        "train = pd.concat([X_train_newcols.drop(columns=stdcols_to_drop), \n",
        "                   X_train_scaled[cols['rto_n']], \n",
        "                   X_train_add_newcols], axis=1).drop(columns=['rto_n'])\n",
        "test = pd.concat([X_test_newcols.drop(columns=stdcols_to_drop), \n",
        "                  X_test_scaled[cols['rto_n']],\n",
        "                  X_test_add_newcols.reset_index().drop(columns=['index'])], axis=1).drop(columns=['rto_n'])\n",
        "\n",
        "test_final(pipeline_2, train, y_train, test, y_test)"
      ],
      "metadata": {
        "colab": {
          "base_uri": "https://localhost:8080/"
        },
        "id": "9nvJyoFuh3Fz",
        "outputId": "77f09ce5-e741-441b-a4d2-37111e7c3ff4"
      },
      "execution_count": 97,
      "outputs": [
        {
          "output_type": "stream",
          "name": "stdout",
          "text": [
            "                   Train     Test\n",
            "F4                57.85%      52.05%\n",
            "F3                52.60%      47.06%\n",
            "F2                43.10%      38.16%\n",
            "Precision         17.63%      15.19%\n",
            "Recall            67.48%      61.36%\n"
          ]
        }
      ]
    },
    {
      "cell_type": "markdown",
      "source": [
        "#### С помощью параметров модели"
      ],
      "metadata": {
        "id": "pvFZPX3hl8c_"
      }
    },
    {
      "cell_type": "markdown",
      "source": [
        "Сначала обучим логистическую регрессию на всех данных. \n",
        "\n",
        "Важно то, что данные обязательно должны быть отмастабированы, тк на неотмасштабированных данных параметры модели будут тоже разного масштаба и оценить по ним важность признаков будет нельзя."
      ],
      "metadata": {
        "id": "l6wba78AmeIG"
      }
    },
    {
      "cell_type": "code",
      "source": [
        "# логистическая регрессия, без оверсемплинга, на всех отмасштабированных данных\n",
        "start = time.time()\n",
        "\n",
        "clf = LogisticRegression(random_state=0, max_iter=5000, C=1)\n",
        "test_final(clf, X_train_scaled, y_train, X_test_scaled, y_test)\n",
        "\n",
        "end = time.time()\n",
        "print(f'Execution time: {end - start} sec')"
      ],
      "metadata": {
        "colab": {
          "base_uri": "https://localhost:8080/"
        },
        "id": "qYriibGhmiRn",
        "outputId": "4220419d-1a11-4451-a89d-5fc17514ddfd"
      },
      "execution_count": 60,
      "outputs": [
        {
          "output_type": "stream",
          "name": "stderr",
          "text": [
            "/usr/local/lib/python3.7/dist-packages/sklearn/linear_model/_logistic.py:818: ConvergenceWarning: lbfgs failed to converge (status=1):\n",
            "STOP: TOTAL NO. of ITERATIONS REACHED LIMIT.\n",
            "\n",
            "Increase the number of iterations (max_iter) or scale the data as shown in:\n",
            "    https://scikit-learn.org/stable/modules/preprocessing.html\n",
            "Please also refer to the documentation for alternative solver options:\n",
            "    https://scikit-learn.org/stable/modules/linear_model.html#logistic-regression\n",
            "  extra_warning_msg=_LOGISTIC_SOLVER_CONVERGENCE_MSG,\n"
          ]
        },
        {
          "output_type": "stream",
          "name": "stdout",
          "text": [
            "                   Train     Test\n",
            "F2                3.83%      2.84%\n",
            "Precision         43.55%      32.68%\n",
            "Recall            3.12%      2.31%\n"
          ]
        }
      ]
    },
    {
      "cell_type": "code",
      "source": [
        "ws = clf.coef_\n",
        "coefs = pd.DataFrame(list(zip(X_train_scaled.columns, ws[0])), columns=['Features', 'Coefficient']).set_index('Features')\n",
        "new_cols = abs(coefs['Coefficient']).nlargest(40).reset_index()['Features'].values"
      ],
      "metadata": {
        "id": "CWfYtqFrmUgj"
      },
      "execution_count": 64,
      "outputs": []
    },
    {
      "cell_type": "code",
      "source": [
        "pipeline_2 = imbpipeline(steps = [['smote', SMOTE(random_state=0)],\n",
        "                                  ['undersampling', RandomUnderSampler(random_state=0)],\n",
        "                                  ['classifier', CalibratedClassifierCV(LogisticRegression(random_state=0, max_iter=5000, C=1),\n",
        "                                                                        method='sigmoid', cv=3)]])\n",
        "\n",
        "\n",
        "test_final(pipeline_2, X_train_scaled[new_cols], y_train, \n",
        "           X_test_scaled[new_cols], y_test)"
      ],
      "metadata": {
        "colab": {
          "base_uri": "https://localhost:8080/"
        },
        "id": "_Kfx2gsloqe2",
        "outputId": "efd3185c-413b-404d-82f6-7fa41ebe222d"
      },
      "execution_count": 70,
      "outputs": [
        {
          "output_type": "stream",
          "name": "stdout",
          "text": [
            "                   Train     Test\n",
            "F2                38.74%      33.99%\n",
            "Precision         19.33%      17.08%\n",
            "Recall            51.71%      45.16%\n"
          ]
        }
      ]
    },
    {
      "cell_type": "markdown",
      "source": [
        "Теперь попробуем на отлогарифмированном датасете (только rto)"
      ],
      "metadata": {
        "id": "irZ6_a8Xvfnc"
      }
    },
    {
      "cell_type": "code",
      "source": [
        "# бейзлайн модель, без оверсемплинга, log(rto)\n",
        "start = time.time()\n",
        "\n",
        "clf = LogisticRegression(random_state=0, max_iter=5000, C=1)\n",
        "test_final(clf, X_train_log_rto_scaled, y_train, X_test_log_rto_scaled, y_test)\n",
        "\n",
        "end = time.time()\n",
        "print(f'Execution time: {end - start} sec')"
      ],
      "metadata": {
        "colab": {
          "base_uri": "https://localhost:8080/"
        },
        "id": "7oaHvnYxvkK-",
        "outputId": "c986f910-3cb1-40b4-c96a-75820cd73fa7"
      },
      "execution_count": 68,
      "outputs": [
        {
          "output_type": "stream",
          "name": "stdout",
          "text": [
            "                   Train     Test\n",
            "F2                3.66%      2.50%\n",
            "Precision         40.69%      29.35%\n",
            "Recall            2.98%      2.03%\n",
            "Execution time: 193.9269630908966 sec\n"
          ]
        }
      ]
    },
    {
      "cell_type": "code",
      "source": [
        "ws = clf.coef_\n",
        "coefs = pd.DataFrame(list(zip(X_train_scaled.columns, ws[0])), columns=['Features', 'Coefficient']).set_index('Features')\n",
        "new_cols = abs(coefs['Coefficient']).nlargest(40).reset_index()['Features'].values\n",
        "\n",
        "test_final(pipeline_2, X_train_log_rto_scaled[new_cols], y_train, \n",
        "           X_test_log_rto_scaled[new_cols], y_test)"
      ],
      "metadata": {
        "colab": {
          "base_uri": "https://localhost:8080/"
        },
        "id": "J6vI81QQxB7M",
        "outputId": "140871fb-7bde-47c9-9c34-6113739b7539"
      },
      "execution_count": 71,
      "outputs": [
        {
          "output_type": "stream",
          "name": "stdout",
          "text": [
            "                   Train     Test\n",
            "F2                38.74%      33.99%\n",
            "Precision         19.33%      17.08%\n",
            "Recall            51.71%      45.16%\n"
          ]
        }
      ]
    },
    {
      "cell_type": "markdown",
      "source": [
        "Но у нас простая логистическая регрессия дает плохой результат, поэтому будем делать оверсемплинг и андерсемплинг, чтобы получать коэффициенты с их учетом."
      ],
      "metadata": {
        "id": "jXynU-Voxbs6"
      }
    },
    {
      "cell_type": "code",
      "source": [
        "# бейзлайн модель, с овер(андер)семплингом, log(rto)\n",
        "start = time.time()\n",
        "\n",
        "clf = imbpipeline(steps = [['smote', SMOTE(random_state=0)],\n",
        "                           ['undersampling', RandomUnderSampler(random_state=0)],\n",
        "                           ['classifier', LogisticRegression(random_state=0, max_iter=5000, C=1)]])\n",
        "test_final(clf, X_train_log_rto_scaled, y_train, X_test_log_rto_scaled, y_test)\n",
        "\n",
        "end = time.time()\n",
        "print(f'Execution time: {end - start} sec')"
      ],
      "metadata": {
        "colab": {
          "base_uri": "https://localhost:8080/"
        },
        "id": "1JJKAVLrxwzH",
        "outputId": "c9a238f3-4264-4ca6-e235-acf47df3c2c9"
      },
      "execution_count": 31,
      "outputs": [
        {
          "output_type": "stream",
          "name": "stdout",
          "text": [
            "                   Train     Test\n",
            "F4                56.34%      56.35%\n",
            "F3                51.40%      51.41%\n",
            "F2                42.37%      42.39%\n",
            "Precision         17.61%      17.63%\n",
            "Recall            65.32%      65.32%\n",
            "Execution time: 318.20716309547424 sec\n"
          ]
        }
      ]
    },
    {
      "cell_type": "code",
      "source": [
        "# бейзлайн модель, с овер(андер)семплингом, масштабированные данные\n",
        "ws = clf.named_steps['classifier'].coef_\n",
        "coefs = pd.DataFrame(list(zip(X_train_scaled.columns, ws[0])), columns=['Features', 'Coefficient']).set_index('Features')\n",
        "new_cols = abs(coefs['Coefficient']).nlargest(35).reset_index()['Features'].values\n",
        "\n",
        "test_final(pipeline_2, X_train_log_rto_scaled[new_cols], y_train, \n",
        "           X_test_log_rto_scaled[new_cols], y_test)"
      ],
      "metadata": {
        "colab": {
          "base_uri": "https://localhost:8080/"
        },
        "id": "8M46sltMynyv",
        "outputId": "01b0c907-f3f2-4013-c4f3-55b01caa0e00"
      },
      "execution_count": 97,
      "outputs": [
        {
          "output_type": "stream",
          "name": "stdout",
          "text": [
            "                   Train     Test\n",
            "F2                40.52%      34.72%\n",
            "Precision         16.06%      13.39%\n",
            "Recall            65.44%      57.70%\n"
          ]
        }
      ]
    },
    {
      "cell_type": "markdown",
      "source": [
        "#### С помощью статистического параметра"
      ],
      "metadata": {
        "id": "4hCCoNXcl80D"
      }
    },
    {
      "cell_type": "markdown",
      "source": [
        "Попробуем отбирать признаки умнее, а именно через подсчёт некоторой функции для каждого признака. На основании значений этой функции будем оставлять наиболее важные признаки.\n",
        "\n",
        "В качестве такой функции будем считать t-статистику:\n",
        "\n",
        "$$t(j) = \\frac{|\\mu_+ - \\mu_-|}{\\sqrt{\\frac{n_+ \\sigma^2_+ + n_- \\sigma^2_-}{n_+ + n_-}}},$$\n",
        "\n",
        "где $\\mu$, $\\sigma$, $n$ соответственно среднее, стандартное отклонение и количество объектов каждого из классов."
      ],
      "metadata": {
        "id": "mHD_Qz0UBexb"
      }
    },
    {
      "cell_type": "code",
      "source": [
        "sigma_plus = X_train[y_train == 1].std().values\n",
        "sigma_minus = X_train[y_train == 0].std().values\n",
        "mu_plus = X_train[y_train == 1].mean().values\n",
        "mu_minus = X_train[y_train == 0].mean().values\n",
        "\n",
        "n_plus = np.count_nonzero(y_train == 0)\n",
        "n_minus = y_train.shape[0] - n_plus\n",
        "\n",
        "f = abs(mu_plus - mu_minus) / np.sqrt((n_plus * sigma_plus + n_minus * sigma_minus) / (n_plus + n_minus))\n",
        "\n",
        "ind = np.sort(np.argpartition(f, -40)[-40:])\n",
        "selected_cols = X_train.columns[ind]"
      ],
      "metadata": {
        "id": "8uPAWvBDBNUI"
      },
      "execution_count": 93,
      "outputs": []
    },
    {
      "cell_type": "code",
      "source": [
        "test_final(pipeline_2, X_train_log_rto_scaled[selected_cols], y_train, \n",
        "           X_test_log_rto_scaled[selected_cols], y_test)"
      ],
      "metadata": {
        "colab": {
          "base_uri": "https://localhost:8080/"
        },
        "id": "gUlw3PyFCM4j",
        "outputId": "04abbd5b-d31e-46ef-bfd6-201b1662c7c9"
      },
      "execution_count": 94,
      "outputs": [
        {
          "output_type": "stream",
          "name": "stderr",
          "text": [
            "/usr/local/lib/python3.7/dist-packages/sklearn/linear_model/_logistic.py:818: ConvergenceWarning: lbfgs failed to converge (status=1):\n",
            "STOP: TOTAL NO. of ITERATIONS REACHED LIMIT.\n",
            "\n",
            "Increase the number of iterations (max_iter) or scale the data as shown in:\n",
            "    https://scikit-learn.org/stable/modules/preprocessing.html\n",
            "Please also refer to the documentation for alternative solver options:\n",
            "    https://scikit-learn.org/stable/modules/linear_model.html#logistic-regression\n",
            "  extra_warning_msg=_LOGISTIC_SOLVER_CONVERGENCE_MSG,\n"
          ]
        },
        {
          "output_type": "stream",
          "name": "stdout",
          "text": [
            "                   Train     Test\n",
            "F2                41.81%      35.75%\n",
            "Precision         17.59%      14.96%\n",
            "Recall            63.76%      54.77%\n"
          ]
        }
      ]
    },
    {
      "cell_type": "markdown",
      "source": [
        "Посмотрим теперь на тот же индекс, только для обработанного датасета"
      ],
      "metadata": {
        "id": "e9p5-rhMGZLf"
      }
    },
    {
      "cell_type": "code",
      "source": [
        "sigma_plus = X_train_log_rto_scaled[y_train == 1].std().values\n",
        "sigma_minus = X_train_log_rto_scaled[y_train == 0].std().values\n",
        "mu_plus = X_train_log_rto_scaled[y_train == 1].mean().values\n",
        "mu_minus = X_train_log_rto_scaled[y_train == 0].mean().values\n",
        "\n",
        "n_plus = np.count_nonzero(y_train == 0)\n",
        "n_minus = y_train.shape[0] - n_plus\n",
        "\n",
        "f = abs(mu_plus - mu_minus) / np.sqrt((n_plus * sigma_plus + n_minus * sigma_minus) / (n_plus + n_minus))\n",
        "\n",
        "ind = np.sort(np.argpartition(f, -40)[-40:])\n",
        "selected_cols_log_scaled = X_train_log_rto_scaled.columns[ind]"
      ],
      "metadata": {
        "id": "vEE_Qa4wGXyX"
      },
      "execution_count": 84,
      "outputs": []
    },
    {
      "cell_type": "code",
      "source": [
        "test_final(pipeline_2, X_train_log_rto_scaled[selected_cols_log_scaled], y_train, \n",
        "           X_test_log_rto_scaled[selected_cols_log_scaled], y_test)"
      ],
      "metadata": {
        "colab": {
          "base_uri": "https://localhost:8080/"
        },
        "id": "P72IgIWPh6fY",
        "outputId": "7934c5d1-6b1e-4e01-8bbf-c5853763f20b"
      },
      "execution_count": 91,
      "outputs": [
        {
          "output_type": "stream",
          "name": "stdout",
          "text": [
            "                   Train     Test\n",
            "F2                43.20%      37.26%\n",
            "Precision         18.39%      15.52%\n",
            "Recall            65.19%      57.36%\n"
          ]
        }
      ]
    },
    {
      "cell_type": "code",
      "source": [
        "test_final(pipeline_1, X_train_log_rto_scaled[selected_cols_log_scaled], y_train, \n",
        "           X_test_log_rto_scaled[selected_cols_log_scaled], y_test)"
      ],
      "metadata": {
        "colab": {
          "base_uri": "https://localhost:8080/"
        },
        "id": "VnpG0PuKXxqp",
        "outputId": "d60a77f9-54ee-491c-a2db-4bd645d020ea"
      },
      "execution_count": 99,
      "outputs": [
        {
          "output_type": "stream",
          "name": "stdout",
          "text": [
            "                   Train     Test\n",
            "F2                43.03%      37.05%\n",
            "Precision         18.42%      15.64%\n",
            "Recall            64.61%      56.33%\n"
          ]
        }
      ]
    },
    {
      "cell_type": "markdown",
      "source": [
        "А теперь посмотрим, какие признаки отберет статистический параметр после добавления новых признаков"
      ],
      "metadata": {
        "id": "c7GQg5ny6DDw"
      }
    },
    {
      "cell_type": "code",
      "source": [
        "train_all = mean_month_columns(X_train_log_rto_scaled, cols, replace=False)\n",
        "test_all = mean_month_columns(X_test_log_rto_scaled, cols, replace=False)\n",
        "\n",
        "train_new = mean_month_columns(X_add_train, add_cols, replace=False)\n",
        "test_new = mean_month_columns(X_add_test, add_cols, replace=False)\n",
        "\n",
        "train = pd.concat([train_all, train_new], axis=1)\n",
        "test = pd.concat([test_all, test_new], axis=1)"
      ],
      "metadata": {
        "id": "K2tHXBnnQS3j"
      },
      "execution_count": 235,
      "outputs": []
    },
    {
      "cell_type": "code",
      "source": [
        "sigma_plus = train[y_train == 1].std().values\n",
        "sigma_minus = train[y_train == 0].std().values\n",
        "mu_plus = train[y_train == 1].mean().values\n",
        "mu_minus = train[y_train == 0].mean().values\n",
        "\n",
        "n_plus = np.count_nonzero(y_train == 0)\n",
        "n_minus = y_train.shape[0] - n_plus\n",
        "\n",
        "f = abs(mu_plus - mu_minus) / np.sqrt((n_plus * sigma_plus + n_minus * sigma_minus) / (n_plus + n_minus))\n",
        "\n",
        "ind = np.sort(np.argpartition(f, -105)[-105:])\n",
        "our_columns = train.columns[ind]"
      ],
      "metadata": {
        "id": "Svmi3xUQ7EhS"
      },
      "execution_count": 70,
      "outputs": []
    },
    {
      "cell_type": "code",
      "source": [
        "# если брать 105 признаков\n",
        "test_final(pipeline_2, train[our_columns], y_train, \n",
        "           test[our_columns], y_test)"
      ],
      "metadata": {
        "colab": {
          "base_uri": "https://localhost:8080/"
        },
        "id": "HqKwk_dv7UPv",
        "outputId": "6fc84959-df77-4638-bee5-f6d25edbb2cf"
      },
      "execution_count": 198,
      "outputs": [
        {
          "output_type": "stream",
          "name": "stdout",
          "text": [
            "                   Train     Test\n",
            "F4                57.45%      57.24%\n",
            "F3                52.28%      52.07%\n",
            "F2                42.89%      42.71%\n",
            "Precision         17.61%      17.52%\n",
            "Recall            66.92%      66.68%\n"
          ]
        }
      ]
    },
    {
      "cell_type": "code",
      "source": [
        "# если брать 105 признаков\n",
        "test_final(pipeline_3, train[our_columns], y_train, \n",
        "           test[our_columns], y_test)"
      ],
      "metadata": {
        "colab": {
          "base_uri": "https://localhost:8080/"
        },
        "id": "_PY3Ble38_W6",
        "outputId": "34b8bca1-6eff-424e-e731-9c3ca437074b"
      },
      "execution_count": 199,
      "outputs": [
        {
          "output_type": "stream",
          "name": "stderr",
          "text": [
            "/usr/local/lib/python3.7/dist-packages/sklearn/linear_model/_logistic.py:818: ConvergenceWarning: lbfgs failed to converge (status=1):\n",
            "STOP: TOTAL NO. of ITERATIONS REACHED LIMIT.\n",
            "\n",
            "Increase the number of iterations (max_iter) or scale the data as shown in:\n",
            "    https://scikit-learn.org/stable/modules/preprocessing.html\n",
            "Please also refer to the documentation for alternative solver options:\n",
            "    https://scikit-learn.org/stable/modules/linear_model.html#logistic-regression\n",
            "  extra_warning_msg=_LOGISTIC_SOLVER_CONVERGENCE_MSG,\n"
          ]
        },
        {
          "output_type": "stream",
          "name": "stdout",
          "text": [
            "                   Train     Test\n",
            "F4                58.00%      58.19%\n",
            "F3                52.48%      52.68%\n",
            "F2                42.64%      42.82%\n",
            "Precision         17.05%      17.15%\n",
            "Recall            68.25%      68.43%\n"
          ]
        }
      ]
    },
    {
      "cell_type": "code",
      "source": [
        "# если брать 105 признаков\n",
        "test_final(pipeline_4, train[our_columns], y_train, \n",
        "           test[our_columns], y_test)"
      ],
      "metadata": {
        "colab": {
          "base_uri": "https://localhost:8080/"
        },
        "id": "3x3LvoIxORwy",
        "outputId": "11b6a570-1225-4e7a-e281-e91601d443cc"
      },
      "execution_count": 213,
      "outputs": [
        {
          "output_type": "stream",
          "name": "stdout",
          "text": [
            "                   Train     Test\n",
            "F4                58.11%      57.37%\n",
            "F3                52.73%      52.04%\n",
            "F2                43.06%      42.46%\n",
            "Precision         17.45%      17.18%\n",
            "Recall            68.01%      67.19%\n"
          ]
        }
      ]
    },
    {
      "cell_type": "markdown",
      "source": [
        "А теперь посмотрим, можно ли эти данные логарифмировать"
      ],
      "metadata": {
        "id": "HTJsKDkwVkGq"
      }
    },
    {
      "cell_type": "code",
      "source": [
        "train_log = train[our_columns].copy().apply(lambda x: np.log1p(x + 1))\n",
        "test_log = test[our_columns].copy().apply(lambda x: np.log1p(x + 1))"
      ],
      "metadata": {
        "id": "BR-Pf5GkVopo"
      },
      "execution_count": 200,
      "outputs": []
    },
    {
      "cell_type": "code",
      "source": [
        "# если брать 105 признаков\n",
        "test_final(pipeline_2, train_log, y_train, \n",
        "           test_log, y_test)"
      ],
      "metadata": {
        "colab": {
          "base_uri": "https://localhost:8080/"
        },
        "id": "55WFS_JqfbGI",
        "outputId": "46caacea-ed2c-48bb-be3c-2972aebae857"
      },
      "execution_count": 201,
      "outputs": [
        {
          "output_type": "stream",
          "name": "stdout",
          "text": [
            "                   Train     Test\n",
            "F4                60.19%      59.71%\n",
            "F3                53.68%      53.26%\n",
            "F2                42.51%      42.20%\n",
            "Precision         15.95%      15.86%\n",
            "Recall            72.82%      72.19%\n"
          ]
        }
      ]
    },
    {
      "cell_type": "markdown",
      "source": [
        "Обучим другую модель (PU Learning) на отобранных признаках"
      ],
      "metadata": {
        "id": "iRJ_niw6V52a"
      }
    },
    {
      "cell_type": "code",
      "source": [
        "X_train_os, y_train_os = os.fit_resample(train[our_columns], y_train)\n",
        "\n",
        "pu_estimator.fit(X_train_os.reset_index(drop=True).values, \n",
        "                 y_train_os.reset_index(drop=True))"
      ],
      "metadata": {
        "id": "FngKczhPV6CF"
      },
      "execution_count": 267,
      "outputs": []
    },
    {
      "cell_type": "code",
      "source": [
        "train_preds = pu_estimator.predict(train[our_columns].values)\n",
        "test_preds = pu_estimator.predict(test[our_columns].values)\n",
        "\n",
        "print(f\"                   Train     Test\")\n",
        "print(f\"F4                {fbeta_score(y_train, train_preds, beta = 4)*100:.2f}%      {fbeta_score(y_test, test_preds, beta = 4)*100:.2f}%\")\n",
        "print(f\"F3                {fbeta_score(y_train, train_preds, beta = 3)*100:.2f}%      {fbeta_score(y_test, test_preds, beta = 3)*100:.2f}%\")\n",
        "print(f\"F2                {fbeta_score(y_train, train_preds, beta = 2)*100:.2f}%      {fbeta_score(y_test, test_preds, beta = 2)*100:.2f}%\")\n",
        "print(f\"Precision         {precision_score(y_train, train_preds)*100:.2f}%      {precision_score(y_test, test_preds)*100:.2f}%\")\n",
        "print(f\"Recall            {recall_score(y_train, train_preds)*100:.2f}%      {recall_score(y_test, test_preds)*100:.2f}%\")"
      ],
      "metadata": {
        "colab": {
          "base_uri": "https://localhost:8080/"
        },
        "id": "esfChOx5efa9",
        "outputId": "76075489-94c2-4054-9160-2fd4e465f64c"
      },
      "execution_count": 268,
      "outputs": [
        {
          "output_type": "stream",
          "name": "stdout",
          "text": [
            "                   Train     Test\n",
            "F4                64.00%      63.90%\n",
            "F3                51.45%      51.38%\n",
            "F2                34.86%      34.81%\n",
            "Precision         9.74%      9.73%\n",
            "Recall            98.19%      98.01%\n"
          ]
        }
      ]
    },
    {
      "cell_type": "markdown",
      "source": [
        "Поскольку PU Learning представляет из себя кардинально новую модель, порог подберем отдельно"
      ],
      "metadata": {
        "id": "gMtKoBi_lEfv"
      }
    },
    {
      "cell_type": "code",
      "source": [
        "pred_proba_df = pd.DataFrame(pu_estimator.predict_proba(test[our_columns].values))\n",
        "threshold_list = np.arange(0, 1, 0.01)\n",
        "threshold_scores = dict.fromkeys(threshold_list)\n",
        "for threshold in tqdm(threshold_list, leave=False):\n",
        "    Y_test_pred = pred_proba_df.applymap(lambda x: 1 if x > threshold else 0)\n",
        "    test_score = fbeta_score(y_test, Y_test_pred, beta= 2)\n",
        "    threshold_scores[threshold] = test_score\n",
        "\n",
        "print(f\"Наибольшее значение f-меры ({max(threshold_scores.values())*100:.2f}%) получается при пороге {max(threshold_scores, key=threshold_scores.get)}\")"
      ],
      "metadata": {
        "colab": {
          "base_uri": "https://localhost:8080/",
          "height": 34,
          "referenced_widgets": [
            "1a932307db5240b9b46f456c3efca700",
            "85262bbf7b824a0788e9679f1e572d03",
            "d9a1920db5e7451d85a837b2e649f559",
            "b5adbc4f4db2445f99f13b037a39b7ad",
            "8331d3ee1bcc485b88f3619b3123fafa",
            "ffad47638b0b49f7894de5ba0441e595",
            "ae78c25786b44ee8ad676d682204eb77",
            "feaa0e7d06874878869e64e798c9a5ec",
            "139fe0640c384751a56c5769a197655e",
            "a929601f3a1b49b4bf84a50790393ff0",
            "50601b85b4e64fecb1f16275b82a4903"
          ]
        },
        "id": "BlYx_mDDk1LH",
        "outputId": "004b466a-b4e8-434a-d589-808cac59309a"
      },
      "execution_count": 292,
      "outputs": [
        {
          "output_type": "display_data",
          "data": {
            "text/plain": [
              "  0%|          | 0/100 [00:00<?, ?it/s]"
            ],
            "application/vnd.jupyter.widget-view+json": {
              "version_major": 2,
              "version_minor": 0,
              "model_id": "1a932307db5240b9b46f456c3efca700"
            }
          },
          "metadata": {}
        },
        {
          "output_type": "stream",
          "name": "stdout",
          "text": [
            "Наибольшее значение f-меры (42.84%) получается при пороге 0.77\n"
          ]
        }
      ]
    },
    {
      "cell_type": "markdown",
      "source": [
        "Посчитаем данные для матрицы ошибок"
      ],
      "metadata": {
        "id": "5J7zOcYElMZD"
      }
    },
    {
      "cell_type": "code",
      "source": [
        "Y_test_pred = pred_proba_df.applymap(lambda x: 1 if x > 0.77 else 0)\n",
        "\n",
        "tn, fp, fn, tp = confusion_matrix(y_test, Y_test_pred).ravel()"
      ],
      "metadata": {
        "id": "LFxpsQKYvyoH"
      },
      "execution_count": 293,
      "outputs": []
    },
    {
      "cell_type": "code",
      "source": [
        "tn, fp, fn, tp"
      ],
      "metadata": {
        "colab": {
          "base_uri": "https://localhost:8080/"
        },
        "id": "_B501QC0wakG",
        "outputId": "c5d4cf5e-dfc9-45c7-ff36-c3e01966c390"
      },
      "execution_count": 294,
      "outputs": [
        {
          "output_type": "execute_result",
          "data": {
            "text/plain": [
              "(23700, 13094, 1102, 2623)"
            ]
          },
          "metadata": {},
          "execution_count": 294
        }
      ]
    },
    {
      "cell_type": "markdown",
      "source": [
        "#### Жадный алгоритм\n",
        "\n",
        "Будем отбирать признаки жадным способом: добавлять по одному, пока не наберется 40 штук"
      ],
      "metadata": {
        "id": "-AcgXN_RWlM3"
      }
    },
    {
      "cell_type": "code",
      "source": [
        "X_train_log_rto_scaled.shape"
      ],
      "metadata": {
        "colab": {
          "base_uri": "https://localhost:8080/"
        },
        "id": "K_6LAMVuZJFg",
        "outputId": "f194203d-9bba-4c81-df58-81e245a97a78"
      },
      "execution_count": 101,
      "outputs": [
        {
          "output_type": "execute_result",
          "data": {
            "text/plain": [
              "(94542, 147)"
            ]
          },
          "metadata": {},
          "execution_count": 101
        }
      ]
    },
    {
      "cell_type": "code",
      "source": [
        "train = X_train_log_rto_scaled[:75000]\n",
        "val = X_train_log_rto_scaled[75000:]"
      ],
      "metadata": {
        "id": "ciWnxOjvZV-m"
      },
      "execution_count": 112,
      "outputs": []
    },
    {
      "cell_type": "code",
      "source": [
        "# сюда будем записывать лучшие результаты\n",
        "f2_best = [0]\n",
        "# признаки, которые мы проверяем\n",
        "features_to_check = train.columns\n",
        "# признаки, которые отбираем, тк они показали лучший результат\n",
        "included = []\n",
        "for i in tqdm(range(40)):\n",
        "    # запишем результаты всех моделей с этим числом признаков\n",
        "    f_scores = []\n",
        "    for include in tqdm(features_to_check, leave=False):\n",
        "        \n",
        "        # модель\n",
        "        pipeline_greedy = imbpipeline(steps = [['smote', SMOTE(random_state=0)],\n",
        "                                               ['undersampling', RandomUnderSampler(random_state=0)],\n",
        "                                               ['classifier', LogisticRegression(random_state=0, max_iter=5000, C=1)]])\n",
        "\n",
        "        pipeline_greedy.fit(train[[include] + included], y_train[:75000].ravel())\n",
        "        y_proba_greedy = pd.DataFrame(pipeline_greedy.predict_proba(val[[include] + included]))\n",
        "        y_preds_greedy = y_proba_greedy.applymap(lambda x: 1 if x > 0.45 else 0).iloc[:,1]\n",
        "        \n",
        "        # считаем f2 скор\n",
        "        f2 = fbeta_score(y_train[75000:], y_preds_greedy, beta = 2)\n",
        "        # добавляем его в список скоров\n",
        "        f_scores.append(f2)\n",
        "    \n",
        "    f_scores = np.array(f_scores)\n",
        "    # условие проверки величины приращения качества\n",
        "    # если все модели стали только хуже, то прекращаем работу\n",
        "    if np.max(f_scores - f2_best[-1]) <= 0:\n",
        "        print('Negative growth - loop broken')\n",
        "        break\n",
        "    else:\n",
        "        # если модель с добавлением признака стала лучше, добавляем его скор\n",
        "        f2_best.append(np.max(f_scores))\n",
        "        ind = np.argmax(f_scores)\n",
        "        print(f'features_to_check: \"{features_to_check[ind]}\" is added')\n",
        "        # добавляем сам признак\n",
        "        included.append(features_to_check[ind])\n",
        "        # иключаем его из списка проверяемых, ведь он уже добавлен\n",
        "        features_to_check = np.delete(features_to_check, ind)"
      ],
      "metadata": {
        "colab": {
          "base_uri": "https://localhost:8080/",
          "height": 240,
          "referenced_widgets": [
            "d7fcfb984f60405287a2d282af7a3b13",
            "e7db0201b6284dd89e2e9c1c0259ceb0",
            "d90aa04569a64cc39d3c0aee03bba526",
            "6752f995298a45b18993c881eeb5b7a9",
            "181bbb0fc4574b94b59315277cac74c2",
            "aac6b1c4def64976b9d799accdee293d",
            "8e27b1736c1d42fb85ad98caadc13ab3",
            "4f20995d48d24fa8b7a84881405fb178",
            "c0143cf9beb344cf96e28e933ea02bd8",
            "d0ce6a3886024b4894669ccced78242c",
            "e781a9970b1f4f72a18554b9fef842ba",
            "85aac5aca5ba421da7b05a8321a01898",
            "f0dfb011631a480695524f9a61d37c5d",
            "8da36683b3764632bf1c7153578812cc",
            "16d573a114694944b70edd5c9405e24f",
            "c2acaf493f9e4c18b1179b7d445de1e8",
            "56cd8bc0c28f4706ba1842d25cf711ec",
            "84232fbddffd4859a17e1dda2df1ee2a",
            "836b8ecb62074e79b437b3b821682306",
            "49ac78bf842d4b999f0a4df99f05e036",
            "dc9bcbe86b4c4fb4a1c0eebec30acf7c",
            "efadbc60ec93479ca83b1a35c7441528",
            "7b82bbbe3e8e446583cdf3c5c1aae252",
            "edcff280c0184ff995d973c110a5d357",
            "eb02ccaac19441f2a5d5f316425dbcd0",
            "4fb4916e1b044a2283c4fadb0742ed59",
            "efd304ce89df4b96b3c05b264c20b349",
            "80270bdd5b3f4ff08aa243cbf5da320c",
            "ef7c8acdd9fa4f4ea24142c7601d438a",
            "db3012306d50441db888f233fc882394",
            "4f1bb9c8b485462ba3ba553ac51dea59",
            "262b2cf40e7d42cea3db4065784da2ff",
            "c36bccba1f1249a7a13a9579bcb2b5a7",
            "60b00db785964479a3e5b30dd2c91474",
            "64978dad8806443bb621dd82c0a7e618",
            "1ed871d8ec4247288e2331539f1fca7c",
            "09e8d5e94813440f8ed9b5b7065664ed",
            "2f5b4ed34e5d43bfa4c61cd185df50ec",
            "15f79f8712404247957f37d3518aaf73",
            "7a3c268206bc4de1a89620fd0545ac3f",
            "6f72e190e2544116b0466eb6387f7838",
            "217a8a77a717444e872549b01810e25f",
            "9c43ec21e86c4798b3c24bd603e10239",
            "66279f6ab0cc4d699e1c4a7bc4edfeb8",
            "fcebcde4d3564c87a6be06871542a202",
            "d133419f9ebf42ac80c63379d22bb828",
            "29be44e4a3d84a62a6e59b9c7690c840",
            "b5be6572e90b4e99b2f2fc8fdd072160",
            "ad8e84fc501745338dece21191185cef",
            "e1006af0c5334c04b2a22ec5057417b7",
            "c5cf582bf1574b9aba8e6c3729165f60",
            "cd6550aa81f941b9a948fd7acd9aa7d9",
            "7a136e0291734a6e97c147a35f0b3f79",
            "b8b354614c1a4c0d8ceef77f250618d5",
            "993a97abd38548c2ab678c9d3995ba7f",
            "7e47113217424bfa9bba40b2f0db0da2",
            "e8c167248fe345b58ac03e857fcae166",
            "3f75d961d3da4d879c28c480ddbcc74f",
            "158cdb954ee14406b881296c163c8b5d",
            "ff70c2caebd045fcb556540a42cec3ce",
            "5d16ba724897455195da4af3a5cfff97",
            "707fa23cd13c4115b5a2f941d6b225b0",
            "bf07f90c778f461f9625644ffeb11ad7",
            "0180f985aa654315a1a9da9b4615c78b",
            "d99a954546f94f839b557fba0afb2c4e",
            "9016824385404b469cb0a7e8ff9c6551",
            "985b4c20d10742b5966f771c5849688c",
            "a8e0dad24b614b428583316d1b01e10b",
            "4d6c2ccaf3eb4b95b5858e6f47d996b6",
            "eeca19e2bfcf4f5685331b7bec7664ac",
            "a5c4b015f0fc451b9d88697d4eaa50c8",
            "67f4ddc7fd704453a6f8ea9c61f98255",
            "16b514fab5b54b3c95f8430d9c5accc4",
            "0d804e5749244f4bbcfbc56a043b929a",
            "2017d34864da454ebbcbc77d54c96cff",
            "44f5041cc9e1427386870ce71f9e2dcf",
            "40cc0970032f441bbb492928a2a048e0",
            "6b395606b8de4f8e8a2b0d314827f9d7",
            "23707e012a584893b114bdedecf338bf",
            "3ad348a965604aa9bf5c6d0fcbe3d339",
            "3ecf229c31684f9a9eba099c91c343bd",
            "cb36d83ea937434da7c30e7ece691d0a",
            "102dd63e5cac458489b874e7a0d22728",
            "c78deb20c3c94bbcb4a668b55fb8334d",
            "e3de09806c9e421a9764cd44a13d9561",
            "94fe3b44c7c04b10a42bdcd0047ab435",
            "9229d1ed5fbd403babd113e2a47fcc38",
            "778de92160d94871bc6333045f1a59b7",
            "79f5d95728294741893222f09f54378d",
            "5b1bc17687e143e8aa32bb2ecd747d3e",
            "08d2180337fa42c7be4782f9629916a0",
            "fc6d2896dc094351b15ef97b23aab59e",
            "bb04d46addca406a9cf4a6bb1242c36e",
            "3f9f71784031413fb316574381702a23",
            "2f9696564d9b42169a5787bb20cf28b8",
            "d0b6827c1cba4520b5591ffdfec5be9f",
            "204ab6d149fe42a1b84f97b5c5bc3b2a",
            "8359c897a20a41379ae4111953253d22",
            "df9948c7c126476cafb47d8439e2a669",
            "8717143a40f24206993fae66fbf7f0cb",
            "b5cdfb173d7f4ecf99dc252adff4eb2b",
            "fd8036cf1e624126aea3422554c16851",
            "578e0d8c889c4c78ab54aee7e042e2f5",
            "f4044dd321ef41dc98e6d6172a4a516d",
            "3fd874321f6443f0b8f7a41528f4ce10",
            "1678d613c35d4871963cd9f3223bc9d6",
            "99ec2f3c7c654d4290faf79ab48c10fe",
            "6d5ff1fea3f04659b504e390581573bd",
            "f649e774cbc74e119e69004061b60507",
            "6538b90992b14b0999e9a74d982c53ee",
            "2440bc804a604e6d927b6c0d4a31efed",
            "3c420111de8e46978b9a70683bdb8b4d",
            "3c050e8ac3244131a700399da67d5265",
            "f6caad96f59b440aacbc7734b289368c",
            "0f75e7976696408bb05ab3655c4c0bc1",
            "e184344546da4b4a829fa43a125dcfa9",
            "57a9003902224599b0b75b6ffb9d0e30",
            "6c295127834242bf8f7d449c77f879e5",
            "a61ddce2e5d94f51afde28eb32a9ac33",
            "d301a8f916d54701a7a7ca72068f9e60",
            "0fb961dec528429483ccf015c336fb5e",
            "bc4ece07d8fa420c80d8b19c914c1431",
            "bf84f52ec1634ffca9b59789a002bfba",
            "c42daa9e12b6438eb66fdbfcbfcda9a4",
            "c6f5e4c6f8054e39988ae1c354bddbb4",
            "e5f2c8c1b6e44b6f800bfaeb26b24f08",
            "2cd2aa083336473f98cc218727c629b3",
            "df15f682862d49238038acf583205d21",
            "5fcf020506044ecaab93ea9edb322d07",
            "db17eeadb50f45a284e3676f27d85a84",
            "a77b74a15fa24020bdf421be4dbed878",
            "83c63e0f1f8e455d8f70b7d4521082d5"
          ]
        },
        "id": "sH7IMGP1WxZa",
        "outputId": "979ac1db-9bae-42f2-b953-0d2bc43a06b7"
      },
      "execution_count": 116,
      "outputs": [
        {
          "output_type": "display_data",
          "data": {
            "text/plain": [
              "  0%|          | 0/40 [00:00<?, ?it/s]"
            ],
            "application/vnd.jupyter.widget-view+json": {
              "version_major": 2,
              "version_minor": 0,
              "model_id": "d7fcfb984f60405287a2d282af7a3b13"
            }
          },
          "metadata": {}
        },
        {
          "output_type": "display_data",
          "data": {
            "text/plain": [
              "  0%|          | 0/147 [00:00<?, ?it/s]"
            ],
            "application/vnd.jupyter.widget-view+json": {
              "version_major": 2,
              "version_minor": 0,
              "model_id": "85aac5aca5ba421da7b05a8321a01898"
            }
          },
          "metadata": {}
        },
        {
          "output_type": "stream",
          "name": "stdout",
          "text": [
            "features_to_check: \"cnt_checks_11_Овощи - Фрукты\" is added\n"
          ]
        },
        {
          "output_type": "display_data",
          "data": {
            "text/plain": [
              "  0%|          | 0/146 [00:00<?, ?it/s]"
            ],
            "application/vnd.jupyter.widget-view+json": {
              "version_major": 2,
              "version_minor": 0,
              "model_id": "7b82bbbe3e8e446583cdf3c5c1aae252"
            }
          },
          "metadata": {}
        },
        {
          "output_type": "stream",
          "name": "stdout",
          "text": [
            "features_to_check: \"cnt_checks_12_Овощи - Фрукты\" is added\n"
          ]
        },
        {
          "output_type": "display_data",
          "data": {
            "text/plain": [
              "  0%|          | 0/145 [00:00<?, ?it/s]"
            ],
            "application/vnd.jupyter.widget-view+json": {
              "version_major": 2,
              "version_minor": 0,
              "model_id": "60b00db785964479a3e5b30dd2c91474"
            }
          },
          "metadata": {}
        },
        {
          "output_type": "stream",
          "name": "stdout",
          "text": [
            "features_to_check: \"rto_11_Сыры\" is added\n"
          ]
        },
        {
          "output_type": "display_data",
          "data": {
            "text/plain": [
              "  0%|          | 0/144 [00:00<?, ?it/s]"
            ],
            "application/vnd.jupyter.widget-view+json": {
              "version_major": 2,
              "version_minor": 0,
              "model_id": "fcebcde4d3564c87a6be06871542a202"
            }
          },
          "metadata": {}
        },
        {
          "output_type": "stream",
          "name": "stdout",
          "text": [
            "features_to_check: \"cnt_checks_10_Сыры\" is added\n"
          ]
        },
        {
          "output_type": "display_data",
          "data": {
            "text/plain": [
              "  0%|          | 0/143 [00:00<?, ?it/s]"
            ],
            "application/vnd.jupyter.widget-view+json": {
              "version_major": 2,
              "version_minor": 0,
              "model_id": "7e47113217424bfa9bba40b2f0db0da2"
            }
          },
          "metadata": {}
        },
        {
          "output_type": "stream",
          "name": "stdout",
          "text": [
            "features_to_check: \"rto_var_12_Птица и изделия из птицы\" is added\n"
          ]
        },
        {
          "output_type": "display_data",
          "data": {
            "text/plain": [
              "  0%|          | 0/142 [00:00<?, ?it/s]"
            ],
            "application/vnd.jupyter.widget-view+json": {
              "version_major": 2,
              "version_minor": 0,
              "model_id": "985b4c20d10742b5966f771c5849688c"
            }
          },
          "metadata": {}
        },
        {
          "output_type": "stream",
          "name": "stdout",
          "text": [
            "features_to_check: \"rto_7_Мясная гастрономия\" is added\n"
          ]
        },
        {
          "output_type": "display_data",
          "data": {
            "text/plain": [
              "  0%|          | 0/141 [00:00<?, ?it/s]"
            ],
            "application/vnd.jupyter.widget-view+json": {
              "version_major": 2,
              "version_minor": 0,
              "model_id": "6b395606b8de4f8e8a2b0d314827f9d7"
            }
          },
          "metadata": {}
        },
        {
          "output_type": "stream",
          "name": "stdout",
          "text": [
            "features_to_check: \"cnt_checks_6\" is added\n"
          ]
        },
        {
          "output_type": "display_data",
          "data": {
            "text/plain": [
              "  0%|          | 0/140 [00:00<?, ?it/s]"
            ],
            "application/vnd.jupyter.widget-view+json": {
              "version_major": 2,
              "version_minor": 0,
              "model_id": "79f5d95728294741893222f09f54378d"
            }
          },
          "metadata": {}
        },
        {
          "output_type": "stream",
          "name": "stdout",
          "text": [
            "features_to_check: \"rto_var_10_Крупы и зерновые\" is added\n"
          ]
        },
        {
          "output_type": "display_data",
          "data": {
            "text/plain": [
              "  0%|          | 0/139 [00:00<?, ?it/s]"
            ],
            "application/vnd.jupyter.widget-view+json": {
              "version_major": 2,
              "version_minor": 0,
              "model_id": "8717143a40f24206993fae66fbf7f0cb"
            }
          },
          "metadata": {}
        },
        {
          "output_type": "stream",
          "name": "stdout",
          "text": [
            "features_to_check: \"rto_var_11_Птица и изделия из птицы\" is added\n"
          ]
        },
        {
          "output_type": "display_data",
          "data": {
            "text/plain": [
              "  0%|          | 0/138 [00:00<?, ?it/s]"
            ],
            "application/vnd.jupyter.widget-view+json": {
              "version_major": 2,
              "version_minor": 0,
              "model_id": "2440bc804a604e6d927b6c0d4a31efed"
            }
          },
          "metadata": {}
        },
        {
          "output_type": "stream",
          "name": "stdout",
          "text": [
            "features_to_check: \"rto_6_Крупы и зерновые\" is added\n"
          ]
        },
        {
          "output_type": "display_data",
          "data": {
            "text/plain": [
              "  0%|          | 0/137 [00:00<?, ?it/s]"
            ],
            "application/vnd.jupyter.widget-view+json": {
              "version_major": 2,
              "version_minor": 0,
              "model_id": "bc4ece07d8fa420c80d8b19c914c1431"
            }
          },
          "metadata": {}
        },
        {
          "output_type": "stream",
          "name": "stdout",
          "text": [
            "Negative growth - loop broken\n"
          ]
        }
      ]
    },
    {
      "cell_type": "code",
      "source": [
        "test_final(pipeline_2, X_train_log_rto_scaled[included[:-2]], y_train, \n",
        "           X_test_log_rto_scaled[included[:-2]], y_test)"
      ],
      "metadata": {
        "id": "YGqxyEGGldk2"
      },
      "execution_count": null,
      "outputs": []
    },
    {
      "cell_type": "markdown",
      "source": [
        "А теперь посмотрим то же самое, но еще и на сгенерированных и на новых признаках"
      ],
      "metadata": {
        "id": "MeleMxy9lc6K"
      }
    },
    {
      "cell_type": "code",
      "source": [
        "train_all = mean_month_columns(X_train_scaled, cols, replace=False)\n",
        "test_all = mean_month_columns(X_test_scaled, cols, replace=False)\n",
        "\n",
        "train_new = mean_month_columns(X_add_train, add_cols, replace=False)\n",
        "test_new = mean_month_columns(X_add_test, add_cols, replace=False)\n",
        "\n",
        "train = pd.concat([train_all, train_new], axis=1)\n",
        "test = pd.concat([test_all, test_new.reset_index().drop(columns=['index'])], axis=1)"
      ],
      "metadata": {
        "id": "oMl1mxZLnFDi"
      },
      "execution_count": 153,
      "outputs": []
    },
    {
      "cell_type": "code",
      "source": [
        "train, val, y_tr, y_val = train_test_split(train, y_train, shuffle=False, test_size=0.3)"
      ],
      "metadata": {
        "id": "HQT2FBEmnCmJ"
      },
      "execution_count": 154,
      "outputs": []
    },
    {
      "cell_type": "code",
      "source": [
        "# сюда будем записывать лучшие результаты\n",
        "f2_best = [0]\n",
        "# признаки, которые мы проверяем\n",
        "features_to_check = train.columns\n",
        "# признаки, которые отбираем, тк они показали лучший результат\n",
        "included = []\n",
        "for i in tqdm(range(40)):\n",
        "    # запишем результаты всех моделей с этим числом признаков\n",
        "    f_scores = []\n",
        "    for include in tqdm(features_to_check, leave=False):\n",
        "        \n",
        "        # модель\n",
        "        pipeline_greedy = imbpipeline(steps = [['smote', SMOTE(random_state=0)],\n",
        "                                               ['undersampling', RandomUnderSampler(random_state=0)],\n",
        "                                               ['classifier', LogisticRegression(random_state=0, max_iter=5000, C=1)]])\n",
        "\n",
        "        pipeline_greedy.fit(train[[include] + included], y_tr.ravel())\n",
        "        y_proba_greedy = pd.DataFrame(pipeline_greedy.predict_proba(val[[include] + included]))\n",
        "        y_preds_greedy = y_proba_greedy.applymap(lambda x: 1 if x > 0.45 else 0).iloc[:,1]\n",
        "        \n",
        "        # считаем f2 скор\n",
        "        f2 = fbeta_score(y_val, y_preds_greedy, beta = 2)\n",
        "        # добавляем его в список скоров\n",
        "        f_scores.append(f2)\n",
        "    \n",
        "    f_scores = np.array(f_scores)\n",
        "    # условие проверки величины приращения качества\n",
        "    # если все модели стали только хуже, то прекращаем работу\n",
        "    if np.max(f_scores - f2_best[-1]) <= 0:\n",
        "        print('Negative growth - loop broken')\n",
        "        break\n",
        "    else:\n",
        "        # если модель с добавлением признака стала лучше, добавляем его скор\n",
        "        f2_best.append(np.max(f_scores))\n",
        "        ind = np.argmax(f_scores)\n",
        "        print(f'features_to_check: \"{features_to_check[ind]}\" is added')\n",
        "        # добавляем сам признак\n",
        "        included.append(features_to_check[ind])\n",
        "        # иключаем его из списка проверяемых, ведь он уже добавлен\n",
        "        features_to_check = np.delete(features_to_check, ind)"
      ],
      "metadata": {
        "colab": {
          "base_uri": "https://localhost:8080/",
          "height": 274,
          "referenced_widgets": [
            "2adac473c79840fda59f702d86130c97",
            "98027f4a411142bd8dac8912448d20ef",
            "f3bcfccc58fa4cb18245ab3cf7b4a6e6",
            "79784d229a1142668b89e0516fc66038",
            "035f37d4af5946ee9c22214c6eb6e0e5",
            "d659f789b29c42fc8bab7919000673e0",
            "50eb5d13a946452a94b7c7b541b7a84b",
            "2a53c17e8df742558d416bdfee1a0652",
            "6522adc56c0c485fafc7d72195c92e9e",
            "1304f0d5f7ae4e11b7f7ffba60cbbf94",
            "ff6b14d1a71248a8acb594714156315f",
            "902480d7ef094bbfaaa9ac1109604d67",
            "60e8e2e56a054889a225ddedcaf69f5d",
            "e0f19c2306e14fe9899e0d2941b0c330",
            "e7e50f66195e4fbdaed0ea308f1859f7",
            "d52461128f65470cbda8366e5f934d04",
            "834bfd7c396043769d2750a17a71d0bb",
            "9c56ac4b17fa4ec4a28341016446b1d1",
            "074cee65959542dcb1b978e42e58869e",
            "6652f1905a354bdf9f28e82b91e99220",
            "09eba8e6d86e4348803901a4c7b6cd54",
            "3f323133f7564f8098d861f7b516a704",
            "b60d652b417342f692e01bf827b46497",
            "1c17dce12b8049bd8bae4775d347284f",
            "75a8a626138145bdbfee6eb502fb9576",
            "2ff26f8d6fc44b4eb9e251f62ba26fde",
            "d8a5d51eb11f4e7490f525ce1207bdd2",
            "669f0d04e636434ea0e5044aa2279e74",
            "08fd6a4d44b1407db4fed9d3f03214ed",
            "a346ea98999f43268da148f906c34a80",
            "59dc2264645e45deb3e654d19393e3e3",
            "140e24873ec942a296a557f666f5c370",
            "716ce959fdf34613a609be22d33c42f5",
            "2ac027841cac414b8297676aae0f83ef",
            "0e763f25bee24dd7b56bfc459b6ecc3d",
            "a2844158feda4359a1f968c9bcf15b40",
            "af8b112ae271427289a8a4d130e875d2",
            "ce5b980381034c4792c0e3e452ecb498",
            "1b97e336dfac42c3a0a9741408f087fb",
            "37a1107560994836b77dc3f51ca47900",
            "e24605b1fc394ab0b8af47d5359b86d0",
            "b1bae4de65e646aeac725b6ab077228e",
            "4cb68c40cc3d43398d238cc0782b6a9a",
            "4240d6947cf44713907130dfa6caad22",
            "461c2ea0f742480b87ce769c3ee37cae",
            "ca0ae679acca4dda94d3a1aebddc97be",
            "581c76e6c31b415683018e07c04ca10b",
            "ffd07489b1f343af9cdf8809e274e4e2",
            "69359da12cc24e6abf44398aff6f8f08",
            "ba91ddbd766e45a78232b9add12838f4",
            "c2895084a34840e1861b40b4ae4bd628",
            "116da47841654ba9b02783b1bbdce92f",
            "442e8f031e5e4b6ab12a478baa51fa76",
            "995c1edd05f64a05ad320b74a66cb767",
            "633902e16d0040cca87dfa81eda7b66a",
            "98d7c099e4ee44309b4087940f580541",
            "813ff0b8e0d6446baeba1ec73e6afc80",
            "413048a8e2c54a9a844f4a65bf952a96",
            "4f47bed1f7a948fabdaf29d2dfdb1b67",
            "ec439d6aa46340e79efe8f56f072cbc7",
            "4603738bfb5b4f608cbaf5c25925b23d",
            "59d25428401b447c9bbca76d26878078",
            "a616ecf584c64c208c9fccd5de88f757",
            "cc04300c3e7646d5939bf069a91c0663",
            "c1b940140fa0486f93c292d5debf8850",
            "7830b3c3c4334b09aee7c02a6cf6513c",
            "78e295ee5635483baeea15ea7f98289a",
            "0cdee78c1d7045f19be8756081b861b9",
            "3e389f649f8a4c839445b6a5fafc8cc2",
            "6a3aff4a26c54fa78ca74fbdb9166714",
            "f73afcc924e946dd93ab07bcf60e7fbb",
            "d900608375cc49c88fa921490e9031be",
            "9969b8abe20249f985e727ba32f455bb",
            "19021486d6b34dd3bbbcdf79400f4fee",
            "11c5af3ea3d047e49e15bb0b762b1541",
            "56999074d9394f70825f4b152574c2f4",
            "9bd39cf4ebe14bedb810151e9a227e74",
            "e90097e813954e0b9600fd5334138162",
            "2dceaec3f85543b388682c5460a7f8af",
            "50dc18af29b745cda08131e974332a44",
            "b8b0256179514656b686a7c7f634e2de",
            "7f689cda123b4af485b4c4ffb558d028",
            "1e529976fbd74d65ada27f224bfc4013",
            "34151d6b8e324d68a5de06bab83391a1",
            "8e9589eca181428aa4a4a456c0523efa",
            "ac976da1fa93404787877c725472c99a",
            "f7b55ef082eb4435ad15b5fcdc05d85a",
            "e1d338071bcc4f7f8c089342aebce72b",
            "2a8f7aeaf61f4568925612d98edd7e8a",
            "6786fb38619449848f9ba394db4e895a",
            "9675ffdf91a44217be9c5403626b3a3f",
            "72ff9c088fd947fba1e09556cf635ae7",
            "c9365a7dfba547bbbbbb84e752939a89",
            "72aa6a58604945b9ac86d02254f80923",
            "25c407bda7254e1c9a905ecde8e86998",
            "b9301c6216af4af7934589bb1aca69f7",
            "829c9a6746074b51aad9a7012469989a",
            "d6f246066f8742508854bb0568e67dce",
            "770741f9cf3047e1b568b83ccd088318",
            "d06a367b15624ec7a575a3d3c7ba44ab",
            "de027efcd8d3497585031fff7d080a2b",
            "4149a8d56e8b4ce2ba9018d7bc34bb7a",
            "6382099b19304a579f0a5db14f6d7de2",
            "b9d48938502d4e27a8a56d982188f1d5",
            "14eafd0f2e9e4265b80b1da0307d72ab",
            "5c6262b4693d470592e9ecee0e38a4f1",
            "067ac7bfe2374686b9c071f22b51e612",
            "d4035a36febe4998a1fbe677086dfed7",
            "b6d5c36ea67941988e5d66e88d06cfb4",
            "9dc0252179f94026ae087cded583bd17",
            "4260df622f4646b889c7ffe944bb5db0",
            "4314d8b97e1b43ce9c16801cafe79e1f",
            "b6e0ec54319442c49025fe23d1a5563b",
            "37aa2335d2df44b19b2050c63b14dace",
            "557cf42af58f4898864623698e8bd6c7",
            "ffb5a9f2993340c6a59f4a8df4ff26b7",
            "8b83b645cfca4cd28e8377e64931eda3",
            "bc410e1002304ad09194b092b719fdcc",
            "a92ff4dcfb7d45bbbb7188fefccf59d7",
            "b803adc081474bb0b49da0f46c2b6ff8",
            "e62f40a6346243da836be1074c3a7fb5",
            "edee5fe1b0594dad9f3d292e4cdc8794",
            "24de84aa68b944b193c7b379d5c0a430",
            "fc0cba73b24d4709a4340d100677af2b",
            "4ece15a1604e4f83b9fa7b97730227d8",
            "10c3cb5922e240e8b24a4afcc447cee8",
            "bcce3889688541af89c87dd73ba0c1c7",
            "47019429ccd44112bf27c56447bf6b12",
            "4a669e7751ed4c91a1ae529ef0ea12d7",
            "17514b69aa6548f9a967819c443d41e3",
            "8c526fea205147a99b54a49ab1b30e1f",
            "a1eea8a08160433e8b82fb5f21891c2c",
            "5b0182c5d7c8425bbbaba4ec1f1d1911",
            "cc0f049631374768b1741bd842d0e2c8",
            "b68f58d4f1054bbd9cc7717b24384da3",
            "e625225159ab4b3e94e00364c963f319",
            "1b54a92df81a4be9b84942e92706db2a",
            "b719f6cc3a2b4338ab807e45c0226a87",
            "3f6ca547fde14426b0f512d7b60f9092",
            "ad68d43fcda34b6198e0673e23524057",
            "e4308903c40e415fad58eeae78464d8d",
            "54ea0ce424fe42a2930c848ff14912a6",
            "25afd1135545417d95792fbe436f1b66",
            "237ef6490c39443499d8962b5463cb5b",
            "ec198538ce244f7fa479e515c5dc2b58",
            "3f8a2415ef8a49ff94711a30b24b2116",
            "4438408cc6a34074ad47a28e0f73493b",
            "ce504e2d2391459eaf431453e9b58d06",
            "e584cca06ded4fffac0510b270d2d308",
            "b23fecadab8749f69d046f1a8ca7cfa7",
            "24ac971eb0f64d2db91922a5f8781eed",
            "7dcfdb11f7d24c80b653a4d1909dd0ae",
            "6fce05868c7b451da35b9ebedcf39c66",
            "0e6e4021d5a54fdd897363138b0fe912"
          ]
        },
        "id": "qs8wwWbbmSZG",
        "outputId": "ae82b2d3-063c-4b65-cc8d-2d1905127fc8"
      },
      "execution_count": 155,
      "outputs": [
        {
          "output_type": "display_data",
          "data": {
            "text/plain": [
              "  0%|          | 0/40 [00:00<?, ?it/s]"
            ],
            "application/vnd.jupyter.widget-view+json": {
              "version_major": 2,
              "version_minor": 0,
              "model_id": "2adac473c79840fda59f702d86130c97"
            }
          },
          "metadata": {}
        },
        {
          "output_type": "display_data",
          "data": {
            "text/plain": [
              "  0%|          | 0/280 [00:00<?, ?it/s]"
            ],
            "application/vnd.jupyter.widget-view+json": {
              "version_major": 2,
              "version_minor": 0,
              "model_id": "902480d7ef094bbfaaa9ac1109604d67"
            }
          },
          "metadata": {}
        },
        {
          "output_type": "stream",
          "name": "stdout",
          "text": [
            "features_to_check: \"cnt_unique_plu_12\" is added\n"
          ]
        },
        {
          "output_type": "display_data",
          "data": {
            "text/plain": [
              "  0%|          | 0/279 [00:00<?, ?it/s]"
            ],
            "application/vnd.jupyter.widget-view+json": {
              "version_major": 2,
              "version_minor": 0,
              "model_id": "b60d652b417342f692e01bf827b46497"
            }
          },
          "metadata": {}
        },
        {
          "output_type": "stream",
          "name": "stdout",
          "text": [
            "features_to_check: \"cnt_checks_11_Овощи - Фрукты\" is added\n"
          ]
        },
        {
          "output_type": "display_data",
          "data": {
            "text/plain": [
              "  0%|          | 0/278 [00:00<?, ?it/s]"
            ],
            "application/vnd.jupyter.widget-view+json": {
              "version_major": 2,
              "version_minor": 0,
              "model_id": "2ac027841cac414b8297676aae0f83ef"
            }
          },
          "metadata": {}
        },
        {
          "output_type": "stream",
          "name": "stdout",
          "text": [
            "features_to_check: \"rto_var_n_Птица и изделия из птицы\" is added\n"
          ]
        },
        {
          "output_type": "display_data",
          "data": {
            "text/plain": [
              "  0%|          | 0/277 [00:00<?, ?it/s]"
            ],
            "application/vnd.jupyter.widget-view+json": {
              "version_major": 2,
              "version_minor": 0,
              "model_id": "461c2ea0f742480b87ce769c3ee37cae"
            }
          },
          "metadata": {}
        },
        {
          "output_type": "stream",
          "name": "stdout",
          "text": [
            "features_to_check: \"cnt_unique_plu_7_Сыры\" is added\n"
          ]
        },
        {
          "output_type": "display_data",
          "data": {
            "text/plain": [
              "  0%|          | 0/276 [00:00<?, ?it/s]"
            ],
            "application/vnd.jupyter.widget-view+json": {
              "version_major": 2,
              "version_minor": 0,
              "model_id": "98d7c099e4ee44309b4087940f580541"
            }
          },
          "metadata": {}
        },
        {
          "output_type": "stream",
          "name": "stdout",
          "text": [
            "features_to_check: \"cnt_unique_plu_8_Мясная гастрономия\" is added\n"
          ]
        },
        {
          "output_type": "display_data",
          "data": {
            "text/plain": [
              "  0%|          | 0/275 [00:00<?, ?it/s]"
            ],
            "application/vnd.jupyter.widget-view+json": {
              "version_major": 2,
              "version_minor": 0,
              "model_id": "78e295ee5635483baeea15ea7f98289a"
            }
          },
          "metadata": {}
        },
        {
          "output_type": "stream",
          "name": "stdout",
          "text": [
            "features_to_check: \"rto_stddev_10_Птица и изделия из птицы\" is added\n"
          ]
        },
        {
          "output_type": "display_data",
          "data": {
            "text/plain": [
              "  0%|          | 0/274 [00:00<?, ?it/s]"
            ],
            "application/vnd.jupyter.widget-view+json": {
              "version_major": 2,
              "version_minor": 0,
              "model_id": "e90097e813954e0b9600fd5334138162"
            }
          },
          "metadata": {}
        },
        {
          "output_type": "stream",
          "name": "stdout",
          "text": [
            "features_to_check: \"rto_var_7_Сыры\" is added\n"
          ]
        },
        {
          "output_type": "display_data",
          "data": {
            "text/plain": [
              "  0%|          | 0/273 [00:00<?, ?it/s]"
            ],
            "application/vnd.jupyter.widget-view+json": {
              "version_major": 2,
              "version_minor": 0,
              "model_id": "2a8f7aeaf61f4568925612d98edd7e8a"
            }
          },
          "metadata": {}
        },
        {
          "output_type": "stream",
          "name": "stdout",
          "text": [
            "features_to_check: \"rto_var_12_Крупы и зерновые\" is added\n"
          ]
        },
        {
          "output_type": "display_data",
          "data": {
            "text/plain": [
              "  0%|          | 0/272 [00:00<?, ?it/s]"
            ],
            "application/vnd.jupyter.widget-view+json": {
              "version_major": 2,
              "version_minor": 0,
              "model_id": "d06a367b15624ec7a575a3d3c7ba44ab"
            }
          },
          "metadata": {}
        },
        {
          "output_type": "stream",
          "name": "stdout",
          "text": [
            "features_to_check: \"rto_stddev_6_Птица и изделия из птицы\" is added\n"
          ]
        },
        {
          "output_type": "display_data",
          "data": {
            "text/plain": [
              "  0%|          | 0/271 [00:00<?, ?it/s]"
            ],
            "application/vnd.jupyter.widget-view+json": {
              "version_major": 2,
              "version_minor": 0,
              "model_id": "4260df622f4646b889c7ffe944bb5db0"
            }
          },
          "metadata": {}
        },
        {
          "output_type": "stream",
          "name": "stdout",
          "text": [
            "features_to_check: \"rto_stddev_7_Крупы и зерновые\" is added\n"
          ]
        },
        {
          "output_type": "display_data",
          "data": {
            "text/plain": [
              "  0%|          | 0/270 [00:00<?, ?it/s]"
            ],
            "application/vnd.jupyter.widget-view+json": {
              "version_major": 2,
              "version_minor": 0,
              "model_id": "edee5fe1b0594dad9f3d292e4cdc8794"
            }
          },
          "metadata": {}
        },
        {
          "output_type": "stream",
          "name": "stdout",
          "text": [
            "features_to_check: \"rto_stddev_8_Мясная гастрономия\" is added\n"
          ]
        },
        {
          "output_type": "display_data",
          "data": {
            "text/plain": [
              "  0%|          | 0/269 [00:00<?, ?it/s]"
            ],
            "application/vnd.jupyter.widget-view+json": {
              "version_major": 2,
              "version_minor": 0,
              "model_id": "5b0182c5d7c8425bbbaba4ec1f1d1911"
            }
          },
          "metadata": {}
        },
        {
          "output_type": "stream",
          "name": "stdout",
          "text": [
            "features_to_check: \"rto_stddev_8_Крупы и зерновые\" is added\n"
          ]
        },
        {
          "output_type": "display_data",
          "data": {
            "text/plain": [
              "  0%|          | 0/268 [00:00<?, ?it/s]"
            ],
            "application/vnd.jupyter.widget-view+json": {
              "version_major": 2,
              "version_minor": 0,
              "model_id": "237ef6490c39443499d8962b5463cb5b"
            }
          },
          "metadata": {}
        },
        {
          "output_type": "stream",
          "name": "stdout",
          "text": [
            "Negative growth - loop broken\n"
          ]
        }
      ]
    },
    {
      "cell_type": "markdown",
      "source": [
        "Посмотрим на лучше результаты для каждого этапа отбора:"
      ],
      "metadata": {
        "id": "UOyuKfJrlipw"
      }
    },
    {
      "cell_type": "code",
      "source": [
        "f2_best"
      ],
      "metadata": {
        "colab": {
          "base_uri": "https://localhost:8080/"
        },
        "id": "CA3e2HyNnnNt",
        "outputId": "75fb63c7-9041-4f3b-c7bc-3ec2c866b12c"
      },
      "execution_count": 156,
      "outputs": [
        {
          "output_type": "execute_result",
          "data": {
            "text/plain": [
              "[0,\n",
              " 0.3570030752026839,\n",
              " 0.36921296296296297,\n",
              " 0.3730909935543813,\n",
              " 0.37516170763260026,\n",
              " 0.3782808589885352,\n",
              " 0.38078312550984733,\n",
              " 0.38188380486668994,\n",
              " 0.3827318836355156,\n",
              " 0.38289075238760767,\n",
              " 0.38309153411408264,\n",
              " 0.3832712022367195,\n",
              " 0.38329352828100427]"
            ]
          },
          "metadata": {},
          "execution_count": 156
        }
      ]
    },
    {
      "cell_type": "markdown",
      "source": [
        "Протестируем на тестовом датасете"
      ],
      "metadata": {
        "id": "2FtNftiSlp7V"
      }
    },
    {
      "cell_type": "code",
      "source": [
        "train = pd.concat([train_all, train_new], axis=1)\n",
        "\n",
        "test_final(pipeline_1, train[included], y_train, \n",
        "           test[included], y_test)"
      ],
      "metadata": {
        "colab": {
          "base_uri": "https://localhost:8080/"
        },
        "id": "abwuVKZq3-jN",
        "outputId": "5df31754-8b30-4fb0-bbf1-7db701ee7630"
      },
      "execution_count": 163,
      "outputs": [
        {
          "output_type": "stream",
          "name": "stdout",
          "text": [
            "                   Train     Test\n",
            "F2                43.14%      36.99%\n",
            "Precision         17.50%      14.81%\n",
            "Recall            68.07%      59.12%\n"
          ]
        }
      ]
    },
    {
      "cell_type": "markdown",
      "source": [
        "### Подбор порога для лучшей модели"
      ],
      "metadata": {
        "id": "rrKfkjjkCvAF"
      }
    },
    {
      "cell_type": "markdown",
      "source": [
        "Лучшие результаты показали две модели: `pipline_2` и `pu_estimator`. Подберем для них пороги:"
      ],
      "metadata": {
        "id": "6gugx_cxl_Pv"
      }
    },
    {
      "cell_type": "code",
      "source": [
        "final_model = pipeline_2\n",
        "\n",
        "train_all = mean_month_columns(X_train_log_rto_scaled, cols, replace=False)\n",
        "test_all = mean_month_columns(X_test_log_rto_scaled, cols, replace=False)\n",
        "\n",
        "train_new = mean_month_columns(X_add_train, add_cols, replace=False)\n",
        "test_new = mean_month_columns(X_add_test, add_cols, replace=False)\n",
        "\n",
        "final_train = pd.concat([train_all, train_new], axis=1)[our_columns]\n",
        "final_test = pd.concat([test_all, test_new], axis=1)[our_columns]"
      ],
      "metadata": {
        "id": "UknMDgwrDXTJ"
      },
      "execution_count": 210,
      "outputs": []
    },
    {
      "cell_type": "code",
      "source": [
        "final_model.fit(final_train, y_train)\n",
        "\n",
        "pred_proba_df = pd.DataFrame(final_model.predict_proba(final_test))\n",
        "threshold_list = np.arange(0, 1, 0.01)\n",
        "threshold_scores = dict.fromkeys(threshold_list)\n",
        "for threshold in tqdm(threshold_list, leave=False):\n",
        "    Y_test_pred = pred_proba_df.applymap(lambda x: 1 if x > threshold else 0)\n",
        "    test_score = fbeta_score(y_test, Y_test_pred.iloc[:,1], beta= 2)\n",
        "    threshold_scores[threshold] = test_score\n",
        "\n",
        "print(f\"Наибольшее значение f-меры ({max(threshold_scores.values())*100:.2f}%) получается при пороге {max(threshold_scores, key=threshold_scores.get)}\")"
      ],
      "metadata": {
        "colab": {
          "base_uri": "https://localhost:8080/",
          "height": 34,
          "referenced_widgets": [
            "768cb1b6be6249ba8a069a2d662db56c",
            "b7750834e33d4b4b9c2cb874916a13cb",
            "1657b88453a54b62817459f6913e407d",
            "1a1e842e3b724bd3ac3c116aa1dc5045",
            "35dbe0963ffb4de5aaedc1cfcceb4a0a",
            "91c0811f6c154211a7187a537ac20c3a",
            "43a960035f444633b9b1885e2af37b89",
            "e81f80edc7d248f29dca991e7cdd796e",
            "f28b7705837648ab82a23afc14437e60",
            "d179fc92ae9b4ed7a220c5a5f619c10c",
            "e8fb1945942e4297ae3a9a865072a281"
          ]
        },
        "id": "2ZrtkHiBCyxW",
        "outputId": "3c2e5736-0343-413c-b0df-946ff9956450"
      },
      "execution_count": 211,
      "outputs": [
        {
          "output_type": "display_data",
          "data": {
            "text/plain": [
              "  0%|          | 0/100 [00:00<?, ?it/s]"
            ],
            "application/vnd.jupyter.widget-view+json": {
              "version_major": 2,
              "version_minor": 0,
              "model_id": "768cb1b6be6249ba8a069a2d662db56c"
            }
          },
          "metadata": {}
        },
        {
          "output_type": "stream",
          "name": "stdout",
          "text": [
            "Наибольшее значение f-меры (42.85%) получается при пороге 0.41000000000000003\n"
          ]
        }
      ]
    },
    {
      "cell_type": "markdown",
      "source": [
        "Для модели `pu_estimator` подбор порога осуществляется в разделе **Отбор признаков: с помощью статистического параметра**"
      ],
      "metadata": {
        "id": "SWK0hVKjmONT"
      }
    },
    {
      "cell_type": "code",
      "source": [
        ""
      ],
      "metadata": {
        "id": "vithZMthEMKB"
      },
      "execution_count": null,
      "outputs": []
    },
    {
      "cell_type": "code",
      "source": [
        ""
      ],
      "metadata": {
        "id": "to9mdIe-mWfl"
      },
      "execution_count": null,
      "outputs": []
    },
    {
      "cell_type": "code",
      "source": [
        ""
      ],
      "metadata": {
        "id": "YIz2FtBJmWyz"
      },
      "execution_count": null,
      "outputs": []
    },
    {
      "cell_type": "markdown",
      "source": [
        "### Бейзлайн модель"
      ],
      "metadata": {
        "id": "MCOV7lYDmfQy"
      }
    },
    {
      "cell_type": "code",
      "source": [
        "final_model = imbpipeline(steps = [['smote', SMOTE(random_state=0)],\n",
        "                                ['classifier', LogisticRegression(solver = 'lbfgs', \n",
        "                                                                  random_state=0, C=1, max_iter=500)]])\n",
        "\n",
        "final_model.fit(X_train_log_scaled, y_train)\n",
        "\n",
        "train_preds = final_model.predict(X_train_log_scaled)\n",
        "test_preds = final_model.predict(X_test_log_scaled)\n",
        "\n",
        "print(f\"                   Train     Test\")\n",
        "print(f\"F2                {fbeta_score(y_train, train_preds, beta = 2)*100:.2f}%      {fbeta_score(y_test, test_preds, beta = 2)*100:.2f}%\")\n",
        "print(f\"Precision         {precision_score(y_train, train_preds)*100:.2f}%      {precision_score(y_test, test_preds)*100:.2f}%\")\n",
        "print(f\"Recall            {recall_score(y_train, train_preds)*100:.2f}%      {recall_score(y_test, test_preds)*100:.2f}%\")"
      ],
      "metadata": {
        "colab": {
          "base_uri": "https://localhost:8080/"
        },
        "id": "tKdVc4_HzDma",
        "outputId": "8eb4f77b-66b5-4efb-c076-ab26c086a58c"
      },
      "execution_count": 59,
      "outputs": [
        {
          "output_type": "stream",
          "name": "stderr",
          "text": [
            "/usr/local/lib/python3.7/dist-packages/sklearn/linear_model/_logistic.py:818: ConvergenceWarning: lbfgs failed to converge (status=1):\n",
            "STOP: TOTAL NO. of ITERATIONS REACHED LIMIT.\n",
            "\n",
            "Increase the number of iterations (max_iter) or scale the data as shown in:\n",
            "    https://scikit-learn.org/stable/modules/preprocessing.html\n",
            "Please also refer to the documentation for alternative solver options:\n",
            "    https://scikit-learn.org/stable/modules/linear_model.html#logistic-regression\n",
            "  extra_warning_msg=_LOGISTIC_SOLVER_CONVERGENCE_MSG,\n"
          ]
        },
        {
          "output_type": "stream",
          "name": "stdout",
          "text": [
            "                   Train     Test\n",
            "F2                40.05%      39.87%\n",
            "Precision         18.47%      18.43%\n",
            "Recall            56.57%      56.21%\n"
          ]
        }
      ]
    },
    {
      "cell_type": "markdown",
      "source": [
        "Данные для матрицы ошибок бейзлайн модели"
      ],
      "metadata": {
        "id": "xcZSByKDmscU"
      }
    },
    {
      "cell_type": "code",
      "source": [
        "pred_proba_df = pd.DataFrame(final_model.predict_proba(X_test_log_scaled))\n",
        "Y_test_pred = pred_proba_df.applymap(lambda x: 1 if x > 0.77 else 0)\n",
        "\n",
        "tn, fp, fn, tp = confusion_matrix(y_test, Y_test_pred.iloc[:,1]).ravel()"
      ],
      "metadata": {
        "id": "Xv-AFp17zTVZ"
      },
      "execution_count": 288,
      "outputs": []
    },
    {
      "cell_type": "code",
      "source": [
        "tn, fp, fn, tp"
      ],
      "metadata": {
        "colab": {
          "base_uri": "https://localhost:8080/"
        },
        "id": "HLgSsYf71gxj",
        "outputId": "5dd37ff9-f438-4692-ebec-33208e349659"
      },
      "execution_count": 289,
      "outputs": [
        {
          "output_type": "execute_result",
          "data": {
            "text/plain": [
              "(34852, 1942, 3076, 649)"
            ]
          },
          "metadata": {},
          "execution_count": 289
        }
      ]
    },
    {
      "cell_type": "markdown",
      "source": [
        "## Финальное обучение и сохранение данных"
      ],
      "metadata": {
        "id": "5Y1EfLpuwfzD"
      }
    },
    {
      "cell_type": "code",
      "source": [
        "train_all = mean_month_columns(X_train_log_rto_scaled, cols, replace=False)\n",
        "test_all = mean_month_columns(X_test_log_rto_scaled, cols, replace=False)\n",
        "\n",
        "train_new = mean_month_columns(X_add_train, add_cols, replace=False)\n",
        "test_new = mean_month_columns(X_add_test, add_cols, replace=False)\n",
        "\n",
        "train = pd.concat([train_all, train_new], axis=1)\n",
        "test = pd.concat([test_all, test_new], axis=1)"
      ],
      "metadata": {
        "id": "Btmu0f8Pwzfe"
      },
      "execution_count": 68,
      "outputs": []
    },
    {
      "cell_type": "code",
      "source": [
        "X_train_os, y_train_os = os.fit_resample(train[our_columns], y_train)\n",
        "\n",
        "pu_estimator.fit(X_train_os.reset_index(drop=True).values, \n",
        "                 y_train_os.reset_index(drop=True))"
      ],
      "metadata": {
        "id": "9ZW5GZCTwl7K"
      },
      "execution_count": 71,
      "outputs": []
    },
    {
      "cell_type": "code",
      "source": [
        "train_preds = pu_estimator.predict(train[our_columns].values)\n",
        "test_proba = pu_estimator.predict_proba(test[our_columns].values)\n",
        "\n",
        "pred_proba_df = pd.DataFrame(test_proba, index=X_test.index)\n",
        "test_preds = pred_proba_df.applymap(lambda x: 1 if x > 0.77 else 0)\n",
        "\n",
        "\n",
        "print(f\"                   Train     Test\")\n",
        "print(f\"F2                {fbeta_score(y_train, train_preds, beta = 2)*100:.2f}%      {fbeta_score(y_test, test_preds, beta = 2)*100:.2f}%\")\n",
        "print(f\"Precision         {precision_score(y_train, train_preds)*100:.2f}%      {precision_score(y_test, test_preds)*100:.2f}%\")\n",
        "print(f\"Recall            {recall_score(y_train, train_preds)*100:.2f}%      {recall_score(y_test, test_preds)*100:.2f}%\")"
      ],
      "metadata": {
        "colab": {
          "base_uri": "https://localhost:8080/"
        },
        "id": "94db6sSmw8TN",
        "outputId": "703b0404-360a-4161-a3d2-25416750bd52"
      },
      "execution_count": 80,
      "outputs": [
        {
          "output_type": "stream",
          "name": "stdout",
          "text": [
            "                   Train     Test\n",
            "F2                35.35%      42.82%\n",
            "Precision         9.96%      16.44%\n",
            "Recall            97.53%      71.52%\n"
          ]
        }
      ]
    },
    {
      "cell_type": "code",
      "source": [
        "pd.DataFrame(test_proba, index=X_test.index).to_csv('test_predict_probabilities.csv')\n",
        "test_preds.to_csv('test_predict.csv')"
      ],
      "metadata": {
        "id": "7r3eteVWx5SV"
      },
      "execution_count": 81,
      "outputs": []
    },
    {
      "cell_type": "code",
      "source": [
        ""
      ],
      "metadata": {
        "id": "CypyXMYqy63Y"
      },
      "execution_count": null,
      "outputs": []
    }
  ]
}